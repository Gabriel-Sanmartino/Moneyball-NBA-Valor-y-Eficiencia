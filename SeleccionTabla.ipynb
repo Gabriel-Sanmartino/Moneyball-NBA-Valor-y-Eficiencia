{
 "cells": [
  {
   "cell_type": "markdown",
   "metadata": {},
   "source": [
    "En este sript se exploran las tablas a fin de seleccionar la que sea mas conveniente a los fines practicos de mostrar las caracteristicas y resultados del proceso de automatizacion de la ingesta de nuevos datos."
   ]
  },
  {
   "cell_type": "code",
   "execution_count": 1,
   "metadata": {},
   "outputs": [],
   "source": [
    "# Importar librerias\n",
    "\n",
    "import pandas as pd"
   ]
  },
  {
   "cell_type": "code",
   "execution_count": null,
   "metadata": {},
   "outputs": [],
   "source": [
    "# Leer y almacenar archivos a ser explorados\n",
    "\n",
    "df_team = pd.read_csv('TeamFiltrado.csv')\n",
    "df_player = pd.read_csv('player.csv')\n",
    "df_salario = pd.read_csv('Salario_Jugadores.csv')\n",
    "df_game = pd.read_csv('game.csv')\n",
    "\n",
    "# Despues de examinar los dataframes con la funcion \"View Data\" se opta por seleccionar la tabla \"player\".\n",
    "# Es la tabla que contiene mayor variedad de datos(int, string y booleanos), lo cual permite aplicar validaciones para cada tipo de dato.\n",
    "# A demas es la que tiene memor cantidad de columnas, lo que facilita las pruebas y demostraciones."
   ]
  },
  {
   "cell_type": "code",
   "execution_count": null,
   "metadata": {},
   "outputs": [],
   "source": [
    "df_players = pd.read_csv('players.csv')"
   ]
  },
  {
   "cell_type": "code",
   "execution_count": 2,
   "metadata": {},
   "outputs": [],
   "source": [
    "df_team = pd.read_csv('TeamFiltrado.csv')"
   ]
  }
 ],
 "metadata": {
  "kernelspec": {
   "display_name": "Python 3",
   "language": "python",
   "name": "python3"
  },
  "language_info": {
   "codemirror_mode": {
    "name": "ipython",
    "version": 3
   },
   "file_extension": ".py",
   "mimetype": "text/x-python",
   "name": "python",
   "nbconvert_exporter": "python",
   "pygments_lexer": "ipython3",
   "version": "3.13.0"
  }
 },
 "nbformat": 4,
 "nbformat_minor": 2
}
