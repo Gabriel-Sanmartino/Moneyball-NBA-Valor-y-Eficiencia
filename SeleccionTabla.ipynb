{
 "cells": [
  {
   "cell_type": "markdown",
   "metadata": {},
   "source": [
    "En este sript se exploran las tablas a fin de seleccionar la que sea mas conveniente a los fines practicos de mostrar las caracteristicas y resultados del proceso de automatizacion de la ingesta de nuevos datos."
   ]
  },
  {
   "cell_type": "code",
   "execution_count": 1,
   "metadata": {},
   "outputs": [],
   "source": [
    "# Importar librerias\n",
    "\n",
    "import pandas as pd\n",
    "\n",
    "# Leer Team.csv\n",
    "\n",
    "df_team = pd.read_csv('Team.csv')\n"
   ]
  }
 ],
 "metadata": {
  "kernelspec": {
   "display_name": "Python 3",
   "language": "python",
   "name": "python3"
  },
  "language_info": {
   "codemirror_mode": {
    "name": "ipython",
    "version": 3
   },
   "file_extension": ".py",
   "mimetype": "text/x-python",
   "name": "python",
   "nbconvert_exporter": "python",
   "pygments_lexer": "ipython3",
   "version": "3.13.0"
  }
 },
 "nbformat": 4,
 "nbformat_minor": 2
}
