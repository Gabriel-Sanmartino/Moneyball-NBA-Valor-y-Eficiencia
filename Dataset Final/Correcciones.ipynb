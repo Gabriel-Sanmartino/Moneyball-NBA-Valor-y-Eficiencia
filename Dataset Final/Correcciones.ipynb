{
 "cells": [
  {
   "cell_type": "code",
   "execution_count": 1,
   "metadata": {},
   "outputs": [],
   "source": [
    "import pandas as pd\n",
    "import numpy as np"
   ]
  },
  {
   "cell_type": "code",
   "execution_count": 2,
   "metadata": {},
   "outputs": [],
   "source": [
    "df_stats = pd.read_csv('NBA_Player_Stats_Advanced_Combined_Filtrado.csv')"
   ]
  },
  {
   "cell_type": "code",
   "execution_count": 3,
   "metadata": {},
   "outputs": [],
   "source": [
    "\n",
    "\n",
    "# Agregar una nueva columna 'id_stats' con una serie incremental\n",
    "df_stats['id_stats'] = range(1, len(df_stats) + 1)\n",
    "\n",
    "# Ahora puedes establecer la columna 'id_stats' como clave primaria\n",
    "df_stats.set_index('id_stats', inplace=True)"
   ]
  },
  {
   "cell_type": "code",
   "execution_count": 4,
   "metadata": {},
   "outputs": [],
   "source": [
    "df = pd.read_csv('TeamOriginal.csv')"
   ]
  },
  {
   "cell_type": "code",
   "execution_count": 5,
   "metadata": {},
   "outputs": [],
   "source": [
    "# Renombrar columna id\n",
    "df.rename(columns={'id': 'team_id'}, inplace=True)"
   ]
  },
  {
   "cell_type": "code",
   "execution_count": 6,
   "metadata": {},
   "outputs": [],
   "source": [
    "# Reemplazar los valores en la columna 'Team'\n",
    "df_stats['Team'] = df_stats['Team'].replace({'PHO': 'PHX', 'CHO': 'CHA', 'BRK': 'BKN'})"
   ]
  },
  {
   "cell_type": "code",
   "execution_count": 7,
   "metadata": {},
   "outputs": [
    {
     "name": "stdout",
     "output_type": "stream",
     "text": [
      "   Rk              Player  Age Team Pos   G  GS    MP   PER    TS%  ...  BPM  \\\n",
      "0   5         Paul George   28  OKC  SF  77  77  2841  23.3  0.583  ...  7.2   \n",
      "1  12        Steven Adams   25  OKC   C  80  80  2669  18.5  0.591  ...  1.1   \n",
      "2  16   Russell Westbrook   30  OKC  PG  73  73  2630  21.1  0.501  ...  5.2   \n",
      "3  19        Jerami Grant   24  OKC  PF  80  77  2612  13.8  0.592  ...  0.2   \n",
      "4  29  Karl-Anthony Towns   23  MIN   C  77  77  2545  26.3  0.622  ...  6.0   \n",
      "\n",
      "   VORP             Awards  Player-additional  Temporada       id  \\\n",
      "0   6.6  MVP-3DPOY-3ASNBA1          georgpa01       2018   202331   \n",
      "1   2.1                  0          adamsst01       2018   203500   \n",
      "2   4.7       MVP-10ASNBA3          westbru01       2018   201566   \n",
      "3   1.5                  0          grantje01       2018   203924   \n",
      "4   5.1                 AS          townska01       2018  1626157   \n",
      "\n",
      "            Player_Temporada     Salario  abbreviation       team_id  \n",
      "0         Paul George - 2018  30560700.0           OKC  1.610613e+09  \n",
      "1        Steven Adams - 2018  24157304.0           OKC  1.610613e+09  \n",
      "2   Russell Westbrook - 2018  35665000.0           OKC  1.610613e+09  \n",
      "3        Jerami Grant - 2018   8333333.0           OKC  1.610613e+09  \n",
      "4  Karl-Anthony Towns - 2018   7839435.0           MIN  1.610613e+09  \n",
      "\n",
      "[5 rows x 36 columns]\n"
     ]
    }
   ],
   "source": [
    "# Realizar un merge para asignar 'team_id' de teamFiltrado.csv a df_Stats_adv_filt_2018\n",
    "\n",
    "df_stats = df_stats.merge(\n",
    "    df[['abbreviation', 'team_id']],  # Selecciona columnas relevantes\n",
    "    left_on='Team',  # Columna en df_Stats_adv_filt_2018\n",
    "    right_on='abbreviation',  # Columna en team\n",
    "    how='left'  # Combinar mediante un LEFT JOIN para mantener todas las filas de df_Stats_adv_filt_2018\n",
    ")\n",
    "\n",
    "# Verificar el resultado\n",
    "print(df_stats.head())"
   ]
  },
  {
   "cell_type": "code",
   "execution_count": 8,
   "metadata": {},
   "outputs": [
    {
     "name": "stdout",
     "output_type": "stream",
     "text": [
      "Los registros con los valores '4TM', '3TM' y '2TM' en la columna 'Team' han sido eliminados.\n"
     ]
    }
   ],
   "source": [
    "# Definir los valores a eliminar\n",
    "valores_a_eliminar = ['4TM', '3TM', '2TM']\n",
    "\n",
    "# Filtrar el DataFrame para eliminar los registros con esos valores en la columna 'Team'\n",
    "df_stats_filtrado = df_stats[~df_stats['Team'].isin(valores_a_eliminar)]\n",
    "\n",
    "\n",
    "\n",
    "print(\"Los registros con los valores '4TM', '3TM' y '2TM' en la columna 'Team' han sido eliminados.\")\n"
   ]
  },
  {
   "cell_type": "code",
   "execution_count": 9,
   "metadata": {},
   "outputs": [
    {
     "name": "stdout",
     "output_type": "stream",
     "text": [
      "<class 'pandas.core.frame.DataFrame'>\n",
      "Index: 617 entries, 0 to 723\n",
      "Data columns (total 36 columns):\n",
      " #   Column             Non-Null Count  Dtype  \n",
      "---  ------             --------------  -----  \n",
      " 0   Rk                 617 non-null    int64  \n",
      " 1   Player             617 non-null    object \n",
      " 2   Age                617 non-null    int64  \n",
      " 3   Team               617 non-null    object \n",
      " 4   Pos                617 non-null    object \n",
      " 5   G                  617 non-null    int64  \n",
      " 6   GS                 617 non-null    int64  \n",
      " 7   MP                 617 non-null    int64  \n",
      " 8   PER                617 non-null    float64\n",
      " 9   TS%                617 non-null    float64\n",
      " 10  3PAr               617 non-null    float64\n",
      " 11  FTr                617 non-null    float64\n",
      " 12  ORB%               617 non-null    float64\n",
      " 13  DRB%               617 non-null    float64\n",
      " 14  TRB%               617 non-null    float64\n",
      " 15  AST%               617 non-null    float64\n",
      " 16  STL%               617 non-null    float64\n",
      " 17  BLK%               617 non-null    float64\n",
      " 18  TOV%               617 non-null    float64\n",
      " 19  USG%               617 non-null    float64\n",
      " 20  OWS                617 non-null    float64\n",
      " 21  DWS                617 non-null    float64\n",
      " 22  WS                 617 non-null    float64\n",
      " 23  WS/48              617 non-null    float64\n",
      " 24  OBPM               617 non-null    float64\n",
      " 25  DBPM               617 non-null    float64\n",
      " 26  BPM                617 non-null    float64\n",
      " 27  VORP               617 non-null    float64\n",
      " 28  Awards             617 non-null    object \n",
      " 29  Player-additional  617 non-null    object \n",
      " 30  Temporada          617 non-null    int64  \n",
      " 31  id                 617 non-null    int64  \n",
      " 32  Player_Temporada   617 non-null    object \n",
      " 33  Salario            420 non-null    float64\n",
      " 34  abbreviation       617 non-null    object \n",
      " 35  team_id            617 non-null    float64\n",
      "dtypes: float64(22), int64(7), object(7)\n",
      "memory usage: 178.4+ KB\n"
     ]
    }
   ],
   "source": [
    "df_stats_filtrado.info()\n"
   ]
  },
  {
   "cell_type": "code",
   "execution_count": 10,
   "metadata": {},
   "outputs": [
    {
     "name": "stderr",
     "output_type": "stream",
     "text": [
      "C:\\Users\\Usuario\\AppData\\Local\\Temp\\ipykernel_6980\\4011025067.py:2: SettingWithCopyWarning: \n",
      "A value is trying to be set on a copy of a slice from a DataFrame.\n",
      "Try using .loc[row_indexer,col_indexer] = value instead\n",
      "\n",
      "See the caveats in the documentation: https://pandas.pydata.org/pandas-docs/stable/user_guide/indexing.html#returning-a-view-versus-a-copy\n",
      "  df_stats_filtrado['team_id'] = df_stats_filtrado['team_id'].astype(int)\n"
     ]
    }
   ],
   "source": [
    "# Cambiar a formato entero la columna team id\n",
    "df_stats_filtrado['team_id'] = df_stats_filtrado['team_id'].astype(int)"
   ]
  },
  {
   "cell_type": "code",
   "execution_count": 11,
   "metadata": {},
   "outputs": [
    {
     "name": "stdout",
     "output_type": "stream",
     "text": [
      "<class 'pandas.core.frame.DataFrame'>\n",
      "Index: 617 entries, 0 to 723\n",
      "Data columns (total 36 columns):\n",
      " #   Column             Non-Null Count  Dtype  \n",
      "---  ------             --------------  -----  \n",
      " 0   Rk                 617 non-null    int64  \n",
      " 1   Player             617 non-null    object \n",
      " 2   Age                617 non-null    int64  \n",
      " 3   Team               617 non-null    object \n",
      " 4   Pos                617 non-null    object \n",
      " 5   G                  617 non-null    int64  \n",
      " 6   GS                 617 non-null    int64  \n",
      " 7   MP                 617 non-null    int64  \n",
      " 8   PER                617 non-null    float64\n",
      " 9   TS%                617 non-null    float64\n",
      " 10  3PAr               617 non-null    float64\n",
      " 11  FTr                617 non-null    float64\n",
      " 12  ORB%               617 non-null    float64\n",
      " 13  DRB%               617 non-null    float64\n",
      " 14  TRB%               617 non-null    float64\n",
      " 15  AST%               617 non-null    float64\n",
      " 16  STL%               617 non-null    float64\n",
      " 17  BLK%               617 non-null    float64\n",
      " 18  TOV%               617 non-null    float64\n",
      " 19  USG%               617 non-null    float64\n",
      " 20  OWS                617 non-null    float64\n",
      " 21  DWS                617 non-null    float64\n",
      " 22  WS                 617 non-null    float64\n",
      " 23  WS/48              617 non-null    float64\n",
      " 24  OBPM               617 non-null    float64\n",
      " 25  DBPM               617 non-null    float64\n",
      " 26  BPM                617 non-null    float64\n",
      " 27  VORP               617 non-null    float64\n",
      " 28  Awards             617 non-null    object \n",
      " 29  Player-additional  617 non-null    object \n",
      " 30  Temporada          617 non-null    int64  \n",
      " 31  id                 617 non-null    int64  \n",
      " 32  Player_Temporada   617 non-null    object \n",
      " 33  Salario            420 non-null    float64\n",
      " 34  abbreviation       617 non-null    object \n",
      " 35  team_id            617 non-null    int64  \n",
      "dtypes: float64(21), int64(8), object(7)\n",
      "memory usage: 178.4+ KB\n"
     ]
    }
   ],
   "source": [
    "df_stats_filtrado.info()\n"
   ]
  },
  {
   "cell_type": "code",
   "execution_count": 12,
   "metadata": {},
   "outputs": [],
   "source": [
    "# Guardar el DataFrame modificado en un nuevo archivo CSV\n",
    "df_stats_filtrado.to_csv('Player_stats_advanced.csv', index=False)"
   ]
  },
  {
   "cell_type": "markdown",
   "metadata": {},
   "source": [
    "# Other Stats"
   ]
  },
  {
   "cell_type": "code",
   "execution_count": 13,
   "metadata": {},
   "outputs": [],
   "source": [
    "df_other_stats = pd.read_csv('other_stats.csv')"
   ]
  },
  {
   "cell_type": "code",
   "execution_count": 18,
   "metadata": {},
   "outputs": [],
   "source": [
    "# Agregar una nueva columna 'id_other_stats' con una serie incremental\n",
    "df_other_stats['id_other_stats'] = range(1, len(df_other_stats) + 1)\n",
    "\n",
    "# Ahora puedes establecer la columna 'id_stats' como clave primaria\n",
    "df_other_stats.set_index('id_other_stats', inplace=True)"
   ]
  },
  {
   "cell_type": "code",
   "execution_count": 22,
   "metadata": {},
   "outputs": [
    {
     "name": "stdout",
     "output_type": "stream",
     "text": [
      "<class 'pandas.core.frame.DataFrame'>\n",
      "Index: 1736 entries, 1 to 1736\n",
      "Data columns (total 26 columns):\n",
      " #   Column                  Non-Null Count  Dtype \n",
      "---  ------                  --------------  ----- \n",
      " 0   game_id                 1736 non-null   int64 \n",
      " 1   league_id               1736 non-null   int64 \n",
      " 2   team_id_home            1736 non-null   int64 \n",
      " 3   team_abbreviation_home  1736 non-null   object\n",
      " 4   team_city_home          1736 non-null   object\n",
      " 5   pts_paint_home          1736 non-null   int64 \n",
      " 6   pts_2nd_chance_home     1736 non-null   int64 \n",
      " 7   pts_fb_home             1736 non-null   int64 \n",
      " 8   largest_lead_home       1736 non-null   int64 \n",
      " 9   lead_changes            1736 non-null   int64 \n",
      " 10  times_tied              1736 non-null   int64 \n",
      " 11  team_turnovers_home     1736 non-null   int64 \n",
      " 12  total_turnovers_home    1736 non-null   int64 \n",
      " 13  team_rebounds_home      1736 non-null   int64 \n",
      " 14  pts_off_to_home         1736 non-null   int64 \n",
      " 15  team_id_away            1736 non-null   int64 \n",
      " 16  team_abbreviation_away  1736 non-null   object\n",
      " 17  team_city_away          1736 non-null   object\n",
      " 18  pts_paint_away          1736 non-null   int64 \n",
      " 19  pts_2nd_chance_away     1736 non-null   int64 \n",
      " 20  pts_fb_away             1736 non-null   int64 \n",
      " 21  largest_lead_away       1736 non-null   int64 \n",
      " 22  team_turnovers_away     1736 non-null   int64 \n",
      " 23  total_turnovers_away    1736 non-null   int64 \n",
      " 24  team_rebounds_away      1736 non-null   int64 \n",
      " 25  pts_off_to_away         1736 non-null   int64 \n",
      "dtypes: int64(22), object(4)\n",
      "memory usage: 366.2+ KB\n"
     ]
    }
   ],
   "source": [
    "df_other_stats.info()\n"
   ]
  },
  {
   "cell_type": "code",
   "execution_count": 23,
   "metadata": {},
   "outputs": [],
   "source": [
    "# Guardar el DataFrame modificado en un nuevo archivo CSV\n",
    "df_other_stats.to_csv('other_stats1.csv', index=True)"
   ]
  },
  {
   "cell_type": "code",
   "execution_count": 25,
   "metadata": {},
   "outputs": [],
   "source": [
    "dfp = pd.read_csv('Player_stats_advanced.csv')"
   ]
  },
  {
   "cell_type": "code",
   "execution_count": 26,
   "metadata": {},
   "outputs": [],
   "source": [
    "# Agregar una nueva columna 'id_stats' con una serie incremental\n",
    "dfp['id_stats'] = range(1, len(dfp) + 1)\n",
    "\n",
    "# Ahora puedes establecer la columna 'id_stats' como clave primaria\n",
    "dfp.set_index('id_stats', inplace=True)"
   ]
  },
  {
   "cell_type": "code",
   "execution_count": 27,
   "metadata": {},
   "outputs": [],
   "source": [
    "# Guardar el DataFrame modificado en un nuevo archivo CSV\n",
    "dfp.to_csv('Player_stats_advanced.csv', index=True)"
   ]
  },
  {
   "cell_type": "markdown",
   "metadata": {},
   "source": [
    "# Datos de mercado\n"
   ]
  },
  {
   "cell_type": "code",
   "execution_count": 28,
   "metadata": {},
   "outputs": [],
   "source": [
    "df_datos_mercado = pd.read_csv('Datos_Mercado.csv')"
   ]
  },
  {
   "cell_type": "code",
   "execution_count": 29,
   "metadata": {},
   "outputs": [],
   "source": [
    "# Agregar una nueva columna 'id_dato' con una serie incremental\n",
    "df_datos_mercado['id_dato'] = range(1, len(df_datos_mercado) + 1)\n",
    "\n",
    "# Ahora puedes establecer la columna 'id_dato' como clave primaria\n",
    "df_datos_mercado.set_index('id_dato', inplace=True)\n",
    "\n"
   ]
  },
  {
   "cell_type": "code",
   "execution_count": 31,
   "metadata": {},
   "outputs": [
    {
     "name": "stdout",
     "output_type": "stream",
     "text": [
      "<class 'pandas.core.frame.DataFrame'>\n",
      "Index: 10 entries, 1 to 10\n",
      "Data columns (total 7 columns):\n",
      " #   Column          Non-Null Count  Dtype \n",
      "---  ------          --------------  ----- \n",
      " 0   Temporada       10 non-null     int64 \n",
      " 1   Id_equipo       10 non-null     int64 \n",
      " 2   Equipo          10 non-null     object\n",
      " 3   Valor ($M)      10 non-null     object\n",
      " 4   Ingresos ($M)   10 non-null     object\n",
      " 5   Ganancias ($M)  10 non-null     object\n",
      " 6   Mercado         10 non-null     object\n",
      "dtypes: int64(2), object(5)\n",
      "memory usage: 640.0+ bytes\n"
     ]
    }
   ],
   "source": [
    "df_datos_mercado.info()"
   ]
  },
  {
   "cell_type": "code",
   "execution_count": 34,
   "metadata": {},
   "outputs": [],
   "source": [
    "# Guardar el DataFrame modificado en un nuevo archivo CSV\n",
    "df_datos_mercado.to_csv('Datos_Mercado.csv', index=True)"
   ]
  }
 ],
 "metadata": {
  "kernelspec": {
   "display_name": "Python 3",
   "language": "python",
   "name": "python3"
  },
  "language_info": {
   "codemirror_mode": {
    "name": "ipython",
    "version": 3
   },
   "file_extension": ".py",
   "mimetype": "text/x-python",
   "name": "python",
   "nbconvert_exporter": "python",
   "pygments_lexer": "ipython3",
   "version": "3.13.0"
  }
 },
 "nbformat": 4,
 "nbformat_minor": 2
}
