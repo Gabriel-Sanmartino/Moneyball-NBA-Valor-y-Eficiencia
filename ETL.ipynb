{
 "cells": [
  {
   "cell_type": "code",
   "execution_count": 24,
   "metadata": {},
   "outputs": [],
   "source": [
    "#Archivo creado y bibliotecas importadas:\n",
    "\n",
    "import pandas as pd\n",
    "import numpy as np"
   ]
  },
  {
   "cell_type": "code",
   "execution_count": 26,
   "metadata": {},
   "outputs": [],
   "source": [
    "# Leer el archivo de trabajo:\n",
    "\n",
    "df_Team = pd.read_csv('team.csv')"
   ]
  },
  {
   "cell_type": "code",
   "execution_count": 27,
   "metadata": {},
   "outputs": [
    {
     "data": {
      "text/plain": [
       "(30, 7)"
      ]
     },
     "execution_count": 27,
     "metadata": {},
     "output_type": "execute_result"
    }
   ],
   "source": [
    "# Para comprobar que cantidad de registros y columnas tiene el dataset cargado:\n",
    "\n",
    "df_Team.shape"
   ]
  },
  {
   "cell_type": "code",
   "execution_count": 28,
   "metadata": {},
   "outputs": [
    {
     "data": {
      "text/html": [
       "<div>\n",
       "<style scoped>\n",
       "    .dataframe tbody tr th:only-of-type {\n",
       "        vertical-align: middle;\n",
       "    }\n",
       "\n",
       "    .dataframe tbody tr th {\n",
       "        vertical-align: top;\n",
       "    }\n",
       "\n",
       "    .dataframe thead th {\n",
       "        text-align: right;\n",
       "    }\n",
       "</style>\n",
       "<table border=\"1\" class=\"dataframe\">\n",
       "  <thead>\n",
       "    <tr style=\"text-align: right;\">\n",
       "      <th></th>\n",
       "      <th>id</th>\n",
       "      <th>full_name</th>\n",
       "      <th>abbreviation</th>\n",
       "      <th>nickname</th>\n",
       "      <th>city</th>\n",
       "      <th>state</th>\n",
       "      <th>year_founded</th>\n",
       "    </tr>\n",
       "  </thead>\n",
       "  <tbody>\n",
       "    <tr>\n",
       "      <th>0</th>\n",
       "      <td>1610612737</td>\n",
       "      <td>Atlanta Hawks</td>\n",
       "      <td>ATL</td>\n",
       "      <td>Hawks</td>\n",
       "      <td>Atlanta</td>\n",
       "      <td>Atlanta</td>\n",
       "      <td>1949.0</td>\n",
       "    </tr>\n",
       "    <tr>\n",
       "      <th>1</th>\n",
       "      <td>1610612738</td>\n",
       "      <td>Boston Celtics</td>\n",
       "      <td>BOS</td>\n",
       "      <td>Celtics</td>\n",
       "      <td>Boston</td>\n",
       "      <td>Massachusetts</td>\n",
       "      <td>1946.0</td>\n",
       "    </tr>\n",
       "    <tr>\n",
       "      <th>2</th>\n",
       "      <td>1610612739</td>\n",
       "      <td>Cleveland Cavaliers</td>\n",
       "      <td>CLE</td>\n",
       "      <td>Cavaliers</td>\n",
       "      <td>Cleveland</td>\n",
       "      <td>Ohio</td>\n",
       "      <td>1970.0</td>\n",
       "    </tr>\n",
       "    <tr>\n",
       "      <th>3</th>\n",
       "      <td>1610612740</td>\n",
       "      <td>New Orleans Pelicans</td>\n",
       "      <td>NOP</td>\n",
       "      <td>Pelicans</td>\n",
       "      <td>New Orleans</td>\n",
       "      <td>Louisiana</td>\n",
       "      <td>2002.0</td>\n",
       "    </tr>\n",
       "    <tr>\n",
       "      <th>4</th>\n",
       "      <td>1610612741</td>\n",
       "      <td>Chicago Bulls</td>\n",
       "      <td>CHI</td>\n",
       "      <td>Bulls</td>\n",
       "      <td>Chicago</td>\n",
       "      <td>Illinois</td>\n",
       "      <td>1966.0</td>\n",
       "    </tr>\n",
       "  </tbody>\n",
       "</table>\n",
       "</div>"
      ],
      "text/plain": [
       "           id             full_name abbreviation   nickname         city  \\\n",
       "0  1610612737         Atlanta Hawks          ATL      Hawks      Atlanta   \n",
       "1  1610612738        Boston Celtics          BOS    Celtics       Boston   \n",
       "2  1610612739   Cleveland Cavaliers          CLE  Cavaliers    Cleveland   \n",
       "3  1610612740  New Orleans Pelicans          NOP   Pelicans  New Orleans   \n",
       "4  1610612741         Chicago Bulls          CHI      Bulls      Chicago   \n",
       "\n",
       "           state  year_founded  \n",
       "0        Atlanta        1949.0  \n",
       "1  Massachusetts        1946.0  \n",
       "2           Ohio        1970.0  \n",
       "3      Louisiana        2002.0  \n",
       "4       Illinois        1966.0  "
      ]
     },
     "execution_count": 28,
     "metadata": {},
     "output_type": "execute_result"
    }
   ],
   "source": [
    "# Una vez cargado el dataset, y comprobado su tamaño, se procede a verificar el contenido con una vista truncada:\n",
    "df_Team.head()"
   ]
  },
  {
   "cell_type": "code",
   "execution_count": 6,
   "metadata": {},
   "outputs": [
    {
     "data": {
      "text/plain": [
       "(5, 7)"
      ]
     },
     "execution_count": 6,
     "metadata": {},
     "output_type": "execute_result"
    }
   ],
   "source": [
    "# Selecciona y filtrar los años/equipos que se trabajarán en el proyecto: \n",
    "\n",
    "lista_filtro_equipos = ['Boston Celtics', 'New York Knicks', 'Minnesota Timberwolves', 'Oklahoma City Thunder', 'Denver Nuggets']\n",
    "df_equipos_filtrados = df[df['full_name'].isin(lista_filtro_equipos)]\n",
    "df_equipos_filtrados.shape"
   ]
  },
  {
   "cell_type": "code",
   "execution_count": 17,
   "metadata": {},
   "outputs": [
    {
     "data": {
      "text/html": [
       "<div>\n",
       "<style scoped>\n",
       "    .dataframe tbody tr th:only-of-type {\n",
       "        vertical-align: middle;\n",
       "    }\n",
       "\n",
       "    .dataframe tbody tr th {\n",
       "        vertical-align: top;\n",
       "    }\n",
       "\n",
       "    .dataframe thead th {\n",
       "        text-align: right;\n",
       "    }\n",
       "</style>\n",
       "<table border=\"1\" class=\"dataframe\">\n",
       "  <thead>\n",
       "    <tr style=\"text-align: right;\">\n",
       "      <th></th>\n",
       "      <th>id</th>\n",
       "      <th>full_name</th>\n",
       "      <th>abbreviation</th>\n",
       "      <th>nickname</th>\n",
       "      <th>city</th>\n",
       "      <th>state</th>\n",
       "      <th>year_founded</th>\n",
       "    </tr>\n",
       "  </thead>\n",
       "  <tbody>\n",
       "    <tr>\n",
       "      <th>1</th>\n",
       "      <td>1610612738</td>\n",
       "      <td>Boston Celtics</td>\n",
       "      <td>BOS</td>\n",
       "      <td>Celtics</td>\n",
       "      <td>Boston</td>\n",
       "      <td>Massachusetts</td>\n",
       "      <td>1946</td>\n",
       "    </tr>\n",
       "    <tr>\n",
       "      <th>6</th>\n",
       "      <td>1610612743</td>\n",
       "      <td>Denver Nuggets</td>\n",
       "      <td>DEN</td>\n",
       "      <td>Nuggets</td>\n",
       "      <td>Denver</td>\n",
       "      <td>Colorado</td>\n",
       "      <td>1976</td>\n",
       "    </tr>\n",
       "    <tr>\n",
       "      <th>13</th>\n",
       "      <td>1610612750</td>\n",
       "      <td>Minnesota Timberwolves</td>\n",
       "      <td>MIN</td>\n",
       "      <td>Timberwolves</td>\n",
       "      <td>Minnesota</td>\n",
       "      <td>Minnesota</td>\n",
       "      <td>1989</td>\n",
       "    </tr>\n",
       "    <tr>\n",
       "      <th>15</th>\n",
       "      <td>1610612752</td>\n",
       "      <td>New York Knicks</td>\n",
       "      <td>NYK</td>\n",
       "      <td>Knicks</td>\n",
       "      <td>New York</td>\n",
       "      <td>New York</td>\n",
       "      <td>1946</td>\n",
       "    </tr>\n",
       "    <tr>\n",
       "      <th>23</th>\n",
       "      <td>1610612760</td>\n",
       "      <td>Oklahoma City Thunder</td>\n",
       "      <td>OKC</td>\n",
       "      <td>Thunder</td>\n",
       "      <td>Oklahoma City</td>\n",
       "      <td>Oklahoma</td>\n",
       "      <td>1967</td>\n",
       "    </tr>\n",
       "  </tbody>\n",
       "</table>\n",
       "</div>"
      ],
      "text/plain": [
       "            id               full_name abbreviation      nickname  \\\n",
       "1   1610612738          Boston Celtics          BOS       Celtics   \n",
       "6   1610612743          Denver Nuggets          DEN       Nuggets   \n",
       "13  1610612750  Minnesota Timberwolves          MIN  Timberwolves   \n",
       "15  1610612752         New York Knicks          NYK        Knicks   \n",
       "23  1610612760   Oklahoma City Thunder          OKC       Thunder   \n",
       "\n",
       "             city          state  year_founded  \n",
       "1          Boston  Massachusetts          1946  \n",
       "6          Denver       Colorado          1976  \n",
       "13      Minnesota      Minnesota          1989  \n",
       "15       New York       New York          1946  \n",
       "23  Oklahoma City       Oklahoma          1967  "
      ]
     },
     "execution_count": 17,
     "metadata": {},
     "output_type": "execute_result"
    }
   ],
   "source": [
    "df_equipos_filtrados.head()"
   ]
  },
  {
   "cell_type": "code",
   "execution_count": 29,
   "metadata": {},
   "outputs": [
    {
     "name": "stdout",
     "output_type": "stream",
     "text": [
      "<class 'pandas.core.frame.DataFrame'>\n",
      "RangeIndex: 30 entries, 0 to 29\n",
      "Data columns (total 7 columns):\n",
      " #   Column        Non-Null Count  Dtype  \n",
      "---  ------        --------------  -----  \n",
      " 0   id            30 non-null     int64  \n",
      " 1   full_name     30 non-null     object \n",
      " 2   abbreviation  30 non-null     object \n",
      " 3   nickname      30 non-null     object \n",
      " 4   city          30 non-null     object \n",
      " 5   state         30 non-null     object \n",
      " 6   year_founded  30 non-null     float64\n",
      "dtypes: float64(1), int64(1), object(5)\n",
      "memory usage: 1.8+ KB\n"
     ]
    }
   ],
   "source": [
    "df_Team.info()"
   ]
  },
  {
   "cell_type": "code",
   "execution_count": 30,
   "metadata": {},
   "outputs": [],
   "source": [
    "# Transformar la columna 'year_founded' a entero\n",
    "df_Team['year_founded'] = df_Team['year_founded'].astype(int)"
   ]
  },
  {
   "cell_type": "code",
   "execution_count": 31,
   "metadata": {},
   "outputs": [
    {
     "name": "stdout",
     "output_type": "stream",
     "text": [
      "Valores únicos en la columna 'year_founded':\n",
      "[1949 1946 1970 2002 1966 1980 1976 1967 1948 1988 1968 1989 1995 1974\n",
      " 1961]\n",
      "\n",
      "Vista previa de los primeros 5 valores:\n",
      "0    1949\n",
      "1    1946\n",
      "2    1970\n",
      "3    2002\n",
      "4    1966\n",
      "Name: year_founded, dtype: int64\n"
     ]
    }
   ],
   "source": [
    "# Mostrar los valores únicos en la columna 'year_founded'\n",
    "print(\"Valores únicos en la columna 'year_founded':\")\n",
    "print(df_Team['year_founded'].unique())\n",
    "\n",
    "# Mostrar los primeros 10 valores para inspección manual\n",
    "print(\"\\nVista previa de los primeros 5 valores:\")\n",
    "print(df_Team['year_founded'].head(5))"
   ]
  },
  {
   "cell_type": "code",
   "execution_count": 32,
   "metadata": {},
   "outputs": [
    {
     "name": "stdout",
     "output_type": "stream",
     "text": [
      "Valores nulos restantes:\n",
      "id              0\n",
      "full_name       0\n",
      "abbreviation    0\n",
      "nickname        0\n",
      "city            0\n",
      "state           0\n",
      "year_founded    0\n",
      "dtype: int64\n"
     ]
    }
   ],
   "source": [
    "# Verificar valores nulos restantes en todo el DataFrame\n",
    "print(\"Valores nulos restantes:\")\n",
    "print(df_Team.isnull().sum())"
   ]
  },
  {
   "cell_type": "code",
   "execution_count": 33,
   "metadata": {},
   "outputs": [
    {
     "name": "stdout",
     "output_type": "stream",
     "text": [
      "<class 'pandas.core.frame.DataFrame'>\n",
      "RangeIndex: 30 entries, 0 to 29\n",
      "Data columns (total 7 columns):\n",
      " #   Column        Non-Null Count  Dtype \n",
      "---  ------        --------------  ----- \n",
      " 0   id            30 non-null     int64 \n",
      " 1   full_name     30 non-null     object\n",
      " 2   abbreviation  30 non-null     object\n",
      " 3   nickname      30 non-null     object\n",
      " 4   city          30 non-null     object\n",
      " 5   state         30 non-null     object\n",
      " 6   year_founded  30 non-null     int64 \n",
      "dtypes: int64(2), object(5)\n",
      "memory usage: 1.8+ KB\n"
     ]
    }
   ],
   "source": [
    "df_Team.info()"
   ]
  },
  {
   "cell_type": "code",
   "execution_count": 34,
   "metadata": {},
   "outputs": [
    {
     "data": {
      "text/plain": [
       "(30, 7)"
      ]
     },
     "execution_count": 34,
     "metadata": {},
     "output_type": "execute_result"
    }
   ],
   "source": [
    "df_Team.shape"
   ]
  },
  {
   "cell_type": "code",
   "execution_count": 35,
   "metadata": {},
   "outputs": [
    {
     "data": {
      "text/html": [
       "<div>\n",
       "<style scoped>\n",
       "    .dataframe tbody tr th:only-of-type {\n",
       "        vertical-align: middle;\n",
       "    }\n",
       "\n",
       "    .dataframe tbody tr th {\n",
       "        vertical-align: top;\n",
       "    }\n",
       "\n",
       "    .dataframe thead th {\n",
       "        text-align: right;\n",
       "    }\n",
       "</style>\n",
       "<table border=\"1\" class=\"dataframe\">\n",
       "  <thead>\n",
       "    <tr style=\"text-align: right;\">\n",
       "      <th></th>\n",
       "      <th>id</th>\n",
       "      <th>full_name</th>\n",
       "      <th>abbreviation</th>\n",
       "      <th>nickname</th>\n",
       "      <th>city</th>\n",
       "      <th>state</th>\n",
       "      <th>year_founded</th>\n",
       "    </tr>\n",
       "  </thead>\n",
       "  <tbody>\n",
       "    <tr>\n",
       "      <th>0</th>\n",
       "      <td>1610612737</td>\n",
       "      <td>Atlanta Hawks</td>\n",
       "      <td>ATL</td>\n",
       "      <td>Hawks</td>\n",
       "      <td>Atlanta</td>\n",
       "      <td>Atlanta</td>\n",
       "      <td>1949</td>\n",
       "    </tr>\n",
       "    <tr>\n",
       "      <th>1</th>\n",
       "      <td>1610612738</td>\n",
       "      <td>Boston Celtics</td>\n",
       "      <td>BOS</td>\n",
       "      <td>Celtics</td>\n",
       "      <td>Boston</td>\n",
       "      <td>Massachusetts</td>\n",
       "      <td>1946</td>\n",
       "    </tr>\n",
       "    <tr>\n",
       "      <th>2</th>\n",
       "      <td>1610612739</td>\n",
       "      <td>Cleveland Cavaliers</td>\n",
       "      <td>CLE</td>\n",
       "      <td>Cavaliers</td>\n",
       "      <td>Cleveland</td>\n",
       "      <td>Ohio</td>\n",
       "      <td>1970</td>\n",
       "    </tr>\n",
       "    <tr>\n",
       "      <th>3</th>\n",
       "      <td>1610612740</td>\n",
       "      <td>New Orleans Pelicans</td>\n",
       "      <td>NOP</td>\n",
       "      <td>Pelicans</td>\n",
       "      <td>New Orleans</td>\n",
       "      <td>Louisiana</td>\n",
       "      <td>2002</td>\n",
       "    </tr>\n",
       "    <tr>\n",
       "      <th>4</th>\n",
       "      <td>1610612741</td>\n",
       "      <td>Chicago Bulls</td>\n",
       "      <td>CHI</td>\n",
       "      <td>Bulls</td>\n",
       "      <td>Chicago</td>\n",
       "      <td>Illinois</td>\n",
       "      <td>1966</td>\n",
       "    </tr>\n",
       "  </tbody>\n",
       "</table>\n",
       "</div>"
      ],
      "text/plain": [
       "           id             full_name abbreviation   nickname         city  \\\n",
       "0  1610612737         Atlanta Hawks          ATL      Hawks      Atlanta   \n",
       "1  1610612738        Boston Celtics          BOS    Celtics       Boston   \n",
       "2  1610612739   Cleveland Cavaliers          CLE  Cavaliers    Cleveland   \n",
       "3  1610612740  New Orleans Pelicans          NOP   Pelicans  New Orleans   \n",
       "4  1610612741         Chicago Bulls          CHI      Bulls      Chicago   \n",
       "\n",
       "           state  year_founded  \n",
       "0        Atlanta          1949  \n",
       "1  Massachusetts          1946  \n",
       "2           Ohio          1970  \n",
       "3      Louisiana          2002  \n",
       "4       Illinois          1966  "
      ]
     },
     "execution_count": 35,
     "metadata": {},
     "output_type": "execute_result"
    }
   ],
   "source": [
    "df_Team.head()"
   ]
  },
  {
   "cell_type": "code",
   "execution_count": 36,
   "metadata": {},
   "outputs": [
    {
     "name": "stdout",
     "output_type": "stream",
     "text": [
      "Archivo guardado exitosamente como 'TeamOriginal.csv'\n"
     ]
    }
   ],
   "source": [
    "# Guardar los datos filtrados en un archivo con el nombre TeamOriginal.csv a fin de poder utilizarlo luego\n",
    "\n",
    "df_Team.to_csv('TeamOriginal.csv', index=False)\n",
    "\n",
    "# Confirmación\n",
    "print(\"Archivo guardado exitosamente como 'TeamOriginal.csv'\")"
   ]
  },
  {
   "cell_type": "markdown",
   "metadata": {},
   "source": [
    "Comienzo ETL Common Player Info"
   ]
  },
  {
   "cell_type": "code",
   "execution_count": 68,
   "metadata": {},
   "outputs": [],
   "source": [
    "# Leer el archivo de trabajo:\n",
    "\n",
    "df_Common_Player = pd.read_csv('common_player_info.csv')"
   ]
  },
  {
   "cell_type": "code",
   "execution_count": 16,
   "metadata": {},
   "outputs": [
    {
     "data": {
      "text/plain": [
       "(4171, 33)"
      ]
     },
     "execution_count": 16,
     "metadata": {},
     "output_type": "execute_result"
    }
   ],
   "source": [
    "df_Common_Player.shape"
   ]
  },
  {
   "cell_type": "code",
   "execution_count": 17,
   "metadata": {},
   "outputs": [
    {
     "name": "stdout",
     "output_type": "stream",
     "text": [
      "0       POR\n",
      "1       LAL\n",
      "2       SAC\n",
      "3       VAN\n",
      "4       GOS\n",
      "       ... \n",
      "4166    CHI\n",
      "4167    CLE\n",
      "4168    DET\n",
      "4169    LAC\n",
      "4170    WAS\n",
      "Name: team_abbreviation, Length: 4171, dtype: object\n"
     ]
    }
   ],
   "source": [
    "#df.head()\n",
    "#df.info()\n",
    "print(df_Common_Player[\"team_abbreviation\"])"
   ]
  },
  {
   "cell_type": "code",
   "execution_count": 18,
   "metadata": {},
   "outputs": [
    {
     "data": {
      "text/plain": [
       "(524, 33)"
      ]
     },
     "execution_count": 18,
     "metadata": {},
     "output_type": "execute_result"
    }
   ],
   "source": [
    "# Selecciona y filtrar los años/equipos que se trabajarán en el proyecto: \n",
    "\n",
    "lista_filtro_equipos_abv = ['BOS', 'DEN', 'MIN', 'NYK', 'OKC']\n",
    "df_equipos_abv_filtrados = df_Common_Player[df_Common_Player['team_abbreviation'].isin(lista_filtro_equipos_abv)]\n",
    "df_equipos_abv_filtrados.shape"
   ]
  },
  {
   "cell_type": "code",
   "execution_count": 19,
   "metadata": {},
   "outputs": [
    {
     "name": "stdout",
     "output_type": "stream",
     "text": [
      "<class 'pandas.core.frame.DataFrame'>\n",
      "Index: 524 entries, 10 to 4138\n",
      "Data columns (total 33 columns):\n",
      " #   Column                            Non-Null Count  Dtype  \n",
      "---  ------                            --------------  -----  \n",
      " 0   person_id                         524 non-null    int64  \n",
      " 1   first_name                        524 non-null    object \n",
      " 2   last_name                         524 non-null    object \n",
      " 3   display_first_last                524 non-null    object \n",
      " 4   display_last_comma_first          524 non-null    object \n",
      " 5   display_fi_last                   524 non-null    object \n",
      " 6   player_slug                       524 non-null    object \n",
      " 7   birthdate                         524 non-null    object \n",
      " 8   school                            522 non-null    object \n",
      " 9   country                           524 non-null    object \n",
      " 10  last_affiliation                  524 non-null    object \n",
      " 11  height                            524 non-null    object \n",
      " 12  weight                            524 non-null    float64\n",
      " 13  season_exp                        524 non-null    float64\n",
      " 14  jersey                            501 non-null    object \n",
      " 15  position                          524 non-null    object \n",
      " 16  rosterstatus                      524 non-null    object \n",
      " 17  games_played_current_season_flag  524 non-null    object \n",
      " 18  team_id                           524 non-null    int64  \n",
      " 19  team_name                         524 non-null    object \n",
      " 20  team_abbreviation                 524 non-null    object \n",
      " 21  team_code                         524 non-null    object \n",
      " 22  team_city                         524 non-null    object \n",
      " 23  playercode                        524 non-null    object \n",
      " 24  from_year                         524 non-null    float64\n",
      " 25  to_year                           524 non-null    float64\n",
      " 26  dleague_flag                      524 non-null    object \n",
      " 27  nba_flag                          524 non-null    object \n",
      " 28  games_played_flag                 524 non-null    object \n",
      " 29  draft_year                        524 non-null    object \n",
      " 30  draft_round                       504 non-null    object \n",
      " 31  draft_number                      491 non-null    object \n",
      " 32  greatest_75_flag                  524 non-null    object \n",
      "dtypes: float64(4), int64(2), object(27)\n",
      "memory usage: 139.2+ KB\n"
     ]
    }
   ],
   "source": [
    "df_equipos_abv_filtrados.info()"
   ]
  },
  {
   "cell_type": "code",
   "execution_count": 20,
   "metadata": {},
   "outputs": [
    {
     "name": "stdout",
     "output_type": "stream",
     "text": [
      "<class 'pandas.core.frame.DataFrame'>\n",
      "Index: 181 entries, 26 to 4138\n",
      "Data columns (total 33 columns):\n",
      " #   Column                            Non-Null Count  Dtype  \n",
      "---  ------                            --------------  -----  \n",
      " 0   person_id                         181 non-null    int64  \n",
      " 1   first_name                        181 non-null    object \n",
      " 2   last_name                         181 non-null    object \n",
      " 3   display_first_last                181 non-null    object \n",
      " 4   display_last_comma_first          181 non-null    object \n",
      " 5   display_fi_last                   181 non-null    object \n",
      " 6   player_slug                       181 non-null    object \n",
      " 7   birthdate                         181 non-null    object \n",
      " 8   school                            179 non-null    object \n",
      " 9   country                           181 non-null    object \n",
      " 10  last_affiliation                  181 non-null    object \n",
      " 11  height                            181 non-null    object \n",
      " 12  weight                            181 non-null    float64\n",
      " 13  season_exp                        181 non-null    float64\n",
      " 14  jersey                            180 non-null    object \n",
      " 15  position                          181 non-null    object \n",
      " 16  rosterstatus                      181 non-null    object \n",
      " 17  games_played_current_season_flag  181 non-null    object \n",
      " 18  team_id                           181 non-null    int64  \n",
      " 19  team_name                         181 non-null    object \n",
      " 20  team_abbreviation                 181 non-null    object \n",
      " 21  team_code                         181 non-null    object \n",
      " 22  team_city                         181 non-null    object \n",
      " 23  playercode                        181 non-null    object \n",
      " 24  from_year                         181 non-null    float64\n",
      " 25  to_year                           181 non-null    float64\n",
      " 26  dleague_flag                      181 non-null    object \n",
      " 27  nba_flag                          181 non-null    object \n",
      " 28  games_played_flag                 181 non-null    object \n",
      " 29  draft_year                        181 non-null    object \n",
      " 30  draft_round                       180 non-null    object \n",
      " 31  draft_number                      180 non-null    object \n",
      " 32  greatest_75_flag                  181 non-null    object \n",
      "dtypes: float64(4), int64(2), object(27)\n",
      "memory usage: 48.1+ KB\n",
      "None\n",
      "     person_id first_name         last_name        display_first_last  \\\n",
      "26      201167      Arron           Afflalo             Arron Afflalo   \n",
      "40      202332       Cole           Aldrich              Cole Aldrich   \n",
      "48     1629638    Nickeil  Alexander-Walker  Nickeil Alexander-Walker   \n",
      "83      203937       Kyle          Anderson             Kyle Anderson   \n",
      "124     201589    Darrell            Arthur            Darrell Arthur   \n",
      "\n",
      "      display_last_comma_first      display_fi_last               player_slug  \\\n",
      "26              Afflalo, Arron           A. Afflalo             arron-afflalo   \n",
      "40               Aldrich, Cole           C. Aldrich              cole-aldrich   \n",
      "48   Alexander-Walker, Nickeil  N. Alexander-Walker  nickeil-alexander-walker   \n",
      "83              Anderson, Kyle          K. Anderson             kyle-anderson   \n",
      "124            Arthur, Darrell            D. Arthur            darrell-arthur   \n",
      "\n",
      "               birthdate         school country  ...  \\\n",
      "26   1985-10-15 00:00:00           UCLA     USA  ...   \n",
      "40   1988-10-31 00:00:00         Kansas     USA  ...   \n",
      "48   1998-09-02 00:00:00  Virginia Tech  Canada  ...   \n",
      "83   1993-09-20 00:00:00           UCLA     USA  ...   \n",
      "124  1988-03-25 00:00:00         Kansas     USA  ...   \n",
      "\n",
      "                   playercode from_year  to_year  dleague_flag nba_flag  \\\n",
      "26              arron_afflalo    2007.0   2017.0             N        Y   \n",
      "40               cole_aldrich    2010.0   2017.0             Y        Y   \n",
      "48   nickeil_alexander-walker    2019.0   2023.0             Y        Y   \n",
      "83              kyle_anderson    2014.0   2023.0             Y        Y   \n",
      "124            darrell_arthur    2008.0   2017.0             N        Y   \n",
      "\n",
      "    games_played_flag draft_year draft_round  draft_number greatest_75_flag  \n",
      "26                  Y       2007           1            27                N  \n",
      "40                  Y       2010           1            11                N  \n",
      "48                  Y       2019           1            17                N  \n",
      "83                  Y       2014           1            30                N  \n",
      "124                 Y       2008           1            27                N  \n",
      "\n",
      "[5 rows x 33 columns]\n"
     ]
    }
   ],
   "source": [
    "#Aplicamos un filtro para quedarnos con los jugadores que estan en la liga desde el año 2000 (columna 'from_year' => 2000)\n",
    "\n",
    "# Filtrar los datos donde 'from_year' es mayor o igual a 2000\n",
    "df_equipos_abv_filtrados_2000 = df_equipos_abv_filtrados[df_equipos_abv_filtrados['from_year'] >= 2000]\n",
    "\n",
    "# Mostrar el resultado del filtrado\n",
    "print(df_equipos_abv_filtrados_2000.info())\n",
    "print(df_equipos_abv_filtrados_2000.head())"
   ]
  },
  {
   "cell_type": "code",
   "execution_count": 21,
   "metadata": {},
   "outputs": [
    {
     "data": {
      "text/plain": [
       "(181, 33)"
      ]
     },
     "execution_count": 21,
     "metadata": {},
     "output_type": "execute_result"
    }
   ],
   "source": [
    "df_equipos_abv_filtrados_2000.shape"
   ]
  },
  {
   "cell_type": "code",
   "execution_count": 22,
   "metadata": {},
   "outputs": [
    {
     "name": "stdout",
     "output_type": "stream",
     "text": [
      "person_id                             int64\n",
      "first_name                           object\n",
      "last_name                            object\n",
      "display_first_last                   object\n",
      "display_last_comma_first             object\n",
      "display_fi_last                      object\n",
      "player_slug                          object\n",
      "birthdate                            object\n",
      "school                               object\n",
      "country                              object\n",
      "last_affiliation                     object\n",
      "height                               object\n",
      "weight                              float64\n",
      "season_exp                          float64\n",
      "jersey                               object\n",
      "position                             object\n",
      "rosterstatus                         object\n",
      "games_played_current_season_flag     object\n",
      "team_id                               int64\n",
      "team_name                            object\n",
      "team_abbreviation                    object\n",
      "team_code                            object\n",
      "team_city                            object\n",
      "playercode                           object\n",
      "from_year                             int64\n",
      "to_year                               int64\n",
      "dleague_flag                         object\n",
      "nba_flag                             object\n",
      "games_played_flag                    object\n",
      "draft_year                           object\n",
      "draft_round                          object\n",
      "draft_number                         object\n",
      "greatest_75_flag                     object\n",
      "dtype: object\n"
     ]
    },
    {
     "name": "stderr",
     "output_type": "stream",
     "text": [
      "C:\\Users\\angel\\AppData\\Local\\Temp\\ipykernel_15628\\1806054014.py:2: SettingWithCopyWarning: \n",
      "A value is trying to be set on a copy of a slice from a DataFrame.\n",
      "Try using .loc[row_indexer,col_indexer] = value instead\n",
      "\n",
      "See the caveats in the documentation: https://pandas.pydata.org/pandas-docs/stable/user_guide/indexing.html#returning-a-view-versus-a-copy\n",
      "  df_equipos_abv_filtrados_2000['from_year'] = df_equipos_abv_filtrados_2000['from_year'].astype(int)\n",
      "C:\\Users\\angel\\AppData\\Local\\Temp\\ipykernel_15628\\1806054014.py:3: SettingWithCopyWarning: \n",
      "A value is trying to be set on a copy of a slice from a DataFrame.\n",
      "Try using .loc[row_indexer,col_indexer] = value instead\n",
      "\n",
      "See the caveats in the documentation: https://pandas.pydata.org/pandas-docs/stable/user_guide/indexing.html#returning-a-view-versus-a-copy\n",
      "  df_equipos_abv_filtrados_2000['to_year'] = df_equipos_abv_filtrados_2000['to_year'].astype(int)\n"
     ]
    }
   ],
   "source": [
    "# Convertir las columnas 'from_year' y 'to_year' a formato entero\n",
    "df_equipos_abv_filtrados_2000['from_year'] = df_equipos_abv_filtrados_2000['from_year'].astype(int)\n",
    "df_equipos_abv_filtrados_2000['to_year'] = df_equipos_abv_filtrados_2000['to_year'].astype(int)\n",
    "\n",
    "# Verificar los cambios\n",
    "print(df_equipos_abv_filtrados_2000.dtypes)"
   ]
  },
  {
   "cell_type": "code",
   "execution_count": 23,
   "metadata": {},
   "outputs": [
    {
     "name": "stdout",
     "output_type": "stream",
     "text": [
      "Valores nulos restantes:\n",
      "person_id                           0\n",
      "first_name                          0\n",
      "last_name                           0\n",
      "display_first_last                  0\n",
      "display_last_comma_first            0\n",
      "display_fi_last                     0\n",
      "player_slug                         0\n",
      "birthdate                           0\n",
      "school                              2\n",
      "country                             0\n",
      "last_affiliation                    0\n",
      "height                              0\n",
      "weight                              0\n",
      "season_exp                          0\n",
      "jersey                              1\n",
      "position                            0\n",
      "rosterstatus                        0\n",
      "games_played_current_season_flag    0\n",
      "team_id                             0\n",
      "team_name                           0\n",
      "team_abbreviation                   0\n",
      "team_code                           0\n",
      "team_city                           0\n",
      "playercode                          0\n",
      "from_year                           0\n",
      "to_year                             0\n",
      "dleague_flag                        0\n",
      "nba_flag                            0\n",
      "games_played_flag                   0\n",
      "draft_year                          0\n",
      "draft_round                         1\n",
      "draft_number                        1\n",
      "greatest_75_flag                    0\n",
      "dtype: int64\n"
     ]
    }
   ],
   "source": [
    "# Verificar valores nulos restantes en todo el DataFrame\n",
    "print(\"Valores nulos restantes:\")\n",
    "print(df_equipos_abv_filtrados_2000.isnull().sum())"
   ]
  },
  {
   "cell_type": "code",
   "execution_count": 24,
   "metadata": {},
   "outputs": [
    {
     "name": "stdout",
     "output_type": "stream",
     "text": [
      "draft_number    0\n",
      "draft_round     0\n",
      "jersey          0\n",
      "school          0\n",
      "dtype: int64\n"
     ]
    },
    {
     "name": "stderr",
     "output_type": "stream",
     "text": [
      "C:\\Users\\angel\\AppData\\Local\\Temp\\ipykernel_15628\\1535409239.py:5: SettingWithCopyWarning: \n",
      "A value is trying to be set on a copy of a slice from a DataFrame.\n",
      "Try using .loc[row_indexer,col_indexer] = value instead\n",
      "\n",
      "See the caveats in the documentation: https://pandas.pydata.org/pandas-docs/stable/user_guide/indexing.html#returning-a-view-versus-a-copy\n",
      "  df_equipos_abv_filtrados_2000[columns_to_fill] = df_equipos_abv_filtrados_2000[columns_to_fill].fillna(0)\n"
     ]
    }
   ],
   "source": [
    "# Lista de columnas a rellenar\n",
    "columns_to_fill = ['draft_number', 'draft_round', 'jersey', 'school']\n",
    "\n",
    "# Rellenar valores faltantes con 0\n",
    "df_equipos_abv_filtrados_2000[columns_to_fill] = df_equipos_abv_filtrados_2000[columns_to_fill].fillna(0)\n",
    "\n",
    "# Verificar si las columnas tienen valores faltantes después del relleno\n",
    "print(df_equipos_abv_filtrados_2000[columns_to_fill].isnull().sum())"
   ]
  },
  {
   "cell_type": "code",
   "execution_count": 25,
   "metadata": {},
   "outputs": [
    {
     "name": "stdout",
     "output_type": "stream",
     "text": [
      "Archivo guardado exitosamente como 'CommonPlayerFiltrado.csv'\n"
     ]
    }
   ],
   "source": [
    "# Guardar los datos filtrados en un archivo con el nombre CommonPlayerFiltrado.csv a fin de poder utilizarlo luego\n",
    "\n",
    "df_equipos_abv_filtrados_2000.to_csv('CommonPlayerFiltrado.csv', index=False)\n",
    "\n",
    "# Confirmación\n",
    "print(\"Archivo guardado exitosamente como 'CommonPlayerFiltrado.csv'\")"
   ]
  },
  {
   "cell_type": "markdown",
   "metadata": {},
   "source": [
    "Comenzamos a trabajar con el archivo game.csv"
   ]
  },
  {
   "cell_type": "code",
   "execution_count": 26,
   "metadata": {},
   "outputs": [],
   "source": [
    "#Archivo creado y bibliotecas importadas:\n",
    "\n",
    "import pandas as pd\n",
    "import numpy as np"
   ]
  },
  {
   "cell_type": "code",
   "execution_count": 37,
   "metadata": {},
   "outputs": [],
   "source": [
    "# Leer el archivo de trabajo:\n",
    "\n",
    "df_game = pd.read_csv('game.csv')"
   ]
  },
  {
   "cell_type": "code",
   "execution_count": 38,
   "metadata": {},
   "outputs": [
    {
     "data": {
      "text/plain": [
       "(65698, 55)"
      ]
     },
     "execution_count": 38,
     "metadata": {},
     "output_type": "execute_result"
    }
   ],
   "source": [
    "# Para comprobar que cantidad de registros y columnas tiene el dataset cargado:\n",
    "\n",
    "df_game.shape"
   ]
  },
  {
   "cell_type": "code",
   "execution_count": 39,
   "metadata": {},
   "outputs": [
    {
     "data": {
      "text/html": [
       "<div>\n",
       "<style scoped>\n",
       "    .dataframe tbody tr th:only-of-type {\n",
       "        vertical-align: middle;\n",
       "    }\n",
       "\n",
       "    .dataframe tbody tr th {\n",
       "        vertical-align: top;\n",
       "    }\n",
       "\n",
       "    .dataframe thead th {\n",
       "        text-align: right;\n",
       "    }\n",
       "</style>\n",
       "<table border=\"1\" class=\"dataframe\">\n",
       "  <thead>\n",
       "    <tr style=\"text-align: right;\">\n",
       "      <th></th>\n",
       "      <th>season_id</th>\n",
       "      <th>team_id_home</th>\n",
       "      <th>team_abbreviation_home</th>\n",
       "      <th>team_name_home</th>\n",
       "      <th>game_id</th>\n",
       "      <th>game_date</th>\n",
       "      <th>matchup_home</th>\n",
       "      <th>wl_home</th>\n",
       "      <th>min</th>\n",
       "      <th>fgm_home</th>\n",
       "      <th>...</th>\n",
       "      <th>reb_away</th>\n",
       "      <th>ast_away</th>\n",
       "      <th>stl_away</th>\n",
       "      <th>blk_away</th>\n",
       "      <th>tov_away</th>\n",
       "      <th>pf_away</th>\n",
       "      <th>pts_away</th>\n",
       "      <th>plus_minus_away</th>\n",
       "      <th>video_available_away</th>\n",
       "      <th>season_type</th>\n",
       "    </tr>\n",
       "  </thead>\n",
       "  <tbody>\n",
       "    <tr>\n",
       "      <th>0</th>\n",
       "      <td>21946</td>\n",
       "      <td>1610610035</td>\n",
       "      <td>HUS</td>\n",
       "      <td>Toronto Huskies</td>\n",
       "      <td>24600001</td>\n",
       "      <td>1946-11-01 00:00:00</td>\n",
       "      <td>HUS vs. NYK</td>\n",
       "      <td>L</td>\n",
       "      <td>0</td>\n",
       "      <td>25.0</td>\n",
       "      <td>...</td>\n",
       "      <td>NaN</td>\n",
       "      <td>NaN</td>\n",
       "      <td>NaN</td>\n",
       "      <td>NaN</td>\n",
       "      <td>NaN</td>\n",
       "      <td>NaN</td>\n",
       "      <td>68.0</td>\n",
       "      <td>2</td>\n",
       "      <td>0</td>\n",
       "      <td>Regular Season</td>\n",
       "    </tr>\n",
       "    <tr>\n",
       "      <th>1</th>\n",
       "      <td>21946</td>\n",
       "      <td>1610610034</td>\n",
       "      <td>BOM</td>\n",
       "      <td>St. Louis Bombers</td>\n",
       "      <td>24600003</td>\n",
       "      <td>1946-11-02 00:00:00</td>\n",
       "      <td>BOM vs. PIT</td>\n",
       "      <td>W</td>\n",
       "      <td>0</td>\n",
       "      <td>20.0</td>\n",
       "      <td>...</td>\n",
       "      <td>NaN</td>\n",
       "      <td>NaN</td>\n",
       "      <td>NaN</td>\n",
       "      <td>NaN</td>\n",
       "      <td>NaN</td>\n",
       "      <td>25.0</td>\n",
       "      <td>51.0</td>\n",
       "      <td>-5</td>\n",
       "      <td>0</td>\n",
       "      <td>Regular Season</td>\n",
       "    </tr>\n",
       "    <tr>\n",
       "      <th>2</th>\n",
       "      <td>21946</td>\n",
       "      <td>1610610032</td>\n",
       "      <td>PRO</td>\n",
       "      <td>Providence Steamrollers</td>\n",
       "      <td>24600002</td>\n",
       "      <td>1946-11-02 00:00:00</td>\n",
       "      <td>PRO vs. BOS</td>\n",
       "      <td>W</td>\n",
       "      <td>0</td>\n",
       "      <td>21.0</td>\n",
       "      <td>...</td>\n",
       "      <td>NaN</td>\n",
       "      <td>NaN</td>\n",
       "      <td>NaN</td>\n",
       "      <td>NaN</td>\n",
       "      <td>NaN</td>\n",
       "      <td>NaN</td>\n",
       "      <td>53.0</td>\n",
       "      <td>-6</td>\n",
       "      <td>0</td>\n",
       "      <td>Regular Season</td>\n",
       "    </tr>\n",
       "    <tr>\n",
       "      <th>3</th>\n",
       "      <td>21946</td>\n",
       "      <td>1610610025</td>\n",
       "      <td>CHS</td>\n",
       "      <td>Chicago Stags</td>\n",
       "      <td>24600004</td>\n",
       "      <td>1946-11-02 00:00:00</td>\n",
       "      <td>CHS vs. NYK</td>\n",
       "      <td>W</td>\n",
       "      <td>0</td>\n",
       "      <td>21.0</td>\n",
       "      <td>...</td>\n",
       "      <td>NaN</td>\n",
       "      <td>NaN</td>\n",
       "      <td>NaN</td>\n",
       "      <td>NaN</td>\n",
       "      <td>NaN</td>\n",
       "      <td>22.0</td>\n",
       "      <td>47.0</td>\n",
       "      <td>-16</td>\n",
       "      <td>0</td>\n",
       "      <td>Regular Season</td>\n",
       "    </tr>\n",
       "    <tr>\n",
       "      <th>4</th>\n",
       "      <td>21946</td>\n",
       "      <td>1610610028</td>\n",
       "      <td>DEF</td>\n",
       "      <td>Detroit Falcons</td>\n",
       "      <td>24600005</td>\n",
       "      <td>1946-11-02 00:00:00</td>\n",
       "      <td>DEF vs. WAS</td>\n",
       "      <td>L</td>\n",
       "      <td>0</td>\n",
       "      <td>10.0</td>\n",
       "      <td>...</td>\n",
       "      <td>NaN</td>\n",
       "      <td>NaN</td>\n",
       "      <td>NaN</td>\n",
       "      <td>NaN</td>\n",
       "      <td>NaN</td>\n",
       "      <td>NaN</td>\n",
       "      <td>50.0</td>\n",
       "      <td>17</td>\n",
       "      <td>0</td>\n",
       "      <td>Regular Season</td>\n",
       "    </tr>\n",
       "  </tbody>\n",
       "</table>\n",
       "<p>5 rows × 55 columns</p>\n",
       "</div>"
      ],
      "text/plain": [
       "   season_id  team_id_home team_abbreviation_home           team_name_home  \\\n",
       "0      21946    1610610035                    HUS          Toronto Huskies   \n",
       "1      21946    1610610034                    BOM        St. Louis Bombers   \n",
       "2      21946    1610610032                    PRO  Providence Steamrollers   \n",
       "3      21946    1610610025                    CHS            Chicago Stags   \n",
       "4      21946    1610610028                    DEF          Detroit Falcons   \n",
       "\n",
       "    game_id            game_date matchup_home wl_home  min  fgm_home  ...  \\\n",
       "0  24600001  1946-11-01 00:00:00  HUS vs. NYK       L    0      25.0  ...   \n",
       "1  24600003  1946-11-02 00:00:00  BOM vs. PIT       W    0      20.0  ...   \n",
       "2  24600002  1946-11-02 00:00:00  PRO vs. BOS       W    0      21.0  ...   \n",
       "3  24600004  1946-11-02 00:00:00  CHS vs. NYK       W    0      21.0  ...   \n",
       "4  24600005  1946-11-02 00:00:00  DEF vs. WAS       L    0      10.0  ...   \n",
       "\n",
       "   reb_away  ast_away  stl_away  blk_away  tov_away  pf_away  pts_away  \\\n",
       "0       NaN       NaN       NaN       NaN       NaN      NaN      68.0   \n",
       "1       NaN       NaN       NaN       NaN       NaN     25.0      51.0   \n",
       "2       NaN       NaN       NaN       NaN       NaN      NaN      53.0   \n",
       "3       NaN       NaN       NaN       NaN       NaN     22.0      47.0   \n",
       "4       NaN       NaN       NaN       NaN       NaN      NaN      50.0   \n",
       "\n",
       "   plus_minus_away  video_available_away     season_type  \n",
       "0                2                     0  Regular Season  \n",
       "1               -5                     0  Regular Season  \n",
       "2               -6                     0  Regular Season  \n",
       "3              -16                     0  Regular Season  \n",
       "4               17                     0  Regular Season  \n",
       "\n",
       "[5 rows x 55 columns]"
      ]
     },
     "execution_count": 39,
     "metadata": {},
     "output_type": "execute_result"
    }
   ],
   "source": [
    "# Una vez cargado el dataset, y comprobado su tamaño, se procede a verificar el contenido con una vista truncada:\n",
    "df_game.head()"
   ]
  },
  {
   "cell_type": "code",
   "execution_count": 40,
   "metadata": {},
   "outputs": [
    {
     "name": "stdout",
     "output_type": "stream",
     "text": [
      "<class 'pandas.core.frame.DataFrame'>\n",
      "RangeIndex: 65698 entries, 0 to 65697\n",
      "Data columns (total 55 columns):\n",
      " #   Column                  Non-Null Count  Dtype  \n",
      "---  ------                  --------------  -----  \n",
      " 0   season_id               65698 non-null  int64  \n",
      " 1   team_id_home            65698 non-null  int64  \n",
      " 2   team_abbreviation_home  65698 non-null  object \n",
      " 3   team_name_home          65698 non-null  object \n",
      " 4   game_id                 65698 non-null  int64  \n",
      " 5   game_date               65698 non-null  object \n",
      " 6   matchup_home            65698 non-null  object \n",
      " 7   wl_home                 65696 non-null  object \n",
      " 8   min                     65698 non-null  int64  \n",
      " 9   fgm_home                65685 non-null  float64\n",
      " 10  fga_home                50251 non-null  float64\n",
      " 11  fg_pct_home             50208 non-null  float64\n",
      " 12  fg3m_home               52480 non-null  float64\n",
      " 13  fg3a_home               47015 non-null  float64\n",
      " 14  fg3_pct_home            46624 non-null  float64\n",
      " 15  ftm_home                65682 non-null  float64\n",
      " 16  fta_home                62694 non-null  float64\n",
      " 17  ft_pct_home             62689 non-null  float64\n",
      " 18  oreb_home               46762 non-null  float64\n",
      " 19  dreb_home               46699 non-null  float64\n",
      " 20  reb_home                49969 non-null  float64\n",
      " 21  ast_home                49893 non-null  float64\n",
      " 22  stl_home                46849 non-null  float64\n",
      " 23  blk_home                47072 non-null  float64\n",
      " 24  tov_home                47014 non-null  float64\n",
      " 25  pf_home                 62842 non-null  float64\n",
      " 26  pts_home                65698 non-null  float64\n",
      " 27  plus_minus_home         65698 non-null  int64  \n",
      " 28  video_available_home    65698 non-null  int64  \n",
      " 29  team_id_away            65698 non-null  int64  \n",
      " 30  team_abbreviation_away  65698 non-null  object \n",
      " 31  team_name_away          65698 non-null  object \n",
      " 32  matchup_away            65698 non-null  object \n",
      " 33  wl_away                 65696 non-null  object \n",
      " 34  fgm_away                65685 non-null  float64\n",
      " 35  fga_away                50251 non-null  float64\n",
      " 36  fg_pct_away             50209 non-null  float64\n",
      " 37  fg3m_away               52480 non-null  float64\n",
      " 38  fg3a_away               47015 non-null  float64\n",
      " 39  fg3_pct_away            46736 non-null  float64\n",
      " 40  ftm_away                65685 non-null  float64\n",
      " 41  fta_away                62694 non-null  float64\n",
      " 42  ft_pct_away             62692 non-null  float64\n",
      " 43  oreb_away               46762 non-null  float64\n",
      " 44  dreb_away               46700 non-null  float64\n",
      " 45  reb_away                49973 non-null  float64\n",
      " 46  ast_away                49897 non-null  float64\n",
      " 47  stl_away                46849 non-null  float64\n",
      " 48  blk_away                47073 non-null  float64\n",
      " 49  tov_away                47013 non-null  float64\n",
      " 50  pf_away                 62847 non-null  float64\n",
      " 51  pts_away                65698 non-null  float64\n",
      " 52  plus_minus_away         65698 non-null  int64  \n",
      " 53  video_available_away    65698 non-null  int64  \n",
      " 54  season_type             65698 non-null  object \n",
      "dtypes: float64(36), int64(9), object(10)\n",
      "memory usage: 27.6+ MB\n"
     ]
    }
   ],
   "source": [
    "df_game.info()"
   ]
  },
  {
   "cell_type": "code",
   "execution_count": 41,
   "metadata": {},
   "outputs": [
    {
     "name": "stdout",
     "output_type": "stream",
     "text": [
      "(18944, 55)\n"
     ]
    }
   ],
   "source": [
    "# Selecciona y filtrar los años/equipos que se trabajarán en el proyecto: \n",
    "\n",
    "lista_filtro_game = ['BOS', 'DEN', 'MIN', 'NYK', 'OKC']\n",
    "\n",
    "# Filtrar valores que contengan alguna de las cadenas en la lista\n",
    "df_game_filtrado = df_game[df_game['matchup_home'].str.contains('|'.join(lista_filtro_game))]\n",
    "\n",
    "# Verificar el tamaño del DataFrame filtrado\n",
    "print(df_game_filtrado.shape)"
   ]
  },
  {
   "cell_type": "code",
   "execution_count": 42,
   "metadata": {},
   "outputs": [
    {
     "data": {
      "text/html": [
       "<div>\n",
       "<style scoped>\n",
       "    .dataframe tbody tr th:only-of-type {\n",
       "        vertical-align: middle;\n",
       "    }\n",
       "\n",
       "    .dataframe tbody tr th {\n",
       "        vertical-align: top;\n",
       "    }\n",
       "\n",
       "    .dataframe thead th {\n",
       "        text-align: right;\n",
       "    }\n",
       "</style>\n",
       "<table border=\"1\" class=\"dataframe\">\n",
       "  <thead>\n",
       "    <tr style=\"text-align: right;\">\n",
       "      <th></th>\n",
       "      <th>season_id</th>\n",
       "      <th>team_id_home</th>\n",
       "      <th>team_abbreviation_home</th>\n",
       "      <th>team_name_home</th>\n",
       "      <th>game_id</th>\n",
       "      <th>game_date</th>\n",
       "      <th>matchup_home</th>\n",
       "      <th>wl_home</th>\n",
       "      <th>min</th>\n",
       "      <th>fgm_home</th>\n",
       "      <th>...</th>\n",
       "      <th>reb_away</th>\n",
       "      <th>ast_away</th>\n",
       "      <th>stl_away</th>\n",
       "      <th>blk_away</th>\n",
       "      <th>tov_away</th>\n",
       "      <th>pf_away</th>\n",
       "      <th>pts_away</th>\n",
       "      <th>plus_minus_away</th>\n",
       "      <th>video_available_away</th>\n",
       "      <th>season_type</th>\n",
       "    </tr>\n",
       "  </thead>\n",
       "  <tbody>\n",
       "    <tr>\n",
       "      <th>0</th>\n",
       "      <td>21946</td>\n",
       "      <td>1610610035</td>\n",
       "      <td>HUS</td>\n",
       "      <td>Toronto Huskies</td>\n",
       "      <td>24600001</td>\n",
       "      <td>1946-11-01 00:00:00</td>\n",
       "      <td>HUS vs. NYK</td>\n",
       "      <td>L</td>\n",
       "      <td>0</td>\n",
       "      <td>25.0</td>\n",
       "      <td>...</td>\n",
       "      <td>NaN</td>\n",
       "      <td>NaN</td>\n",
       "      <td>NaN</td>\n",
       "      <td>NaN</td>\n",
       "      <td>NaN</td>\n",
       "      <td>NaN</td>\n",
       "      <td>68.0</td>\n",
       "      <td>2</td>\n",
       "      <td>0</td>\n",
       "      <td>Regular Season</td>\n",
       "    </tr>\n",
       "    <tr>\n",
       "      <th>2</th>\n",
       "      <td>21946</td>\n",
       "      <td>1610610032</td>\n",
       "      <td>PRO</td>\n",
       "      <td>Providence Steamrollers</td>\n",
       "      <td>24600002</td>\n",
       "      <td>1946-11-02 00:00:00</td>\n",
       "      <td>PRO vs. BOS</td>\n",
       "      <td>W</td>\n",
       "      <td>0</td>\n",
       "      <td>21.0</td>\n",
       "      <td>...</td>\n",
       "      <td>NaN</td>\n",
       "      <td>NaN</td>\n",
       "      <td>NaN</td>\n",
       "      <td>NaN</td>\n",
       "      <td>NaN</td>\n",
       "      <td>NaN</td>\n",
       "      <td>53.0</td>\n",
       "      <td>-6</td>\n",
       "      <td>0</td>\n",
       "      <td>Regular Season</td>\n",
       "    </tr>\n",
       "    <tr>\n",
       "      <th>3</th>\n",
       "      <td>21946</td>\n",
       "      <td>1610610025</td>\n",
       "      <td>CHS</td>\n",
       "      <td>Chicago Stags</td>\n",
       "      <td>24600004</td>\n",
       "      <td>1946-11-02 00:00:00</td>\n",
       "      <td>CHS vs. NYK</td>\n",
       "      <td>W</td>\n",
       "      <td>0</td>\n",
       "      <td>21.0</td>\n",
       "      <td>...</td>\n",
       "      <td>NaN</td>\n",
       "      <td>NaN</td>\n",
       "      <td>NaN</td>\n",
       "      <td>NaN</td>\n",
       "      <td>NaN</td>\n",
       "      <td>22.0</td>\n",
       "      <td>47.0</td>\n",
       "      <td>-16</td>\n",
       "      <td>0</td>\n",
       "      <td>Regular Season</td>\n",
       "    </tr>\n",
       "    <tr>\n",
       "      <th>7</th>\n",
       "      <td>21946</td>\n",
       "      <td>1610612738</td>\n",
       "      <td>BOS</td>\n",
       "      <td>Boston Celtics</td>\n",
       "      <td>24600008</td>\n",
       "      <td>1946-11-05 00:00:00</td>\n",
       "      <td>BOS vs. CHS</td>\n",
       "      <td>L</td>\n",
       "      <td>0</td>\n",
       "      <td>23.0</td>\n",
       "      <td>...</td>\n",
       "      <td>NaN</td>\n",
       "      <td>NaN</td>\n",
       "      <td>NaN</td>\n",
       "      <td>NaN</td>\n",
       "      <td>NaN</td>\n",
       "      <td>NaN</td>\n",
       "      <td>57.0</td>\n",
       "      <td>2</td>\n",
       "      <td>0</td>\n",
       "      <td>Regular Season</td>\n",
       "    </tr>\n",
       "    <tr>\n",
       "      <th>10</th>\n",
       "      <td>21946</td>\n",
       "      <td>1610610034</td>\n",
       "      <td>BOM</td>\n",
       "      <td>St. Louis Bombers</td>\n",
       "      <td>24600012</td>\n",
       "      <td>1946-11-07 00:00:00</td>\n",
       "      <td>BOM vs. NYK</td>\n",
       "      <td>L</td>\n",
       "      <td>0</td>\n",
       "      <td>25.0</td>\n",
       "      <td>...</td>\n",
       "      <td>NaN</td>\n",
       "      <td>NaN</td>\n",
       "      <td>NaN</td>\n",
       "      <td>NaN</td>\n",
       "      <td>NaN</td>\n",
       "      <td>16.0</td>\n",
       "      <td>68.0</td>\n",
       "      <td>5</td>\n",
       "      <td>0</td>\n",
       "      <td>Regular Season</td>\n",
       "    </tr>\n",
       "  </tbody>\n",
       "</table>\n",
       "<p>5 rows × 55 columns</p>\n",
       "</div>"
      ],
      "text/plain": [
       "    season_id  team_id_home team_abbreviation_home           team_name_home  \\\n",
       "0       21946    1610610035                    HUS          Toronto Huskies   \n",
       "2       21946    1610610032                    PRO  Providence Steamrollers   \n",
       "3       21946    1610610025                    CHS            Chicago Stags   \n",
       "7       21946    1610612738                    BOS           Boston Celtics   \n",
       "10      21946    1610610034                    BOM        St. Louis Bombers   \n",
       "\n",
       "     game_id            game_date matchup_home wl_home  min  fgm_home  ...  \\\n",
       "0   24600001  1946-11-01 00:00:00  HUS vs. NYK       L    0      25.0  ...   \n",
       "2   24600002  1946-11-02 00:00:00  PRO vs. BOS       W    0      21.0  ...   \n",
       "3   24600004  1946-11-02 00:00:00  CHS vs. NYK       W    0      21.0  ...   \n",
       "7   24600008  1946-11-05 00:00:00  BOS vs. CHS       L    0      23.0  ...   \n",
       "10  24600012  1946-11-07 00:00:00  BOM vs. NYK       L    0      25.0  ...   \n",
       "\n",
       "    reb_away  ast_away  stl_away  blk_away  tov_away  pf_away  pts_away  \\\n",
       "0        NaN       NaN       NaN       NaN       NaN      NaN      68.0   \n",
       "2        NaN       NaN       NaN       NaN       NaN      NaN      53.0   \n",
       "3        NaN       NaN       NaN       NaN       NaN     22.0      47.0   \n",
       "7        NaN       NaN       NaN       NaN       NaN      NaN      57.0   \n",
       "10       NaN       NaN       NaN       NaN       NaN     16.0      68.0   \n",
       "\n",
       "    plus_minus_away  video_available_away     season_type  \n",
       "0                 2                     0  Regular Season  \n",
       "2                -6                     0  Regular Season  \n",
       "3               -16                     0  Regular Season  \n",
       "7                 2                     0  Regular Season  \n",
       "10                5                     0  Regular Season  \n",
       "\n",
       "[5 rows x 55 columns]"
      ]
     },
     "execution_count": 42,
     "metadata": {},
     "output_type": "execute_result"
    }
   ],
   "source": [
    "df_game_filtrado.head()"
   ]
  },
  {
   "cell_type": "code",
   "execution_count": 43,
   "metadata": {},
   "outputs": [
    {
     "name": "stdout",
     "output_type": "stream",
     "text": [
      "(2041, 55)\n",
      "       season_id  team_id_home team_abbreviation_home         team_name_home  \\\n",
      "59255      22018    1610612738                    BOS         Boston Celtics   \n",
      "59256      22018    1610612744                    GSW  Golden State Warriors   \n",
      "59257      22018    1610612759                    SAS      San Antonio Spurs   \n",
      "59259      22018    1610612746                    LAC            LA Clippers   \n",
      "59260      22018    1610612752                    NYK        New York Knicks   \n",
      "\n",
      "        game_id  game_date matchup_home wl_home  min  fgm_home  ...  reb_away  \\\n",
      "59255  21800001 2018-10-16  BOS vs. PHI       W  240      42.0  ...      47.0   \n",
      "59256  21800002 2018-10-16  GSW vs. OKC       W  240      42.0  ...      45.0   \n",
      "59257  21800010 2018-10-17  SAS vs. MIN       W  240      40.0  ...      46.0   \n",
      "59259  21800012 2018-10-17  LAC vs. DEN       L  240      35.0  ...      56.0   \n",
      "59260  21800007 2018-10-17  NYK vs. ATL       W  240      45.0  ...      45.0   \n",
      "\n",
      "       ast_away  stl_away  blk_away  tov_away  pf_away  pts_away  \\\n",
      "59255      18.0       8.0       5.0      16.0     20.0      87.0   \n",
      "59256      21.0      12.0       6.0      15.0     21.0     100.0   \n",
      "59257      20.0       9.0       2.0      11.0     27.0     108.0   \n",
      "59259      20.0       6.0       9.0      11.0     22.0     107.0   \n",
      "59260      19.0       7.0       3.0      24.0     30.0     107.0   \n",
      "\n",
      "       plus_minus_away  video_available_away     season_type  \n",
      "59255              -18                     1  Regular Season  \n",
      "59256               -8                     1  Regular Season  \n",
      "59257               -4                     1  Regular Season  \n",
      "59259                9                     1  Regular Season  \n",
      "59260              -19                     1  Regular Season  \n",
      "\n",
      "[5 rows x 55 columns]\n"
     ]
    },
    {
     "name": "stderr",
     "output_type": "stream",
     "text": [
      "C:\\Users\\angel\\AppData\\Local\\Temp\\ipykernel_26872\\3577179761.py:2: SettingWithCopyWarning: \n",
      "A value is trying to be set on a copy of a slice from a DataFrame.\n",
      "Try using .loc[row_indexer,col_indexer] = value instead\n",
      "\n",
      "See the caveats in the documentation: https://pandas.pydata.org/pandas-docs/stable/user_guide/indexing.html#returning-a-view-versus-a-copy\n",
      "  df_game_filtrado['game_date'] = pd.to_datetime(df_game_filtrado['game_date'])\n"
     ]
    }
   ],
   "source": [
    "# Convertir la columna 'game_date' a tipo datetime\n",
    "df_game_filtrado['game_date'] = pd.to_datetime(df_game_filtrado['game_date'])\n",
    "\n",
    "# Filtrar las filas desde 2018\n",
    "df_game_filtrado2= df_game_filtrado[df_game_filtrado['game_date'] >= '2018-10-01']\n",
    "\n",
    "# Verificar el resultado\n",
    "print(df_game_filtrado2.shape)\n",
    "print(df_game_filtrado2.head())"
   ]
  },
  {
   "cell_type": "code",
   "execution_count": 44,
   "metadata": {},
   "outputs": [
    {
     "name": "stdout",
     "output_type": "stream",
     "text": [
      "Valores nulos restantes:\n",
      "season_id                 0\n",
      "team_id_home              0\n",
      "team_abbreviation_home    0\n",
      "team_name_home            0\n",
      "game_id                   0\n",
      "game_date                 0\n",
      "matchup_home              0\n",
      "wl_home                   0\n",
      "min                       0\n",
      "fgm_home                  0\n",
      "fga_home                  0\n",
      "fg_pct_home               0\n",
      "fg3m_home                 0\n",
      "fg3a_home                 0\n",
      "fg3_pct_home              0\n",
      "ftm_home                  0\n",
      "fta_home                  0\n",
      "ft_pct_home               0\n",
      "oreb_home                 0\n",
      "dreb_home                 0\n",
      "reb_home                  0\n",
      "ast_home                  0\n",
      "stl_home                  0\n",
      "blk_home                  0\n",
      "tov_home                  0\n",
      "pf_home                   0\n",
      "pts_home                  0\n",
      "plus_minus_home           0\n",
      "video_available_home      0\n",
      "team_id_away              0\n",
      "team_abbreviation_away    0\n",
      "team_name_away            0\n",
      "matchup_away              0\n",
      "wl_away                   0\n",
      "fgm_away                  0\n",
      "fga_away                  0\n",
      "fg_pct_away               0\n",
      "fg3m_away                 0\n",
      "fg3a_away                 0\n",
      "fg3_pct_away              0\n",
      "ftm_away                  0\n",
      "fta_away                  0\n",
      "ft_pct_away               0\n",
      "oreb_away                 0\n",
      "dreb_away                 0\n",
      "reb_away                  0\n",
      "ast_away                  0\n",
      "stl_away                  0\n",
      "blk_away                  0\n",
      "tov_away                  0\n",
      "pf_away                   0\n",
      "pts_away                  0\n",
      "plus_minus_away           0\n",
      "video_available_away      0\n",
      "season_type               0\n",
      "dtype: int64\n"
     ]
    }
   ],
   "source": [
    "# Verificar valores nulos restantes en todo el DataFrame\n",
    "print(\"Valores nulos restantes:\")\n",
    "print(df_game_filtrado2.isnull().sum())"
   ]
  },
  {
   "cell_type": "code",
   "execution_count": 45,
   "metadata": {},
   "outputs": [
    {
     "name": "stdout",
     "output_type": "stream",
     "text": [
      "<class 'pandas.core.frame.DataFrame'>\n",
      "Index: 2041 entries, 59255 to 65695\n",
      "Data columns (total 55 columns):\n",
      " #   Column                  Non-Null Count  Dtype         \n",
      "---  ------                  --------------  -----         \n",
      " 0   season_id               2041 non-null   int64         \n",
      " 1   team_id_home            2041 non-null   int64         \n",
      " 2   team_abbreviation_home  2041 non-null   object        \n",
      " 3   team_name_home          2041 non-null   object        \n",
      " 4   game_id                 2041 non-null   int64         \n",
      " 5   game_date               2041 non-null   datetime64[ns]\n",
      " 6   matchup_home            2041 non-null   object        \n",
      " 7   wl_home                 2041 non-null   object        \n",
      " 8   min                     2041 non-null   int64         \n",
      " 9   fgm_home                2041 non-null   float64       \n",
      " 10  fga_home                2041 non-null   float64       \n",
      " 11  fg_pct_home             2041 non-null   float64       \n",
      " 12  fg3m_home               2041 non-null   float64       \n",
      " 13  fg3a_home               2041 non-null   float64       \n",
      " 14  fg3_pct_home            2041 non-null   float64       \n",
      " 15  ftm_home                2041 non-null   float64       \n",
      " 16  fta_home                2041 non-null   float64       \n",
      " 17  ft_pct_home             2041 non-null   float64       \n",
      " 18  oreb_home               2041 non-null   float64       \n",
      " 19  dreb_home               2041 non-null   float64       \n",
      " 20  reb_home                2041 non-null   float64       \n",
      " 21  ast_home                2041 non-null   float64       \n",
      " 22  stl_home                2041 non-null   float64       \n",
      " 23  blk_home                2041 non-null   float64       \n",
      " 24  tov_home                2041 non-null   float64       \n",
      " 25  pf_home                 2041 non-null   float64       \n",
      " 26  pts_home                2041 non-null   float64       \n",
      " 27  plus_minus_home         2041 non-null   int64         \n",
      " 28  video_available_home    2041 non-null   int64         \n",
      " 29  team_id_away            2041 non-null   int64         \n",
      " 30  team_abbreviation_away  2041 non-null   object        \n",
      " 31  team_name_away          2041 non-null   object        \n",
      " 32  matchup_away            2041 non-null   object        \n",
      " 33  wl_away                 2041 non-null   object        \n",
      " 34  fgm_away                2041 non-null   float64       \n",
      " 35  fga_away                2041 non-null   float64       \n",
      " 36  fg_pct_away             2041 non-null   float64       \n",
      " 37  fg3m_away               2041 non-null   float64       \n",
      " 38  fg3a_away               2041 non-null   float64       \n",
      " 39  fg3_pct_away            2041 non-null   float64       \n",
      " 40  ftm_away                2041 non-null   float64       \n",
      " 41  fta_away                2041 non-null   float64       \n",
      " 42  ft_pct_away             2041 non-null   float64       \n",
      " 43  oreb_away               2041 non-null   float64       \n",
      " 44  dreb_away               2041 non-null   float64       \n",
      " 45  reb_away                2041 non-null   float64       \n",
      " 46  ast_away                2041 non-null   float64       \n",
      " 47  stl_away                2041 non-null   float64       \n",
      " 48  blk_away                2041 non-null   float64       \n",
      " 49  tov_away                2041 non-null   float64       \n",
      " 50  pf_away                 2041 non-null   float64       \n",
      " 51  pts_away                2041 non-null   float64       \n",
      " 52  plus_minus_away         2041 non-null   int64         \n",
      " 53  video_available_away    2041 non-null   int64         \n",
      " 54  season_type             2041 non-null   object        \n",
      "dtypes: datetime64[ns](1), float64(36), int64(9), object(9)\n",
      "memory usage: 892.9+ KB\n"
     ]
    }
   ],
   "source": [
    "df_game_filtrado2.info()"
   ]
  },
  {
   "cell_type": "markdown",
   "metadata": {},
   "source": [
    "Vamos a chequear y ajustar los formatos de texto de las columnas"
   ]
  },
  {
   "cell_type": "code",
   "execution_count": 36,
   "metadata": {},
   "outputs": [],
   "source": [
    "# Para las columnas con decimales, indicamos que redondee a 2 decimales:\n",
    "\n",
    "#df_game_filtrado2['new_recovered'] = df_game_filtrado2['new_recovered'].round(2)"
   ]
  },
  {
   "cell_type": "markdown",
   "metadata": {},
   "source": [
    "Ajustamos los formatos de las columnas con numeros enteros"
   ]
  },
  {
   "cell_type": "code",
   "execution_count": 46,
   "metadata": {},
   "outputs": [
    {
     "name": "stderr",
     "output_type": "stream",
     "text": [
      "C:\\Users\\angel\\AppData\\Local\\Temp\\ipykernel_26872\\4107922953.py:11: SettingWithCopyWarning: \n",
      "A value is trying to be set on a copy of a slice from a DataFrame.\n",
      "Try using .loc[row_indexer,col_indexer] = value instead\n",
      "\n",
      "See the caveats in the documentation: https://pandas.pydata.org/pandas-docs/stable/user_guide/indexing.html#returning-a-view-versus-a-copy\n",
      "  df_game_filtrado2[columns_to_convert_home] = df_game_filtrado2[columns_to_convert_home].astype(int)\n"
     ]
    }
   ],
   "source": [
    "# Procedemos a asignar el tipo de dato entero a algunas columnas:\n",
    "\n",
    "# Lista de columnas a convertir\n",
    "columns_to_convert_home = [\n",
    "    'fgm_home', 'fga_home', 'fg3m_home', 'fg3a_home', 'ftm_home', 'fta_home', \n",
    "    'oreb_home', 'dreb_home', 'reb_home', 'ast_home', 'stl_home', 'blk_home', \n",
    "    'tov_home', 'pf_home', 'pts_home'\n",
    "]\n",
    "\n",
    "# Convertir cada columna a int\n",
    "df_game_filtrado2[columns_to_convert_home] = df_game_filtrado2[columns_to_convert_home].astype(int)"
   ]
  },
  {
   "cell_type": "code",
   "execution_count": 38,
   "metadata": {},
   "outputs": [
    {
     "name": "stdout",
     "output_type": "stream",
     "text": [
      "<class 'pandas.core.frame.DataFrame'>\n",
      "Index: 2041 entries, 59255 to 65695\n",
      "Data columns (total 55 columns):\n",
      " #   Column                  Non-Null Count  Dtype         \n",
      "---  ------                  --------------  -----         \n",
      " 0   season_id               2041 non-null   int64         \n",
      " 1   team_id_home            2041 non-null   int64         \n",
      " 2   team_abbreviation_home  2041 non-null   object        \n",
      " 3   team_name_home          2041 non-null   object        \n",
      " 4   game_id                 2041 non-null   int64         \n",
      " 5   game_date               2041 non-null   datetime64[ns]\n",
      " 6   matchup_home            2041 non-null   object        \n",
      " 7   wl_home                 2041 non-null   object        \n",
      " 8   min                     2041 non-null   int64         \n",
      " 9   fgm_home                2041 non-null   int64         \n",
      " 10  fga_home                2041 non-null   int64         \n",
      " 11  fg_pct_home             2041 non-null   float64       \n",
      " 12  fg3m_home               2041 non-null   int64         \n",
      " 13  fg3a_home               2041 non-null   int64         \n",
      " 14  fg3_pct_home            2041 non-null   float64       \n",
      " 15  ftm_home                2041 non-null   int64         \n",
      " 16  fta_home                2041 non-null   int64         \n",
      " 17  ft_pct_home             2041 non-null   float64       \n",
      " 18  oreb_home               2041 non-null   int64         \n",
      " 19  dreb_home               2041 non-null   int64         \n",
      " 20  reb_home                2041 non-null   int64         \n",
      " 21  ast_home                2041 non-null   int64         \n",
      " 22  stl_home                2041 non-null   int64         \n",
      " 23  blk_home                2041 non-null   int64         \n",
      " 24  tov_home                2041 non-null   int64         \n",
      " 25  pf_home                 2041 non-null   int64         \n",
      " 26  pts_home                2041 non-null   int64         \n",
      " 27  plus_minus_home         2041 non-null   int64         \n",
      " 28  video_available_home    2041 non-null   int64         \n",
      " 29  team_id_away            2041 non-null   int64         \n",
      " 30  team_abbreviation_away  2041 non-null   object        \n",
      " 31  team_name_away          2041 non-null   object        \n",
      " 32  matchup_away            2041 non-null   object        \n",
      " 33  wl_away                 2041 non-null   object        \n",
      " 34  fgm_away                2041 non-null   float64       \n",
      " 35  fga_away                2041 non-null   float64       \n",
      " 36  fg_pct_away             2041 non-null   float64       \n",
      " 37  fg3m_away               2041 non-null   float64       \n",
      " 38  fg3a_away               2041 non-null   float64       \n",
      " 39  fg3_pct_away            2041 non-null   float64       \n",
      " 40  ftm_away                2041 non-null   float64       \n",
      " 41  fta_away                2041 non-null   float64       \n",
      " 42  ft_pct_away             2041 non-null   float64       \n",
      " 43  oreb_away               2041 non-null   float64       \n",
      " 44  dreb_away               2041 non-null   float64       \n",
      " 45  reb_away                2041 non-null   float64       \n",
      " 46  ast_away                2041 non-null   float64       \n",
      " 47  stl_away                2041 non-null   float64       \n",
      " 48  blk_away                2041 non-null   float64       \n",
      " 49  tov_away                2041 non-null   float64       \n",
      " 50  pf_away                 2041 non-null   float64       \n",
      " 51  pts_away                2041 non-null   float64       \n",
      " 52  plus_minus_away         2041 non-null   int64         \n",
      " 53  video_available_away    2041 non-null   int64         \n",
      " 54  season_type             2041 non-null   object        \n",
      "dtypes: datetime64[ns](1), float64(21), int64(24), object(9)\n",
      "memory usage: 892.9+ KB\n"
     ]
    }
   ],
   "source": [
    "df_game_filtrado2.info()"
   ]
  },
  {
   "cell_type": "code",
   "execution_count": 47,
   "metadata": {},
   "outputs": [
    {
     "name": "stderr",
     "output_type": "stream",
     "text": [
      "C:\\Users\\angel\\AppData\\Local\\Temp\\ipykernel_26872\\3199151192.py:11: SettingWithCopyWarning: \n",
      "A value is trying to be set on a copy of a slice from a DataFrame.\n",
      "Try using .loc[row_indexer,col_indexer] = value instead\n",
      "\n",
      "See the caveats in the documentation: https://pandas.pydata.org/pandas-docs/stable/user_guide/indexing.html#returning-a-view-versus-a-copy\n",
      "  df_game_filtrado2[columns_to_convert_away] = df_game_filtrado2[columns_to_convert_away].astype(int)\n"
     ]
    }
   ],
   "source": [
    "# Procedemos a asignar el tipo de dato entero a algunas columnas:\n",
    "\n",
    "# Lista de columnas a convertir\n",
    "columns_to_convert_away = [\n",
    "    'fgm_away', 'fga_away', 'fg3m_away', 'fg3a_away', 'ftm_away', 'fta_away', \n",
    "    'oreb_away', 'dreb_away', 'reb_away', 'ast_away', 'stl_away', 'blk_away', \n",
    "    'tov_away', 'pf_away', 'pts_away'\n",
    "]\n",
    "\n",
    "# Convertir cada columna a int\n",
    "df_game_filtrado2[columns_to_convert_away] = df_game_filtrado2[columns_to_convert_away].astype(int)"
   ]
  },
  {
   "cell_type": "code",
   "execution_count": 40,
   "metadata": {},
   "outputs": [
    {
     "name": "stdout",
     "output_type": "stream",
     "text": [
      "<class 'pandas.core.frame.DataFrame'>\n",
      "Index: 2041 entries, 59255 to 65695\n",
      "Data columns (total 55 columns):\n",
      " #   Column                  Non-Null Count  Dtype         \n",
      "---  ------                  --------------  -----         \n",
      " 0   season_id               2041 non-null   int64         \n",
      " 1   team_id_home            2041 non-null   int64         \n",
      " 2   team_abbreviation_home  2041 non-null   object        \n",
      " 3   team_name_home          2041 non-null   object        \n",
      " 4   game_id                 2041 non-null   int64         \n",
      " 5   game_date               2041 non-null   datetime64[ns]\n",
      " 6   matchup_home            2041 non-null   object        \n",
      " 7   wl_home                 2041 non-null   object        \n",
      " 8   min                     2041 non-null   int64         \n",
      " 9   fgm_home                2041 non-null   int64         \n",
      " 10  fga_home                2041 non-null   int64         \n",
      " 11  fg_pct_home             2041 non-null   float64       \n",
      " 12  fg3m_home               2041 non-null   int64         \n",
      " 13  fg3a_home               2041 non-null   int64         \n",
      " 14  fg3_pct_home            2041 non-null   float64       \n",
      " 15  ftm_home                2041 non-null   int64         \n",
      " 16  fta_home                2041 non-null   int64         \n",
      " 17  ft_pct_home             2041 non-null   float64       \n",
      " 18  oreb_home               2041 non-null   int64         \n",
      " 19  dreb_home               2041 non-null   int64         \n",
      " 20  reb_home                2041 non-null   int64         \n",
      " 21  ast_home                2041 non-null   int64         \n",
      " 22  stl_home                2041 non-null   int64         \n",
      " 23  blk_home                2041 non-null   int64         \n",
      " 24  tov_home                2041 non-null   int64         \n",
      " 25  pf_home                 2041 non-null   int64         \n",
      " 26  pts_home                2041 non-null   int64         \n",
      " 27  plus_minus_home         2041 non-null   int64         \n",
      " 28  video_available_home    2041 non-null   int64         \n",
      " 29  team_id_away            2041 non-null   int64         \n",
      " 30  team_abbreviation_away  2041 non-null   object        \n",
      " 31  team_name_away          2041 non-null   object        \n",
      " 32  matchup_away            2041 non-null   object        \n",
      " 33  wl_away                 2041 non-null   object        \n",
      " 34  fgm_away                2041 non-null   int64         \n",
      " 35  fga_away                2041 non-null   int64         \n",
      " 36  fg_pct_away             2041 non-null   float64       \n",
      " 37  fg3m_away               2041 non-null   int64         \n",
      " 38  fg3a_away               2041 non-null   int64         \n",
      " 39  fg3_pct_away            2041 non-null   float64       \n",
      " 40  ftm_away                2041 non-null   int64         \n",
      " 41  fta_away                2041 non-null   int64         \n",
      " 42  ft_pct_away             2041 non-null   float64       \n",
      " 43  oreb_away               2041 non-null   int64         \n",
      " 44  dreb_away               2041 non-null   int64         \n",
      " 45  reb_away                2041 non-null   int64         \n",
      " 46  ast_away                2041 non-null   int64         \n",
      " 47  stl_away                2041 non-null   int64         \n",
      " 48  blk_away                2041 non-null   int64         \n",
      " 49  tov_away                2041 non-null   int64         \n",
      " 50  pf_away                 2041 non-null   int64         \n",
      " 51  pts_away                2041 non-null   int64         \n",
      " 52  plus_minus_away         2041 non-null   int64         \n",
      " 53  video_available_away    2041 non-null   int64         \n",
      " 54  season_type             2041 non-null   object        \n",
      "dtypes: datetime64[ns](1), float64(6), int64(39), object(9)\n",
      "memory usage: 892.9+ KB\n"
     ]
    }
   ],
   "source": [
    "df_game_filtrado2.info()"
   ]
  },
  {
   "cell_type": "code",
   "execution_count": 48,
   "metadata": {},
   "outputs": [
    {
     "name": "stdout",
     "output_type": "stream",
     "text": [
      "Index([], dtype='object')\n"
     ]
    }
   ],
   "source": [
    "# Verificar valores nulos restantes en todo el DataFrame\n",
    "\n",
    "Cant_Column_Null = df_game_filtrado2.isna().sum()\n",
    "\n",
    "Solo_Column_Con_Nulos = Cant_Column_Null[Cant_Column_Null>0].index\n",
    "print(Solo_Column_Con_Nulos)"
   ]
  },
  {
   "cell_type": "markdown",
   "metadata": {},
   "source": [
    "Ajustamos el formato de las columnas con valores decimales (porcentajes)"
   ]
  },
  {
   "cell_type": "code",
   "execution_count": 49,
   "metadata": {},
   "outputs": [
    {
     "name": "stderr",
     "output_type": "stream",
     "text": [
      "C:\\Users\\angel\\AppData\\Local\\Temp\\ipykernel_26872\\815469132.py:10: SettingWithCopyWarning: \n",
      "A value is trying to be set on a copy of a slice from a DataFrame.\n",
      "Try using .loc[row_indexer,col_indexer] = value instead\n",
      "\n",
      "See the caveats in the documentation: https://pandas.pydata.org/pandas-docs/stable/user_guide/indexing.html#returning-a-view-versus-a-copy\n",
      "  df_game_filtrado2[columns_to_convert_pct] = df_game_filtrado2[columns_to_convert_pct].astype(float).round(4)\n"
     ]
    }
   ],
   "source": [
    "# Procedemos a asignar el tipo de dato decimal a algunas columnas:\n",
    "\n",
    "# Lista de columnas a convertir\n",
    "columns_to_convert_pct = [\n",
    "    'fg_pct_home', 'fg3_pct_home', 'ft_pct_home', 'fg_pct_away','fg3_pct_away', 'ft_pct_away'\n",
    "]\n",
    "\n",
    "\n",
    "# Formatear las columnas a 4 decimales como números (sin convertir a texto)\n",
    "df_game_filtrado2[columns_to_convert_pct] = df_game_filtrado2[columns_to_convert_pct].astype(float).round(4)"
   ]
  },
  {
   "cell_type": "code",
   "execution_count": 50,
   "metadata": {},
   "outputs": [
    {
     "name": "stdout",
     "output_type": "stream",
     "text": [
      "       fg_pct_home  fg3_pct_home  ft_pct_home  fg_pct_away  fg3_pct_away  \\\n",
      "59255        0.433         0.297        0.714        0.391         0.192   \n",
      "59256        0.442         0.269        0.944        0.363         0.270   \n",
      "59257        0.430         0.440        0.724        0.429         0.316   \n",
      "59259        0.398         0.286        0.833        0.379         0.333   \n",
      "59260        0.455         0.364        0.774        0.456         0.278   \n",
      "\n",
      "       ft_pct_away  \n",
      "59255        0.609  \n",
      "59256        0.649  \n",
      "59257        0.889  \n",
      "59259        0.786  \n",
      "59260        0.833  \n"
     ]
    }
   ],
   "source": [
    "print(df_game_filtrado2[columns_to_convert_pct].head())"
   ]
  },
  {
   "cell_type": "code",
   "execution_count": 53,
   "metadata": {},
   "outputs": [
    {
     "name": "stdout",
     "output_type": "stream",
     "text": [
      "Archivo guardado exitosamente como 'GameFiltrado.csv'\n"
     ]
    }
   ],
   "source": [
    "# Guardar los datos filtrados en un archivo con el nombre GameFiltrado2.csv a fin de poder utilizarlo luego\n",
    "\n",
    "# Guardar el archivo con un separador decimal compatible con tu configuración regional\n",
    "df_game_filtrado2.to_csv('GameFiltrado.csv', index=False, float_format=\"%.4f\")\n",
    "\n",
    "# Confirmación\n",
    "print(\"Archivo guardado exitosamente como 'GameFiltrado.csv'\")"
   ]
  },
  {
   "cell_type": "markdown",
   "metadata": {},
   "source": [
    "ETL archivo Other Stats"
   ]
  },
  {
   "cell_type": "code",
   "execution_count": 46,
   "metadata": {},
   "outputs": [],
   "source": [
    "#Archivo creado y bibliotecas importadas:\n",
    "\n",
    "import pandas as pd\n",
    "import numpy as np"
   ]
  },
  {
   "cell_type": "code",
   "execution_count": 54,
   "metadata": {},
   "outputs": [],
   "source": [
    "# Leer el archivo de trabajo:\n",
    "\n",
    "df_other_stats = pd.read_csv('other_stats.csv')"
   ]
  },
  {
   "cell_type": "code",
   "execution_count": 55,
   "metadata": {},
   "outputs": [
    {
     "data": {
      "text/plain": [
       "(1736, 26)"
      ]
     },
     "execution_count": 55,
     "metadata": {},
     "output_type": "execute_result"
    }
   ],
   "source": [
    "# Para comprobar que cantidad de registros y columnas tiene el dataset cargado:\n",
    "\n",
    "df_other_stats.shape"
   ]
  },
  {
   "cell_type": "code",
   "execution_count": 56,
   "metadata": {},
   "outputs": [
    {
     "data": {
      "text/html": [
       "<div>\n",
       "<style scoped>\n",
       "    .dataframe tbody tr th:only-of-type {\n",
       "        vertical-align: middle;\n",
       "    }\n",
       "\n",
       "    .dataframe tbody tr th {\n",
       "        vertical-align: top;\n",
       "    }\n",
       "\n",
       "    .dataframe thead th {\n",
       "        text-align: right;\n",
       "    }\n",
       "</style>\n",
       "<table border=\"1\" class=\"dataframe\">\n",
       "  <thead>\n",
       "    <tr style=\"text-align: right;\">\n",
       "      <th></th>\n",
       "      <th>game_id</th>\n",
       "      <th>league_id</th>\n",
       "      <th>team_id_home</th>\n",
       "      <th>team_abbreviation_home</th>\n",
       "      <th>team_city_home</th>\n",
       "      <th>pts_paint_home</th>\n",
       "      <th>pts_2nd_chance_home</th>\n",
       "      <th>pts_fb_home</th>\n",
       "      <th>largest_lead_home</th>\n",
       "      <th>lead_changes</th>\n",
       "      <th>...</th>\n",
       "      <th>team_abbreviation_away</th>\n",
       "      <th>team_city_away</th>\n",
       "      <th>pts_paint_away</th>\n",
       "      <th>pts_2nd_chance_away</th>\n",
       "      <th>pts_fb_away</th>\n",
       "      <th>largest_lead_away</th>\n",
       "      <th>team_turnovers_away</th>\n",
       "      <th>total_turnovers_away</th>\n",
       "      <th>team_rebounds_away</th>\n",
       "      <th>pts_off_to_away</th>\n",
       "    </tr>\n",
       "  </thead>\n",
       "  <tbody>\n",
       "    <tr>\n",
       "      <th>0</th>\n",
       "      <td>21800001</td>\n",
       "      <td>0</td>\n",
       "      <td>1610612738</td>\n",
       "      <td>BOS</td>\n",
       "      <td>Boston</td>\n",
       "      <td>34</td>\n",
       "      <td>14</td>\n",
       "      <td>6</td>\n",
       "      <td>18</td>\n",
       "      <td>1</td>\n",
       "      <td>...</td>\n",
       "      <td>PHI</td>\n",
       "      <td>Philadelphia</td>\n",
       "      <td>50</td>\n",
       "      <td>5</td>\n",
       "      <td>16</td>\n",
       "      <td>4</td>\n",
       "      <td>0</td>\n",
       "      <td>16</td>\n",
       "      <td>10</td>\n",
       "      <td>14</td>\n",
       "    </tr>\n",
       "    <tr>\n",
       "      <th>1</th>\n",
       "      <td>21800002</td>\n",
       "      <td>0</td>\n",
       "      <td>1610612744</td>\n",
       "      <td>GSW</td>\n",
       "      <td>Golden State</td>\n",
       "      <td>58</td>\n",
       "      <td>20</td>\n",
       "      <td>13</td>\n",
       "      <td>14</td>\n",
       "      <td>4</td>\n",
       "      <td>...</td>\n",
       "      <td>OKC</td>\n",
       "      <td>Oklahoma City</td>\n",
       "      <td>34</td>\n",
       "      <td>19</td>\n",
       "      <td>10</td>\n",
       "      <td>3</td>\n",
       "      <td>1</td>\n",
       "      <td>15</td>\n",
       "      <td>14</td>\n",
       "      <td>16</td>\n",
       "    </tr>\n",
       "    <tr>\n",
       "      <th>2</th>\n",
       "      <td>21800010</td>\n",
       "      <td>0</td>\n",
       "      <td>1610612750</td>\n",
       "      <td>MIN</td>\n",
       "      <td>Minnesota</td>\n",
       "      <td>54</td>\n",
       "      <td>14</td>\n",
       "      <td>16</td>\n",
       "      <td>4</td>\n",
       "      <td>6</td>\n",
       "      <td>...</td>\n",
       "      <td>SAS</td>\n",
       "      <td>San Antonio</td>\n",
       "      <td>32</td>\n",
       "      <td>25</td>\n",
       "      <td>8</td>\n",
       "      <td>11</td>\n",
       "      <td>0</td>\n",
       "      <td>12</td>\n",
       "      <td>12</td>\n",
       "      <td>8</td>\n",
       "    </tr>\n",
       "    <tr>\n",
       "      <th>3</th>\n",
       "      <td>21800012</td>\n",
       "      <td>0</td>\n",
       "      <td>1610612743</td>\n",
       "      <td>DEN</td>\n",
       "      <td>Denver</td>\n",
       "      <td>42</td>\n",
       "      <td>15</td>\n",
       "      <td>12</td>\n",
       "      <td>11</td>\n",
       "      <td>9</td>\n",
       "      <td>...</td>\n",
       "      <td>LAC</td>\n",
       "      <td>LA</td>\n",
       "      <td>48</td>\n",
       "      <td>14</td>\n",
       "      <td>8</td>\n",
       "      <td>8</td>\n",
       "      <td>2</td>\n",
       "      <td>14</td>\n",
       "      <td>6</td>\n",
       "      <td>10</td>\n",
       "    </tr>\n",
       "    <tr>\n",
       "      <th>4</th>\n",
       "      <td>21800025</td>\n",
       "      <td>0</td>\n",
       "      <td>1610612760</td>\n",
       "      <td>OKC</td>\n",
       "      <td>Oklahoma City</td>\n",
       "      <td>40</td>\n",
       "      <td>24</td>\n",
       "      <td>10</td>\n",
       "      <td>9</td>\n",
       "      <td>2</td>\n",
       "      <td>...</td>\n",
       "      <td>LAC</td>\n",
       "      <td>LA</td>\n",
       "      <td>40</td>\n",
       "      <td>9</td>\n",
       "      <td>14</td>\n",
       "      <td>17</td>\n",
       "      <td>1</td>\n",
       "      <td>15</td>\n",
       "      <td>12</td>\n",
       "      <td>19</td>\n",
       "    </tr>\n",
       "  </tbody>\n",
       "</table>\n",
       "<p>5 rows × 26 columns</p>\n",
       "</div>"
      ],
      "text/plain": [
       "    game_id  league_id  team_id_home team_abbreviation_home team_city_home  \\\n",
       "0  21800001          0    1610612738                    BOS         Boston   \n",
       "1  21800002          0    1610612744                    GSW   Golden State   \n",
       "2  21800010          0    1610612750                    MIN      Minnesota   \n",
       "3  21800012          0    1610612743                    DEN         Denver   \n",
       "4  21800025          0    1610612760                    OKC  Oklahoma City   \n",
       "\n",
       "   pts_paint_home  pts_2nd_chance_home  pts_fb_home  largest_lead_home  \\\n",
       "0              34                   14            6                 18   \n",
       "1              58                   20           13                 14   \n",
       "2              54                   14           16                  4   \n",
       "3              42                   15           12                 11   \n",
       "4              40                   24           10                  9   \n",
       "\n",
       "   lead_changes  ...  team_abbreviation_away  team_city_away  pts_paint_away  \\\n",
       "0             1  ...                     PHI    Philadelphia              50   \n",
       "1             4  ...                     OKC   Oklahoma City              34   \n",
       "2             6  ...                     SAS     San Antonio              32   \n",
       "3             9  ...                     LAC              LA              48   \n",
       "4             2  ...                     LAC              LA              40   \n",
       "\n",
       "   pts_2nd_chance_away  pts_fb_away  largest_lead_away team_turnovers_away  \\\n",
       "0                    5           16                  4                   0   \n",
       "1                   19           10                  3                   1   \n",
       "2                   25            8                 11                   0   \n",
       "3                   14            8                  8                   2   \n",
       "4                    9           14                 17                   1   \n",
       "\n",
       "  total_turnovers_away  team_rebounds_away  pts_off_to_away  \n",
       "0                   16                  10               14  \n",
       "1                   15                  14               16  \n",
       "2                   12                  12                8  \n",
       "3                   14                   6               10  \n",
       "4                   15                  12               19  \n",
       "\n",
       "[5 rows x 26 columns]"
      ]
     },
     "execution_count": 56,
     "metadata": {},
     "output_type": "execute_result"
    }
   ],
   "source": [
    "# Una vez cargado el dataset, y comprobado su tamaño, se procede a verificar el contenido con una vista truncada:\n",
    "df_other_stats.head()"
   ]
  },
  {
   "cell_type": "code",
   "execution_count": 57,
   "metadata": {},
   "outputs": [
    {
     "name": "stdout",
     "output_type": "stream",
     "text": [
      "<class 'pandas.core.frame.DataFrame'>\n",
      "RangeIndex: 1736 entries, 0 to 1735\n",
      "Data columns (total 26 columns):\n",
      " #   Column                  Non-Null Count  Dtype \n",
      "---  ------                  --------------  ----- \n",
      " 0   game_id                 1736 non-null   int64 \n",
      " 1   league_id               1736 non-null   int64 \n",
      " 2   team_id_home            1736 non-null   int64 \n",
      " 3   team_abbreviation_home  1736 non-null   object\n",
      " 4   team_city_home          1736 non-null   object\n",
      " 5   pts_paint_home          1736 non-null   int64 \n",
      " 6   pts_2nd_chance_home     1736 non-null   int64 \n",
      " 7   pts_fb_home             1736 non-null   int64 \n",
      " 8   largest_lead_home       1736 non-null   int64 \n",
      " 9   lead_changes            1736 non-null   int64 \n",
      " 10  times_tied              1736 non-null   int64 \n",
      " 11  team_turnovers_home     1736 non-null   int64 \n",
      " 12  total_turnovers_home    1736 non-null   int64 \n",
      " 13  team_rebounds_home      1736 non-null   int64 \n",
      " 14  pts_off_to_home         1736 non-null   int64 \n",
      " 15  team_id_away            1736 non-null   int64 \n",
      " 16  team_abbreviation_away  1736 non-null   object\n",
      " 17  team_city_away          1736 non-null   object\n",
      " 18  pts_paint_away          1736 non-null   int64 \n",
      " 19  pts_2nd_chance_away     1736 non-null   int64 \n",
      " 20  pts_fb_away             1736 non-null   int64 \n",
      " 21  largest_lead_away       1736 non-null   int64 \n",
      " 22  team_turnovers_away     1736 non-null   int64 \n",
      " 23  total_turnovers_away    1736 non-null   int64 \n",
      " 24  team_rebounds_away      1736 non-null   int64 \n",
      " 25  pts_off_to_away         1736 non-null   int64 \n",
      "dtypes: int64(22), object(4)\n",
      "memory usage: 352.8+ KB\n"
     ]
    }
   ],
   "source": [
    "df_other_stats.info()"
   ]
  },
  {
   "cell_type": "code",
   "execution_count": 58,
   "metadata": {},
   "outputs": [
    {
     "name": "stdout",
     "output_type": "stream",
     "text": [
      "int64\n",
      "int64\n"
     ]
    }
   ],
   "source": [
    "#Asegurarse de que los tipos de datos sean iguales\n",
    "\n",
    "print(df_game_filtrado2['game_id'].dtype)\n",
    "print(df_other_stats['game_id'].dtype)"
   ]
  },
  {
   "cell_type": "code",
   "execution_count": 53,
   "metadata": {},
   "outputs": [
    {
     "name": "stdout",
     "output_type": "stream",
     "text": [
      "Valores únicos en df_game_filtrado2: [21800001 21800002 21800010 ... 42200403 42200404 42200405]\n",
      "Valores únicos en df_other_stats: [29600012 29600005 29600002 ... 42200403 42200404 32200001]\n",
      "Coincidencias: {22200320, 22200327, 22200328, 22200337, 22200341, 22200344, 22200346, 22200348, 22200354, 22200355, 22200362, 22200365, 22200368, 22200370, 22200373, 22200377, 22200385, 22200390, 22200392, 22200393, 22200394, 22200397, 22200405, 22200407, 22200413, 22200418, 22200422, 22200423, 22200430, 22200434, 22200437, 22200443, 22200445, 22200446, 22200449, 22200450, 22200456, 22200458, 22200463, 22200465, 22200469, 22200471, 22200488, 22200489, 22200493, 22200497, 22200500, 22200507, 22200512, 22200514, 22200520, 22200522, 22200523, 22200525, 22200527, 22200533, 22200535, 22200541, 22200544, 22200545, 22200549, 22200550, 22200562, 22200566, 22200571, 22200577, 22200579, 22200582, 22200587, 22200588, 22200591, 22200601, 22200602, 22200606, 22200607, 22200609, 22200621, 22200622, 22200624, 22200626, 22200627, 22200636, 22200637, 22200639, 22200645, 22200648, 22200651, 22200653, 22200656, 22200659, 22200662, 22200667, 22200669, 22200674, 22200679, 22200680, 22200684, 22200688, 22200691, 22200692, 22200696, 22200700, 22200702, 22200707, 22200709, 22200714, 22200715, 22200724, 22200725, 22200737, 22200739, 12100005, 12100006, 22200741, 22200742, 12100010, 12100011, 22200746, 22200749, 12100019, 22200758, 22200759, 22200765, 12100032, 22200768, 22200772, 12100037, 22200774, 22200773, 22200780, 12100045, 22200783, 12100051, 12100052, 22200788, 22200790, 12100056, 12100057, 12100059, 22200795, 12100062, 22200804, 22200806, 22200808, 22200814, 22200820, 22200821, 22200824, 22200828, 22200831, 22200837, 22200841, 22200843, 22200847, 22200851, 22200855, 22200861, 22200864, 22200865, 22200876, 22200877, 22200880, 22200881, 22200886, 22200887, 22200895, 22200898, 22200899, 22200906, 22200907, 22200908, 22200915, 22200918, 22200921, 22200926, 22200928, 22200932, 22200935, 22200937, 22200948, 22200951, 22200952, 22200955, 22200961, 22200968, 22200969, 22200971, 22200980, 22200982, 22200986, 22200989, 22200990, 22200997, 22201001, 22201004, 22201008, 22201011, 22201014, 22201018, 22201019, 22201021, 22201029, 22201039, 22201042, 22201044, 22201050, 22201053, 22201055, 22201058, 22201063, 22201064, 22201073, 22201081, 22201082, 22201083, 22201093, 22201096, 22201097, 22201106, 22201116, 22201120, 22201124, 22201126, 22201128, 22201130, 22201134, 22201138, 22201144, 22201146, 22201147, 22201149, 22201152, 22201154, 22201157, 22201160, 22201166, 22201168, 22201172, 22201175, 22201181, 22201183, 22201187, 22201190, 22201200, 22201201, 22201206, 22201209, 22201213, 22201214, 22201216, 22201220, 22201225, 22201226, 22201227, 21800001, 21800002, 21800010, 21800012, 21800018, 21800021, 21800025, 21800028, 21800032, 21800033, 21800037, 21800038, 21800040, 21800042, 21800043, 21800051, 21800054, 21800055, 21800066, 21800071, 21800074, 21800090, 21800093, 21800095, 21800099, 21800103, 21800105, 21800107, 21800111, 21800112, 21800115, 21800121, 21800124, 21800131, 21800135, 21800138, 21800143, 21800144, 21800145, 21800148, 21800155, 21800158, 21800162, 21800163, 21800164, 21800173, 21800174, 21800181, 21800186, 21800187, 21800195, 21800196, 21800200, 21800204, 21800208, 21800209, 21800214, 21800216, 21800221, 21800222, 21800229, 21800233, 21800234, 21800236, 21800239, 21800245, 21800247, 21800251, 21800255, 21800260, 21800264, 21800265, 21800268, 21800269, 21800274, 21800276, 21800281, 21800282, 21800283, 21800291, 21800295, 21800298, 21800301, 21800304, 21800307, 21800311, 21800313, 21800319, 21800329, 42100112, 42100113, 42100114, 21800343, 21800346, 21800347, 21800348, 21800362, 21800365, 21800368, 21800373, 42100151, 42100152, 42100153, 42100154, 42100155, 21800380, 42100156, 21800382, 21800383, 42100161, 42100162, 42100163, 21800389, 42100165, 21800393, 21800396, 21800398, 21800400, 21800409, 21800411, 21800414, 21800420, 21800421, 21800426, 21800431, 21800434, 21800435, 42100211, 42100212, 21800438, 42100213, 42100214, 42100216, 42100217, 21800444, 21800446, 21800447, 21800454, 21800457, 21800458, 21800463, 21800466, 21800472, 21800473, 21800475, 21800479, 21800497, 21800498, 21800507, 21800510, 21800512, 21800513, 21800522, 21800524, 21800525, 42100301, 42100302, 42100303, 42100305, 42100306, 21800531, 21800532, 21800533, 42100307, 21800537, 21800545, 21800546, 21800547, 21800551, 21800558, 21800562, 21800564, 21800566, 21800571, 21800574, 21800575, 21800585, 21800588, 21800592, 21800593, 21800597, 21800601, 21800603, 21800605, 21800607, 21800617, 21800618, 21800619, 21800623, 42100401, 42100403, 42100404, 42100405, 42100406, 21800632, 21800634, 21800635, 21800638, 21800643, 21800645, 21800652, 21800653, 21800655, 21800658, 21800670, 21800671, 21800674, 21800683, 21800687, 21800691, 21800698, 21800703, 21800705, 21800707, 21800715, 21800717, 21800719, 21800721, 21800728, 21800729, 21800733, 21800738, 21800740, 21800741, 21800744, 21800746, 21800751, 21800756, 21800758, 21800761, 21800771, 21800774, 21800783, 21800787, 21800790, 21800799, 21800801, 21800802, 21800804, 21800812, 21800815, 21800817, 21800818, 21800823, 21800828, 21800839, 21800845, 21800846, 21800847, 21800855, 21800856, 21800860, 21800861, 21800865, 21800866, 21800870, 21800878, 21800880, 21800889, 21800890, 21800891, 21800895, 21800896, 21800905, 21800908, 21800909, 21800910, 21800912, 21800913, 21800922, 21800924, 21800926, 21800927, 21800931, 21800940, 21800941, 21800945, 21800947, 21800950, 21800951, 21800954, 21800957, 21800963, 21800966, 21800972, 21800973, 21800974, 21800976, 21800984, 21800985, 21800988, 21800989, 21800998, 21801005, 21801006, 21801007, 21801012, 21801017, 21801022, 12200005, 21801032, 21801034, 12200011, 21801038, 12200014, 21801040, 12200020, 12200021, 21801048, 12200025, 21801052, 21801053, 21801054, 12200029, 12200031, 12200030, 21801062, 12200038, 12200042, 21801067, 21801068, 12200047, 21801072, 21801074, 21801075, 12200053, 12200057, 21801082, 21801083, 12200059, 12200064, 12200066, 21801091, 12200069, 21801095, 21801097, 21801100, 21801104, 21801108, 21801112, 21801115, 21801119, 21801125, 21801126, 21801130, 21801132, 21801133, 21801137, 21801141, 21801143, 21801148, 21801153, 21801155, 21801157, 21801161, 21801164, 21801166, 21801170, 21801172, 21801173, 21801183, 21801184, 21801190, 21801203, 21801206, 21801211, 21801213, 21801214, 21801217, 21801226, 21900006, 21900008, 21900010, 21900011, 21900013, 21900017, 21900018, 21900022, 21900029, 21900036, 21900039, 21900045, 21900050, 21900053, 21900056, 21900057, 21900058, 21900062, 21900067, 21900072, 21900077, 21900079, 21900080, 21900087, 21900094, 21900098, 21900101, 21900102, 21900103, 21900108, 21900112, 21900113, 21900120, 21900122, 21900127, 21900131, 21900132, 21900135, 21900140, 21900141, 21900146, 21900149, 21900150, 21900156, 21900158, 21900162, 21900171, 21900172, 21900173, 21900179, 21900186, 21900189, 21900195, 21900196, 21900201, 21900202, 21900210, 21900211, 21900212, 21900220, 21900222, 21900225, 21900229, 21900236, 21900238, 21900243, 21900252, 21900253, 21900258, 21900262, 21900265, 21900267, 21900271, 21900280, 21900285, 21900286, 21900289, 21900297, 21900304, 21900312, 21900313, 21900317, 21900323, 21900326, 21900331, 42200112, 42200113, 42200114, 42200116, 21900341, 21900342, 21900344, 21900349, 21900350, 42200131, 42200132, 21900357, 42200133, 42200134, 42200135, 21900362, 42200141, 21900366, 21900367, 42200142, 42200143, 21900370, 42200144, 42200145, 21900378, 21900387, 21900392, 21900399, 21900403, 21900412, 21900413, 21900414, 21900422, 21900424, 42200201, 21900426, 21900427, 42200202, 42200203, 42200204, 42200205, 42200206, 21900434, 42200212, 42200213, 21900438, 42200215, 42200216, 42200217, 21900442, 21900443, 42200221, 42200222, 21900447, 42200223, 42200224, 42200225, 21900451, 42200226, 21900454, 21900455, 21900459, 21900461, 21900462, 21900464, 21900466, 21900467, 21900472, 21900473, 21900476, 21900479, 21900489, 21900494, 21900497, 21900501, 21900505, 21900506, 21900509, 21900512, 21900514, 21900517, 21900521, 42200301, 42200302, 21900527, 21900528, 42200303, 42200304, 42200307, 42200305, 21900534, 42200311, 21900536, 42200312, 42200313, 42200314, 21900541, 21900542, 21900543, 21900550, 21900551, 21900553, 21900554, 21900561, 21900564, 21900565, 21900566, 21900569, 21900577, 21900578, 21900580, 21900582, 21900584, 21900589, 21900593, 21900594, 21900601, 21900604, 21900608, 21900609, 21900614, 21900615, 21900617, 21900619, 21900623, 42200401, 42200402, 42200403, 21900628, 42200404, 21900632, 21900635, 21900638, 21900643, 21900645, 21900648, 21900649, 21900655, 21900657, 21900659, 21900661, 21900662, 21900671, 21900672, 21900676, 21900677, 21900683, 21900685, 21900688, 21900691, 21900696, 21900697, 21900699, 21900701, 21900713, 21900718, 21900724, 21900727, 21900728, 21900732, 21900745, 21900749, 21900753, 21900756, 21900759, 21900760, 21900764, 21900771, 21900773, 21900779, 21900782, 21900784, 21900786, 21900787, 21900796, 21900799, 21900806, 21900811, 21900813, 21900817, 21900818, 21900819, 21900828, 21900831, 21900842, 21900844, 21900853, 21900854, 21900859, 21900860, 21900862, 21900864, 21900872, 21900873, 21900877, 21900882, 21900886, 21900887, 21900896, 21900898, 21900903, 21900910, 21900911, 21900912, 21900913, 21900917, 21900921, 21900922, 21900932, 21900935, 21900942, 21900947, 21900955, 21900958, 21900960, 21900963, 21900969, 21900973, 21901236, 21901239, 21901240, 21901245, 21901251, 21901264, 21901265, 21901267, 21901272, 21901275, 21901279, 21901281, 21901285, 21901288, 21901292, 21901296, 21901301, 21901307, 21901308, 21901318, 22000003, 22000007, 22000009, 22000011, 22000016, 22000022, 22000025, 22000028, 22000036, 22000040, 22000044, 22000046, 22000048, 22000054, 22000055, 22000056, 41800131, 22000067, 41800133, 41800134, 22000074, 22000076, 22000080, 22000081, 22000085, 41800151, 41800152, 41800153, 41800154, 41800155, 41800156, 41800157, 22000088, 22000095, 22000096, 41800161, 41800162, 41800163, 41800164, 22000097, 22000104, 22000111, 22000112, 22000120, 22000122, 22000124, 22000125, 22000133, 41800201, 41800202, 41800203, 41800204, 22000138, 22000143, 22000144, 22000145, 22000147, 22000149, 22000158, 22000160, 22000162, 22000167, 22000168, 41800232, 41800233, 41800234, 41800235, 41800236, 41800237, 22000169, 22000170, 22000177, 22000180, 22000181, 22000183, 22000184, 22000196, 22000199, 22000200, 22000203, 22000205, 22000213, 22000218, 22000228, 22000233, 22000236, 22000238, 22000239, 22000241, 22000246, 22000248, 22000250, 22000251, 22000256, 22000262, 22000265, 22000266, 22000267, 22000270, 22000280, 22000281, 22000283, 22000291, 22000294, 22000295, 22000296, 22000302, 22000306, 22000308, 22000315, 22000318, 22000321, 22000326, 22000332, 22000333, 22000334, 22000336, 22000341, 22000348, 22000350, 22000351, 22000352, 22000365, 22000370, 22000373, 22000376, 22000379, 22000387, 22000388, 22000390, 22000395, 22000396, 22000401, 22000408, 22000412, 22000413, 22000415, 22000416, 22000422, 22000431, 22000432, 22000436, 22000437, 22000438, 22000440, 22000448, 22000451, 22000453, 22000458, 22000465, 22000466, 22000469, 22000470, 22000475, 22000485, 22000486, 22000487, 22000490, 22000493, 22000495, 22000500, 22000502, 22000505, 22000510, 22000515, 22000517, 22000518, 22000521, 22000526, 22000531, 22000537, 22000540, 22000541, 22000547, 22000549, 22000552, 22000553, 22000556, 22000560, 22000562, 22000563, 22000565, 22000569, 22000573, 22000574, 22000575, 22000580, 22000586, 22000591, 22000592, 22000593, 22000598, 22000599, 22000604, 22000606, 22000609, 22000611, 22000612, 22000615, 22000624, 22000626, 22000627, 22000628, 22000631, 22000637, 22000638, 22000646, 22000654, 22000658, 22000661, 22000662, 22000668, 22000669, 22000673, 22000674, 22000679, 22000685, 22000695, 22000696, 22000699, 22000705, 22000709, 22000710, 22000713, 22000719, 22000723, 22000727, 22000736, 22000738, 22000739, 22000741, 22000744, 22000748, 22000750, 22000753, 22000757, 22000761, 22000762, 22000765, 22000766, 22000771, 22000776, 22000778, 22000781, 22000782, 22000785, 22000792, 22000793, 22000797, 22000806, 22000809, 22000812, 22000815, 22000817, 22000821, 22000826, 22000828, 22000834, 22000835, 22000838, 22000842, 22000845, 22000852, 22000854, 22000858, 22000862, 22000867, 22000869, 22000872, 22000874, 22000877, 22000880, 22000882, 22000886, 22000890, 22000892, 22000899, 22000903, 22000904, 22000911, 22000918, 22000920, 22000925, 22000927, 22000931, 22000936, 22000937, 22000940, 22000946, 22000947, 22000948, 22000950, 22000962, 22000963, 22000966, 22000968, 22000971, 22000972, 22000980, 22000982, 22000990, 22000995, 22001001, 22001005, 22001008, 22001009, 22001015, 22001017, 22001019, 22001025, 22001032, 22001040, 22001052, 22001054, 22001056, 22001063, 22001064, 22001071, 22001073, 22001074, 22001076, 22100008, 22100011, 22100012, 22100018, 22100020, 22100023, 22100024, 22100031, 22100036, 22100037, 22100038, 22100047, 22100048, 22100050, 22100051, 22100054, 22100056, 41900121, 41900122, 41900124, 22100061, 22100060, 22100067, 22100075, 22100080, 22100086, 22100087, 41900162, 41900163, 22100100, 22100101, 41900164, 41900165, 41900166, 41900167, 22100102, 22100098, 22100099, 41900171, 41900172, 41900173, 41900174, 41900175, 22100114, 22100115, 22100109, 22100121, 22100128, 22100129, 22100140, 22100144, 41900211, 22100147, 41900214, 41900215, 41900216, 41900217, 22100151, 22100160, 22100161, 22100165, 41900231, 22100167, 22100169, 41900235, 41900236, 41900237, 22100174, 22100175, 22100180, 22100182, 22100184, 22100190, 22100191, 22100196, 22100197, 22100199, 22100203, 22100204, 22100206, 22100207, 22100215, 22100218, 22100221, 22100228, 22100232, 22100236, 41900302, 41900303, 41900304, 41900305, 41900306, 22100243, 22100239, 22100245, 41900311, 41900313, 41900314, 41900315, 22100251, 22100255, 22100256, 22100259, 22100264, 22100265, 22100270, 22100274, 22100276, 22100281, 22100282, 22100286, 22100288, 22100293, 22100306, 22100308, 22100309, 22100314, 22100322, 22100326, 22100328, 22100330, 22100336, 22100339, 22100342, 22100347, 22100354, 22100357, 22100359, 22100364, 22100365, 22100374, 22100375, 22100378, 22100381, 22100387, 22100389, 22100390, 22100397, 22100398, 22100400, 22100408, 22100411, 22100424, 22100431, 22100434, 22100435, 22100436, 22100445, 22100453, 22100455, 22100457, 22100460, 22100466, 22100468, 22100471, 22100474, 22100480, 22100482, 22100483, 22100484, 22100488, 22100497, 22100500, 22100503, 22100512, 22100515, 22100516, 22100518, 22100522, 22100528, 22100529, 22100536, 22100537, 22100543, 22100545, 22100546, 22100550, 22100558, 22100564, 22100570, 22100574, 22100575, 22100578, 22100587, 22100588, 22100595, 22100601, 22100609, 22100610, 22100612, 22100615, 22100622, 22100628, 22100630, 22100631, 22100635, 22100643, 22100649, 22100653, 22100655, 22100663, 22100666, 22100670, 22100671, 22100676, 22100678, 22100684, 22100688, 22100692, 22100695, 22100698, 22100699, 22100706, 22100707, 22100709, 22100714, 22100717, 22100721, 22100727, 22100729, 22100730, 22100734, 22100737, 12000002, 22100743, 12000008, 22100744, 12000010, 12000011, 22100745, 12000015, 22100756, 22100757, 12000023, 12000025, 22100762, 12000029, 12000030, 22100770, 12000036, 22100775, 22100776, 12000041, 12000042, 22100778, 12000044, 12000045, 22100779, 22100782, 22100788, 22100794, 22100795, 22100799, 22100801, 22100803, 22100804, 22100806, 22100813, 22100814, 22100817, 22100821, 22100824, 22100827, 22100830, 22100837, 22100840, 22100843, 22100845, 22100850, 22100856, 22100857, 22100860, 22100869, 22100871, 22100880, 22100881, 22100890, 22100892, 22100893, 22100895, 22100900, 22100901, 22100905, 22100911, 22100912, 22100914, 22100918, 22100920, 22100925, 22100927, 22100930, 22100934, 22100938, 22100940, 22100951, 22100952, 22100958, 22100960, 22100965, 22100971, 22100974, 22100979, 22100981, 22100986, 22100991, 22100995, 22100997, 22101005, 22101009, 22101012, 22101022, 22101023, 22101024, 22101035, 22101037, 22101039, 22101042, 22101049, 22101050, 22101052, 22101057, 22101058, 22101065, 22101067, 22101068, 22101078, 22101079, 22101081, 22101083, 22101084, 22101087, 22101090, 22101091, 22101099, 22101103, 22101104, 22101113, 22101115, 22101122, 22101126, 22101127, 22101130, 22101139, 22101140, 22101143, 22101153, 22101162, 22101166, 22101168, 22101171, 22101173, 22101174, 22101184, 22101185, 22101186, 22101191, 22101193, 22101194, 22101199, 22101211, 22101220, 22101222, 22101223, 22101224, 22101226, 22200001, 22200009, 22200010, 22200012, 22200022, 22200023, 22200030, 22200035, 22200041, 22200046, 42000111, 22200047, 42000113, 42000114, 42000115, 22200050, 22200051, 22200054, 22200058, 22200062, 22200064, 42000131, 42000132, 42000133, 42000134, 42000135, 22200067, 22200072, 22200075, 22200076, 22200078, 22200089, 22200090, 22200092, 22200095, 42000161, 42000162, 42000163, 42000164, 42000166, 22200105, 22200106, 22200107, 22200110, 22200119, 22200122, 22200124, 22200129, 22200135, 22200136, 22200137, 22200138, 22200146, 22200152, 22200153, 22200154, 22200160, 22200163, 22200164, 42000231, 22200168, 42000233, 42000234, 22200167, 22200178, 22200179, 22200181, 22200186, 22200192, 22200193, 22200196, 22200201, 22200208, 22200212, 22200214, 22200219, 22200229, 22200230, 22200231, 22200233, 22200237, 22200240, 22200250, 22200252, 22200254, 22200258, 22200262, 22200264, 22200268, 22200272, 22200274, 22200275, 22200285, 22200287, 22200291, 22200294, 22200300, 22200301, 22200305, 22200309, 22200314, 22200316, 22200319}\n"
     ]
    }
   ],
   "source": [
    "#Verificar valores únicos y sus coincidencias: Analiza si realmente hay coincidencias entre los game_id de ambos DataFrames.\n",
    "\n",
    "print(\"Valores únicos en df_game_filtrado2:\", df_game_filtrado2['game_id'].unique())\n",
    "print(\"Valores únicos en df_other_stats:\", df_other_stats['game_id'].unique())\n",
    "print(\"Coincidencias:\", set(df_game_filtrado2['game_id']) & set(df_other_stats['game_id']))"
   ]
  },
  {
   "cell_type": "code",
   "execution_count": 59,
   "metadata": {},
   "outputs": [
    {
     "name": "stdout",
     "output_type": "stream",
     "text": [
      "    game_id  league_id  team_id_home team_abbreviation_home team_city_home  \\\n",
      "0  21800001          0    1610612738                    BOS         Boston   \n",
      "1  21800002          0    1610612744                    GSW   Golden State   \n",
      "2  21800010          0    1610612750                    MIN      Minnesota   \n",
      "3  21800012          0    1610612743                    DEN         Denver   \n",
      "4  21800025          0    1610612760                    OKC  Oklahoma City   \n",
      "\n",
      "   pts_paint_home  pts_2nd_chance_home  pts_fb_home  largest_lead_home  \\\n",
      "0              34                   14            6                 18   \n",
      "1              58                   20           13                 14   \n",
      "2              54                   14           16                  4   \n",
      "3              42                   15           12                 11   \n",
      "4              40                   24           10                  9   \n",
      "\n",
      "   lead_changes  ...  team_abbreviation_away  team_city_away  pts_paint_away  \\\n",
      "0             1  ...                     PHI    Philadelphia              50   \n",
      "1             4  ...                     OKC   Oklahoma City              34   \n",
      "2             6  ...                     SAS     San Antonio              32   \n",
      "3             9  ...                     LAC              LA              48   \n",
      "4             2  ...                     LAC              LA              40   \n",
      "\n",
      "   pts_2nd_chance_away  pts_fb_away  largest_lead_away team_turnovers_away  \\\n",
      "0                    5           16                  4                   0   \n",
      "1                   19           10                  3                   1   \n",
      "2                   25            8                 11                   0   \n",
      "3                   14            8                  8                   2   \n",
      "4                    9           14                 17                   1   \n",
      "\n",
      "  total_turnovers_away  team_rebounds_away  pts_off_to_away  \n",
      "0                   16                  10               14  \n",
      "1                   15                  14               16  \n",
      "2                   12                  12                8  \n",
      "3                   14                   6               10  \n",
      "4                   15                  12               19  \n",
      "\n",
      "[5 rows x 26 columns]\n"
     ]
    }
   ],
   "source": [
    "#Filtramos por GameID teniendo en cuenta los GameID que quedaron dentro del dataset del archivo Game\n",
    "\n",
    "# Filtrar los datos de other_stats que coincidan con game_id de Game\n",
    "df_other_stats_filtered = df_other_stats[df_other_stats['game_id'].isin(df_game_filtrado2['game_id'])]\n",
    "\n",
    "# Mostrar los primeros registros filtrados\n",
    "print(df_other_stats_filtered.head())\n"
   ]
  },
  {
   "cell_type": "code",
   "execution_count": 60,
   "metadata": {},
   "outputs": [
    {
     "data": {
      "text/plain": [
       "(1736, 26)"
      ]
     },
     "execution_count": 60,
     "metadata": {},
     "output_type": "execute_result"
    }
   ],
   "source": [
    "# Para comprobar que cantidad de registros y columnas tiene el dataset cargado:\n",
    "\n",
    "df_other_stats_filtered.shape"
   ]
  },
  {
   "cell_type": "code",
   "execution_count": 61,
   "metadata": {},
   "outputs": [
    {
     "name": "stdout",
     "output_type": "stream",
     "text": [
      "team_turnovers_home     int64\n",
      "total_turnovers_home    int64\n",
      "team_rebounds_home      int64\n",
      "pts_off_to_home         int64\n",
      "team_turnovers_away     int64\n",
      "total_turnovers_away    int64\n",
      "team_rebounds_away      int64\n",
      "pts_off_to_away         int64\n",
      "dtype: object\n"
     ]
    }
   ],
   "source": [
    "#Lista de columnas a convertir formato a numero entero para evitar inconvenientes luego en Power BI\n",
    "columns_to_convert = [\n",
    "    'team_turnovers_home', 'total_turnovers_home', 'team_rebounds_home', 'pts_off_to_home',\n",
    "    'team_turnovers_away', 'total_turnovers_away', 'team_rebounds_away', 'pts_off_to_away'\n",
    "]\n",
    "\n",
    "# Convertir las columnas de float a int\n",
    "df_other_stats_filtered[columns_to_convert] = df_other_stats_filtered[columns_to_convert].astype(int)\n",
    "\n",
    "# Verificar los tipos de datos después de la conversión\n",
    "print(df_other_stats_filtered[columns_to_convert].dtypes)"
   ]
  },
  {
   "cell_type": "code",
   "execution_count": 62,
   "metadata": {},
   "outputs": [
    {
     "name": "stdout",
     "output_type": "stream",
     "text": [
      "Index([], dtype='object')\n"
     ]
    }
   ],
   "source": [
    "# Verificar valores nulos restantes en todo el DataFrame\n",
    "\n",
    "Cant_Column_Null = df_other_stats_filtered.isna().sum()\n",
    "\n",
    "Solo_Column_Con_Nulos = Cant_Column_Null[Cant_Column_Null>0].index\n",
    "print(Solo_Column_Con_Nulos)"
   ]
  },
  {
   "cell_type": "code",
   "execution_count": 63,
   "metadata": {},
   "outputs": [
    {
     "name": "stdout",
     "output_type": "stream",
     "text": [
      "<class 'pandas.core.frame.DataFrame'>\n",
      "RangeIndex: 1736 entries, 0 to 1735\n",
      "Data columns (total 26 columns):\n",
      " #   Column                  Non-Null Count  Dtype \n",
      "---  ------                  --------------  ----- \n",
      " 0   game_id                 1736 non-null   int64 \n",
      " 1   league_id               1736 non-null   int64 \n",
      " 2   team_id_home            1736 non-null   int64 \n",
      " 3   team_abbreviation_home  1736 non-null   object\n",
      " 4   team_city_home          1736 non-null   object\n",
      " 5   pts_paint_home          1736 non-null   int64 \n",
      " 6   pts_2nd_chance_home     1736 non-null   int64 \n",
      " 7   pts_fb_home             1736 non-null   int64 \n",
      " 8   largest_lead_home       1736 non-null   int64 \n",
      " 9   lead_changes            1736 non-null   int64 \n",
      " 10  times_tied              1736 non-null   int64 \n",
      " 11  team_turnovers_home     1736 non-null   int64 \n",
      " 12  total_turnovers_home    1736 non-null   int64 \n",
      " 13  team_rebounds_home      1736 non-null   int64 \n",
      " 14  pts_off_to_home         1736 non-null   int64 \n",
      " 15  team_id_away            1736 non-null   int64 \n",
      " 16  team_abbreviation_away  1736 non-null   object\n",
      " 17  team_city_away          1736 non-null   object\n",
      " 18  pts_paint_away          1736 non-null   int64 \n",
      " 19  pts_2nd_chance_away     1736 non-null   int64 \n",
      " 20  pts_fb_away             1736 non-null   int64 \n",
      " 21  largest_lead_away       1736 non-null   int64 \n",
      " 22  team_turnovers_away     1736 non-null   int64 \n",
      " 23  total_turnovers_away    1736 non-null   int64 \n",
      " 24  team_rebounds_away      1736 non-null   int64 \n",
      " 25  pts_off_to_away         1736 non-null   int64 \n",
      "dtypes: int64(22), object(4)\n",
      "memory usage: 352.8+ KB\n"
     ]
    }
   ],
   "source": [
    "df_other_stats_filtered.info()"
   ]
  },
  {
   "cell_type": "code",
   "execution_count": 64,
   "metadata": {},
   "outputs": [
    {
     "name": "stdout",
     "output_type": "stream",
     "text": [
      "Archivo guardado exitosamente como 'other_stats.csv'\n"
     ]
    }
   ],
   "source": [
    "# Guardar los datos filtrados en un archivo con el nombre other_stats.csv a fin de poder utilizarlo luego\n",
    "\n",
    "df_other_stats_filtered.to_csv('other_stats.csv', index=False)\n",
    "\n",
    "# Confirmación\n",
    "print(\"Archivo guardado exitosamente como 'other_stats.csv'\")"
   ]
  },
  {
   "cell_type": "markdown",
   "metadata": {},
   "source": [
    "ETL archivo Estadisticas Avanzadas"
   ]
  },
  {
   "cell_type": "markdown",
   "metadata": {},
   "source": [
    "ETL Estadisticas Avanzadas 2018"
   ]
  },
  {
   "cell_type": "code",
   "execution_count": 59,
   "metadata": {},
   "outputs": [],
   "source": [
    "#Archivo creado y bibliotecas importadas:\n",
    "\n",
    "import pandas as pd\n",
    "import numpy as np"
   ]
  },
  {
   "cell_type": "code",
   "execution_count": 65,
   "metadata": {},
   "outputs": [],
   "source": [
    "#Leer el archivo de trabajo:\n",
    "df_Stats_Adv_2018 = pd.read_csv('2018-19 NBA Player Stats Advanced.csv')"
   ]
  },
  {
   "cell_type": "code",
   "execution_count": 66,
   "metadata": {},
   "outputs": [
    {
     "data": {
      "text/plain": [
       "(709, 30)"
      ]
     },
     "execution_count": 66,
     "metadata": {},
     "output_type": "execute_result"
    }
   ],
   "source": [
    "# Para comprobar que cantidad de registros y columnas tiene el dataset cargado:\n",
    "\n",
    "df_Stats_Adv_2018.shape"
   ]
  },
  {
   "cell_type": "code",
   "execution_count": 67,
   "metadata": {},
   "outputs": [
    {
     "data": {
      "text/html": [
       "<div>\n",
       "<style scoped>\n",
       "    .dataframe tbody tr th:only-of-type {\n",
       "        vertical-align: middle;\n",
       "    }\n",
       "\n",
       "    .dataframe tbody tr th {\n",
       "        vertical-align: top;\n",
       "    }\n",
       "\n",
       "    .dataframe thead th {\n",
       "        text-align: right;\n",
       "    }\n",
       "</style>\n",
       "<table border=\"1\" class=\"dataframe\">\n",
       "  <thead>\n",
       "    <tr style=\"text-align: right;\">\n",
       "      <th></th>\n",
       "      <th>Rk</th>\n",
       "      <th>Player</th>\n",
       "      <th>Age</th>\n",
       "      <th>Team</th>\n",
       "      <th>Pos</th>\n",
       "      <th>G</th>\n",
       "      <th>GS</th>\n",
       "      <th>MP</th>\n",
       "      <th>PER</th>\n",
       "      <th>TS%</th>\n",
       "      <th>...</th>\n",
       "      <th>OWS</th>\n",
       "      <th>DWS</th>\n",
       "      <th>WS</th>\n",
       "      <th>WS/48</th>\n",
       "      <th>OBPM</th>\n",
       "      <th>DBPM</th>\n",
       "      <th>BPM</th>\n",
       "      <th>VORP</th>\n",
       "      <th>Awards</th>\n",
       "      <th>Player-additional</th>\n",
       "    </tr>\n",
       "  </thead>\n",
       "  <tbody>\n",
       "    <tr>\n",
       "      <th>0</th>\n",
       "      <td>1.0</td>\n",
       "      <td>Bradley Beal</td>\n",
       "      <td>25.0</td>\n",
       "      <td>WAS</td>\n",
       "      <td>SG</td>\n",
       "      <td>82.0</td>\n",
       "      <td>82.0</td>\n",
       "      <td>3028.0</td>\n",
       "      <td>20.8</td>\n",
       "      <td>0.581</td>\n",
       "      <td>...</td>\n",
       "      <td>5.9</td>\n",
       "      <td>1.7</td>\n",
       "      <td>7.6</td>\n",
       "      <td>0.120</td>\n",
       "      <td>3.8</td>\n",
       "      <td>-0.8</td>\n",
       "      <td>2.9</td>\n",
       "      <td>3.7</td>\n",
       "      <td>AS</td>\n",
       "      <td>bealbr01</td>\n",
       "    </tr>\n",
       "    <tr>\n",
       "      <th>1</th>\n",
       "      <td>2.0</td>\n",
       "      <td>James Harden</td>\n",
       "      <td>29.0</td>\n",
       "      <td>HOU</td>\n",
       "      <td>PG</td>\n",
       "      <td>78.0</td>\n",
       "      <td>78.0</td>\n",
       "      <td>2867.0</td>\n",
       "      <td>30.6</td>\n",
       "      <td>0.616</td>\n",
       "      <td>...</td>\n",
       "      <td>11.4</td>\n",
       "      <td>3.8</td>\n",
       "      <td>15.2</td>\n",
       "      <td>0.254</td>\n",
       "      <td>9.4</td>\n",
       "      <td>1.6</td>\n",
       "      <td>11.0</td>\n",
       "      <td>9.3</td>\n",
       "      <td>MVP-2ASNBA1</td>\n",
       "      <td>hardeja01</td>\n",
       "    </tr>\n",
       "    <tr>\n",
       "      <th>2</th>\n",
       "      <td>3.0</td>\n",
       "      <td>Kemba Walker</td>\n",
       "      <td>28.0</td>\n",
       "      <td>CHO</td>\n",
       "      <td>PG</td>\n",
       "      <td>82.0</td>\n",
       "      <td>82.0</td>\n",
       "      <td>2863.0</td>\n",
       "      <td>21.7</td>\n",
       "      <td>0.558</td>\n",
       "      <td>...</td>\n",
       "      <td>5.5</td>\n",
       "      <td>1.9</td>\n",
       "      <td>7.4</td>\n",
       "      <td>0.123</td>\n",
       "      <td>5.2</td>\n",
       "      <td>-1.0</td>\n",
       "      <td>4.2</td>\n",
       "      <td>4.4</td>\n",
       "      <td>ASNBA3</td>\n",
       "      <td>walkeke02</td>\n",
       "    </tr>\n",
       "    <tr>\n",
       "      <th>3</th>\n",
       "      <td>4.0</td>\n",
       "      <td>Tobias Harris</td>\n",
       "      <td>26.0</td>\n",
       "      <td>2TM</td>\n",
       "      <td>PF</td>\n",
       "      <td>82.0</td>\n",
       "      <td>82.0</td>\n",
       "      <td>2847.0</td>\n",
       "      <td>17.2</td>\n",
       "      <td>0.592</td>\n",
       "      <td>...</td>\n",
       "      <td>4.5</td>\n",
       "      <td>2.6</td>\n",
       "      <td>7.1</td>\n",
       "      <td>0.120</td>\n",
       "      <td>2.1</td>\n",
       "      <td>-0.5</td>\n",
       "      <td>1.6</td>\n",
       "      <td>2.6</td>\n",
       "      <td>NaN</td>\n",
       "      <td>harrito02</td>\n",
       "    </tr>\n",
       "    <tr>\n",
       "      <th>4</th>\n",
       "      <td>4.0</td>\n",
       "      <td>Tobias Harris</td>\n",
       "      <td>26.0</td>\n",
       "      <td>LAC</td>\n",
       "      <td>PF</td>\n",
       "      <td>55.0</td>\n",
       "      <td>55.0</td>\n",
       "      <td>1903.0</td>\n",
       "      <td>18.2</td>\n",
       "      <td>0.605</td>\n",
       "      <td>...</td>\n",
       "      <td>3.2</td>\n",
       "      <td>1.8</td>\n",
       "      <td>5.0</td>\n",
       "      <td>0.127</td>\n",
       "      <td>2.7</td>\n",
       "      <td>-0.2</td>\n",
       "      <td>2.4</td>\n",
       "      <td>2.1</td>\n",
       "      <td>NaN</td>\n",
       "      <td>harrito02</td>\n",
       "    </tr>\n",
       "  </tbody>\n",
       "</table>\n",
       "<p>5 rows × 30 columns</p>\n",
       "</div>"
      ],
      "text/plain": [
       "    Rk         Player   Age Team Pos     G    GS      MP   PER    TS%  ...  \\\n",
       "0  1.0   Bradley Beal  25.0  WAS  SG  82.0  82.0  3028.0  20.8  0.581  ...   \n",
       "1  2.0   James Harden  29.0  HOU  PG  78.0  78.0  2867.0  30.6  0.616  ...   \n",
       "2  3.0   Kemba Walker  28.0  CHO  PG  82.0  82.0  2863.0  21.7  0.558  ...   \n",
       "3  4.0  Tobias Harris  26.0  2TM  PF  82.0  82.0  2847.0  17.2  0.592  ...   \n",
       "4  4.0  Tobias Harris  26.0  LAC  PF  55.0  55.0  1903.0  18.2  0.605  ...   \n",
       "\n",
       "    OWS  DWS    WS  WS/48  OBPM  DBPM   BPM  VORP       Awards  \\\n",
       "0   5.9  1.7   7.6  0.120   3.8  -0.8   2.9   3.7           AS   \n",
       "1  11.4  3.8  15.2  0.254   9.4   1.6  11.0   9.3  MVP-2ASNBA1   \n",
       "2   5.5  1.9   7.4  0.123   5.2  -1.0   4.2   4.4       ASNBA3   \n",
       "3   4.5  2.6   7.1  0.120   2.1  -0.5   1.6   2.6          NaN   \n",
       "4   3.2  1.8   5.0  0.127   2.7  -0.2   2.4   2.1          NaN   \n",
       "\n",
       "   Player-additional  \n",
       "0           bealbr01  \n",
       "1          hardeja01  \n",
       "2          walkeke02  \n",
       "3          harrito02  \n",
       "4          harrito02  \n",
       "\n",
       "[5 rows x 30 columns]"
      ]
     },
     "execution_count": 67,
     "metadata": {},
     "output_type": "execute_result"
    }
   ],
   "source": [
    "#Una vez cargado el dataset, y comprobado su tamaño, se procede a verificar el contenido con una vista truncada:\n",
    "df_Stats_Adv_2018.head()"
   ]
  },
  {
   "cell_type": "code",
   "execution_count": 71,
   "metadata": {},
   "outputs": [
    {
     "name": "stdout",
     "output_type": "stream",
     "text": [
      "        Rk                  Player   Age Team Pos     G    GS      MP   PER  \\\n",
      "6      5.0             Paul George  28.0  OKC  SF  77.0  77.0  2841.0  23.3   \n",
      "13    12.0            Steven Adams  25.0  OKC   C  80.0  80.0  2669.0  18.5   \n",
      "17    16.0       Russell Westbrook  30.0  OKC  PG  73.0  73.0  2630.0  21.1   \n",
      "20    19.0            Jerami Grant  24.0  OKC  PF  80.0  77.0  2612.0  13.8   \n",
      "32    29.0      Karl-Anthony Towns  23.0  MIN   C  77.0  77.0  2545.0  26.3   \n",
      "..     ...                     ...   ...  ...  ..   ...   ...     ...   ...   \n",
      "671  496.0            Isaiah Hicks  24.0  NYK  PF   3.0   0.0    32.0  17.4   \n",
      "674  499.0             R.J. Hunter  25.0  BOS  SG   1.0   0.0    26.0  21.6   \n",
      "679  502.0  DeVaughn Akoon-Purcell  25.0  DEN  SG   7.0   0.0    22.0   8.2   \n",
      "702  525.0          Donte Grantham  23.0  OKC  SF   3.0   0.0     2.0 -38.1   \n",
      "705  528.0             Tyler Davis  21.0  OKC   C   1.0   0.0     1.0   0.0   \n",
      "\n",
      "       TS%  ...  OWS  DWS    WS  WS/48  OBPM  DBPM   BPM  VORP  \\\n",
      "6    0.583  ...  7.0  4.9  11.9  0.201   5.6   1.6   7.2   6.6   \n",
      "13   0.591  ...  5.1  4.0   9.1  0.163   0.7   0.4   1.1   2.1   \n",
      "17   0.501  ...  1.8  5.0   6.8  0.124   2.8   2.4   5.2   4.7   \n",
      "20   0.592  ...  4.0  3.3   7.3  0.134  -0.4   0.6   0.2   1.5   \n",
      "32   0.622  ...  7.2  3.2  10.4  0.197   5.4   0.6   6.0   5.1   \n",
      "..     ...  ...  ...  ...   ...    ...   ...   ...   ...   ...   \n",
      "671  0.588  ...  0.1  0.0   0.1  0.153  -2.1   2.2   0.1   0.0   \n",
      "674  0.612  ...  0.1  0.0   0.1  0.223   3.2   0.4   3.6   0.0   \n",
      "679  0.322  ... -0.1  0.0   0.0 -0.051  -7.9   2.1  -5.8   0.0   \n",
      "702  0.000  ...  0.0  0.0   0.0 -0.946 -23.6 -14.0 -37.6   0.0   \n",
      "705  0.000  ...  0.0  0.0   0.0 -0.471  -9.6 -31.1 -40.7   0.0   \n",
      "\n",
      "                Awards  Player-additional  \n",
      "6    MVP-3DPOY-3ASNBA1          georgpa01  \n",
      "13                 NaN          adamsst01  \n",
      "17        MVP-10ASNBA3          westbru01  \n",
      "20                 NaN          grantje01  \n",
      "32                  AS          townska01  \n",
      "..                 ...                ...  \n",
      "671                NaN          hicksis01  \n",
      "674                NaN          hunterj01  \n",
      "679                NaN          akoonde01  \n",
      "702                NaN          grantdo01  \n",
      "705                NaN          davisty01  \n",
      "\n",
      "[140 rows x 30 columns]\n"
     ]
    }
   ],
   "source": [
    "lista_filtro_equipos_Stats = ['BOS', 'DEN', 'MIN', 'NYK', 'OKC']\n",
    "\n",
    "# Identificar jugadores en la lista de equipos\n",
    "jugadores_filtrados = df_Stats_Adv_2018[df_Stats_Adv_2018['Team'].isin(lista_filtro_equipos_Stats)]['Player'].unique()\n",
    "\n",
    "# Filtrar incluyendo filas solo de esos  jugadores\n",
    "df_Stats_filtrado_2018 = df_Stats_Adv_2018[df_Stats_Adv_2018['Player'].isin(jugadores_filtrados)]\n",
    "\n",
    "# Ahora df_filtrado contiene las estadísticas de los jugadores que estuvieron en los equipos de la lista\n",
    "print(df_Stats_filtrado_2018)\n"
   ]
  },
  {
   "cell_type": "code",
   "execution_count": 72,
   "metadata": {},
   "outputs": [
    {
     "name": "stdout",
     "output_type": "stream",
     "text": [
      "      Rk              Player   Age Team Pos     G    GS      MP   PER    TS%  \\\n",
      "6    5.0         Paul George  28.0  OKC  SF  77.0  77.0  2841.0  23.3  0.583   \n",
      "13  12.0        Steven Adams  25.0  OKC   C  80.0  80.0  2669.0  18.5  0.591   \n",
      "17  16.0   Russell Westbrook  30.0  OKC  PG  73.0  73.0  2630.0  21.1  0.501   \n",
      "20  19.0        Jerami Grant  24.0  OKC  PF  80.0  77.0  2612.0  13.8  0.592   \n",
      "32  29.0  Karl-Anthony Towns  23.0  MIN   C  77.0  77.0  2545.0  26.3  0.622   \n",
      "\n",
      "    ...  DWS    WS  WS/48  OBPM  DBPM  BPM  VORP             Awards  \\\n",
      "6   ...  4.9  11.9  0.201   5.6   1.6  7.2   6.6  MVP-3DPOY-3ASNBA1   \n",
      "13  ...  4.0   9.1  0.163   0.7   0.4  1.1   2.1                NaN   \n",
      "17  ...  5.0   6.8  0.124   2.8   2.4  5.2   4.7       MVP-10ASNBA3   \n",
      "20  ...  3.3   7.3  0.134  -0.4   0.6  0.2   1.5                NaN   \n",
      "32  ...  3.2  10.4  0.197   5.4   0.6  6.0   5.1                 AS   \n",
      "\n",
      "    Player-additional  Temporada  \n",
      "6           georgpa01       2018  \n",
      "13          adamsst01       2018  \n",
      "17          westbru01       2018  \n",
      "20          grantje01       2018  \n",
      "32          townska01       2018  \n",
      "\n",
      "[5 rows x 31 columns]\n"
     ]
    },
    {
     "name": "stderr",
     "output_type": "stream",
     "text": [
      "C:\\Users\\angel\\AppData\\Local\\Temp\\ipykernel_26872\\1724280392.py:2: SettingWithCopyWarning: \n",
      "A value is trying to be set on a copy of a slice from a DataFrame.\n",
      "Try using .loc[row_indexer,col_indexer] = value instead\n",
      "\n",
      "See the caveats in the documentation: https://pandas.pydata.org/pandas-docs/stable/user_guide/indexing.html#returning-a-view-versus-a-copy\n",
      "  df_Stats_filtrado_2018['Temporada'] = '2018'\n"
     ]
    }
   ],
   "source": [
    "#Agregar la columna \"Temporada\" con el valor '2018' en todas las filas\n",
    "df_Stats_filtrado_2018['Temporada'] = '2018'\n",
    "\n",
    "#Verificar la incorporación de la nueva columna\n",
    "print(df_Stats_filtrado_2018.head())"
   ]
  },
  {
   "cell_type": "code",
   "execution_count": 73,
   "metadata": {},
   "outputs": [],
   "source": [
    "#Leer el archivo de trabajo:\n",
    "df_Player = pd.read_csv('player.csv')"
   ]
  },
  {
   "cell_type": "code",
   "execution_count": 74,
   "metadata": {},
   "outputs": [
    {
     "data": {
      "text/plain": [
       "(4831, 5)"
      ]
     },
     "execution_count": 74,
     "metadata": {},
     "output_type": "execute_result"
    }
   ],
   "source": [
    "# Para comprobar que cantidad de registros y columnas tiene el dataset cargado:\n",
    "\n",
    "df_Player.shape"
   ]
  },
  {
   "cell_type": "code",
   "execution_count": 75,
   "metadata": {},
   "outputs": [
    {
     "data": {
      "text/html": [
       "<div>\n",
       "<style scoped>\n",
       "    .dataframe tbody tr th:only-of-type {\n",
       "        vertical-align: middle;\n",
       "    }\n",
       "\n",
       "    .dataframe tbody tr th {\n",
       "        vertical-align: top;\n",
       "    }\n",
       "\n",
       "    .dataframe thead th {\n",
       "        text-align: right;\n",
       "    }\n",
       "</style>\n",
       "<table border=\"1\" class=\"dataframe\">\n",
       "  <thead>\n",
       "    <tr style=\"text-align: right;\">\n",
       "      <th></th>\n",
       "      <th>id</th>\n",
       "      <th>full_name</th>\n",
       "      <th>first_name</th>\n",
       "      <th>last_name</th>\n",
       "      <th>is_active</th>\n",
       "    </tr>\n",
       "  </thead>\n",
       "  <tbody>\n",
       "    <tr>\n",
       "      <th>0</th>\n",
       "      <td>76001</td>\n",
       "      <td>Alaa Abdelnaby</td>\n",
       "      <td>Alaa</td>\n",
       "      <td>Abdelnaby</td>\n",
       "      <td>0</td>\n",
       "    </tr>\n",
       "    <tr>\n",
       "      <th>1</th>\n",
       "      <td>76002</td>\n",
       "      <td>Zaid Abdul-Aziz</td>\n",
       "      <td>Zaid</td>\n",
       "      <td>Abdul-Aziz</td>\n",
       "      <td>0</td>\n",
       "    </tr>\n",
       "    <tr>\n",
       "      <th>2</th>\n",
       "      <td>76003</td>\n",
       "      <td>Kareem Abdul-Jabbar</td>\n",
       "      <td>Kareem</td>\n",
       "      <td>Abdul-Jabbar</td>\n",
       "      <td>0</td>\n",
       "    </tr>\n",
       "    <tr>\n",
       "      <th>3</th>\n",
       "      <td>51</td>\n",
       "      <td>Mahmoud Abdul-Rauf</td>\n",
       "      <td>Mahmoud</td>\n",
       "      <td>Abdul-Rauf</td>\n",
       "      <td>0</td>\n",
       "    </tr>\n",
       "    <tr>\n",
       "      <th>4</th>\n",
       "      <td>1505</td>\n",
       "      <td>Tariq Abdul-Wahad</td>\n",
       "      <td>Tariq</td>\n",
       "      <td>Abdul-Wahad</td>\n",
       "      <td>0</td>\n",
       "    </tr>\n",
       "  </tbody>\n",
       "</table>\n",
       "</div>"
      ],
      "text/plain": [
       "      id            full_name first_name     last_name  is_active\n",
       "0  76001       Alaa Abdelnaby       Alaa     Abdelnaby          0\n",
       "1  76002      Zaid Abdul-Aziz       Zaid    Abdul-Aziz          0\n",
       "2  76003  Kareem Abdul-Jabbar     Kareem  Abdul-Jabbar          0\n",
       "3     51   Mahmoud Abdul-Rauf    Mahmoud    Abdul-Rauf          0\n",
       "4   1505    Tariq Abdul-Wahad      Tariq   Abdul-Wahad          0"
      ]
     },
     "execution_count": 75,
     "metadata": {},
     "output_type": "execute_result"
    }
   ],
   "source": [
    "#Una vez cargado el dataset, y comprobado su tamaño, se procede a verificar el contenido con una vista truncada:\n",
    "df_Player.head()"
   ]
  },
  {
   "cell_type": "code",
   "execution_count": 77,
   "metadata": {},
   "outputs": [
    {
     "name": "stdout",
     "output_type": "stream",
     "text": [
      "     Rk              Player   Age Team Pos     G    GS      MP   PER    TS%  \\\n",
      "0   5.0         Paul George  28.0  OKC  SF  77.0  77.0  2841.0  23.3  0.583   \n",
      "1  12.0        Steven Adams  25.0  OKC   C  80.0  80.0  2669.0  18.5  0.591   \n",
      "2  16.0   Russell Westbrook  30.0  OKC  PG  73.0  73.0  2630.0  21.1  0.501   \n",
      "3  19.0        Jerami Grant  24.0  OKC  PF  80.0  77.0  2612.0  13.8  0.592   \n",
      "4  29.0  Karl-Anthony Towns  23.0  MIN   C  77.0  77.0  2545.0  26.3  0.622   \n",
      "\n",
      "   ...  WS/48  OBPM  DBPM  BPM  VORP             Awards  Player-additional  \\\n",
      "0  ...  0.201   5.6   1.6  7.2   6.6  MVP-3DPOY-3ASNBA1          georgpa01   \n",
      "1  ...  0.163   0.7   0.4  1.1   2.1                NaN          adamsst01   \n",
      "2  ...  0.124   2.8   2.4  5.2   4.7       MVP-10ASNBA3          westbru01   \n",
      "3  ...  0.134  -0.4   0.6  0.2   1.5                NaN          grantje01   \n",
      "4  ...  0.197   5.4   0.6  6.0   5.1                 AS          townska01   \n",
      "\n",
      "   Temporada           full_name         id  \n",
      "0       2018         Paul George   202331.0  \n",
      "1       2018        Steven Adams   203500.0  \n",
      "2       2018   Russell Westbrook   201566.0  \n",
      "3       2018        Jerami Grant   203924.0  \n",
      "4       2018  Karl-Anthony Towns  1626157.0  \n",
      "\n",
      "[5 rows x 33 columns]\n"
     ]
    }
   ],
   "source": [
    "# Realizar un merge para asignar 'person_id' de df_equipos_abv_filtrados_2000 a df_Stats_filtrado_2018\n",
    "df_Stats_filtrado_2018 = df_Stats_filtrado_2018.merge(\n",
    "    df_Player[['full_name', 'id']],  # Selecciona columnas relevantes\n",
    "    left_on='Player',  # Columna en df_Stats_filtrado_2018\n",
    "    right_on='full_name',  # Columna en df_equipos_abv_filtrados_2000\n",
    "    how='left'  # Combinar mediante un LEFT JOIN para mantener todas las filas de df_Stats_filtrado_2018\n",
    ")\n",
    "\n",
    "# Verificar el resultado\n",
    "print(df_Stats_filtrado_2018.head())"
   ]
  },
  {
   "cell_type": "code",
   "execution_count": 78,
   "metadata": {},
   "outputs": [
    {
     "name": "stdout",
     "output_type": "stream",
     "text": [
      "Awards       128\n",
      "full_name     18\n",
      "id            18\n",
      "dtype: int64\n"
     ]
    }
   ],
   "source": [
    "# Verificar valores nulos restantes en todo el DataFrame\n",
    "\n",
    "Cant_Column_Null = df_Stats_filtrado_2018.isna().sum()\n",
    "\n",
    "Solo_Column_Con_Nulos = Cant_Column_Null[Cant_Column_Null>0]\n",
    "print(Solo_Column_Con_Nulos)"
   ]
  },
  {
   "cell_type": "code",
   "execution_count": 79,
   "metadata": {},
   "outputs": [
    {
     "name": "stdout",
     "output_type": "stream",
     "text": [
      "6                 Nikola Jokić\n",
      "9              Dennis Schröder\n",
      "15                  Kevin Knox\n",
      "16               Marcus Morris\n",
      "27                 Dario Šarić\n",
      "28                 Dario Šarić\n",
      "29                 Dario Šarić\n",
      "56         Juancho Hernangómez\n",
      "80     Timothé Luwawu-Cabarrot\n",
      "81     Timothé Luwawu-Cabarrot\n",
      "82     Timothé Luwawu-Cabarrot\n",
      "89                Álex Abrines\n",
      "106            Robert Williams\n",
      "110           Cameron Reynolds\n",
      "130                Mitch Creek\n",
      "131                Mitch Creek\n",
      "132                Mitch Creek\n",
      "136                R.J. Hunter\n",
      "Name: Player, dtype: object\n"
     ]
    }
   ],
   "source": [
    "# Filtrar las filas donde la columna 'id' tiene valores nulos\n",
    "rows_with_nulls_in_id = df_Stats_filtrado_2018[df_Stats_filtrado_2018['id'].isna()]\n",
    "\n",
    "# Extraer los valores de la columna 'full name' para esas filas\n",
    "full_name_with_nulls_in_id = rows_with_nulls_in_id['Player']\n",
    "\n",
    "print(full_name_with_nulls_in_id)\n"
   ]
  },
  {
   "cell_type": "code",
   "execution_count": 80,
   "metadata": {},
   "outputs": [
    {
     "name": "stdout",
     "output_type": "stream",
     "text": [
      "Archivo guardado exitosamente como '2018 Stats Advanced Filtrado.csv'\n"
     ]
    }
   ],
   "source": [
    "# Guardar los datos filtrados en un archivo con el nombre other_stats.csv a fin de poder utilizarlo luego\n",
    "\n",
    "df_Stats_filtrado_2018.to_csv('2018 Stats Advanced Filtrado.csv', index=False)\n",
    "\n",
    "# Confirmación\n",
    "print(\"Archivo guardado exitosamente como '2018 Stats Advanced Filtrado.csv'\")"
   ]
  },
  {
   "cell_type": "markdown",
   "metadata": {},
   "source": [
    "ETL archivo Estadisticas Avanzadas 2019"
   ]
  },
  {
   "cell_type": "code",
   "execution_count": 81,
   "metadata": {},
   "outputs": [],
   "source": [
    "#Leer el archivo de trabajo:\n",
    "df_Stats_Adv_2019 = pd.read_csv('2019-20 NBA Player Stats Advanced.csv')"
   ]
  },
  {
   "cell_type": "code",
   "execution_count": 82,
   "metadata": {},
   "outputs": [
    {
     "data": {
      "text/plain": [
       "(652, 30)"
      ]
     },
     "execution_count": 82,
     "metadata": {},
     "output_type": "execute_result"
    }
   ],
   "source": [
    "# Para comprobar que cantidad de registros y columnas tiene el dataset cargado:\n",
    "\n",
    "df_Stats_Adv_2019.shape"
   ]
  },
  {
   "cell_type": "code",
   "execution_count": 83,
   "metadata": {},
   "outputs": [
    {
     "data": {
      "text/html": [
       "<div>\n",
       "<style scoped>\n",
       "    .dataframe tbody tr th:only-of-type {\n",
       "        vertical-align: middle;\n",
       "    }\n",
       "\n",
       "    .dataframe tbody tr th {\n",
       "        vertical-align: top;\n",
       "    }\n",
       "\n",
       "    .dataframe thead th {\n",
       "        text-align: right;\n",
       "    }\n",
       "</style>\n",
       "<table border=\"1\" class=\"dataframe\">\n",
       "  <thead>\n",
       "    <tr style=\"text-align: right;\">\n",
       "      <th></th>\n",
       "      <th>Rk</th>\n",
       "      <th>Player</th>\n",
       "      <th>Age</th>\n",
       "      <th>Team</th>\n",
       "      <th>Pos</th>\n",
       "      <th>G</th>\n",
       "      <th>GS</th>\n",
       "      <th>MP</th>\n",
       "      <th>PER</th>\n",
       "      <th>TS%</th>\n",
       "      <th>...</th>\n",
       "      <th>OWS</th>\n",
       "      <th>DWS</th>\n",
       "      <th>WS</th>\n",
       "      <th>WS/48</th>\n",
       "      <th>OBPM</th>\n",
       "      <th>DBPM</th>\n",
       "      <th>BPM</th>\n",
       "      <th>VORP</th>\n",
       "      <th>Awards</th>\n",
       "      <th>Player-additional</th>\n",
       "    </tr>\n",
       "  </thead>\n",
       "  <tbody>\n",
       "    <tr>\n",
       "      <th>0</th>\n",
       "      <td>1.0</td>\n",
       "      <td>CJ McCollum</td>\n",
       "      <td>28.0</td>\n",
       "      <td>POR</td>\n",
       "      <td>SG</td>\n",
       "      <td>70.0</td>\n",
       "      <td>70.0</td>\n",
       "      <td>2556.0</td>\n",
       "      <td>17.0</td>\n",
       "      <td>0.541</td>\n",
       "      <td>...</td>\n",
       "      <td>3.5</td>\n",
       "      <td>0.6</td>\n",
       "      <td>4.1</td>\n",
       "      <td>0.077</td>\n",
       "      <td>2.3</td>\n",
       "      <td>-1.8</td>\n",
       "      <td>0.5</td>\n",
       "      <td>1.6</td>\n",
       "      <td>NaN</td>\n",
       "      <td>mccolcj01</td>\n",
       "    </tr>\n",
       "    <tr>\n",
       "      <th>1</th>\n",
       "      <td>2.0</td>\n",
       "      <td>Devin Booker</td>\n",
       "      <td>23.0</td>\n",
       "      <td>PHO</td>\n",
       "      <td>SG</td>\n",
       "      <td>70.0</td>\n",
       "      <td>70.0</td>\n",
       "      <td>2512.0</td>\n",
       "      <td>20.6</td>\n",
       "      <td>0.618</td>\n",
       "      <td>...</td>\n",
       "      <td>6.0</td>\n",
       "      <td>1.5</td>\n",
       "      <td>7.5</td>\n",
       "      <td>0.143</td>\n",
       "      <td>3.4</td>\n",
       "      <td>-1.3</td>\n",
       "      <td>2.2</td>\n",
       "      <td>2.6</td>\n",
       "      <td>AS</td>\n",
       "      <td>bookede01</td>\n",
       "    </tr>\n",
       "    <tr>\n",
       "      <th>2</th>\n",
       "      <td>3.0</td>\n",
       "      <td>James Harden</td>\n",
       "      <td>30.0</td>\n",
       "      <td>HOU</td>\n",
       "      <td>SG</td>\n",
       "      <td>68.0</td>\n",
       "      <td>68.0</td>\n",
       "      <td>2483.0</td>\n",
       "      <td>29.1</td>\n",
       "      <td>0.626</td>\n",
       "      <td>...</td>\n",
       "      <td>9.9</td>\n",
       "      <td>3.2</td>\n",
       "      <td>13.1</td>\n",
       "      <td>0.254</td>\n",
       "      <td>8.1</td>\n",
       "      <td>1.6</td>\n",
       "      <td>9.6</td>\n",
       "      <td>7.3</td>\n",
       "      <td>MVP-3ASNBA1</td>\n",
       "      <td>hardeja01</td>\n",
       "    </tr>\n",
       "    <tr>\n",
       "      <th>3</th>\n",
       "      <td>4.0</td>\n",
       "      <td>Harrison Barnes</td>\n",
       "      <td>27.0</td>\n",
       "      <td>SAC</td>\n",
       "      <td>PF</td>\n",
       "      <td>72.0</td>\n",
       "      <td>72.0</td>\n",
       "      <td>2482.0</td>\n",
       "      <td>13.3</td>\n",
       "      <td>0.574</td>\n",
       "      <td>...</td>\n",
       "      <td>3.4</td>\n",
       "      <td>1.1</td>\n",
       "      <td>4.6</td>\n",
       "      <td>0.088</td>\n",
       "      <td>0.0</td>\n",
       "      <td>-1.3</td>\n",
       "      <td>-1.3</td>\n",
       "      <td>0.5</td>\n",
       "      <td>NaN</td>\n",
       "      <td>barneha02</td>\n",
       "    </tr>\n",
       "    <tr>\n",
       "      <th>4</th>\n",
       "      <td>5.0</td>\n",
       "      <td>Damian Lillard</td>\n",
       "      <td>29.0</td>\n",
       "      <td>POR</td>\n",
       "      <td>PG</td>\n",
       "      <td>66.0</td>\n",
       "      <td>66.0</td>\n",
       "      <td>2474.0</td>\n",
       "      <td>26.9</td>\n",
       "      <td>0.627</td>\n",
       "      <td>...</td>\n",
       "      <td>10.9</td>\n",
       "      <td>0.7</td>\n",
       "      <td>11.6</td>\n",
       "      <td>0.225</td>\n",
       "      <td>8.3</td>\n",
       "      <td>-0.9</td>\n",
       "      <td>7.5</td>\n",
       "      <td>5.9</td>\n",
       "      <td>MVP-8ASNBA2</td>\n",
       "      <td>lillada01</td>\n",
       "    </tr>\n",
       "  </tbody>\n",
       "</table>\n",
       "<p>5 rows × 30 columns</p>\n",
       "</div>"
      ],
      "text/plain": [
       "    Rk           Player   Age Team Pos     G    GS      MP   PER    TS%  ...  \\\n",
       "0  1.0      CJ McCollum  28.0  POR  SG  70.0  70.0  2556.0  17.0  0.541  ...   \n",
       "1  2.0     Devin Booker  23.0  PHO  SG  70.0  70.0  2512.0  20.6  0.618  ...   \n",
       "2  3.0     James Harden  30.0  HOU  SG  68.0  68.0  2483.0  29.1  0.626  ...   \n",
       "3  4.0  Harrison Barnes  27.0  SAC  PF  72.0  72.0  2482.0  13.3  0.574  ...   \n",
       "4  5.0   Damian Lillard  29.0  POR  PG  66.0  66.0  2474.0  26.9  0.627  ...   \n",
       "\n",
       "    OWS  DWS    WS  WS/48  OBPM  DBPM  BPM  VORP       Awards  \\\n",
       "0   3.5  0.6   4.1  0.077   2.3  -1.8  0.5   1.6          NaN   \n",
       "1   6.0  1.5   7.5  0.143   3.4  -1.3  2.2   2.6           AS   \n",
       "2   9.9  3.2  13.1  0.254   8.1   1.6  9.6   7.3  MVP-3ASNBA1   \n",
       "3   3.4  1.1   4.6  0.088   0.0  -1.3 -1.3   0.5          NaN   \n",
       "4  10.9  0.7  11.6  0.225   8.3  -0.9  7.5   5.9  MVP-8ASNBA2   \n",
       "\n",
       "   Player-additional  \n",
       "0          mccolcj01  \n",
       "1          bookede01  \n",
       "2          hardeja01  \n",
       "3          barneha02  \n",
       "4          lillada01  \n",
       "\n",
       "[5 rows x 30 columns]"
      ]
     },
     "execution_count": 83,
     "metadata": {},
     "output_type": "execute_result"
    }
   ],
   "source": [
    "#Una vez cargado el dataset, y comprobado su tamaño, se procede a verificar el contenido con una vista truncada:\n",
    "df_Stats_Adv_2019.head()"
   ]
  },
  {
   "cell_type": "code",
   "execution_count": 84,
   "metadata": {},
   "outputs": [
    {
     "name": "stdout",
     "output_type": "stream",
     "text": [
      "        Rk                   Player   Age Team Pos     G    GS      MP   PER  \\\n",
      "7      8.0  Shai Gilgeous-Alexander  21.0  OKC  SG  70.0  70.0  2428.0  17.7   \n",
      "10    11.0             Nikola Jokić  24.0  DEN   C  73.0  73.0  2336.0  24.9   \n",
      "14    15.0             Jayson Tatum  21.0  BOS  PF  66.0  66.0  2265.0  20.4   \n",
      "17    18.0               Chris Paul  34.0  OKC  PG  70.0  70.0  2208.0  21.7   \n",
      "24    25.0         Robert Covington  29.0  2TM   C  70.0  68.0  2137.0  13.3   \n",
      "..     ...                      ...   ...  ...  ..   ...   ...     ...   ...   \n",
      "602  483.0        Jarred Vanderbilt  20.0  MIN  PF   2.0   0.0     5.0  11.1   \n",
      "604  485.0            Vlatko Čančar  22.0  DEN  PF  14.0   0.0    45.0  11.4   \n",
      "615  494.0               Tacko Fall  24.0  BOS   C   7.0   0.0    33.0  28.4   \n",
      "627  506.0            Justin Patton  22.0  OKC   C   5.0   0.0    24.0   4.7   \n",
      "641  520.0              Isaiah Roby  21.0  OKC  PF   3.0   0.0    11.0  -7.7   \n",
      "\n",
      "       TS%  ...  OWS  DWS   WS  WS/48  OBPM  DBPM   BPM  VORP        Awards  \\\n",
      "7    0.568  ...  3.1  3.0  6.1  0.121   1.3   0.4   1.7   2.2           NaN   \n",
      "10   0.605  ...  6.7  3.1  9.8  0.202   5.5   2.0   7.4   5.5   MVP-9ASNBA2   \n",
      "14   0.567  ...  3.2  3.7  6.9  0.146   3.5   0.6   4.0   3.4  MVP-12ASNBA3   \n",
      "17   0.610  ...  5.9  3.0  8.9  0.193   3.0   1.4   4.4   3.5   MVP-7ASNBA2   \n",
      "24   0.559  ...  0.7  3.0  3.7  0.083  -1.2   1.3   0.0   1.1           NaN   \n",
      "..     ...  ...  ...  ...  ...    ...   ...   ...   ...   ...           ...   \n",
      "602  0.532  ...  0.0  0.0  0.0  0.104  -2.8  -2.8  -5.6   0.0           NaN   \n",
      "604  0.507  ...  0.0  0.0  0.1  0.062  -3.6  -1.2  -4.8   0.0           NaN   \n",
      "615  0.751  ...  0.1  0.1  0.2  0.223   0.4   6.0   6.5   0.1           NaN   \n",
      "627  0.450  ... -0.1  0.0  0.0 -0.063  -6.8  -3.3 -10.1   0.0           NaN   \n",
      "641  0.000  ... -0.1  0.0  0.0 -0.188 -12.0  -3.4 -15.4   0.0           NaN   \n",
      "\n",
      "     Player-additional  \n",
      "7            gilgesh01  \n",
      "10           jokicni01  \n",
      "14           tatumja01  \n",
      "17            paulch01  \n",
      "24           covinro01  \n",
      "..                 ...  \n",
      "602          vandeja01  \n",
      "604          cancavl01  \n",
      "615           fallta01  \n",
      "627          pattoju01  \n",
      "641           robyis01  \n",
      "\n",
      "[135 rows x 30 columns]\n"
     ]
    }
   ],
   "source": [
    "lista_filtro_equipos_Stats = ['BOS', 'DEN', 'MIN', 'NYK', 'OKC']\n",
    "\n",
    "# Identificar jugadores en la lista de equipos\n",
    "jugadores_filtrados = df_Stats_Adv_2019[df_Stats_Adv_2019['Team'].isin(lista_filtro_equipos_Stats)]['Player'].unique()\n",
    "\n",
    "# Filtrar incluyendo filas solo de esos  jugadores\n",
    "df_Stats_filtrado_2019 = df_Stats_Adv_2019[df_Stats_Adv_2019['Player'].isin(jugadores_filtrados)]\n",
    "\n",
    "# Ahora df_filtrado contiene las estadísticas de los jugadores que estuvieron en los equipos de la lista\n",
    "print(df_Stats_filtrado_2019)\n"
   ]
  },
  {
   "cell_type": "code",
   "execution_count": 85,
   "metadata": {},
   "outputs": [
    {
     "name": "stdout",
     "output_type": "stream",
     "text": [
      "      Rk                   Player   Age Team Pos     G    GS      MP   PER  \\\n",
      "7    8.0  Shai Gilgeous-Alexander  21.0  OKC  SG  70.0  70.0  2428.0  17.7   \n",
      "10  11.0             Nikola Jokić  24.0  DEN   C  73.0  73.0  2336.0  24.9   \n",
      "14  15.0             Jayson Tatum  21.0  BOS  PF  66.0  66.0  2265.0  20.4   \n",
      "17  18.0               Chris Paul  34.0  OKC  PG  70.0  70.0  2208.0  21.7   \n",
      "24  25.0         Robert Covington  29.0  2TM   C  70.0  68.0  2137.0  13.3   \n",
      "\n",
      "      TS%  ...  DWS   WS  WS/48  OBPM  DBPM  BPM  VORP        Awards  \\\n",
      "7   0.568  ...  3.0  6.1  0.121   1.3   0.4  1.7   2.2           NaN   \n",
      "10  0.605  ...  3.1  9.8  0.202   5.5   2.0  7.4   5.5   MVP-9ASNBA2   \n",
      "14  0.567  ...  3.7  6.9  0.146   3.5   0.6  4.0   3.4  MVP-12ASNBA3   \n",
      "17  0.610  ...  3.0  8.9  0.193   3.0   1.4  4.4   3.5   MVP-7ASNBA2   \n",
      "24  0.559  ...  3.0  3.7  0.083  -1.2   1.3  0.0   1.1           NaN   \n",
      "\n",
      "    Player-additional  Temporada  \n",
      "7           gilgesh01       2019  \n",
      "10          jokicni01       2019  \n",
      "14          tatumja01       2019  \n",
      "17           paulch01       2019  \n",
      "24          covinro01       2019  \n",
      "\n",
      "[5 rows x 31 columns]\n"
     ]
    },
    {
     "name": "stderr",
     "output_type": "stream",
     "text": [
      "C:\\Users\\angel\\AppData\\Local\\Temp\\ipykernel_26872\\329437068.py:2: SettingWithCopyWarning: \n",
      "A value is trying to be set on a copy of a slice from a DataFrame.\n",
      "Try using .loc[row_indexer,col_indexer] = value instead\n",
      "\n",
      "See the caveats in the documentation: https://pandas.pydata.org/pandas-docs/stable/user_guide/indexing.html#returning-a-view-versus-a-copy\n",
      "  df_Stats_filtrado_2019['Temporada'] = '2019'\n"
     ]
    }
   ],
   "source": [
    "#Agregar la columna \"Temporada\" con el valor '2019' en todas las filas\n",
    "df_Stats_filtrado_2019['Temporada'] = '2019'\n",
    "\n",
    "#Verificar la incorporación de la nueva columna\n",
    "print(df_Stats_filtrado_2019.head())"
   ]
  },
  {
   "cell_type": "code",
   "execution_count": 86,
   "metadata": {},
   "outputs": [
    {
     "name": "stdout",
     "output_type": "stream",
     "text": [
      "     Rk                   Player   Age Team Pos     G    GS      MP   PER  \\\n",
      "0   8.0  Shai Gilgeous-Alexander  21.0  OKC  SG  70.0  70.0  2428.0  17.7   \n",
      "1  11.0             Nikola Jokić  24.0  DEN   C  73.0  73.0  2336.0  24.9   \n",
      "2  15.0             Jayson Tatum  21.0  BOS  PF  66.0  66.0  2265.0  20.4   \n",
      "3  18.0               Chris Paul  34.0  OKC  PG  70.0  70.0  2208.0  21.7   \n",
      "4  25.0         Robert Covington  29.0  2TM   C  70.0  68.0  2137.0  13.3   \n",
      "\n",
      "     TS%  ...  WS/48  OBPM  DBPM  BPM  VORP        Awards  Player-additional  \\\n",
      "0  0.568  ...  0.121   1.3   0.4  1.7   2.2           NaN          gilgesh01   \n",
      "1  0.605  ...  0.202   5.5   2.0  7.4   5.5   MVP-9ASNBA2          jokicni01   \n",
      "2  0.567  ...  0.146   3.5   0.6  4.0   3.4  MVP-12ASNBA3          tatumja01   \n",
      "3  0.610  ...  0.193   3.0   1.4  4.4   3.5   MVP-7ASNBA2           paulch01   \n",
      "4  0.559  ...  0.083  -1.2   1.3  0.0   1.1           NaN          covinro01   \n",
      "\n",
      "   Temporada                full_name         id  \n",
      "0       2019  Shai Gilgeous-Alexander  1628983.0  \n",
      "1       2019                      NaN        NaN  \n",
      "2       2019             Jayson Tatum  1628369.0  \n",
      "3       2019               Chris Paul   101108.0  \n",
      "4       2019         Robert Covington   203496.0  \n",
      "\n",
      "[5 rows x 33 columns]\n"
     ]
    }
   ],
   "source": [
    "# Realizar un merge para asignar 'person_id' de df_Player a df_Stats_filtrado_2019\n",
    "df_Stats_filtrado_2019 = df_Stats_filtrado_2019.merge(\n",
    "    df_Player[['full_name', 'id']],  # Selecciona columnas relevantes\n",
    "    left_on='Player',  # Columna en df_Stats_filtrado_2019\n",
    "    right_on='full_name',  # Columna en df_Common_Player\n",
    "    how='left'  # Combinar mediante un LEFT JOIN para mantener todas las filas de df_Stats_filtrado_2019\n",
    ")\n",
    "\n",
    "# Verificar el resultado\n",
    "print(df_Stats_filtrado_2019.head())"
   ]
  },
  {
   "cell_type": "code",
   "execution_count": 87,
   "metadata": {},
   "outputs": [
    {
     "name": "stdout",
     "output_type": "stream",
     "text": [
      "Awards       128\n",
      "full_name     12\n",
      "id            12\n",
      "dtype: int64\n"
     ]
    }
   ],
   "source": [
    "# Verificar valores nulos restantes en todo el DataFrame\n",
    "\n",
    "Cant_Column_Null = df_Stats_filtrado_2019.isna().sum()\n",
    "\n",
    "Solo_Column_Con_Nulos = Cant_Column_Null[Cant_Column_Null>0]\n",
    "print(Solo_Column_Con_Nulos)"
   ]
  },
  {
   "cell_type": "code",
   "execution_count": 88,
   "metadata": {},
   "outputs": [
    {
     "name": "stdout",
     "output_type": "stream",
     "text": [
      "1             Nikola Jokić\n",
      "8          Dennis Schröder\n",
      "9            Marcus Morris\n",
      "10           Marcus Morris\n",
      "11           Marcus Morris\n",
      "53              Kevin Knox\n",
      "72     Juancho Hernangómez\n",
      "73     Juancho Hernangómez\n",
      "74     Juancho Hernangómez\n",
      "104              PJ Dozier\n",
      "105        Robert Williams\n",
      "131          Vlatko Čančar\n",
      "Name: Player, dtype: object\n"
     ]
    }
   ],
   "source": [
    "# Filtrar las filas donde la columna 'id' tiene valores nulos\n",
    "rows_with_nulls_in_id = df_Stats_filtrado_2019[df_Stats_filtrado_2019['id'].isna()]\n",
    "\n",
    "# Extraer los valores de la columna 'full name' para esas filas\n",
    "full_name_with_nulls_in_id = rows_with_nulls_in_id['Player']\n",
    "\n",
    "print(full_name_with_nulls_in_id)\n"
   ]
  },
  {
   "cell_type": "code",
   "execution_count": 89,
   "metadata": {},
   "outputs": [
    {
     "name": "stdout",
     "output_type": "stream",
     "text": [
      "Archivo guardado exitosamente como '2019 Stats Advanced Filtrado.csv'\n"
     ]
    }
   ],
   "source": [
    "# Guardar los datos filtrados en un archivo con el nombre Stats Advanced Filtrado.csv a fin de poder utilizarlo luego\n",
    "\n",
    "df_Stats_filtrado_2019.to_csv('2019 Stats Advanced Filtrado.csv', index=False)\n",
    "\n",
    "# Confirmación\n",
    "print(\"Archivo guardado exitosamente como '2019 Stats Advanced Filtrado.csv'\")"
   ]
  },
  {
   "cell_type": "markdown",
   "metadata": {},
   "source": [
    "ETL archivo Estadisticas Avanzadas 2020"
   ]
  },
  {
   "cell_type": "code",
   "execution_count": 90,
   "metadata": {},
   "outputs": [],
   "source": [
    "#Leer el archivo de trabajo:\n",
    "df_Stats_Adv_2020 = pd.read_csv('2020-21 NBA Player Stats Advanced.csv')"
   ]
  },
  {
   "cell_type": "code",
   "execution_count": 91,
   "metadata": {},
   "outputs": [
    {
     "data": {
      "text/plain": [
       "(706, 30)"
      ]
     },
     "execution_count": 91,
     "metadata": {},
     "output_type": "execute_result"
    }
   ],
   "source": [
    "# Para comprobar que cantidad de registros y columnas tiene el dataset cargado:\n",
    "\n",
    "df_Stats_Adv_2020.shape"
   ]
  },
  {
   "cell_type": "code",
   "execution_count": 92,
   "metadata": {},
   "outputs": [
    {
     "data": {
      "text/html": [
       "<div>\n",
       "<style scoped>\n",
       "    .dataframe tbody tr th:only-of-type {\n",
       "        vertical-align: middle;\n",
       "    }\n",
       "\n",
       "    .dataframe tbody tr th {\n",
       "        vertical-align: top;\n",
       "    }\n",
       "\n",
       "    .dataframe thead th {\n",
       "        text-align: right;\n",
       "    }\n",
       "</style>\n",
       "<table border=\"1\" class=\"dataframe\">\n",
       "  <thead>\n",
       "    <tr style=\"text-align: right;\">\n",
       "      <th></th>\n",
       "      <th>Rk</th>\n",
       "      <th>Player</th>\n",
       "      <th>Age</th>\n",
       "      <th>Team</th>\n",
       "      <th>Pos</th>\n",
       "      <th>G</th>\n",
       "      <th>GS</th>\n",
       "      <th>MP</th>\n",
       "      <th>PER</th>\n",
       "      <th>TS%</th>\n",
       "      <th>...</th>\n",
       "      <th>OWS</th>\n",
       "      <th>DWS</th>\n",
       "      <th>WS</th>\n",
       "      <th>WS/48</th>\n",
       "      <th>OBPM</th>\n",
       "      <th>DBPM</th>\n",
       "      <th>BPM</th>\n",
       "      <th>VORP</th>\n",
       "      <th>Awards</th>\n",
       "      <th>Player-additional</th>\n",
       "    </tr>\n",
       "  </thead>\n",
       "  <tbody>\n",
       "    <tr>\n",
       "      <th>0</th>\n",
       "      <td>1.0</td>\n",
       "      <td>Julius Randle</td>\n",
       "      <td>26.0</td>\n",
       "      <td>NYK</td>\n",
       "      <td>PF</td>\n",
       "      <td>71.0</td>\n",
       "      <td>71.0</td>\n",
       "      <td>2667.0</td>\n",
       "      <td>19.7</td>\n",
       "      <td>0.567</td>\n",
       "      <td>...</td>\n",
       "      <td>3.4</td>\n",
       "      <td>4.3</td>\n",
       "      <td>7.8</td>\n",
       "      <td>0.140</td>\n",
       "      <td>2.9</td>\n",
       "      <td>0.9</td>\n",
       "      <td>3.8</td>\n",
       "      <td>3.9</td>\n",
       "      <td>MVP-8MIP-1ASNBA2</td>\n",
       "      <td>randlju01</td>\n",
       "    </tr>\n",
       "    <tr>\n",
       "      <th>1</th>\n",
       "      <td>2.0</td>\n",
       "      <td>RJ Barrett</td>\n",
       "      <td>20.0</td>\n",
       "      <td>NYK</td>\n",
       "      <td>SG</td>\n",
       "      <td>72.0</td>\n",
       "      <td>72.0</td>\n",
       "      <td>2511.0</td>\n",
       "      <td>13.4</td>\n",
       "      <td>0.535</td>\n",
       "      <td>...</td>\n",
       "      <td>0.9</td>\n",
       "      <td>3.1</td>\n",
       "      <td>4.1</td>\n",
       "      <td>0.078</td>\n",
       "      <td>-0.9</td>\n",
       "      <td>-0.3</td>\n",
       "      <td>-1.2</td>\n",
       "      <td>0.5</td>\n",
       "      <td>NaN</td>\n",
       "      <td>barrerj01</td>\n",
       "    </tr>\n",
       "    <tr>\n",
       "      <th>2</th>\n",
       "      <td>3.0</td>\n",
       "      <td>Nikola Jokić</td>\n",
       "      <td>25.0</td>\n",
       "      <td>DEN</td>\n",
       "      <td>C</td>\n",
       "      <td>72.0</td>\n",
       "      <td>72.0</td>\n",
       "      <td>2488.0</td>\n",
       "      <td>31.3</td>\n",
       "      <td>0.647</td>\n",
       "      <td>...</td>\n",
       "      <td>12.2</td>\n",
       "      <td>3.4</td>\n",
       "      <td>15.6</td>\n",
       "      <td>0.301</td>\n",
       "      <td>9.1</td>\n",
       "      <td>3.0</td>\n",
       "      <td>12.1</td>\n",
       "      <td>8.8</td>\n",
       "      <td>MVP-1ASNBA1</td>\n",
       "      <td>jokicni01</td>\n",
       "    </tr>\n",
       "    <tr>\n",
       "      <th>3</th>\n",
       "      <td>4.0</td>\n",
       "      <td>Buddy Hield</td>\n",
       "      <td>28.0</td>\n",
       "      <td>SAC</td>\n",
       "      <td>SG</td>\n",
       "      <td>71.0</td>\n",
       "      <td>71.0</td>\n",
       "      <td>2433.0</td>\n",
       "      <td>12.8</td>\n",
       "      <td>0.567</td>\n",
       "      <td>...</td>\n",
       "      <td>1.5</td>\n",
       "      <td>0.7</td>\n",
       "      <td>2.2</td>\n",
       "      <td>0.044</td>\n",
       "      <td>1.0</td>\n",
       "      <td>-1.6</td>\n",
       "      <td>-0.6</td>\n",
       "      <td>0.9</td>\n",
       "      <td>NaN</td>\n",
       "      <td>hieldbu01</td>\n",
       "    </tr>\n",
       "    <tr>\n",
       "      <th>4</th>\n",
       "      <td>5.0</td>\n",
       "      <td>Damian Lillard</td>\n",
       "      <td>30.0</td>\n",
       "      <td>POR</td>\n",
       "      <td>PG</td>\n",
       "      <td>67.0</td>\n",
       "      <td>67.0</td>\n",
       "      <td>2398.0</td>\n",
       "      <td>25.6</td>\n",
       "      <td>0.623</td>\n",
       "      <td>...</td>\n",
       "      <td>9.6</td>\n",
       "      <td>0.8</td>\n",
       "      <td>10.4</td>\n",
       "      <td>0.209</td>\n",
       "      <td>7.5</td>\n",
       "      <td>-1.3</td>\n",
       "      <td>6.3</td>\n",
       "      <td>5.0</td>\n",
       "      <td>MVP-7ASNBA2</td>\n",
       "      <td>lillada01</td>\n",
       "    </tr>\n",
       "  </tbody>\n",
       "</table>\n",
       "<p>5 rows × 30 columns</p>\n",
       "</div>"
      ],
      "text/plain": [
       "    Rk          Player   Age Team Pos     G    GS      MP   PER    TS%  ...  \\\n",
       "0  1.0   Julius Randle  26.0  NYK  PF  71.0  71.0  2667.0  19.7  0.567  ...   \n",
       "1  2.0      RJ Barrett  20.0  NYK  SG  72.0  72.0  2511.0  13.4  0.535  ...   \n",
       "2  3.0    Nikola Jokić  25.0  DEN   C  72.0  72.0  2488.0  31.3  0.647  ...   \n",
       "3  4.0     Buddy Hield  28.0  SAC  SG  71.0  71.0  2433.0  12.8  0.567  ...   \n",
       "4  5.0  Damian Lillard  30.0  POR  PG  67.0  67.0  2398.0  25.6  0.623  ...   \n",
       "\n",
       "    OWS  DWS    WS  WS/48  OBPM  DBPM   BPM  VORP            Awards  \\\n",
       "0   3.4  4.3   7.8  0.140   2.9   0.9   3.8   3.9  MVP-8MIP-1ASNBA2   \n",
       "1   0.9  3.1   4.1  0.078  -0.9  -0.3  -1.2   0.5               NaN   \n",
       "2  12.2  3.4  15.6  0.301   9.1   3.0  12.1   8.8       MVP-1ASNBA1   \n",
       "3   1.5  0.7   2.2  0.044   1.0  -1.6  -0.6   0.9               NaN   \n",
       "4   9.6  0.8  10.4  0.209   7.5  -1.3   6.3   5.0       MVP-7ASNBA2   \n",
       "\n",
       "   Player-additional  \n",
       "0          randlju01  \n",
       "1          barrerj01  \n",
       "2          jokicni01  \n",
       "3          hieldbu01  \n",
       "4          lillada01  \n",
       "\n",
       "[5 rows x 30 columns]"
      ]
     },
     "execution_count": 92,
     "metadata": {},
     "output_type": "execute_result"
    }
   ],
   "source": [
    "#Una vez cargado el dataset, y comprobado su tamaño, se procede a verificar el contenido con una vista truncada:\n",
    "df_Stats_Adv_2020.head()"
   ]
  },
  {
   "cell_type": "code",
   "execution_count": 93,
   "metadata": {},
   "outputs": [
    {
     "name": "stdout",
     "output_type": "stream",
     "text": [
      "        Rk            Player   Age Team Pos     G    GS      MP   PER    TS%  \\\n",
      "0      1.0     Julius Randle  26.0  NYK  PF  71.0  71.0  2667.0  19.7  0.567   \n",
      "1      2.0        RJ Barrett  20.0  NYK  SG  72.0  72.0  2511.0  13.4  0.535   \n",
      "2      3.0      Nikola Jokić  25.0  DEN   C  72.0  72.0  2488.0  31.3  0.647   \n",
      "12    11.0   Anthony Edwards  19.0  MIN  SG  72.0  55.0  2314.0  13.9  0.523   \n",
      "13    12.0      Jayson Tatum  22.0  BOS  SF  64.0  64.0  2290.0  21.3  0.576   \n",
      "..     ...               ...   ...  ...  ..   ...   ...     ...   ...    ...   \n",
      "643  483.0      Norvel Pelle  27.0  NYK   C   9.0   0.0    52.0  15.3  0.698   \n",
      "683  519.0       Theo Pinson  25.0  NYK  SG  17.0   0.0    34.0  -8.1  0.111   \n",
      "694  530.0      Jared Harper  23.0  NYK  PG   8.0   0.0    16.0 -10.8  0.260   \n",
      "697  533.0  Greg Whittington  27.0  DEN  PF   4.0   0.0    12.0 -10.2  0.000   \n",
      "702  538.0     Ashton Hagans  21.0  MIN  PG   2.0   0.0     4.0 -12.4    NaN   \n",
      "\n",
      "     ...   OWS  DWS    WS  WS/48  OBPM  DBPM   BPM  VORP            Awards  \\\n",
      "0    ...   3.4  4.3   7.8  0.140   2.9   0.9   3.8   3.9  MVP-8MIP-1ASNBA2   \n",
      "1    ...   0.9  3.1   4.1  0.078  -0.9  -0.3  -1.2   0.5               NaN   \n",
      "2    ...  12.2  3.4  15.6  0.301   9.1   3.0  12.1   8.8       MVP-1ASNBA1   \n",
      "12   ...  -0.6  1.4   0.8  0.017  -0.4  -1.7  -2.1  -0.1             ROY-2   \n",
      "13   ...   4.1  2.5   6.5  0.137   4.2  -0.3   3.9   3.4                AS   \n",
      "..   ...   ...  ...   ...    ...   ...   ...   ...   ...               ...   \n",
      "643  ...   0.1  0.1   0.2  0.189  -1.1   3.7   2.5   0.1               NaN   \n",
      "683  ...  -0.2  0.0  -0.1 -0.205 -13.2  -2.5 -15.7  -0.1               NaN   \n",
      "694  ...  -0.1  0.0  -0.1 -0.365 -16.6  -5.5 -22.1  -0.1               NaN   \n",
      "697  ...  -0.1  0.0  -0.1 -0.259 -11.4  -5.7 -17.2   0.0               NaN   \n",
      "702  ...   0.0  0.0   0.0 -0.353 -13.7  -7.4 -21.1   0.0               NaN   \n",
      "\n",
      "     Player-additional  \n",
      "0            randlju01  \n",
      "1            barrerj01  \n",
      "2            jokicni01  \n",
      "12           edwaran01  \n",
      "13           tatumja01  \n",
      "..                 ...  \n",
      "643          pelleno01  \n",
      "683          pinsoth01  \n",
      "694          harpeja01  \n",
      "697          whittgr01  \n",
      "702          haganas01  \n",
      "\n",
      "[151 rows x 30 columns]\n"
     ]
    }
   ],
   "source": [
    "lista_filtro_equipos_Stats = ['BOS', 'DEN', 'MIN', 'NYK', 'OKC']\n",
    "\n",
    "# Identificar jugadores en la lista de equipos\n",
    "jugadores_filtrados = df_Stats_Adv_2020[df_Stats_Adv_2020['Team'].isin(lista_filtro_equipos_Stats)]['Player'].unique()\n",
    "\n",
    "# Filtrar incluyendo filas solo de esos  jugadores\n",
    "df_Stats_filtrado_2020 = df_Stats_Adv_2020[df_Stats_Adv_2020['Player'].isin(jugadores_filtrados)]\n",
    "\n",
    "# Ahora df_filtrado contiene las estadísticas de los jugadores que estuvieron en los equipos de la lista\n",
    "print(df_Stats_filtrado_2020)"
   ]
  },
  {
   "cell_type": "code",
   "execution_count": 94,
   "metadata": {},
   "outputs": [
    {
     "name": "stdout",
     "output_type": "stream",
     "text": [
      "      Rk           Player   Age Team Pos     G    GS      MP   PER    TS%  \\\n",
      "0    1.0    Julius Randle  26.0  NYK  PF  71.0  71.0  2667.0  19.7  0.567   \n",
      "1    2.0       RJ Barrett  20.0  NYK  SG  72.0  72.0  2511.0  13.4  0.535   \n",
      "2    3.0     Nikola Jokić  25.0  DEN   C  72.0  72.0  2488.0  31.3  0.647   \n",
      "12  11.0  Anthony Edwards  19.0  MIN  SG  72.0  55.0  2314.0  13.9  0.523   \n",
      "13  12.0     Jayson Tatum  22.0  BOS  SF  64.0  64.0  2290.0  21.3  0.576   \n",
      "\n",
      "    ...  DWS    WS  WS/48  OBPM  DBPM   BPM  VORP            Awards  \\\n",
      "0   ...  4.3   7.8  0.140   2.9   0.9   3.8   3.9  MVP-8MIP-1ASNBA2   \n",
      "1   ...  3.1   4.1  0.078  -0.9  -0.3  -1.2   0.5               NaN   \n",
      "2   ...  3.4  15.6  0.301   9.1   3.0  12.1   8.8       MVP-1ASNBA1   \n",
      "12  ...  1.4   0.8  0.017  -0.4  -1.7  -2.1  -0.1             ROY-2   \n",
      "13  ...  2.5   6.5  0.137   4.2  -0.3   3.9   3.4                AS   \n",
      "\n",
      "    Player-additional  Temporada  \n",
      "0           randlju01       2020  \n",
      "1           barrerj01       2020  \n",
      "2           jokicni01       2020  \n",
      "12          edwaran01       2020  \n",
      "13          tatumja01       2020  \n",
      "\n",
      "[5 rows x 31 columns]\n"
     ]
    },
    {
     "name": "stderr",
     "output_type": "stream",
     "text": [
      "C:\\Users\\angel\\AppData\\Local\\Temp\\ipykernel_26872\\1301431041.py:2: SettingWithCopyWarning: \n",
      "A value is trying to be set on a copy of a slice from a DataFrame.\n",
      "Try using .loc[row_indexer,col_indexer] = value instead\n",
      "\n",
      "See the caveats in the documentation: https://pandas.pydata.org/pandas-docs/stable/user_guide/indexing.html#returning-a-view-versus-a-copy\n",
      "  df_Stats_filtrado_2020['Temporada'] = '2020'\n"
     ]
    }
   ],
   "source": [
    "#Agregar la columna \"Temporada\" con el valor '2020' en todas las filas\n",
    "df_Stats_filtrado_2020['Temporada'] = '2020'\n",
    "\n",
    "#Verificar la incorporación de la nueva columna\n",
    "print(df_Stats_filtrado_2020.head())"
   ]
  },
  {
   "cell_type": "code",
   "execution_count": 95,
   "metadata": {},
   "outputs": [
    {
     "name": "stdout",
     "output_type": "stream",
     "text": [
      "     Rk           Player   Age Team Pos     G    GS      MP   PER    TS%  ...  \\\n",
      "0   1.0    Julius Randle  26.0  NYK  PF  71.0  71.0  2667.0  19.7  0.567  ...   \n",
      "1   2.0       RJ Barrett  20.0  NYK  SG  72.0  72.0  2511.0  13.4  0.535  ...   \n",
      "2   3.0     Nikola Jokić  25.0  DEN   C  72.0  72.0  2488.0  31.3  0.647  ...   \n",
      "3  11.0  Anthony Edwards  19.0  MIN  SG  72.0  55.0  2314.0  13.9  0.523  ...   \n",
      "4  12.0     Jayson Tatum  22.0  BOS  SF  64.0  64.0  2290.0  21.3  0.576  ...   \n",
      "\n",
      "   WS/48  OBPM  DBPM   BPM  VORP            Awards  Player-additional  \\\n",
      "0  0.140   2.9   0.9   3.8   3.9  MVP-8MIP-1ASNBA2          randlju01   \n",
      "1  0.078  -0.9  -0.3  -1.2   0.5               NaN          barrerj01   \n",
      "2  0.301   9.1   3.0  12.1   8.8       MVP-1ASNBA1          jokicni01   \n",
      "3  0.017  -0.4  -1.7  -2.1  -0.1             ROY-2          edwaran01   \n",
      "4  0.137   4.2  -0.3   3.9   3.4                AS          tatumja01   \n",
      "\n",
      "   Temporada        full_name         id  \n",
      "0       2020    Julius Randle   203944.0  \n",
      "1       2020       RJ Barrett  1629628.0  \n",
      "2       2020              NaN        NaN  \n",
      "3       2020  Anthony Edwards  1630162.0  \n",
      "4       2020     Jayson Tatum  1628369.0  \n",
      "\n",
      "[5 rows x 33 columns]\n"
     ]
    }
   ],
   "source": [
    "# Realizar un merge para asignar 'person_id' de df_Player a df_Stats_filtrado_2020\n",
    "df_Stats_filtrado_2020 = df_Stats_filtrado_2020.merge(\n",
    "    df_Player[['full_name', 'id']],  # Selecciona columnas relevantes\n",
    "    left_on='Player',  # Columna en df_Stats_filtrado_2020\n",
    "    right_on='full_name',  # Columna en df_Player\n",
    "    how='left'  # Combinar mediante un LEFT JOIN para mantener todas las filas de df_Stats_filtrado_2020\n",
    ")\n",
    "\n",
    "# Verificar el resultado\n",
    "print(df_Stats_filtrado_2020.head())"
   ]
  },
  {
   "cell_type": "code",
   "execution_count": 96,
   "metadata": {},
   "outputs": [
    {
     "name": "stdout",
     "output_type": "stream",
     "text": [
      "TS%            2\n",
      "3PAr           2\n",
      "FTr            2\n",
      "TOV%           1\n",
      "Awards       144\n",
      "full_name      7\n",
      "id             7\n",
      "dtype: int64\n"
     ]
    }
   ],
   "source": [
    "# Verificar valores nulos restantes en todo el DataFrame\n",
    "\n",
    "Cant_Column_Null = df_Stats_filtrado_2020.isna().sum()\n",
    "\n",
    "Solo_Column_Con_Nulos = Cant_Column_Null[Cant_Column_Null>0]\n",
    "print(Solo_Column_Con_Nulos)"
   ]
  },
  {
   "cell_type": "code",
   "execution_count": 97,
   "metadata": {},
   "outputs": [
    {
     "name": "stdout",
     "output_type": "stream",
     "text": [
      "2             Nikola Jokić\n",
      "8             Théo Maledon\n",
      "56               PJ Dozier\n",
      "60         Robert Williams\n",
      "68     Juancho Hernangómez\n",
      "110             Kevin Knox\n",
      "126          Vlatko Čančar\n",
      "Name: Player, dtype: object\n"
     ]
    }
   ],
   "source": [
    "# Filtrar las filas donde la columna 'id' tiene valores nulos\n",
    "rows_with_nulls_in_id = df_Stats_filtrado_2020[df_Stats_filtrado_2020['id'].isna()]\n",
    "\n",
    "# Extraer los valores de la columna 'full name' para esas filas\n",
    "full_name_with_nulls_in_id = rows_with_nulls_in_id['Player']\n",
    "\n",
    "print(full_name_with_nulls_in_id)"
   ]
  },
  {
   "cell_type": "code",
   "execution_count": 98,
   "metadata": {},
   "outputs": [
    {
     "name": "stdout",
     "output_type": "stream",
     "text": [
      "Archivo guardado exitosamente como '2020 Stats Advanced Filtrado.csv'\n"
     ]
    }
   ],
   "source": [
    "# Guardar los datos filtrados en un archivo con el nombre Stats Advanced Filtrado.csv a fin de poder utilizarlo luego\n",
    "\n",
    "df_Stats_filtrado_2020.to_csv('2020 Stats Advanced Filtrado.csv', index=False)\n",
    "\n",
    "# Confirmación\n",
    "print(\"Archivo guardado exitosamente como '2020 Stats Advanced Filtrado.csv'\")"
   ]
  },
  {
   "cell_type": "markdown",
   "metadata": {},
   "source": [
    "ETL Estadisticas Avanzadas 2021"
   ]
  },
  {
   "cell_type": "code",
   "execution_count": 99,
   "metadata": {},
   "outputs": [],
   "source": [
    "#Leer el archivo de trabajo:\n",
    "df_Stats_Adv_2021 = pd.read_csv('2021-22 NBA Player Stats Advanced.csv')\n"
   ]
  },
  {
   "cell_type": "code",
   "execution_count": 100,
   "metadata": {},
   "outputs": [
    {
     "data": {
      "text/plain": [
       "(813, 30)"
      ]
     },
     "execution_count": 100,
     "metadata": {},
     "output_type": "execute_result"
    }
   ],
   "source": [
    "# Para comprobar que cantidad de registros y columnas tiene el dataset cargado:\n",
    "\n",
    "df_Stats_Adv_2021.shape"
   ]
  },
  {
   "cell_type": "code",
   "execution_count": 101,
   "metadata": {},
   "outputs": [
    {
     "data": {
      "text/html": [
       "<div>\n",
       "<style scoped>\n",
       "    .dataframe tbody tr th:only-of-type {\n",
       "        vertical-align: middle;\n",
       "    }\n",
       "\n",
       "    .dataframe tbody tr th {\n",
       "        vertical-align: top;\n",
       "    }\n",
       "\n",
       "    .dataframe thead th {\n",
       "        text-align: right;\n",
       "    }\n",
       "</style>\n",
       "<table border=\"1\" class=\"dataframe\">\n",
       "  <thead>\n",
       "    <tr style=\"text-align: right;\">\n",
       "      <th></th>\n",
       "      <th>Rk</th>\n",
       "      <th>Player</th>\n",
       "      <th>Age</th>\n",
       "      <th>Team</th>\n",
       "      <th>Pos</th>\n",
       "      <th>G</th>\n",
       "      <th>GS</th>\n",
       "      <th>MP</th>\n",
       "      <th>PER</th>\n",
       "      <th>TS%</th>\n",
       "      <th>...</th>\n",
       "      <th>OWS</th>\n",
       "      <th>DWS</th>\n",
       "      <th>WS</th>\n",
       "      <th>WS/48</th>\n",
       "      <th>OBPM</th>\n",
       "      <th>DBPM</th>\n",
       "      <th>BPM</th>\n",
       "      <th>VORP</th>\n",
       "      <th>Awards</th>\n",
       "      <th>Player-additional</th>\n",
       "    </tr>\n",
       "  </thead>\n",
       "  <tbody>\n",
       "    <tr>\n",
       "      <th>0</th>\n",
       "      <td>1.0</td>\n",
       "      <td>Mikal Bridges</td>\n",
       "      <td>25.0</td>\n",
       "      <td>PHO</td>\n",
       "      <td>SF</td>\n",
       "      <td>82.0</td>\n",
       "      <td>82.0</td>\n",
       "      <td>2854.0</td>\n",
       "      <td>14.4</td>\n",
       "      <td>0.627</td>\n",
       "      <td>...</td>\n",
       "      <td>5.2</td>\n",
       "      <td>3.7</td>\n",
       "      <td>8.9</td>\n",
       "      <td>0.150</td>\n",
       "      <td>0.5</td>\n",
       "      <td>1.1</td>\n",
       "      <td>1.6</td>\n",
       "      <td>2.6</td>\n",
       "      <td>DPOY-2</td>\n",
       "      <td>bridgmi01</td>\n",
       "    </tr>\n",
       "    <tr>\n",
       "      <th>1</th>\n",
       "      <td>2.0</td>\n",
       "      <td>Miles Bridges</td>\n",
       "      <td>23.0</td>\n",
       "      <td>CHO</td>\n",
       "      <td>PF</td>\n",
       "      <td>80.0</td>\n",
       "      <td>80.0</td>\n",
       "      <td>2837.0</td>\n",
       "      <td>17.9</td>\n",
       "      <td>0.593</td>\n",
       "      <td>...</td>\n",
       "      <td>5.0</td>\n",
       "      <td>2.3</td>\n",
       "      <td>7.2</td>\n",
       "      <td>0.123</td>\n",
       "      <td>1.8</td>\n",
       "      <td>-0.3</td>\n",
       "      <td>1.5</td>\n",
       "      <td>2.5</td>\n",
       "      <td>NaN</td>\n",
       "      <td>bridgmi02</td>\n",
       "    </tr>\n",
       "    <tr>\n",
       "      <th>2</th>\n",
       "      <td>3.0</td>\n",
       "      <td>DeMar DeRozan</td>\n",
       "      <td>32.0</td>\n",
       "      <td>CHI</td>\n",
       "      <td>PF</td>\n",
       "      <td>76.0</td>\n",
       "      <td>76.0</td>\n",
       "      <td>2743.0</td>\n",
       "      <td>23.1</td>\n",
       "      <td>0.590</td>\n",
       "      <td>...</td>\n",
       "      <td>7.0</td>\n",
       "      <td>1.8</td>\n",
       "      <td>8.8</td>\n",
       "      <td>0.154</td>\n",
       "      <td>3.4</td>\n",
       "      <td>-0.9</td>\n",
       "      <td>2.5</td>\n",
       "      <td>3.1</td>\n",
       "      <td>MVP-10ASNBA2</td>\n",
       "      <td>derozde01</td>\n",
       "    </tr>\n",
       "    <tr>\n",
       "      <th>3</th>\n",
       "      <td>4.0</td>\n",
       "      <td>Jayson Tatum</td>\n",
       "      <td>23.0</td>\n",
       "      <td>BOS</td>\n",
       "      <td>SF</td>\n",
       "      <td>76.0</td>\n",
       "      <td>76.0</td>\n",
       "      <td>2731.0</td>\n",
       "      <td>21.8</td>\n",
       "      <td>0.578</td>\n",
       "      <td>...</td>\n",
       "      <td>5.0</td>\n",
       "      <td>4.6</td>\n",
       "      <td>9.6</td>\n",
       "      <td>0.169</td>\n",
       "      <td>4.3</td>\n",
       "      <td>0.6</td>\n",
       "      <td>5.0</td>\n",
       "      <td>4.8</td>\n",
       "      <td>MVP-6ASNBA1</td>\n",
       "      <td>tatumja01</td>\n",
       "    </tr>\n",
       "    <tr>\n",
       "      <th>4</th>\n",
       "      <td>5.0</td>\n",
       "      <td>Saddiq Bey</td>\n",
       "      <td>22.0</td>\n",
       "      <td>DET</td>\n",
       "      <td>SF</td>\n",
       "      <td>82.0</td>\n",
       "      <td>82.0</td>\n",
       "      <td>2704.0</td>\n",
       "      <td>14.0</td>\n",
       "      <td>0.529</td>\n",
       "      <td>...</td>\n",
       "      <td>2.4</td>\n",
       "      <td>1.6</td>\n",
       "      <td>4.0</td>\n",
       "      <td>0.071</td>\n",
       "      <td>0.9</td>\n",
       "      <td>-1.2</td>\n",
       "      <td>-0.3</td>\n",
       "      <td>1.2</td>\n",
       "      <td>NaN</td>\n",
       "      <td>beysa01</td>\n",
       "    </tr>\n",
       "  </tbody>\n",
       "</table>\n",
       "<p>5 rows × 30 columns</p>\n",
       "</div>"
      ],
      "text/plain": [
       "    Rk         Player   Age Team Pos     G    GS      MP   PER    TS%  ...  \\\n",
       "0  1.0  Mikal Bridges  25.0  PHO  SF  82.0  82.0  2854.0  14.4  0.627  ...   \n",
       "1  2.0  Miles Bridges  23.0  CHO  PF  80.0  80.0  2837.0  17.9  0.593  ...   \n",
       "2  3.0  DeMar DeRozan  32.0  CHI  PF  76.0  76.0  2743.0  23.1  0.590  ...   \n",
       "3  4.0   Jayson Tatum  23.0  BOS  SF  76.0  76.0  2731.0  21.8  0.578  ...   \n",
       "4  5.0     Saddiq Bey  22.0  DET  SF  82.0  82.0  2704.0  14.0  0.529  ...   \n",
       "\n",
       "   OWS  DWS   WS  WS/48  OBPM  DBPM  BPM  VORP        Awards  \\\n",
       "0  5.2  3.7  8.9  0.150   0.5   1.1  1.6   2.6        DPOY-2   \n",
       "1  5.0  2.3  7.2  0.123   1.8  -0.3  1.5   2.5           NaN   \n",
       "2  7.0  1.8  8.8  0.154   3.4  -0.9  2.5   3.1  MVP-10ASNBA2   \n",
       "3  5.0  4.6  9.6  0.169   4.3   0.6  5.0   4.8   MVP-6ASNBA1   \n",
       "4  2.4  1.6  4.0  0.071   0.9  -1.2 -0.3   1.2           NaN   \n",
       "\n",
       "   Player-additional  \n",
       "0          bridgmi01  \n",
       "1          bridgmi02  \n",
       "2          derozde01  \n",
       "3          tatumja01  \n",
       "4            beysa01  \n",
       "\n",
       "[5 rows x 30 columns]"
      ]
     },
     "execution_count": 101,
     "metadata": {},
     "output_type": "execute_result"
    }
   ],
   "source": [
    "#Una vez cargado el dataset, y comprobado su tamaño, se procede a verificar el contenido con una vista truncada:\n",
    "df_Stats_Adv_2021.head()"
   ]
  },
  {
   "cell_type": "code",
   "execution_count": 102,
   "metadata": {},
   "outputs": [
    {
     "name": "stdout",
     "output_type": "stream",
     "text": [
      "        Rk              Player   Age Team Pos     G    GS      MP   PER  \\\n",
      "3      4.0        Jayson Tatum  23.0  BOS  SF  76.0  76.0  2731.0  21.8   \n",
      "15    14.0       Julius Randle  27.0  NYK  PF  72.0  72.0  2544.0  15.7   \n",
      "21    18.0        Nikola Jokić  26.0  DEN   C  74.0  74.0  2476.0  32.8   \n",
      "22    19.0  Karl-Anthony Towns  26.0  MIN   C  74.0  74.0  2476.0  24.1   \n",
      "23    20.0     Anthony Edwards  20.0  MIN  SG  72.0  72.0  2466.0  16.5   \n",
      "..     ...                 ...   ...  ...  ..   ...   ...     ...   ...   \n",
      "795  589.0           Matt Ryan  24.0  BOS  SF   1.0   0.0     5.0   3.5   \n",
      "801  595.0         Joe Johnson  40.0  BOS  SG   1.0   0.0     2.0  38.7   \n",
      "803  597.0          Tyler Hall  24.0  NYK  SG   1.0   0.0     2.0   0.0   \n",
      "806  600.0          C.J. Miles  34.0  BOS  SG   1.0   0.0     2.0  -7.8   \n",
      "807  601.0         Matt Mooney  25.0  NYK  SG   1.0   0.0     2.0 -20.0   \n",
      "\n",
      "       TS%  ...   OWS  DWS    WS  WS/48  OBPM  DBPM   BPM  VORP       Awards  \\\n",
      "3    0.578  ...   5.0  4.6   9.6  0.169   4.3   0.6   5.0   4.8  MVP-6ASNBA1   \n",
      "15   0.509  ...  -0.3  3.4   3.1  0.059   0.4   0.2   0.5   1.6          NaN   \n",
      "21   0.661  ...  10.8  4.5  15.2  0.296   9.2   4.5  13.7   9.8  MVP-1ASNBA1   \n",
      "22   0.640  ...   7.1  3.2  10.3  0.199   4.5   0.5   5.0   4.4       ASNBA3   \n",
      "23   0.560  ...   1.8  2.4   4.3  0.084   1.6  -0.4   1.2   2.0          NaN   \n",
      "..     ...  ...   ...  ...   ...    ...   ...   ...   ...   ...          ...   \n",
      "795  0.300  ...   0.0  0.0   0.0 -0.250  -9.9  -3.8 -13.7   0.0          NaN   \n",
      "801  1.000  ...   0.0  0.0   0.0  0.335  12.1   2.8  15.0   0.0          NaN   \n",
      "803    NaN  ...   0.0  0.0   0.0  0.007  -8.1  -0.5  -8.5   0.0          NaN   \n",
      "806    NaN  ...   0.0  0.0   0.0  0.030 -16.3   0.0 -16.3   0.0          NaN   \n",
      "807  0.000  ...  -0.1  0.0   0.0 -0.915 -33.9  11.5 -22.3   0.0          NaN   \n",
      "\n",
      "     Player-additional  \n",
      "3            tatumja01  \n",
      "15           randlju01  \n",
      "21           jokicni01  \n",
      "22           townska01  \n",
      "23           edwaran01  \n",
      "..                 ...  \n",
      "795           ryanma01  \n",
      "801          johnsjo02  \n",
      "803           hallty01  \n",
      "806          milescj01  \n",
      "807          moonema01  \n",
      "\n",
      "[171 rows x 30 columns]\n"
     ]
    }
   ],
   "source": [
    "lista_filtro_equipos_Stats = ['BOS', 'DEN', 'MIN', 'NYK', 'OKC']\n",
    "\n",
    "# Identificar jugadores en la lista de equipos\n",
    "jugadores_filtrados = df_Stats_Adv_2021[df_Stats_Adv_2021['Team'].isin(lista_filtro_equipos_Stats)]['Player'].unique()\n",
    "\n",
    "# Filtrar incluyendo filas solo de esos  jugadores\n",
    "df_Stats_filtrado_2021 = df_Stats_Adv_2021[df_Stats_Adv_2021['Player'].isin(jugadores_filtrados)]\n",
    "\n",
    "# Ahora df_filtrado contiene las estadísticas de los jugadores que estuvieron en los equipos de la lista\n",
    "print(df_Stats_filtrado_2021)"
   ]
  },
  {
   "cell_type": "code",
   "execution_count": 103,
   "metadata": {},
   "outputs": [
    {
     "name": "stdout",
     "output_type": "stream",
     "text": [
      "      Rk              Player   Age Team Pos     G    GS      MP   PER    TS%  \\\n",
      "3    4.0        Jayson Tatum  23.0  BOS  SF  76.0  76.0  2731.0  21.8  0.578   \n",
      "15  14.0       Julius Randle  27.0  NYK  PF  72.0  72.0  2544.0  15.7  0.509   \n",
      "21  18.0        Nikola Jokić  26.0  DEN   C  74.0  74.0  2476.0  32.8  0.661   \n",
      "22  19.0  Karl-Anthony Towns  26.0  MIN   C  74.0  74.0  2476.0  24.1  0.640   \n",
      "23  20.0     Anthony Edwards  20.0  MIN  SG  72.0  72.0  2466.0  16.5  0.560   \n",
      "\n",
      "    ...  DWS    WS  WS/48  OBPM  DBPM   BPM  VORP       Awards  \\\n",
      "3   ...  4.6   9.6  0.169   4.3   0.6   5.0   4.8  MVP-6ASNBA1   \n",
      "15  ...  3.4   3.1  0.059   0.4   0.2   0.5   1.6          NaN   \n",
      "21  ...  4.5  15.2  0.296   9.2   4.5  13.7   9.8  MVP-1ASNBA1   \n",
      "22  ...  3.2  10.3  0.199   4.5   0.5   5.0   4.4       ASNBA3   \n",
      "23  ...  2.4   4.3  0.084   1.6  -0.4   1.2   2.0          NaN   \n",
      "\n",
      "    Player-additional  Temporada  \n",
      "3           tatumja01       2021  \n",
      "15          randlju01       2021  \n",
      "21          jokicni01       2021  \n",
      "22          townska01       2021  \n",
      "23          edwaran01       2021  \n",
      "\n",
      "[5 rows x 31 columns]\n"
     ]
    },
    {
     "name": "stderr",
     "output_type": "stream",
     "text": [
      "C:\\Users\\angel\\AppData\\Local\\Temp\\ipykernel_26872\\3798909527.py:2: SettingWithCopyWarning: \n",
      "A value is trying to be set on a copy of a slice from a DataFrame.\n",
      "Try using .loc[row_indexer,col_indexer] = value instead\n",
      "\n",
      "See the caveats in the documentation: https://pandas.pydata.org/pandas-docs/stable/user_guide/indexing.html#returning-a-view-versus-a-copy\n",
      "  df_Stats_filtrado_2021['Temporada'] = '2021'\n"
     ]
    }
   ],
   "source": [
    "#Agregar la columna \"Temporada\" con el valor '2021' en todas las filas\n",
    "df_Stats_filtrado_2021['Temporada'] = '2021'\n",
    "\n",
    "#Verificar la incorporación de la nueva columna\n",
    "print(df_Stats_filtrado_2021.head())"
   ]
  },
  {
   "cell_type": "code",
   "execution_count": 104,
   "metadata": {},
   "outputs": [
    {
     "name": "stdout",
     "output_type": "stream",
     "text": [
      "     Rk              Player   Age Team Pos     G    GS      MP   PER    TS%  \\\n",
      "0   4.0        Jayson Tatum  23.0  BOS  SF  76.0  76.0  2731.0  21.8  0.578   \n",
      "1  14.0       Julius Randle  27.0  NYK  PF  72.0  72.0  2544.0  15.7  0.509   \n",
      "2  18.0        Nikola Jokić  26.0  DEN   C  74.0  74.0  2476.0  32.8  0.661   \n",
      "3  19.0  Karl-Anthony Towns  26.0  MIN   C  74.0  74.0  2476.0  24.1  0.640   \n",
      "4  20.0     Anthony Edwards  20.0  MIN  SG  72.0  72.0  2466.0  16.5  0.560   \n",
      "\n",
      "   ...  WS/48  OBPM  DBPM   BPM  VORP       Awards  Player-additional  \\\n",
      "0  ...  0.169   4.3   0.6   5.0   4.8  MVP-6ASNBA1          tatumja01   \n",
      "1  ...  0.059   0.4   0.2   0.5   1.6          NaN          randlju01   \n",
      "2  ...  0.296   9.2   4.5  13.7   9.8  MVP-1ASNBA1          jokicni01   \n",
      "3  ...  0.199   4.5   0.5   5.0   4.4       ASNBA3          townska01   \n",
      "4  ...  0.084   1.6  -0.4   1.2   2.0          NaN          edwaran01   \n",
      "\n",
      "   Temporada           full_name         id  \n",
      "0       2021        Jayson Tatum  1628369.0  \n",
      "1       2021       Julius Randle   203944.0  \n",
      "2       2021                 NaN        NaN  \n",
      "3       2021  Karl-Anthony Towns  1626157.0  \n",
      "4       2021     Anthony Edwards  1630162.0  \n",
      "\n",
      "[5 rows x 33 columns]\n"
     ]
    }
   ],
   "source": [
    "# Realizar un merge para asignar 'person_id' de df_Player a df_Stats_filtrado_2021\n",
    "df_Stats_filtrado_2021 = df_Stats_filtrado_2021.merge(\n",
    "    df_Player[['full_name', 'id']],  # Selecciona columnas relevantes\n",
    "    left_on='Player',  # Columna en df_Stats_filtrado_2021\n",
    "    right_on='full_name',  # Columna en df_Player\n",
    "    how='left'  # Combinar mediante un LEFT JOIN para mantener todas las filas de df_Stats_filtrado_2021\n",
    ")\n",
    "\n",
    "# Verificar el resultado\n",
    "print(df_Stats_filtrado_2021.head())\n"
   ]
  },
  {
   "cell_type": "code",
   "execution_count": 105,
   "metadata": {},
   "outputs": [
    {
     "name": "stdout",
     "output_type": "stream",
     "text": [
      "TS%            4\n",
      "3PAr           4\n",
      "FTr            4\n",
      "TOV%           4\n",
      "Awards       164\n",
      "full_name     17\n",
      "id            17\n",
      "dtype: int64\n"
     ]
    }
   ],
   "source": [
    "# Verificar valores nulos restantes en todo el DataFrame\n",
    "\n",
    "Cant_Column_Null = df_Stats_filtrado_2021.isna().sum()\n",
    "\n",
    "Solo_Column_Con_Nulos = Cant_Column_Null[Cant_Column_Null>0]\n",
    "print(Solo_Column_Con_Nulos)\n"
   ]
  },
  {
   "cell_type": "code",
   "execution_count": 106,
   "metadata": {},
   "outputs": [
    {
     "name": "stdout",
     "output_type": "stream",
     "text": [
      "2             Nikola Jokić\n",
      "25         Dennis Schröder\n",
      "26         Dennis Schröder\n",
      "27         Dennis Schröder\n",
      "28         Robert Williams\n",
      "63            Théo Maledon\n",
      "91     Juancho Hernangómez\n",
      "92     Juancho Hernangómez\n",
      "93     Juancho Hernangómez\n",
      "94     Juancho Hernangómez\n",
      "98               PJ Dozier\n",
      "104             Kevin Knox\n",
      "105             Kevin Knox\n",
      "106             Kevin Knox\n",
      "117          Vlatko Čančar\n",
      "124         Melvin Frazier\n",
      "169             C.J. Miles\n",
      "Name: Player, dtype: object\n"
     ]
    }
   ],
   "source": [
    "# Filtrar las filas donde la columna 'id' tiene valores nulos\n",
    "rows_with_nulls_in_id = df_Stats_filtrado_2021[df_Stats_filtrado_2021['id'].isna()]\n",
    "\n",
    "# Extraer los valores de la columna 'full name' para esas filas\n",
    "full_name_with_nulls_in_id = rows_with_nulls_in_id['Player']\n",
    "\n",
    "print(full_name_with_nulls_in_id)"
   ]
  },
  {
   "cell_type": "code",
   "execution_count": 107,
   "metadata": {},
   "outputs": [
    {
     "name": "stdout",
     "output_type": "stream",
     "text": [
      "Archivo guardado exitosamente como '2021 Stats Advanced Filtrado.csv'\n"
     ]
    }
   ],
   "source": [
    "# Guardar los datos filtrados en un archivo con el nombre Stats Advanced Filtrado.csv a fin de poder utilizarlo luego\n",
    "\n",
    "df_Stats_filtrado_2021.to_csv('2021 Stats Advanced Filtrado.csv', index=False)\n",
    "\n",
    "# Confirmación\n",
    "print(\"Archivo guardado exitosamente como '2021 Stats Advanced Filtrado.csv'\")"
   ]
  },
  {
   "cell_type": "markdown",
   "metadata": {},
   "source": [
    "ETL Estadisticas Avanzadas 2022"
   ]
  },
  {
   "cell_type": "code",
   "execution_count": 108,
   "metadata": {},
   "outputs": [],
   "source": [
    "#Leer el archivo de trabajo:\n",
    "df_Stats_Adv_2022 = pd.read_csv('2022-23 NBA Player Stats Advanced.csv')\n",
    "\n"
   ]
  },
  {
   "cell_type": "code",
   "execution_count": 109,
   "metadata": {},
   "outputs": [
    {
     "data": {
      "text/plain": [
       "(680, 30)"
      ]
     },
     "execution_count": 109,
     "metadata": {},
     "output_type": "execute_result"
    }
   ],
   "source": [
    "# Para comprobar que cantidad de registros y columnas tiene el dataset cargado:\n",
    "\n",
    "df_Stats_Adv_2022.shape\n"
   ]
  },
  {
   "cell_type": "code",
   "execution_count": 110,
   "metadata": {},
   "outputs": [
    {
     "data": {
      "text/html": [
       "<div>\n",
       "<style scoped>\n",
       "    .dataframe tbody tr th:only-of-type {\n",
       "        vertical-align: middle;\n",
       "    }\n",
       "\n",
       "    .dataframe tbody tr th {\n",
       "        vertical-align: top;\n",
       "    }\n",
       "\n",
       "    .dataframe thead th {\n",
       "        text-align: right;\n",
       "    }\n",
       "</style>\n",
       "<table border=\"1\" class=\"dataframe\">\n",
       "  <thead>\n",
       "    <tr style=\"text-align: right;\">\n",
       "      <th></th>\n",
       "      <th>Rk</th>\n",
       "      <th>Player</th>\n",
       "      <th>Age</th>\n",
       "      <th>Team</th>\n",
       "      <th>Pos</th>\n",
       "      <th>G</th>\n",
       "      <th>GS</th>\n",
       "      <th>MP</th>\n",
       "      <th>PER</th>\n",
       "      <th>TS%</th>\n",
       "      <th>...</th>\n",
       "      <th>OWS</th>\n",
       "      <th>DWS</th>\n",
       "      <th>WS</th>\n",
       "      <th>WS/48</th>\n",
       "      <th>OBPM</th>\n",
       "      <th>DBPM</th>\n",
       "      <th>BPM</th>\n",
       "      <th>VORP</th>\n",
       "      <th>Awards</th>\n",
       "      <th>Player-additional</th>\n",
       "    </tr>\n",
       "  </thead>\n",
       "  <tbody>\n",
       "    <tr>\n",
       "      <th>0</th>\n",
       "      <td>1.0</td>\n",
       "      <td>Mikal Bridges</td>\n",
       "      <td>26.0</td>\n",
       "      <td>2TM</td>\n",
       "      <td>SG</td>\n",
       "      <td>83.0</td>\n",
       "      <td>83.0</td>\n",
       "      <td>2963.0</td>\n",
       "      <td>16.8</td>\n",
       "      <td>0.587</td>\n",
       "      <td>...</td>\n",
       "      <td>4.4</td>\n",
       "      <td>3.1</td>\n",
       "      <td>7.5</td>\n",
       "      <td>0.121</td>\n",
       "      <td>1.5</td>\n",
       "      <td>0.2</td>\n",
       "      <td>1.7</td>\n",
       "      <td>2.8</td>\n",
       "      <td>NaN</td>\n",
       "      <td>bridgmi01</td>\n",
       "    </tr>\n",
       "    <tr>\n",
       "      <th>1</th>\n",
       "      <td>1.0</td>\n",
       "      <td>Mikal Bridges</td>\n",
       "      <td>26.0</td>\n",
       "      <td>PHO</td>\n",
       "      <td>SF</td>\n",
       "      <td>56.0</td>\n",
       "      <td>56.0</td>\n",
       "      <td>2040.0</td>\n",
       "      <td>14.8</td>\n",
       "      <td>0.574</td>\n",
       "      <td>...</td>\n",
       "      <td>2.7</td>\n",
       "      <td>2.2</td>\n",
       "      <td>4.9</td>\n",
       "      <td>0.116</td>\n",
       "      <td>0.4</td>\n",
       "      <td>0.6</td>\n",
       "      <td>1.0</td>\n",
       "      <td>1.6</td>\n",
       "      <td>NaN</td>\n",
       "      <td>bridgmi01</td>\n",
       "    </tr>\n",
       "    <tr>\n",
       "      <th>2</th>\n",
       "      <td>1.0</td>\n",
       "      <td>Mikal Bridges</td>\n",
       "      <td>26.0</td>\n",
       "      <td>BRK</td>\n",
       "      <td>SG</td>\n",
       "      <td>27.0</td>\n",
       "      <td>27.0</td>\n",
       "      <td>923.0</td>\n",
       "      <td>21.3</td>\n",
       "      <td>0.607</td>\n",
       "      <td>...</td>\n",
       "      <td>1.7</td>\n",
       "      <td>0.8</td>\n",
       "      <td>2.5</td>\n",
       "      <td>0.133</td>\n",
       "      <td>4.0</td>\n",
       "      <td>-0.8</td>\n",
       "      <td>3.3</td>\n",
       "      <td>1.2</td>\n",
       "      <td>NaN</td>\n",
       "      <td>bridgmi01</td>\n",
       "    </tr>\n",
       "    <tr>\n",
       "      <th>3</th>\n",
       "      <td>2.0</td>\n",
       "      <td>Anthony Edwards</td>\n",
       "      <td>21.0</td>\n",
       "      <td>MIN</td>\n",
       "      <td>SG</td>\n",
       "      <td>79.0</td>\n",
       "      <td>79.0</td>\n",
       "      <td>2842.0</td>\n",
       "      <td>17.4</td>\n",
       "      <td>0.564</td>\n",
       "      <td>...</td>\n",
       "      <td>0.2</td>\n",
       "      <td>3.6</td>\n",
       "      <td>3.8</td>\n",
       "      <td>0.064</td>\n",
       "      <td>1.0</td>\n",
       "      <td>0.0</td>\n",
       "      <td>1.0</td>\n",
       "      <td>2.1</td>\n",
       "      <td>AS</td>\n",
       "      <td>edwaran01</td>\n",
       "    </tr>\n",
       "    <tr>\n",
       "      <th>4</th>\n",
       "      <td>3.0</td>\n",
       "      <td>Zach LaVine</td>\n",
       "      <td>27.0</td>\n",
       "      <td>CHI</td>\n",
       "      <td>SG</td>\n",
       "      <td>77.0</td>\n",
       "      <td>77.0</td>\n",
       "      <td>2768.0</td>\n",
       "      <td>19.0</td>\n",
       "      <td>0.607</td>\n",
       "      <td>...</td>\n",
       "      <td>4.2</td>\n",
       "      <td>2.9</td>\n",
       "      <td>7.1</td>\n",
       "      <td>0.123</td>\n",
       "      <td>2.7</td>\n",
       "      <td>-0.7</td>\n",
       "      <td>1.9</td>\n",
       "      <td>2.7</td>\n",
       "      <td>NaN</td>\n",
       "      <td>lavinza01</td>\n",
       "    </tr>\n",
       "  </tbody>\n",
       "</table>\n",
       "<p>5 rows × 30 columns</p>\n",
       "</div>"
      ],
      "text/plain": [
       "    Rk           Player   Age Team Pos     G    GS      MP   PER    TS%  ...  \\\n",
       "0  1.0    Mikal Bridges  26.0  2TM  SG  83.0  83.0  2963.0  16.8  0.587  ...   \n",
       "1  1.0    Mikal Bridges  26.0  PHO  SF  56.0  56.0  2040.0  14.8  0.574  ...   \n",
       "2  1.0    Mikal Bridges  26.0  BRK  SG  27.0  27.0   923.0  21.3  0.607  ...   \n",
       "3  2.0  Anthony Edwards  21.0  MIN  SG  79.0  79.0  2842.0  17.4  0.564  ...   \n",
       "4  3.0      Zach LaVine  27.0  CHI  SG  77.0  77.0  2768.0  19.0  0.607  ...   \n",
       "\n",
       "   OWS  DWS   WS  WS/48  OBPM  DBPM  BPM  VORP  Awards  Player-additional  \n",
       "0  4.4  3.1  7.5  0.121   1.5   0.2  1.7   2.8     NaN          bridgmi01  \n",
       "1  2.7  2.2  4.9  0.116   0.4   0.6  1.0   1.6     NaN          bridgmi01  \n",
       "2  1.7  0.8  2.5  0.133   4.0  -0.8  3.3   1.2     NaN          bridgmi01  \n",
       "3  0.2  3.6  3.8  0.064   1.0   0.0  1.0   2.1      AS          edwaran01  \n",
       "4  4.2  2.9  7.1  0.123   2.7  -0.7  1.9   2.7     NaN          lavinza01  \n",
       "\n",
       "[5 rows x 30 columns]"
      ]
     },
     "execution_count": 110,
     "metadata": {},
     "output_type": "execute_result"
    }
   ],
   "source": [
    "#Una vez cargado el dataset, y comprobado su tamaño, se procede a verificar el contenido con una vista truncada:\n",
    "df_Stats_Adv_2022.head()\n"
   ]
  },
  {
   "cell_type": "code",
   "execution_count": 111,
   "metadata": {},
   "outputs": [
    {
     "name": "stdout",
     "output_type": "stream",
     "text": [
      "        Rk             Player   Age Team Pos     G    GS      MP   PER    TS%  \\\n",
      "3      2.0    Anthony Edwards  21.0  MIN  SG  79.0  79.0  2842.0  17.4  0.564   \n",
      "6      5.0      Julius Randle  28.0  NYK  PF  77.0  77.0  2737.0  20.3  0.581   \n",
      "8      7.0       Jayson Tatum  24.0  BOS  SF  74.0  74.0  2732.0  23.7  0.607   \n",
      "25    22.0         RJ Barrett  22.0  NYK  SG  73.0  73.0  2475.0  12.9  0.531   \n",
      "27    24.0          Josh Hart  27.0  2TM  SF  76.0  52.0  2454.0  14.1  0.622   \n",
      "..     ...                ...   ...  ...  ..   ...   ...     ...   ...    ...   \n",
      "644  507.0  Mfiondu Kabengele  25.0  BOS  PF   4.0   0.0    36.0   8.1  0.381   \n",
      "646  509.0  Justin Champagnie  21.0  2TM  SF   5.0   0.0    34.0  10.3  0.367   \n",
      "647  509.0  Justin Champagnie  21.0  TOR  SF   3.0   0.0    11.0  28.9  1.000   \n",
      "648  509.0  Justin Champagnie  21.0  BOS  SF   2.0   0.0    23.0   1.5  0.208   \n",
      "669  530.0       Trevor Keels  19.0  NYK  SG   3.0   0.0     8.0   3.7  0.375   \n",
      "\n",
      "     ...  OWS  DWS    WS  WS/48  OBPM  DBPM   BPM  VORP              Awards  \\\n",
      "3    ...  0.2  3.6   3.8  0.064   1.0   0.0   1.0   2.1                  AS   \n",
      "6    ...  5.0  3.1   8.1  0.142   3.9  -0.2   3.7   3.9       CPOY-14ASNBA3   \n",
      "8    ...  6.2  4.3  10.5  0.185   4.8   0.7   5.5   5.1  MVP-4CPOY-10ASNBA1   \n",
      "25   ...  0.5  1.8   2.2  0.043  -1.2  -1.9  -3.1  -0.7                 NaN   \n",
      "27   ...  3.8  2.2   6.0  0.118  -0.2   1.1   0.9   1.8                 NaN   \n",
      "..   ...  ...  ...   ...    ...   ...   ...   ...   ...                 ...   \n",
      "644  ...  0.0  0.1   0.1  0.067  -6.6  -2.4  -8.9  -0.1                 NaN   \n",
      "646  ...  0.0  0.0   0.0  0.009  -5.1  -2.8  -7.9  -0.1                 NaN   \n",
      "647  ...  0.1  0.0   0.1  0.332   6.1   1.9   8.1   0.0                 NaN   \n",
      "648  ... -0.1  0.0  -0.1 -0.145 -10.5  -5.1 -15.5  -0.1                 NaN   \n",
      "669  ...  0.0  0.0   0.0 -0.062  -7.4  -5.6 -13.0   0.0                 NaN   \n",
      "\n",
      "     Player-additional  \n",
      "3            edwaran01  \n",
      "6            randlju01  \n",
      "8            tatumja01  \n",
      "25           barrerj01  \n",
      "27            hartjo01  \n",
      "..                 ...  \n",
      "644          kabenmf01  \n",
      "646          champju01  \n",
      "647          champju01  \n",
      "648          champju01  \n",
      "669          keelstr01  \n",
      "\n",
      "[127 rows x 30 columns]\n"
     ]
    }
   ],
   "source": [
    "lista_filtro_equipos_Stats = ['BOS', 'DEN', 'MIN', 'NYK', 'OKC']\n",
    "\n",
    "# Identificar jugadores en la lista de equipos\n",
    "jugadores_filtrados = df_Stats_Adv_2022[df_Stats_Adv_2022['Team'].isin(lista_filtro_equipos_Stats)]['Player'].unique()\n",
    "\n",
    "# Filtrar incluyendo filas solo de esos  jugadores\n",
    "df_Stats_filtrado_2022 = df_Stats_Adv_2022[df_Stats_Adv_2022['Player'].isin(jugadores_filtrados)]\n",
    "\n",
    "# Ahora df_filtrado contiene las estadísticas de los jugadores que estuvieron en los equipos de la lista\n",
    "print(df_Stats_filtrado_2022)"
   ]
  },
  {
   "cell_type": "code",
   "execution_count": 112,
   "metadata": {},
   "outputs": [
    {
     "name": "stdout",
     "output_type": "stream",
     "text": [
      "      Rk           Player   Age Team Pos     G    GS      MP   PER    TS%  \\\n",
      "3    2.0  Anthony Edwards  21.0  MIN  SG  79.0  79.0  2842.0  17.4  0.564   \n",
      "6    5.0    Julius Randle  28.0  NYK  PF  77.0  77.0  2737.0  20.3  0.581   \n",
      "8    7.0     Jayson Tatum  24.0  BOS  SF  74.0  74.0  2732.0  23.7  0.607   \n",
      "25  22.0       RJ Barrett  22.0  NYK  SG  73.0  73.0  2475.0  12.9  0.531   \n",
      "27  24.0        Josh Hart  27.0  2TM  SF  76.0  52.0  2454.0  14.1  0.622   \n",
      "\n",
      "    ...  DWS    WS  WS/48  OBPM  DBPM  BPM  VORP              Awards  \\\n",
      "3   ...  3.6   3.8  0.064   1.0   0.0  1.0   2.1                  AS   \n",
      "6   ...  3.1   8.1  0.142   3.9  -0.2  3.7   3.9       CPOY-14ASNBA3   \n",
      "8   ...  4.3  10.5  0.185   4.8   0.7  5.5   5.1  MVP-4CPOY-10ASNBA1   \n",
      "25  ...  1.8   2.2  0.043  -1.2  -1.9 -3.1  -0.7                 NaN   \n",
      "27  ...  2.2   6.0  0.118  -0.2   1.1  0.9   1.8                 NaN   \n",
      "\n",
      "    Player-additional  Temporada  \n",
      "3           edwaran01       2022  \n",
      "6           randlju01       2022  \n",
      "8           tatumja01       2022  \n",
      "25          barrerj01       2022  \n",
      "27           hartjo01       2022  \n",
      "\n",
      "[5 rows x 31 columns]\n"
     ]
    },
    {
     "name": "stderr",
     "output_type": "stream",
     "text": [
      "C:\\Users\\angel\\AppData\\Local\\Temp\\ipykernel_26872\\1518481637.py:2: SettingWithCopyWarning: \n",
      "A value is trying to be set on a copy of a slice from a DataFrame.\n",
      "Try using .loc[row_indexer,col_indexer] = value instead\n",
      "\n",
      "See the caveats in the documentation: https://pandas.pydata.org/pandas-docs/stable/user_guide/indexing.html#returning-a-view-versus-a-copy\n",
      "  df_Stats_filtrado_2022['Temporada'] = '2022'\n"
     ]
    }
   ],
   "source": [
    "#Agregar la columna \"Temporada\" con el valor '2022' en todas las filas\n",
    "df_Stats_filtrado_2022['Temporada'] = '2022'\n",
    "\n",
    "#Verificar la incorporación de la nueva columna\n",
    "print(df_Stats_filtrado_2022.head())\n"
   ]
  },
  {
   "cell_type": "code",
   "execution_count": 113,
   "metadata": {},
   "outputs": [
    {
     "name": "stdout",
     "output_type": "stream",
     "text": [
      "     Rk           Player   Age Team Pos     G    GS      MP   PER    TS%  ...  \\\n",
      "0   2.0  Anthony Edwards  21.0  MIN  SG  79.0  79.0  2842.0  17.4  0.564  ...   \n",
      "1   5.0    Julius Randle  28.0  NYK  PF  77.0  77.0  2737.0  20.3  0.581  ...   \n",
      "2   7.0     Jayson Tatum  24.0  BOS  SF  74.0  74.0  2732.0  23.7  0.607  ...   \n",
      "3  22.0       RJ Barrett  22.0  NYK  SG  73.0  73.0  2475.0  12.9  0.531  ...   \n",
      "4  24.0        Josh Hart  27.0  2TM  SF  76.0  52.0  2454.0  14.1  0.622  ...   \n",
      "\n",
      "   WS/48  OBPM  DBPM  BPM  VORP              Awards  Player-additional  \\\n",
      "0  0.064   1.0   0.0  1.0   2.1                  AS          edwaran01   \n",
      "1  0.142   3.9  -0.2  3.7   3.9       CPOY-14ASNBA3          randlju01   \n",
      "2  0.185   4.8   0.7  5.5   5.1  MVP-4CPOY-10ASNBA1          tatumja01   \n",
      "3  0.043  -1.2  -1.9 -3.1  -0.7                 NaN          barrerj01   \n",
      "4  0.118  -0.2   1.1  0.9   1.8                 NaN           hartjo01   \n",
      "\n",
      "   Temporada        full_name         id  \n",
      "0       2022  Anthony Edwards  1630162.0  \n",
      "1       2022    Julius Randle   203944.0  \n",
      "2       2022     Jayson Tatum  1628369.0  \n",
      "3       2022       RJ Barrett  1629628.0  \n",
      "4       2022        Josh Hart  1628404.0  \n",
      "\n",
      "[5 rows x 33 columns]\n"
     ]
    }
   ],
   "source": [
    "# Realizar un merge para asignar 'person_id' de df_Player a df_Stats_filtrado_2022\n",
    "df_Stats_filtrado_2022 = df_Stats_filtrado_2022.merge(\n",
    "    df_Player[['full_name', 'id']],  # Selecciona columnas relevantes\n",
    "    left_on='Player',  # Columna en df_Stats_filtrado_2022\n",
    "    right_on='full_name',  # Columna en df_Player\n",
    "    how='left'  # Combinar mediante un LEFT JOIN para mantener todas las filas de df_Stats_filtrado_2022\n",
    ")\n",
    "\n",
    "# Verificar el resultado\n",
    "print(df_Stats_filtrado_2022.head())\n",
    "\n"
   ]
  },
  {
   "cell_type": "code",
   "execution_count": 114,
   "metadata": {},
   "outputs": [
    {
     "name": "stdout",
     "output_type": "stream",
     "text": [
      "Awards       117\n",
      "full_name      6\n",
      "id             6\n",
      "dtype: int64\n"
     ]
    }
   ],
   "source": [
    "# Verificar valores nulos restantes en todo el DataFrame\n",
    "\n",
    "Cant_Column_Null = df_Stats_filtrado_2022.isna().sum()\n",
    "\n",
    "Solo_Column_Con_Nulos = Cant_Column_Null[Cant_Column_Null>0]\n",
    "print(Solo_Column_Con_Nulos)"
   ]
  },
  {
   "cell_type": "code",
   "execution_count": 115,
   "metadata": {},
   "outputs": [
    {
     "name": "stdout",
     "output_type": "stream",
     "text": [
      "14       Nikola Jokić\n",
      "66      Vlatko Čančar\n",
      "70    Robert Williams\n",
      "73        Dario Šarić\n",
      "74        Dario Šarić\n",
      "75        Dario Šarić\n",
      "Name: Player, dtype: object\n"
     ]
    }
   ],
   "source": [
    "# Filtrar las filas donde la columna 'id' tiene valores nulos\n",
    "rows_with_nulls_in_id = df_Stats_filtrado_2022[df_Stats_filtrado_2022['id'].isna()]\n",
    "\n",
    "# Extraer los valores de la columna 'full name' para esas filas\n",
    "full_name_with_nulls_in_id = rows_with_nulls_in_id['Player']\n",
    "\n",
    "print(full_name_with_nulls_in_id)\n"
   ]
  },
  {
   "cell_type": "code",
   "execution_count": 116,
   "metadata": {},
   "outputs": [
    {
     "name": "stdout",
     "output_type": "stream",
     "text": [
      "Archivo guardado exitosamente como '2022 Stats Advanced Filtrado.csv'\n"
     ]
    }
   ],
   "source": [
    "# Guardar los datos filtrados en un archivo con el nombre Stats Advanced Filtrado.csv a fin de poder utilizarlo luego\n",
    "\n",
    "df_Stats_filtrado_2022.to_csv('2022 Stats Advanced Filtrado.csv', index=False)\n",
    "\n",
    "# Confirmación\n",
    "print(\"Archivo guardado exitosamente como '2022 Stats Advanced Filtrado.csv'\")"
   ]
  },
  {
   "cell_type": "markdown",
   "metadata": {},
   "source": [
    "ETL Estadisticas Avanzadas 2023"
   ]
  },
  {
   "cell_type": "code",
   "execution_count": 117,
   "metadata": {},
   "outputs": [],
   "source": [
    "#Leer el archivo de trabajo:\n",
    "df_Stats_Adv_2023 = pd.read_csv('2023-24 NBA Player Stats Advanced.csv')\n"
   ]
  },
  {
   "cell_type": "code",
   "execution_count": 118,
   "metadata": {},
   "outputs": [
    {
     "data": {
      "text/plain": [
       "(736, 30)"
      ]
     },
     "execution_count": 118,
     "metadata": {},
     "output_type": "execute_result"
    }
   ],
   "source": [
    "# Para comprobar que cantidad de registros y columnas tiene el dataset cargado:\n",
    "\n",
    "df_Stats_Adv_2023.shape"
   ]
  },
  {
   "cell_type": "code",
   "execution_count": 119,
   "metadata": {},
   "outputs": [
    {
     "data": {
      "text/html": [
       "<div>\n",
       "<style scoped>\n",
       "    .dataframe tbody tr th:only-of-type {\n",
       "        vertical-align: middle;\n",
       "    }\n",
       "\n",
       "    .dataframe tbody tr th {\n",
       "        vertical-align: top;\n",
       "    }\n",
       "\n",
       "    .dataframe thead th {\n",
       "        text-align: right;\n",
       "    }\n",
       "</style>\n",
       "<table border=\"1\" class=\"dataframe\">\n",
       "  <thead>\n",
       "    <tr style=\"text-align: right;\">\n",
       "      <th></th>\n",
       "      <th>Rk</th>\n",
       "      <th>Player</th>\n",
       "      <th>Age</th>\n",
       "      <th>Team</th>\n",
       "      <th>Pos</th>\n",
       "      <th>G</th>\n",
       "      <th>GS</th>\n",
       "      <th>MP</th>\n",
       "      <th>PER</th>\n",
       "      <th>TS%</th>\n",
       "      <th>...</th>\n",
       "      <th>OWS</th>\n",
       "      <th>DWS</th>\n",
       "      <th>WS</th>\n",
       "      <th>WS/48</th>\n",
       "      <th>OBPM</th>\n",
       "      <th>DBPM</th>\n",
       "      <th>BPM</th>\n",
       "      <th>VORP</th>\n",
       "      <th>Awards</th>\n",
       "      <th>Player-additional</th>\n",
       "    </tr>\n",
       "  </thead>\n",
       "  <tbody>\n",
       "    <tr>\n",
       "      <th>0</th>\n",
       "      <td>1.0</td>\n",
       "      <td>DeMar DeRozan</td>\n",
       "      <td>34.0</td>\n",
       "      <td>CHI</td>\n",
       "      <td>SF</td>\n",
       "      <td>79.0</td>\n",
       "      <td>79.0</td>\n",
       "      <td>2989.0</td>\n",
       "      <td>19.7</td>\n",
       "      <td>0.584</td>\n",
       "      <td>...</td>\n",
       "      <td>7.0</td>\n",
       "      <td>2.2</td>\n",
       "      <td>9.2</td>\n",
       "      <td>0.147</td>\n",
       "      <td>2.1</td>\n",
       "      <td>-0.3</td>\n",
       "      <td>1.8</td>\n",
       "      <td>2.8</td>\n",
       "      <td>CPOY-2</td>\n",
       "      <td>derozde01</td>\n",
       "    </tr>\n",
       "    <tr>\n",
       "      <th>1</th>\n",
       "      <td>2.0</td>\n",
       "      <td>Domantas Sabonis</td>\n",
       "      <td>27.0</td>\n",
       "      <td>SAC</td>\n",
       "      <td>C</td>\n",
       "      <td>82.0</td>\n",
       "      <td>82.0</td>\n",
       "      <td>2928.0</td>\n",
       "      <td>23.2</td>\n",
       "      <td>0.637</td>\n",
       "      <td>...</td>\n",
       "      <td>8.6</td>\n",
       "      <td>4.0</td>\n",
       "      <td>12.6</td>\n",
       "      <td>0.206</td>\n",
       "      <td>4.0</td>\n",
       "      <td>2.4</td>\n",
       "      <td>6.5</td>\n",
       "      <td>6.2</td>\n",
       "      <td>MVP-8DPOY-10NBA3</td>\n",
       "      <td>sabondo01</td>\n",
       "    </tr>\n",
       "    <tr>\n",
       "      <th>2</th>\n",
       "      <td>3.0</td>\n",
       "      <td>Coby White</td>\n",
       "      <td>23.0</td>\n",
       "      <td>CHI</td>\n",
       "      <td>PG</td>\n",
       "      <td>79.0</td>\n",
       "      <td>78.0</td>\n",
       "      <td>2881.0</td>\n",
       "      <td>14.5</td>\n",
       "      <td>0.570</td>\n",
       "      <td>...</td>\n",
       "      <td>3.1</td>\n",
       "      <td>1.6</td>\n",
       "      <td>4.7</td>\n",
       "      <td>0.078</td>\n",
       "      <td>0.7</td>\n",
       "      <td>-1.3</td>\n",
       "      <td>-0.7</td>\n",
       "      <td>0.9</td>\n",
       "      <td>NaN</td>\n",
       "      <td>whiteco01</td>\n",
       "    </tr>\n",
       "    <tr>\n",
       "      <th>3</th>\n",
       "      <td>4.0</td>\n",
       "      <td>Mikal Bridges</td>\n",
       "      <td>27.0</td>\n",
       "      <td>BRK</td>\n",
       "      <td>SF</td>\n",
       "      <td>82.0</td>\n",
       "      <td>82.0</td>\n",
       "      <td>2854.0</td>\n",
       "      <td>14.9</td>\n",
       "      <td>0.560</td>\n",
       "      <td>...</td>\n",
       "      <td>2.1</td>\n",
       "      <td>2.1</td>\n",
       "      <td>4.2</td>\n",
       "      <td>0.070</td>\n",
       "      <td>0.7</td>\n",
       "      <td>-1.0</td>\n",
       "      <td>-0.4</td>\n",
       "      <td>1.2</td>\n",
       "      <td>NaN</td>\n",
       "      <td>bridgmi01</td>\n",
       "    </tr>\n",
       "    <tr>\n",
       "      <th>4</th>\n",
       "      <td>5.0</td>\n",
       "      <td>Paolo Banchero</td>\n",
       "      <td>21.0</td>\n",
       "      <td>ORL</td>\n",
       "      <td>PF</td>\n",
       "      <td>80.0</td>\n",
       "      <td>80.0</td>\n",
       "      <td>2799.0</td>\n",
       "      <td>17.3</td>\n",
       "      <td>0.546</td>\n",
       "      <td>...</td>\n",
       "      <td>1.3</td>\n",
       "      <td>4.0</td>\n",
       "      <td>5.3</td>\n",
       "      <td>0.090</td>\n",
       "      <td>1.3</td>\n",
       "      <td>0.0</td>\n",
       "      <td>1.3</td>\n",
       "      <td>2.3</td>\n",
       "      <td>AS</td>\n",
       "      <td>banchpa01</td>\n",
       "    </tr>\n",
       "  </tbody>\n",
       "</table>\n",
       "<p>5 rows × 30 columns</p>\n",
       "</div>"
      ],
      "text/plain": [
       "    Rk            Player   Age Team Pos     G    GS      MP   PER    TS%  ...  \\\n",
       "0  1.0     DeMar DeRozan  34.0  CHI  SF  79.0  79.0  2989.0  19.7  0.584  ...   \n",
       "1  2.0  Domantas Sabonis  27.0  SAC   C  82.0  82.0  2928.0  23.2  0.637  ...   \n",
       "2  3.0        Coby White  23.0  CHI  PG  79.0  78.0  2881.0  14.5  0.570  ...   \n",
       "3  4.0     Mikal Bridges  27.0  BRK  SF  82.0  82.0  2854.0  14.9  0.560  ...   \n",
       "4  5.0    Paolo Banchero  21.0  ORL  PF  80.0  80.0  2799.0  17.3  0.546  ...   \n",
       "\n",
       "   OWS  DWS    WS  WS/48  OBPM  DBPM  BPM  VORP            Awards  \\\n",
       "0  7.0  2.2   9.2  0.147   2.1  -0.3  1.8   2.8            CPOY-2   \n",
       "1  8.6  4.0  12.6  0.206   4.0   2.4  6.5   6.2  MVP-8DPOY-10NBA3   \n",
       "2  3.1  1.6   4.7  0.078   0.7  -1.3 -0.7   0.9               NaN   \n",
       "3  2.1  2.1   4.2  0.070   0.7  -1.0 -0.4   1.2               NaN   \n",
       "4  1.3  4.0   5.3  0.090   1.3   0.0  1.3   2.3                AS   \n",
       "\n",
       "   Player-additional  \n",
       "0          derozde01  \n",
       "1          sabondo01  \n",
       "2          whiteco01  \n",
       "3          bridgmi01  \n",
       "4          banchpa01  \n",
       "\n",
       "[5 rows x 30 columns]"
      ]
     },
     "execution_count": 119,
     "metadata": {},
     "output_type": "execute_result"
    }
   ],
   "source": [
    "#Una vez cargado el dataset, y comprobado su tamaño, se procede a verificar el contenido con una vista truncada:\n",
    "df_Stats_Adv_2023.head()"
   ]
  },
  {
   "cell_type": "code",
   "execution_count": 120,
   "metadata": {},
   "outputs": [
    {
     "name": "stdout",
     "output_type": "stream",
     "text": [
      "        Rk             Player   Age Team Pos     G    GS      MP   PER    TS%  \\\n",
      "7      8.0    Anthony Edwards  22.0  MIN  SG  79.0  78.0  2770.0  19.7  0.575   \n",
      "8      9.0       Nikola Jokić  28.0  DEN   C  79.0  79.0  2737.0  31.0  0.650   \n",
      "9     10.0      Jalen Brunson  27.0  NYK  PG  77.0  77.0  2726.0  23.4  0.592   \n",
      "10    11.0          Josh Hart  28.0  NYK  SF  81.0  42.0  2707.0  11.8  0.522   \n",
      "17    16.0       Jayson Tatum  25.0  BOS  PF  74.0  74.0  2645.0  22.3  0.604   \n",
      "..     ...                ...   ...  ...  ..   ...   ...     ...   ...    ...   \n",
      "703  543.0     Mamadi Diakite  27.0  NYK  PF   3.0   0.0     8.0  -5.2  0.000   \n",
      "705  545.0      Drew Peterson  24.0  BOS  PF   3.0   0.0    23.0  18.5  0.917   \n",
      "714  554.0       Adam Flagler  24.0  OKC  SG   2.0   0.0    14.0   0.6  0.214   \n",
      "732  570.0  Dmytro Skapintsev  25.0  NYK   C   2.0   0.0     2.0 -19.3  0.000   \n",
      "733  571.0     Justin Jackson  28.0  MIN  SF   2.0   0.0     1.0   0.0    NaN   \n",
      "\n",
      "     ...   OWS  DWS    WS  WS/48  OBPM  DBPM   BPM  VORP             Awards  \\\n",
      "7    ...   2.9  4.7   7.5  0.130   2.7   0.5   3.3   3.7  MVP-7CPOY-8ASNBA2   \n",
      "8    ...  12.0  5.1  17.0  0.299   9.0   4.2  13.2  10.6  MVP-1CPOY-4ASNBA1   \n",
      "9    ...   8.8  2.4  11.2  0.198   6.3  -0.4   5.8   5.4  MVP-5CPOY-5ASNBA2   \n",
      "10   ...   2.0  3.6   5.7  0.100  -1.3   1.4   0.0   1.4                NaN   \n",
      "17   ...   6.4  4.1  10.4  0.189   4.5   0.6   5.1   4.7  MVP-6CPOY-9ASNBA1   \n",
      "..   ...   ...  ...   ...    ...   ...   ...   ...   ...                ...   \n",
      "703  ...  -0.1  0.0   0.0 -0.194 -13.5   0.7 -12.7   0.0                NaN   \n",
      "705  ...   0.1  0.0   0.1  0.194   3.8   1.6   5.3   0.0                NaN   \n",
      "714  ...   0.0  0.0   0.0 -0.159  -6.7  -3.9 -10.6   0.0                NaN   \n",
      "732  ...   0.0  0.0   0.0 -0.483 -16.0  -9.8 -25.9   0.0                NaN   \n",
      "733  ...   0.0  0.0   0.0  0.031  -6.3  -1.2  -7.5   0.0                NaN   \n",
      "\n",
      "     Player-additional  \n",
      "7            edwaran01  \n",
      "8            jokicni01  \n",
      "9            brunsja01  \n",
      "10            hartjo01  \n",
      "17           tatumja01  \n",
      "..                 ...  \n",
      "703          diakima01  \n",
      "705          peterdr01  \n",
      "714          flaglad01  \n",
      "732          skapidm01  \n",
      "733          jacksju01  \n",
      "\n",
      "[158 rows x 30 columns]\n"
     ]
    }
   ],
   "source": [
    "lista_filtro_equipos_Stats = ['BOS', 'DEN', 'MIN', 'NYK', 'OKC']\n",
    "\n",
    "# Identificar jugadores en la lista de equipos\n",
    "jugadores_filtrados = df_Stats_Adv_2023[df_Stats_Adv_2023['Team'].isin(lista_filtro_equipos_Stats)]['Player'].unique()\n",
    "\n",
    "# Filtrar incluyendo filas solo de esos  jugadores\n",
    "df_Stats_filtrado_2023 = df_Stats_Adv_2023[df_Stats_Adv_2023['Player'].isin(jugadores_filtrados)]\n",
    "\n",
    "# Ahora df_filtrado contiene las estadísticas de los jugadores que estuvieron en los equipos de la lista\n",
    "print(df_Stats_filtrado_2023)\n"
   ]
  },
  {
   "cell_type": "code",
   "execution_count": 121,
   "metadata": {},
   "outputs": [
    {
     "name": "stdout",
     "output_type": "stream",
     "text": [
      "      Rk           Player   Age Team Pos     G    GS      MP   PER    TS%  \\\n",
      "7    8.0  Anthony Edwards  22.0  MIN  SG  79.0  78.0  2770.0  19.7  0.575   \n",
      "8    9.0     Nikola Jokić  28.0  DEN   C  79.0  79.0  2737.0  31.0  0.650   \n",
      "9   10.0    Jalen Brunson  27.0  NYK  PG  77.0  77.0  2726.0  23.4  0.592   \n",
      "10  11.0        Josh Hart  28.0  NYK  SF  81.0  42.0  2707.0  11.8  0.522   \n",
      "17  16.0     Jayson Tatum  25.0  BOS  PF  74.0  74.0  2645.0  22.3  0.604   \n",
      "\n",
      "    ...  DWS    WS  WS/48  OBPM  DBPM   BPM  VORP             Awards  \\\n",
      "7   ...  4.7   7.5  0.130   2.7   0.5   3.3   3.7  MVP-7CPOY-8ASNBA2   \n",
      "8   ...  5.1  17.0  0.299   9.0   4.2  13.2  10.6  MVP-1CPOY-4ASNBA1   \n",
      "9   ...  2.4  11.2  0.198   6.3  -0.4   5.8   5.4  MVP-5CPOY-5ASNBA2   \n",
      "10  ...  3.6   5.7  0.100  -1.3   1.4   0.0   1.4                NaN   \n",
      "17  ...  4.1  10.4  0.189   4.5   0.6   5.1   4.7  MVP-6CPOY-9ASNBA1   \n",
      "\n",
      "    Player-additional  Temporada  \n",
      "7           edwaran01       2023  \n",
      "8           jokicni01       2023  \n",
      "9           brunsja01       2023  \n",
      "10           hartjo01       2023  \n",
      "17          tatumja01       2023  \n",
      "\n",
      "[5 rows x 31 columns]\n"
     ]
    },
    {
     "name": "stderr",
     "output_type": "stream",
     "text": [
      "C:\\Users\\angel\\AppData\\Local\\Temp\\ipykernel_26872\\1480244055.py:2: SettingWithCopyWarning: \n",
      "A value is trying to be set on a copy of a slice from a DataFrame.\n",
      "Try using .loc[row_indexer,col_indexer] = value instead\n",
      "\n",
      "See the caveats in the documentation: https://pandas.pydata.org/pandas-docs/stable/user_guide/indexing.html#returning-a-view-versus-a-copy\n",
      "  df_Stats_filtrado_2023['Temporada'] = '2023'\n"
     ]
    }
   ],
   "source": [
    "#Agregar la columna \"Temporada\" con el valor '2018' en todas las filas\n",
    "df_Stats_filtrado_2023['Temporada'] = '2023'\n",
    "\n",
    "#Verificar la incorporación de la nueva columna\n",
    "print(df_Stats_filtrado_2023.head())\n"
   ]
  },
  {
   "cell_type": "code",
   "execution_count": 122,
   "metadata": {},
   "outputs": [
    {
     "name": "stdout",
     "output_type": "stream",
     "text": [
      "     Rk           Player   Age Team Pos     G    GS      MP   PER    TS%  ...  \\\n",
      "0   8.0  Anthony Edwards  22.0  MIN  SG  79.0  78.0  2770.0  19.7  0.575  ...   \n",
      "1   9.0     Nikola Jokić  28.0  DEN   C  79.0  79.0  2737.0  31.0  0.650  ...   \n",
      "2  10.0    Jalen Brunson  27.0  NYK  PG  77.0  77.0  2726.0  23.4  0.592  ...   \n",
      "3  11.0        Josh Hart  28.0  NYK  SF  81.0  42.0  2707.0  11.8  0.522  ...   \n",
      "4  16.0     Jayson Tatum  25.0  BOS  PF  74.0  74.0  2645.0  22.3  0.604  ...   \n",
      "\n",
      "   WS/48  OBPM  DBPM   BPM  VORP             Awards  Player-additional  \\\n",
      "0  0.130   2.7   0.5   3.3   3.7  MVP-7CPOY-8ASNBA2          edwaran01   \n",
      "1  0.299   9.0   4.2  13.2  10.6  MVP-1CPOY-4ASNBA1          jokicni01   \n",
      "2  0.198   6.3  -0.4   5.8   5.4  MVP-5CPOY-5ASNBA2          brunsja01   \n",
      "3  0.100  -1.3   1.4   0.0   1.4                NaN           hartjo01   \n",
      "4  0.189   4.5   0.6   5.1   4.7  MVP-6CPOY-9ASNBA1          tatumja01   \n",
      "\n",
      "   Temporada        full_name         id  \n",
      "0       2023  Anthony Edwards  1630162.0  \n",
      "1       2023              NaN        NaN  \n",
      "2       2023    Jalen Brunson  1628973.0  \n",
      "3       2023        Josh Hart  1628404.0  \n",
      "4       2023     Jayson Tatum  1628369.0  \n",
      "\n",
      "[5 rows x 33 columns]\n"
     ]
    }
   ],
   "source": [
    "# Realizar un merge para asignar 'person_id' de df_Player a df_Stats_filtrado_2023\n",
    "df_Stats_filtrado_2023 = df_Stats_filtrado_2023.merge(\n",
    "    df_Player[['full_name', 'id']],  # Selecciona columnas relevantes\n",
    "    left_on='Player',  # Columna en df_Stats_filtrado_2023\n",
    "    right_on='full_name',  # Columna en df_Player\n",
    "    how='left'  # Combinar mediante un LEFT JOIN para mantener todas las filas de df_Stats_filtrado_2023\n",
    ")\n",
    "\n",
    "# Verificar el resultado\n",
    "print(df_Stats_filtrado_2023.head())\n"
   ]
  },
  {
   "cell_type": "code",
   "execution_count": 123,
   "metadata": {},
   "outputs": [
    {
     "name": "stdout",
     "output_type": "stream",
     "text": [
      "TS%            1\n",
      "3PAr           1\n",
      "FTr            1\n",
      "TOV%           1\n",
      "Awards       143\n",
      "full_name     28\n",
      "id            28\n",
      "dtype: int64\n"
     ]
    }
   ],
   "source": [
    "# Verificar valores nulos restantes en todo el DataFrame\n",
    "\n",
    "Cant_Column_Null = df_Stats_filtrado_2023.isna().sum()\n",
    "\n",
    "Solo_Column_Con_Nulos = Cant_Column_Null[Cant_Column_Null>0]\n",
    "print(Solo_Column_Con_Nulos)\n"
   ]
  },
  {
   "cell_type": "code",
   "execution_count": 124,
   "metadata": {},
   "outputs": [
    {
     "name": "stdout",
     "output_type": "stream",
     "text": [
      "1            Nikola Jokić\n",
      "36             OG Anunoby\n",
      "37             OG Anunoby\n",
      "38             OG Anunoby\n",
      "39          Cason Wallace\n",
      "40     Kristaps Porziņģis\n",
      "47       Bojan Bogdanović\n",
      "48       Bojan Bogdanović\n",
      "49       Bojan Bogdanović\n",
      "59         Vasilije Micić\n",
      "60         Vasilije Micić\n",
      "61         Vasilije Micić\n",
      "73     Xavier Tillman Sr.\n",
      "74     Xavier Tillman Sr.\n",
      "75     Xavier Tillman Sr.\n",
      "89          Dāvis Bertāns\n",
      "90          Dāvis Bertāns\n",
      "91          Dāvis Bertāns\n",
      "110      Julian Strawther\n",
      "131         Jalen Pickett\n",
      "138          Jordan Walsh\n",
      "140      Keyontae Johnson\n",
      "142        Leonard Miller\n",
      "145          Hunter Tyson\n",
      "149          Jacob Toppin\n",
      "154         Drew Peterson\n",
      "155          Adam Flagler\n",
      "156     Dmytro Skapintsev\n",
      "Name: Player, dtype: object\n"
     ]
    }
   ],
   "source": [
    "# Filtrar las filas donde la columna 'id' tiene valores nulos\n",
    "rows_with_nulls_in_id = df_Stats_filtrado_2023[df_Stats_filtrado_2023['id'].isna()]\n",
    "\n",
    "# Extraer los valores de la columna 'full name' para esas filas\n",
    "full_name_with_nulls_in_id = rows_with_nulls_in_id['Player']\n",
    "\n",
    "print(full_name_with_nulls_in_id)\n"
   ]
  },
  {
   "cell_type": "code",
   "execution_count": 125,
   "metadata": {},
   "outputs": [
    {
     "name": "stdout",
     "output_type": "stream",
     "text": [
      "Archivo guardado exitosamente como '2023 Stats Advanced Filtrado.csv'\n"
     ]
    }
   ],
   "source": [
    "# Guardar los datos filtrados en un archivo con el nombre Stats Advanced Filtrado.csv a fin de poder utilizarlo luego\n",
    "\n",
    "df_Stats_filtrado_2023.to_csv('2023 Stats Advanced Filtrado.csv', index=False)\n",
    "\n",
    "# Confirmación\n",
    "print(\"Archivo guardado exitosamente como '2023 Stats Advanced Filtrado.csv'\")"
   ]
  },
  {
   "cell_type": "code",
   "execution_count": 126,
   "metadata": {},
   "outputs": [
    {
     "name": "stdout",
     "output_type": "stream",
     "text": [
      "     Rk              Player   Age Team Pos     G    GS      MP   PER    TS%  \\\n",
      "0   5.0         Paul George  28.0  OKC  SF  77.0  77.0  2841.0  23.3  0.583   \n",
      "1  12.0        Steven Adams  25.0  OKC   C  80.0  80.0  2669.0  18.5  0.591   \n",
      "2  16.0   Russell Westbrook  30.0  OKC  PG  73.0  73.0  2630.0  21.1  0.501   \n",
      "3  19.0        Jerami Grant  24.0  OKC  PF  80.0  77.0  2612.0  13.8  0.592   \n",
      "4  29.0  Karl-Anthony Towns  23.0  MIN   C  77.0  77.0  2545.0  26.3  0.622   \n",
      "\n",
      "   ...  WS/48  OBPM  DBPM  BPM  VORP             Awards  Player-additional  \\\n",
      "0  ...  0.201   5.6   1.6  7.2   6.6  MVP-3DPOY-3ASNBA1          georgpa01   \n",
      "1  ...  0.163   0.7   0.4  1.1   2.1                NaN          adamsst01   \n",
      "2  ...  0.124   2.8   2.4  5.2   4.7       MVP-10ASNBA3          westbru01   \n",
      "3  ...  0.134  -0.4   0.6  0.2   1.5                NaN          grantje01   \n",
      "4  ...  0.197   5.4   0.6  6.0   5.1                 AS          townska01   \n",
      "\n",
      "   Temporada           full_name         id  \n",
      "0       2018         Paul George   202331.0  \n",
      "1       2018        Steven Adams   203500.0  \n",
      "2       2018   Russell Westbrook   201566.0  \n",
      "3       2018        Jerami Grant   203924.0  \n",
      "4       2018  Karl-Anthony Towns  1626157.0  \n",
      "\n",
      "[5 rows x 33 columns]\n"
     ]
    }
   ],
   "source": [
    "# Lista con los nombres de los archivos\n",
    "files = [\n",
    "    '2018 Stats Advanced Filtrado.csv',\n",
    "    '2019 Stats Advanced Filtrado.csv',\n",
    "    '2020 Stats Advanced Filtrado.csv',\n",
    "    '2021 Stats Advanced Filtrado.csv',\n",
    "    '2022 Stats Advanced Filtrado.csv',\n",
    "    '2023 Stats Advanced Filtrado.csv'\n",
    "]\n",
    "\n",
    "# Leer todos los archivos CSV y concatenarlos en un solo DataFrame\n",
    "df_combined = pd.concat([pd.read_csv(file) for file in files], ignore_index=True)\n",
    "\n",
    "# Guardar el DataFrame combinado en un nuevo archivo CSV\n",
    "df_combined.to_csv('NBA_Player_Stats_Advanced_Combined_Original.csv', index=False)\n",
    "\n",
    "# Mostrar las primeras filas del DataFrame combinado\n",
    "print(df_combined.head())\n"
   ]
  },
  {
   "cell_type": "code",
   "execution_count": 127,
   "metadata": {},
   "outputs": [],
   "source": [
    "#Leer el archivo de trabajo:\n",
    "df_Stats_Adv_Comb= pd.read_csv('NBA_Player_Stats_Advanced_Combined_Original.csv')"
   ]
  },
  {
   "cell_type": "code",
   "execution_count": 128,
   "metadata": {},
   "outputs": [
    {
     "name": "stdout",
     "output_type": "stream",
     "text": [
      "TS%            7\n",
      "3PAr           7\n",
      "FTr            7\n",
      "TOV%           6\n",
      "Awards       824\n",
      "full_name     88\n",
      "id            88\n",
      "dtype: int64\n"
     ]
    }
   ],
   "source": [
    "Cant_Column_Null = df_Stats_Adv_Comb.isna().sum()\n",
    "\n",
    "Solo_Column_Con_Nulos = Cant_Column_Null[Cant_Column_Null>0]\n",
    "print(Solo_Column_Con_Nulos)"
   ]
  },
  {
   "cell_type": "code",
   "execution_count": 129,
   "metadata": {},
   "outputs": [],
   "source": [
    "#Leer el archivo de trabajo:\n",
    "df_Missing_Player= pd.read_csv('Missing Player ID - Hoja 1.csv')\n"
   ]
  },
  {
   "cell_type": "code",
   "execution_count": 130,
   "metadata": {},
   "outputs": [
    {
     "name": "stdout",
     "output_type": "stream",
     "text": [
      "     Rk              Player   Age Team Pos     G    GS      MP   PER    TS%  \\\n",
      "0   5.0         Paul George  28.0  OKC  SF  77.0  77.0  2841.0  23.3  0.583   \n",
      "1  12.0        Steven Adams  25.0  OKC   C  80.0  80.0  2669.0  18.5  0.591   \n",
      "2  16.0   Russell Westbrook  30.0  OKC  PG  73.0  73.0  2630.0  21.1  0.501   \n",
      "3  19.0        Jerami Grant  24.0  OKC  PF  80.0  77.0  2612.0  13.8  0.592   \n",
      "4  29.0  Karl-Anthony Towns  23.0  MIN   C  77.0  77.0  2545.0  26.3  0.622   \n",
      "\n",
      "   ...  WS/48  OBPM  DBPM  BPM  VORP             Awards  Player-additional  \\\n",
      "0  ...  0.201   5.6   1.6  7.2   6.6  MVP-3DPOY-3ASNBA1          georgpa01   \n",
      "1  ...  0.163   0.7   0.4  1.1   2.1                NaN          adamsst01   \n",
      "2  ...  0.124   2.8   2.4  5.2   4.7       MVP-10ASNBA3          westbru01   \n",
      "3  ...  0.134  -0.4   0.6  0.2   1.5                NaN          grantje01   \n",
      "4  ...  0.197   5.4   0.6  6.0   5.1                 AS          townska01   \n",
      "\n",
      "   Temporada           full_name         id  \n",
      "0       2018         Paul George   202331.0  \n",
      "1       2018        Steven Adams   203500.0  \n",
      "2       2018   Russell Westbrook   201566.0  \n",
      "3       2018        Jerami Grant   203924.0  \n",
      "4       2018  Karl-Anthony Towns  1626157.0  \n",
      "\n",
      "[5 rows x 33 columns]\n"
     ]
    }
   ],
   "source": [
    "# Realizar el merge para obtener los valores faltantes de 'id' basados en 'Player'\n",
    "df_Stats_Adv_Comb['id'] = df_Stats_Adv_Comb.apply(\n",
    "    lambda row: df_Missing_Player.loc[df_Missing_Player['Player'] == row['Player'], 'Player_id'].values[0] \n",
    "    if pd.isna(row['id']) and not df_Missing_Player.loc[df_Missing_Player['Player'] == row['Player'], 'Player_id'].empty \n",
    "    else row['id'], axis=1\n",
    ")\n",
    "\n",
    "# Verificar el DataFrame después del reemplazo\n",
    "print(df_Stats_Adv_Comb.head())\n",
    "\n"
   ]
  },
  {
   "cell_type": "code",
   "execution_count": 131,
   "metadata": {},
   "outputs": [
    {
     "name": "stdout",
     "output_type": "stream",
     "text": [
      "TS%            7\n",
      "3PAr           7\n",
      "FTr            7\n",
      "TOV%           6\n",
      "Awards       824\n",
      "full_name     88\n",
      "id             6\n",
      "dtype: int64\n"
     ]
    }
   ],
   "source": [
    "Cant_Column_Null = df_Stats_Adv_Comb.isna().sum()\n",
    "\n",
    "Solo_Column_Con_Nulos = Cant_Column_Null[Cant_Column_Null>0]\n",
    "print(Solo_Column_Con_Nulos)\n"
   ]
  },
  {
   "cell_type": "code",
   "execution_count": 132,
   "metadata": {},
   "outputs": [
    {
     "name": "stdout",
     "output_type": "stream",
     "text": [
      "     Rk              Player   Age Team Pos     G    GS      MP   PER    TS%  \\\n",
      "0   5.0         Paul George  28.0  OKC  SF  77.0  77.0  2841.0  23.3  0.583   \n",
      "1  12.0        Steven Adams  25.0  OKC   C  80.0  80.0  2669.0  18.5  0.591   \n",
      "2  16.0   Russell Westbrook  30.0  OKC  PG  73.0  73.0  2630.0  21.1  0.501   \n",
      "3  19.0        Jerami Grant  24.0  OKC  PF  80.0  77.0  2612.0  13.8  0.592   \n",
      "4  29.0  Karl-Anthony Towns  23.0  MIN   C  77.0  77.0  2545.0  26.3  0.622   \n",
      "\n",
      "   ...    WS  WS/48  OBPM  DBPM  BPM  VORP             Awards  \\\n",
      "0  ...  11.9  0.201   5.6   1.6  7.2   6.6  MVP-3DPOY-3ASNBA1   \n",
      "1  ...   9.1  0.163   0.7   0.4  1.1   2.1                NaN   \n",
      "2  ...   6.8  0.124   2.8   2.4  5.2   4.7       MVP-10ASNBA3   \n",
      "3  ...   7.3  0.134  -0.4   0.6  0.2   1.5                NaN   \n",
      "4  ...  10.4  0.197   5.4   0.6  6.0   5.1                 AS   \n",
      "\n",
      "   Player-additional  Temporada         id  \n",
      "0          georgpa01       2018   202331.0  \n",
      "1          adamsst01       2018   203500.0  \n",
      "2          westbru01       2018   201566.0  \n",
      "3          grantje01       2018   203924.0  \n",
      "4          townska01       2018  1626157.0  \n",
      "\n",
      "[5 rows x 32 columns]\n"
     ]
    }
   ],
   "source": [
    "# Eliminar la columna 'full_name' del DataFrame\n",
    "df_Stats_Adv_Comb.drop(columns=['full_name'], inplace=True)\n",
    "\n",
    "# Verificar el DataFrame después de la eliminación\n",
    "print(df_Stats_Adv_Comb.head())\n"
   ]
  },
  {
   "cell_type": "code",
   "execution_count": 133,
   "metadata": {},
   "outputs": [
    {
     "name": "stdout",
     "output_type": "stream",
     "text": [
      "Empty DataFrame\n",
      "Columns: [Rk, Player, Age, Team, Pos, G, GS, MP, PER, TS%, 3PAr, FTr, ORB%, DRB%, TRB%, AST%, STL%, BLK%, TOV%, USG%, OWS, DWS, WS, WS/48, OBPM, DBPM, BPM, VORP, Awards, Player-additional, Temporada, id]\n",
      "Index: []\n",
      "\n",
      "[0 rows x 32 columns]\n"
     ]
    }
   ],
   "source": [
    "# Crear un diccionario con los valores manuales\n",
    "manual_replacements = {\n",
    "    'Timothé Luwawu-Cabarrot': 1627789,\n",
    "    'PJ Dozier': 1628408,  # Solo una vez es suficiente\n",
    "}\n",
    "\n",
    "# Reemplazar los valores en la columna 'id' usando el diccionario\n",
    "df_Stats_Adv_Comb['id'] = df_Stats_Adv_Comb.apply(\n",
    "    lambda row: manual_replacements[row['Player']] \n",
    "    if pd.isna(row['id']) and row['Player'] in manual_replacements \n",
    "    else row['id'], axis=1\n",
    ")\n",
    "\n",
    "# Verificar el DataFrame después del reemplazo\n",
    "print(df_Stats_Adv_Comb[df_Stats_Adv_Comb['id'].isna()])\n"
   ]
  },
  {
   "cell_type": "code",
   "execution_count": 134,
   "metadata": {},
   "outputs": [
    {
     "name": "stdout",
     "output_type": "stream",
     "text": [
      "Index(['TS%', '3PAr', 'FTr', 'TOV%', 'Awards'], dtype='object')\n"
     ]
    }
   ],
   "source": [
    "Cant_Column_Null = df_Stats_Adv_Comb.isna().sum()\n",
    "\n",
    "Solo_Column_Con_Nulos = Cant_Column_Null[Cant_Column_Null>0].index\n",
    "print(Solo_Column_Con_Nulos)\n"
   ]
  },
  {
   "cell_type": "code",
   "execution_count": 135,
   "metadata": {},
   "outputs": [
    {
     "name": "stdout",
     "output_type": "stream",
     "text": [
      "TS%       0\n",
      "3PAr      0\n",
      "FTr       0\n",
      "TOV%      0\n",
      "Awards    0\n",
      "dtype: int64\n"
     ]
    }
   ],
   "source": [
    "# Lista de columnas donde se deben reemplazar los valores nulos\n",
    "columns_to_fill = ['TS%', '3PAr', 'FTr', 'TOV%', 'Awards']\n",
    "\n",
    "# Reemplazar los valores nulos por 0 en las columnas especificadas\n",
    "df_Stats_Adv_Comb[columns_to_fill] = df_Stats_Adv_Comb[columns_to_fill].fillna(0)\n",
    "\n",
    "# Verificar si aún quedan valores nulos en las columnas afectadas\n",
    "print(df_Stats_Adv_Comb[columns_to_fill].isna().sum())\n"
   ]
  },
  {
   "cell_type": "code",
   "execution_count": 136,
   "metadata": {},
   "outputs": [
    {
     "name": "stdout",
     "output_type": "stream",
     "text": [
      "Rk                   float64\n",
      "Player                object\n",
      "Age                  float64\n",
      "Team                  object\n",
      "Pos                   object\n",
      "G                    float64\n",
      "GS                   float64\n",
      "MP                   float64\n",
      "PER                  float64\n",
      "TS%                  float64\n",
      "3PAr                 float64\n",
      "FTr                  float64\n",
      "ORB%                 float64\n",
      "DRB%                 float64\n",
      "TRB%                 float64\n",
      "AST%                 float64\n",
      "STL%                 float64\n",
      "BLK%                 float64\n",
      "TOV%                 float64\n",
      "USG%                 float64\n",
      "OWS                  float64\n",
      "DWS                  float64\n",
      "WS                   float64\n",
      "WS/48                float64\n",
      "OBPM                 float64\n",
      "DBPM                 float64\n",
      "BPM                  float64\n",
      "VORP                 float64\n",
      "Awards                object\n",
      "Player-additional     object\n",
      "Temporada              int64\n",
      "id                   float64\n",
      "dtype: object\n"
     ]
    }
   ],
   "source": [
    "# Verificar los tipos de datos de las columnas del DataFrame\n",
    "print(df_Stats_Adv_Comb.dtypes)"
   ]
  },
  {
   "cell_type": "code",
   "execution_count": 137,
   "metadata": {},
   "outputs": [],
   "source": [
    "# Convertir las columnas 'G', 'GS' y 'MP' a tipo entero\n",
    "\n",
    "df_Stats_Adv_Comb['Rk'] = df_Stats_Adv_Comb['Rk'].astype(int)\n",
    "df_Stats_Adv_Comb['Age'] = df_Stats_Adv_Comb['Age'].astype(int)\n",
    "df_Stats_Adv_Comb['G'] = df_Stats_Adv_Comb['G'].astype(int)\n",
    "df_Stats_Adv_Comb['GS'] = df_Stats_Adv_Comb['GS'].astype(int)\n",
    "df_Stats_Adv_Comb['MP'] = df_Stats_Adv_Comb['MP'].astype(int)\n",
    "df_Stats_Adv_Comb['id'] = df_Stats_Adv_Comb['id'].astype(int)"
   ]
  },
  {
   "cell_type": "code",
   "execution_count": 138,
   "metadata": {},
   "outputs": [
    {
     "name": "stdout",
     "output_type": "stream",
     "text": [
      "Archivo guardado exitosamente como 'NBA_Player_Stats_Advanced_Combined_Filtrado.csv'\n"
     ]
    }
   ],
   "source": [
    "# Guardar los datos filtrados en un archivo con el nombre NBA_Player_Stats_Advanced_Combined_Filtrado.csv a fin de poder utilizarlo luego\n",
    "\n",
    "df_Stats_Adv_Comb.to_csv('NBA_Player_Stats_Advanced_Combined_Filtrado.csv', index=False)\n",
    "\n",
    "# Confirmación\n",
    "print(\"Archivo guardado exitosamente como 'NBA_Player_Stats_Advanced_Combined_Filtrado.csv'\")"
   ]
  },
  {
   "cell_type": "markdown",
   "metadata": {},
   "source": [
    "ETL archivo Salarios"
   ]
  },
  {
   "cell_type": "code",
   "execution_count": 203,
   "metadata": {},
   "outputs": [],
   "source": [
    "# Leer el archivo de trabajo:\n",
    "\n",
    "df_salario = pd.read_csv('Salario-Jugadores-NBA-2018-2025.csv')"
   ]
  },
  {
   "cell_type": "code",
   "execution_count": 204,
   "metadata": {},
   "outputs": [
    {
     "data": {
      "text/plain": [
       "(4081, 4)"
      ]
     },
     "execution_count": 204,
     "metadata": {},
     "output_type": "execute_result"
    }
   ],
   "source": [
    "# Para comprobar que cantidad de registros y columnas tiene el dataset cargado:\n",
    "\n",
    "df_salario.shape"
   ]
  },
  {
   "cell_type": "code",
   "execution_count": 205,
   "metadata": {},
   "outputs": [
    {
     "data": {
      "text/html": [
       "<div>\n",
       "<style scoped>\n",
       "    .dataframe tbody tr th:only-of-type {\n",
       "        vertical-align: middle;\n",
       "    }\n",
       "\n",
       "    .dataframe tbody tr th {\n",
       "        vertical-align: top;\n",
       "    }\n",
       "\n",
       "    .dataframe thead th {\n",
       "        text-align: right;\n",
       "    }\n",
       "</style>\n",
       "<table border=\"1\" class=\"dataframe\">\n",
       "  <thead>\n",
       "    <tr style=\"text-align: right;\">\n",
       "      <th></th>\n",
       "      <th>Temporada</th>\n",
       "      <th>Jugador</th>\n",
       "      <th>Salario</th>\n",
       "      <th>Salario Actual Ajustado a la Inflación</th>\n",
       "    </tr>\n",
       "  </thead>\n",
       "  <tbody>\n",
       "    <tr>\n",
       "      <th>0</th>\n",
       "      <td>2018/19</td>\n",
       "      <td>Stephen Curry</td>\n",
       "      <td>37,457,154</td>\n",
       "      <td>46,700,853</td>\n",
       "    </tr>\n",
       "    <tr>\n",
       "      <th>1</th>\n",
       "      <td>2018/19</td>\n",
       "      <td>Russell Westbrook</td>\n",
       "      <td>35,665,000</td>\n",
       "      <td>44,466,430</td>\n",
       "    </tr>\n",
       "    <tr>\n",
       "      <th>2</th>\n",
       "      <td>2018/19</td>\n",
       "      <td>LeBron James</td>\n",
       "      <td>35,654,150</td>\n",
       "      <td>44,452,903</td>\n",
       "    </tr>\n",
       "    <tr>\n",
       "      <th>3</th>\n",
       "      <td>2018/19</td>\n",
       "      <td>Chris Paul</td>\n",
       "      <td>35,654,150</td>\n",
       "      <td>44,452,903</td>\n",
       "    </tr>\n",
       "    <tr>\n",
       "      <th>4</th>\n",
       "      <td>2018/19</td>\n",
       "      <td>Kyle Lowry</td>\n",
       "      <td>32,700,000</td>\n",
       "      <td>40,769,726</td>\n",
       "    </tr>\n",
       "  </tbody>\n",
       "</table>\n",
       "</div>"
      ],
      "text/plain": [
       "  Temporada            Jugador     Salario  \\\n",
       "0  2018/19       Stephen Curry  37,457,154   \n",
       "1  2018/19   Russell Westbrook  35,665,000   \n",
       "2  2018/19        LeBron James  35,654,150   \n",
       "3  2018/19          Chris Paul  35,654,150   \n",
       "4  2018/19          Kyle Lowry  32,700,000   \n",
       "\n",
       "  Salario Actual Ajustado a la Inflación  \n",
       "0                             46,700,853  \n",
       "1                             44,466,430  \n",
       "2                             44,452,903  \n",
       "3                             44,452,903  \n",
       "4                             40,769,726  "
      ]
     },
     "execution_count": 205,
     "metadata": {},
     "output_type": "execute_result"
    }
   ],
   "source": [
    "# Una vez cargado el dataset, y comprobado su tamaño, se procede a verificar el contenido con una vista truncada:\n",
    "df_salario.head()"
   ]
  },
  {
   "cell_type": "code",
   "execution_count": 206,
   "metadata": {},
   "outputs": [
    {
     "name": "stdout",
     "output_type": "stream",
     "text": [
      "<class 'pandas.core.frame.DataFrame'>\n",
      "RangeIndex: 4081 entries, 0 to 4080\n",
      "Data columns (total 4 columns):\n",
      " #   Column                                  Non-Null Count  Dtype \n",
      "---  ------                                  --------------  ----- \n",
      " 0   Temporada                               4081 non-null   object\n",
      " 1   Jugador                                 4081 non-null   object\n",
      " 2   Salario                                 4081 non-null   object\n",
      " 3   Salario Actual Ajustado a la Inflación  4081 non-null   object\n",
      "dtypes: object(4)\n",
      "memory usage: 127.7+ KB\n"
     ]
    }
   ],
   "source": [
    "df_salario.info()"
   ]
  },
  {
   "cell_type": "code",
   "execution_count": 207,
   "metadata": {},
   "outputs": [
    {
     "name": "stdout",
     "output_type": "stream",
     "text": [
      "['2018/19\\xa0' '2019/20\\xa0' '2020/21\\xa0' '2021/22\\xa0' '2022/23\\xa0'\n",
      " '2023/24\\xa0' '2024/25\\xa0']\n"
     ]
    }
   ],
   "source": [
    "print(df_salario['Temporada'].unique())"
   ]
  },
  {
   "cell_type": "code",
   "execution_count": 208,
   "metadata": {},
   "outputs": [
    {
     "name": "stdout",
     "output_type": "stream",
     "text": [
      "['2018/19' '2019/20' '2020/21' '2021/22' '2022/23' '2023/24' '2024/25']\n"
     ]
    }
   ],
   "source": [
    "# Reemplazar el carácter \\xa0 por un espacio vacío en la columna \"Temporada\"\n",
    "df_salario['Temporada'] = df_salario['Temporada'].str.replace('\\xa0', '', regex=True)\n",
    "\n",
    "# Verifica los valores únicos nuevamente\n",
    "print(df_salario['Temporada'].unique())"
   ]
  },
  {
   "cell_type": "code",
   "execution_count": 209,
   "metadata": {},
   "outputs": [
    {
     "name": "stdout",
     "output_type": "stream",
     "text": [
      "  Temporada            Jugador     Salario  \\\n",
      "0   2018/19      Stephen Curry  37,457,154   \n",
      "1   2018/19  Russell Westbrook  35,665,000   \n",
      "2   2018/19       LeBron James  35,654,150   \n",
      "3   2018/19         Chris Paul  35,654,150   \n",
      "4   2018/19         Kyle Lowry  32,700,000   \n",
      "\n",
      "  Salario Actual Ajustado a la Inflación  \n",
      "0                             46,700,853  \n",
      "1                             44,466,430  \n",
      "2                             44,452,903  \n",
      "3                             44,452,903  \n",
      "4                             40,769,726  \n"
     ]
    }
   ],
   "source": [
    "# Lista de temporadas a filtrar\n",
    "temporadas_filtrar = ['2018/19', '2019/20', '2020/21', '2021/22', '2022/23']\n",
    "\n",
    "# Filtrar el DataFrame por las temporadas específicas\n",
    "df_salario_filtrado_temporada = df_salario[df_salario['Temporada'].isin(temporadas_filtrar)]\n",
    "\n",
    "# Verificar el resultado\n",
    "print(df_salario_filtrado_temporada.head())"
   ]
  },
  {
   "cell_type": "code",
   "execution_count": 210,
   "metadata": {},
   "outputs": [
    {
     "data": {
      "text/plain": [
       "(2896, 4)"
      ]
     },
     "execution_count": 210,
     "metadata": {},
     "output_type": "execute_result"
    }
   ],
   "source": [
    "# Para comprobar que cantidad de registros y columnas tiene el dataset cargado:\n",
    "\n",
    "df_salario_filtrado_temporada.shape"
   ]
  },
  {
   "cell_type": "code",
   "execution_count": 211,
   "metadata": {},
   "outputs": [
    {
     "name": "stdout",
     "output_type": "stream",
     "text": [
      "  Temporada   Año\n",
      "0   2018/19  2018\n",
      "1   2018/19  2018\n",
      "2   2018/19  2018\n",
      "3   2018/19  2018\n",
      "4   2018/19  2018\n"
     ]
    },
    {
     "name": "stderr",
     "output_type": "stream",
     "text": [
      "C:\\Users\\angel\\AppData\\Local\\Temp\\ipykernel_26872\\3953349790.py:2: SettingWithCopyWarning: \n",
      "A value is trying to be set on a copy of a slice from a DataFrame.\n",
      "Try using .loc[row_indexer,col_indexer] = value instead\n",
      "\n",
      "See the caveats in the documentation: https://pandas.pydata.org/pandas-docs/stable/user_guide/indexing.html#returning-a-view-versus-a-copy\n",
      "  df_salario_filtrado_temporada['Año'] = df_salario_filtrado_temporada['Temporada'].str.slice(0, 4)\n"
     ]
    }
   ],
   "source": [
    "# Crear una nueva columna con el año inicial de la temporada\n",
    "df_salario_filtrado_temporada['Año'] = df_salario_filtrado_temporada['Temporada'].str.slice(0, 4)\n",
    "\n",
    "# Verifica el resultado\n",
    "print(df_salario_filtrado_temporada[['Temporada', 'Año']].head())"
   ]
  },
  {
   "cell_type": "code",
   "execution_count": 212,
   "metadata": {},
   "outputs": [
    {
     "name": "stdout",
     "output_type": "stream",
     "text": [
      "Salario                                   int64\n",
      "Salario Actual Ajustado a la Inflación    int64\n",
      "dtype: object\n",
      "    Salario  Salario Actual Ajustado a la Inflación\n",
      "0  37457154                                46700853\n",
      "1  35665000                                44466430\n",
      "2  35654150                                44452903\n",
      "3  35654150                                44452903\n",
      "4  32700000                                40769726\n"
     ]
    },
    {
     "name": "stderr",
     "output_type": "stream",
     "text": [
      "C:\\Users\\angel\\AppData\\Local\\Temp\\ipykernel_26872\\2843138961.py:6: SettingWithCopyWarning: \n",
      "A value is trying to be set on a copy of a slice from a DataFrame.\n",
      "Try using .loc[row_indexer,col_indexer] = value instead\n",
      "\n",
      "See the caveats in the documentation: https://pandas.pydata.org/pandas-docs/stable/user_guide/indexing.html#returning-a-view-versus-a-copy\n",
      "  df_salario_filtrado_temporada[columna] = df_salario_filtrado_temporada[columna].str.replace(',', '', regex=True)  # Elimina las comas\n",
      "C:\\Users\\angel\\AppData\\Local\\Temp\\ipykernel_26872\\2843138961.py:7: SettingWithCopyWarning: \n",
      "A value is trying to be set on a copy of a slice from a DataFrame.\n",
      "Try using .loc[row_indexer,col_indexer] = value instead\n",
      "\n",
      "See the caveats in the documentation: https://pandas.pydata.org/pandas-docs/stable/user_guide/indexing.html#returning-a-view-versus-a-copy\n",
      "  df_salario_filtrado_temporada[columna] = df_salario_filtrado_temporada[columna].str.strip()  # Elimina espacios en blanco adicionales\n",
      "C:\\Users\\angel\\AppData\\Local\\Temp\\ipykernel_26872\\2843138961.py:10: SettingWithCopyWarning: \n",
      "A value is trying to be set on a copy of a slice from a DataFrame.\n",
      "Try using .loc[row_indexer,col_indexer] = value instead\n",
      "\n",
      "See the caveats in the documentation: https://pandas.pydata.org/pandas-docs/stable/user_guide/indexing.html#returning-a-view-versus-a-copy\n",
      "  df_salario_filtrado_temporada[columna] = pd.to_numeric(df_salario_filtrado_temporada[columna], errors='coerce').fillna(0).astype(int)\n",
      "C:\\Users\\angel\\AppData\\Local\\Temp\\ipykernel_26872\\2843138961.py:6: SettingWithCopyWarning: \n",
      "A value is trying to be set on a copy of a slice from a DataFrame.\n",
      "Try using .loc[row_indexer,col_indexer] = value instead\n",
      "\n",
      "See the caveats in the documentation: https://pandas.pydata.org/pandas-docs/stable/user_guide/indexing.html#returning-a-view-versus-a-copy\n",
      "  df_salario_filtrado_temporada[columna] = df_salario_filtrado_temporada[columna].str.replace(',', '', regex=True)  # Elimina las comas\n",
      "C:\\Users\\angel\\AppData\\Local\\Temp\\ipykernel_26872\\2843138961.py:7: SettingWithCopyWarning: \n",
      "A value is trying to be set on a copy of a slice from a DataFrame.\n",
      "Try using .loc[row_indexer,col_indexer] = value instead\n",
      "\n",
      "See the caveats in the documentation: https://pandas.pydata.org/pandas-docs/stable/user_guide/indexing.html#returning-a-view-versus-a-copy\n",
      "  df_salario_filtrado_temporada[columna] = df_salario_filtrado_temporada[columna].str.strip()  # Elimina espacios en blanco adicionales\n",
      "C:\\Users\\angel\\AppData\\Local\\Temp\\ipykernel_26872\\2843138961.py:10: SettingWithCopyWarning: \n",
      "A value is trying to be set on a copy of a slice from a DataFrame.\n",
      "Try using .loc[row_indexer,col_indexer] = value instead\n",
      "\n",
      "See the caveats in the documentation: https://pandas.pydata.org/pandas-docs/stable/user_guide/indexing.html#returning-a-view-versus-a-copy\n",
      "  df_salario_filtrado_temporada[columna] = pd.to_numeric(df_salario_filtrado_temporada[columna], errors='coerce').fillna(0).astype(int)\n"
     ]
    }
   ],
   "source": [
    "# Lista de las columnas a convertir\n",
    "columnas_a_convertir = ['Salario', 'Salario Actual Ajustado a la Inflación']\n",
    "\n",
    "for columna in columnas_a_convertir:\n",
    "    # Limpia los valores eliminando caracteres no deseados como '$' o comas\n",
    "    df_salario_filtrado_temporada[columna] = df_salario_filtrado_temporada[columna].str.replace(',', '', regex=True)  # Elimina las comas\n",
    "    df_salario_filtrado_temporada[columna] = df_salario_filtrado_temporada[columna].str.strip()  # Elimina espacios en blanco adicionales\n",
    "    \n",
    "    # Convierte los valores a números enteros\n",
    "    df_salario_filtrado_temporada[columna] = pd.to_numeric(df_salario_filtrado_temporada[columna], errors='coerce').fillna(0).astype(int)\n",
    "\n",
    "# Confirma que las columnas tienen ahora el tipo de datos correcto\n",
    "print(df_salario_filtrado_temporada[columnas_a_convertir].dtypes)\n",
    "\n",
    "# Vista previa de las columnas después de la conversión\n",
    "print(df_salario_filtrado_temporada[columnas_a_convertir].head())"
   ]
  },
  {
   "cell_type": "markdown",
   "metadata": {},
   "source": [
    "Combinaciones entre tablas!"
   ]
  },
  {
   "cell_type": "code",
   "execution_count": 213,
   "metadata": {},
   "outputs": [
    {
     "name": "stdout",
     "output_type": "stream",
     "text": [
      "<class 'pandas.core.frame.DataFrame'>\n",
      "Index: 2896 entries, 0 to 2895\n",
      "Data columns (total 5 columns):\n",
      " #   Column                                  Non-Null Count  Dtype \n",
      "---  ------                                  --------------  ----- \n",
      " 0   Temporada                               2896 non-null   object\n",
      " 1   Jugador                                 2896 non-null   object\n",
      " 2   Salario                                 2896 non-null   int64 \n",
      " 3   Salario Actual Ajustado a la Inflación  2896 non-null   int64 \n",
      " 4   Año                                     2896 non-null   object\n",
      "dtypes: int64(2), object(3)\n",
      "memory usage: 135.8+ KB\n"
     ]
    }
   ],
   "source": [
    "df_salario_filtrado_temporada.info()"
   ]
  },
  {
   "cell_type": "code",
   "execution_count": 148,
   "metadata": {},
   "outputs": [
    {
     "name": "stdout",
     "output_type": "stream",
     "text": [
      "Valores nulos en 'id' por año:\n",
      "    Año  Count_Nulos\n",
      "0  2018           51\n",
      "1  2019           45\n",
      "2  2020          221\n",
      "3  2021          251\n",
      "4  2022          219\n"
     ]
    }
   ],
   "source": [
    "# Contar los valores nulos en la columna 'id' por año\n",
    "valores_nulos_por_ano = df_salario_filtrado_temporada[df_salario_filtrado_temporada['id'].isna()] \\\n",
    "    .groupby('Año')['id'].size().reset_index(name='Count_Nulos')\n",
    "\n",
    "# Mostrar los resultados\n",
    "print(\"Valores nulos en 'id' por año:\")\n",
    "print(valores_nulos_por_ano)\n"
   ]
  },
  {
   "cell_type": "code",
   "execution_count": 214,
   "metadata": {},
   "outputs": [],
   "source": [
    "df_Stats_Adv_Comb['Temporada'] = df_Stats_Adv_Comb['Temporada'].astype(str)"
   ]
  },
  {
   "cell_type": "code",
   "execution_count": 215,
   "metadata": {},
   "outputs": [
    {
     "name": "stdout",
     "output_type": "stream",
     "text": [
      "               Player Temporada           Player_Temporada\n",
      "0         Paul George      2018         Paul George - 2018\n",
      "1        Steven Adams      2018        Steven Adams - 2018\n",
      "2   Russell Westbrook      2018   Russell Westbrook - 2018\n",
      "3        Jerami Grant      2018        Jerami Grant - 2018\n",
      "4  Karl-Anthony Towns      2018  Karl-Anthony Towns - 2018\n"
     ]
    }
   ],
   "source": [
    "# Crear una nueva columna concatenando 'Player' y 'Temporada'\n",
    "df_Stats_Adv_Comb['Player_Temporada'] = df_Stats_Adv_Comb['Player'] + ' - ' + df_Stats_Adv_Comb['Temporada']\n",
    "\n",
    "# Verificar el resultado\n",
    "print(df_Stats_Adv_Comb[['Player', 'Temporada', 'Player_Temporada']].head())\n"
   ]
  },
  {
   "cell_type": "code",
   "execution_count": 216,
   "metadata": {},
   "outputs": [
    {
     "name": "stdout",
     "output_type": "stream",
     "text": [
      "             Jugador   Año          Player_Temporada\n",
      "0      Stephen Curry  2018      Stephen Curry - 2018\n",
      "1  Russell Westbrook  2018  Russell Westbrook - 2018\n",
      "2       LeBron James  2018       LeBron James - 2018\n",
      "3         Chris Paul  2018         Chris Paul - 2018\n",
      "4         Kyle Lowry  2018         Kyle Lowry - 2018\n"
     ]
    },
    {
     "name": "stderr",
     "output_type": "stream",
     "text": [
      "C:\\Users\\angel\\AppData\\Local\\Temp\\ipykernel_26872\\3032769065.py:2: SettingWithCopyWarning: \n",
      "A value is trying to be set on a copy of a slice from a DataFrame.\n",
      "Try using .loc[row_indexer,col_indexer] = value instead\n",
      "\n",
      "See the caveats in the documentation: https://pandas.pydata.org/pandas-docs/stable/user_guide/indexing.html#returning-a-view-versus-a-copy\n",
      "  df_salario_filtrado_temporada['Player_Temporada'] = df_salario_filtrado_temporada['Jugador'] + ' - ' + df_salario_filtrado_temporada['Año']\n"
     ]
    }
   ],
   "source": [
    "# Crear una nueva columna concatenando 'Player' y 'Temporada'\n",
    "df_salario_filtrado_temporada['Player_Temporada'] = df_salario_filtrado_temporada['Jugador'] + ' - ' + df_salario_filtrado_temporada['Año']\n",
    "\n",
    "# Verificar el resultado\n",
    "print(df_salario_filtrado_temporada[['Jugador', 'Año', 'Player_Temporada']].head())"
   ]
  },
  {
   "cell_type": "code",
   "execution_count": 217,
   "metadata": {},
   "outputs": [
    {
     "name": "stdout",
     "output_type": "stream",
     "text": [
      "  Temporada            Jugador   Salario  \\\n",
      "0   2018/19      Stephen Curry  37457154   \n",
      "1   2018/19  Russell Westbrook  35665000   \n",
      "2   2018/19       LeBron James  35654150   \n",
      "3   2018/19         Chris Paul  35654150   \n",
      "4   2018/19         Kyle Lowry  32700000   \n",
      "\n",
      "   Salario Actual Ajustado a la Inflación   Año          Player_Temporada  \n",
      "0                                46700853  2018      Stephen Curry - 2018  \n",
      "1                                44466430  2018  Russell Westbrook - 2018  \n",
      "2                                44452903  2018       LeBron James - 2018  \n",
      "3                                44452903  2018         Chris Paul - 2018  \n",
      "4                                40769726  2018         Kyle Lowry - 2018  \n"
     ]
    }
   ],
   "source": [
    "print(df_salario_filtrado_temporada.head())"
   ]
  },
  {
   "cell_type": "code",
   "execution_count": 168,
   "metadata": {},
   "outputs": [
    {
     "name": "stdout",
     "output_type": "stream",
     "text": [
      "   Rk              Player  Age Team Pos   G  GS    MP   PER    TS%  ...  OBPM  \\\n",
      "0   5         Paul George   28  OKC  SF  77  77  2841  23.3  0.583  ...   5.6   \n",
      "1  12        Steven Adams   25  OKC   C  80  80  2669  18.5  0.591  ...   0.7   \n",
      "2  16   Russell Westbrook   30  OKC  PG  73  73  2630  21.1  0.501  ...   2.8   \n",
      "3  19        Jerami Grant   24  OKC  PF  80  77  2612  13.8  0.592  ...  -0.4   \n",
      "4  29  Karl-Anthony Towns   23  MIN   C  77  77  2545  26.3  0.622  ...   5.4   \n",
      "\n",
      "   DBPM  BPM  VORP             Awards  Player-additional  Temporada       id  \\\n",
      "0   1.6  7.2   6.6  MVP-3DPOY-3ASNBA1          georgpa01       2018   202331   \n",
      "1   0.4  1.1   2.1                  0          adamsst01       2018   203500   \n",
      "2   2.4  5.2   4.7       MVP-10ASNBA3          westbru01       2018   201566   \n",
      "3   0.6  0.2   1.5                  0          grantje01       2018   203924   \n",
      "4   0.6  6.0   5.1                 AS          townska01       2018  1626157   \n",
      "\n",
      "            Player_Temporada     Salario  \n",
      "0         Paul George - 2018  30560700.0  \n",
      "1        Steven Adams - 2018  24157304.0  \n",
      "2   Russell Westbrook - 2018  35665000.0  \n",
      "3        Jerami Grant - 2018   8333333.0  \n",
      "4  Karl-Anthony Towns - 2018   7839435.0  \n",
      "\n",
      "[5 rows x 34 columns]\n"
     ]
    }
   ],
   "source": [
    "# Realizar el merge para agregar la columna 'Salario' al df_Stats_Adv_Comb\n",
    "df_Stats_Adv_Comb = df_Stats_Adv_Comb.merge(\n",
    "    df_salario_filtrado_temporada[['Player_Temporada', 'Salario']],  # Seleccionar las columnas necesarias\n",
    "    on='Player_Temporada',  # Especificar la columna común para realizar el cruce\n",
    "    how='left'  # Merge de tipo 'left' para mantener todas las filas de df_Stats_Adv_Comb\n",
    ")\n",
    "\n",
    "# Verificar el resultado\n",
    "print(df_Stats_Adv_Comb.head())\n"
   ]
  },
  {
   "cell_type": "code",
   "execution_count": 169,
   "metadata": {},
   "outputs": [
    {
     "name": "stdout",
     "output_type": "stream",
     "text": [
      "Salario    390\n",
      "dtype: int64\n"
     ]
    }
   ],
   "source": [
    "# Verificar valores nulos restantes en todo el DataFrame\n",
    "\n",
    "Cant_Column_Null = df_Stats_Adv_Comb.isna().sum()\n",
    "\n",
    "Solo_Column_Con_Nulos = Cant_Column_Null[Cant_Column_Null>0]\n",
    "print(Solo_Column_Con_Nulos)"
   ]
  },
  {
   "cell_type": "code",
   "execution_count": 218,
   "metadata": {},
   "outputs": [
    {
     "name": "stdout",
     "output_type": "stream",
     "text": [
      "['2018' '2019' '2020' '2021' '2022']\n"
     ]
    }
   ],
   "source": [
    "# Eliminar las filas donde la columna 'Temporada' sea igual a 2023\n",
    "df_Stats_Adv_Comb = df_Stats_Adv_Comb[df_Stats_Adv_Comb['Temporada'] != '2023']\n",
    "\n",
    "# Verificar el resultado\n",
    "print(df_Stats_Adv_Comb['Temporada'].unique())  # Debería mostrar temporadas distintas de 2023\n"
   ]
  },
  {
   "cell_type": "code",
   "execution_count": 219,
   "metadata": {},
   "outputs": [
    {
     "name": "stdout",
     "output_type": "stream",
     "text": [
      "Salario    232\n",
      "dtype: int64\n"
     ]
    }
   ],
   "source": [
    "# Verificar valores nulos restantes en todo el DataFrame\n",
    "\n",
    "Cant_Column_Null = df_Stats_Adv_Comb.isna().sum()\n",
    "\n",
    "Solo_Column_Con_Nulos = Cant_Column_Null[Cant_Column_Null>0]\n",
    "print(Solo_Column_Con_Nulos)\n"
   ]
  },
  {
   "cell_type": "code",
   "execution_count": 220,
   "metadata": {},
   "outputs": [
    {
     "name": "stdout",
     "output_type": "stream",
     "text": [
      "['Nikola Jokić - 2018', 'Dennis Schröder - 2018', 'Tim Hardaway Jr. - 2018', 'Tim Hardaway Jr. - 2018', 'Tim Hardaway Jr. - 2018', 'Dario Šarić - 2018', 'Dario Šarić - 2018', 'Dario Šarić - 2018', 'Enes Freedom - 2018', 'Enes Freedom - 2018', 'Enes Freedom - 2018', 'Dennis Smith Jr. - 2018', 'Dennis Smith Jr. - 2018', 'Dennis Smith Jr. - 2018', 'Juancho Hernangómez - 2018', 'Timothé Luwawu-Cabarrot - 2018', 'Timothé Luwawu-Cabarrot - 2018', 'Timothé Luwawu-Cabarrot - 2018', 'Álex Abrines - 2018', 'Cameron Reynolds - 2018', 'C.J. Williams - 2018', 'P.J. Dozier - 2018', 'R.J. Hunter - 2018', 'Nikola Jokić - 2019', 'Dennis Schröder - 2019', 'Maurice Harkless - 2019', 'Maurice Harkless - 2019', 'Maurice Harkless - 2019', 'Enes Freedom - 2019', 'Michael Porter Jr. - 2019', 'Juancho Hernangómez - 2019', 'Juancho Hernangómez - 2019', 'Juancho Hernangómez - 2019', 'Allen Crabbe - 2019', 'Allen Crabbe - 2019', 'Allen Crabbe - 2019', 'Dennis Smith Jr. - 2019', 'Allonzo Trier - 2019', 'Kadeem Allen - 2019', 'Devon Hall - 2019', 'Vlatko Čančar - 2019', 'Julius Randle - 2020', 'RJ Barrett - 2020', 'Anthony Edwards - 2020', 'Jaylen Brown - 2020', 'Michael Porter Jr. - 2020', 'Théo Maledon - 2020', 'Will Barton - 2020', 'Darius Bazley - 2020', 'Karl-Anthony Towns - 2020', 'Marcus Smart - 2020', 'Nerlens Noel - 2020', 'Elfrid Payton - 2020', 'Isaiah Roby - 2020', 'Aaron Gordon - 2020', 'Aaron Gordon - 2020', 'Aaron Gordon - 2020', 'Kemba Walker - 2020', 'Svi Mykhailiuk - 2020', 'Svi Mykhailiuk - 2020', 'Svi Mykhailiuk - 2020', 'Tristan Thompson - 2020', 'Derrick Rose - 2020', 'Derrick Rose - 2020', 'Derrick Rose - 2020', 'Paul Millsap - 2020', 'Grant Williams - 2020', 'JaMychal Green - 2020', 'Aleksej Pokusevski - 2020', 'PJ Dozier - 2020', 'Semi Ojeleye - 2020', 'Jordan McLaughlin - 2020', 'Moses Brown - 2020', 'Juancho Hernangómez - 2020', 'R.J. Hampton - 2020', 'R.J. Hampton - 2020', 'R.J. Hampton - 2020', 'Austin Rivers - 2020', 'Austin Rivers - 2020', 'Austin Rivers - 2020', 'George Hill - 2020', 'George Hill - 2020', 'George Hill - 2020', 'Aaron Nesmith - 2020', 'Isaiah Hartenstein - 2020', 'Isaiah Hartenstein - 2020', 'Isaiah Hartenstein - 2020', 'Javonte Green - 2020', 'Javonte Green - 2020', 'Javonte Green - 2020', 'Dennis Smith Jr. - 2020', 'Dennis Smith Jr. - 2020', 'Dennis Smith Jr. - 2020', 'Luke Kornet - 2020', 'Luke Kornet - 2020', 'Luke Kornet - 2020', 'Jaylen Hoard - 2020', 'Vlatko Čančar - 2020', 'Tremont Waters - 2020', 'Darius Miller - 2020', 'Charlie Brown Jr. - 2020', 'Tacko Fall - 2020', 'Theo Pinson - 2020', 'Julius Randle - 2021', 'Karl-Anthony Towns - 2021', 'Anthony Edwards - 2021', 'RJ Barrett - 2021', 'Aaron Gordon - 2021', 'Marcus Smart - 2021', 'Will Barton - 2021', 'Jaylen Brown - 2021', 'Derrick White - 2021', 'Derrick White - 2021', 'Derrick White - 2021', 'Darius Bazley - 2021', 'Grant Williams - 2021', 'Jeff Green - 2021', 'Austin Rivers - 2021', 'Tre Mann - 2021', 'Bones Hyland - 2021', 'Aleksej Pokusevski - 2021', 'Aaron Wiggins - 2021', 'Taurean Prince - 2021', 'Jeremiah Robinson-Earl - 2021', 'JaMychal Green - 2021', 'Cam Reddish - 2021', 'Cam Reddish - 2021', 'Cam Reddish - 2021', 'Isaiah Roby - 2021', 'Kemba Walker - 2021', 'Théo Maledon - 2021', 'Jordan McLaughlin - 2021', 'Danuel House Jr. - 2021', 'Danuel House Jr. - 2021', 'Danuel House Jr. - 2021', 'Danuel House Jr. - 2021', 'DeMarcus Cousins - 2021', 'DeMarcus Cousins - 2021', 'DeMarcus Cousins - 2021', 'Davon Reed - 2021', 'Derrick Favors - 2021', 'Derrick Rose - 2021', 'Aaron Nesmith - 2021', 'Nerlens Noel - 2021', 'Jericho Sims - 2021', 'Lindy Waters III - 2021', 'Kelan Martin - 2021', 'Kelan Martin - 2021', 'Kelan Martin - 2021', 'Juancho Hernangómez - 2021', 'Juancho Hernangómez - 2021', 'Juancho Hernangómez - 2021', 'Juancho Hernangómez - 2021', 'Enes Freedom - 2021', 'PJ Dozier - 2021', 'Nathan Knight - 2021', 'Michael Porter Jr. - 2021', 'Jaylen Hoard - 2021', 'Mamadi Diakite - 2021', 'Vlatko Čančar - 2021', 'Paul Watson - 2021', 'Luke Kornet - 2021', 'Luke Kornet - 2021', 'Luke Kornet - 2021', 'Luke Kornet - 2021', 'James Ennis III - 2021', 'James Ennis III - 2021', 'James Ennis III - 2021', 'James Ennis III - 2021', 'McKinley Wright IV - 2021', 'Feron Hunt - 2021', 'Tyler Hall - 2021', 'C.J. Miles - 2021', 'Anthony Edwards - 2022', 'Julius Randle - 2022', 'RJ Barrett - 2022', 'Jaylen Brown - 2022', 'Derrick White - 2022', 'Aaron Gordon - 2022', 'Grant Williams - 2022', 'Marcus Smart - 2022', 'Michael Porter Jr. - 2022', 'Isaiah Hartenstein - 2022', 'Isaiah Joe - 2022', 'Aaron Wiggins - 2022', 'Taurean Prince - 2022', 'Christian Braun - 2022', 'Jeff Green - 2022', 'Bones Hyland - 2022', 'Bones Hyland - 2022', 'Bones Hyland - 2022', 'Austin Rivers - 2022', 'Cam Reddish - 2022', 'Cam Reddish - 2022', 'Cam Reddish - 2022', 'Karl-Anthony Towns - 2022', 'Vlatko Čančar - 2022', 'Nickeil Alexander-Walker - 2022', 'Nickeil Alexander-Walker - 2022', 'Nickeil Alexander-Walker - 2022', 'Jeremiah Robinson-Earl - 2022', 'Jericho Sims - 2022', 'Dario Šarić - 2022', 'Dario Šarić - 2022', 'Dario Šarić - 2022', 'Luke Kornet - 2022', 'Jordan McLaughlin - 2022', 'Eugene Omoruyi - 2022', 'Eugene Omoruyi - 2022', 'Eugene Omoruyi - 2022', 'Darius Bazley - 2022', 'Darius Bazley - 2022', 'Darius Bazley - 2022', 'DeAndre Jordan - 2022', 'Lindy Waters III - 2022', 'Svi Mykhailiuk - 2022', 'Svi Mykhailiuk - 2022', 'Svi Mykhailiuk - 2022', 'Ish Smith - 2022', 'Davon Reed - 2022', 'Davon Reed - 2022', 'Davon Reed - 2022', 'Derrick Rose - 2022', 'Nathan Knight - 2022', 'Noah Vonleh - 2022', 'Wendell Moore Jr. - 2022', 'A.J. Lawson - 2022', 'A.J. Lawson - 2022', 'A.J. Lawson - 2022', 'Jared Butler - 2022', 'Jack White - 2022', 'JD Davison - 2022']\n"
     ]
    }
   ],
   "source": [
    "# Filtrar los valores de 'Player_Temporada' donde 'Salario' es nulo\n",
    "jugadores_nulos_salario = df_Stats_Adv_Comb[df_Stats_Adv_Comb['Salario'].isna()]['Player_Temporada'].tolist()\n",
    "\n",
    "# Verificar el resultado\n",
    "print(jugadores_nulos_salario)\n"
   ]
  },
  {
   "cell_type": "code",
   "execution_count": 221,
   "metadata": {},
   "outputs": [
    {
     "name": "stdout",
     "output_type": "stream",
     "text": [
      "Archivo guardado exitosamente como 'Salario_Jugadores.csv'\n"
     ]
    }
   ],
   "source": [
    "# Guardar los datos filtrados en un archivo con el nombre Salario_Jugadores.csv a fin de poder utilizarlo luego\n",
    "\n",
    "df_salario_filtrado_temporada.to_csv('Salario_Jugadores.csv', index=False)\n",
    "\n",
    "# Confirmación\n",
    "print(\"Archivo guardado exitosamente como 'Salario_Jugadores.csv'\")"
   ]
  },
  {
   "cell_type": "code",
   "execution_count": 222,
   "metadata": {},
   "outputs": [
    {
     "name": "stdout",
     "output_type": "stream",
     "text": [
      "Archivo guardado exitosamente como 'NBA_Player_Stats_Advanced_Combined_Filtrado.csv'\n"
     ]
    }
   ],
   "source": [
    "# Guardar los datos filtrados en un archivo con el nombre NBA_Player_Stats_Advanced_Combined_Filtrado.csv a fin de poder utilizarlo luego\n",
    "\n",
    "df_Stats_Adv_Comb.to_csv('NBA_Player_Stats_Advanced_Combined_Filtrado.csv', index=False)\n",
    "\n",
    "# Confirmación\n",
    "print(\"Archivo guardado exitosamente como 'NBA_Player_Stats_Advanced_Combined_Filtrado.csv'\")"
   ]
  }
 ],
 "metadata": {
  "kernelspec": {
   "display_name": "Python 3",
   "language": "python",
   "name": "python3"
  },
  "language_info": {
   "codemirror_mode": {
    "name": "ipython",
    "version": 3
   },
   "file_extension": ".py",
   "mimetype": "text/x-python",
   "name": "python",
   "nbconvert_exporter": "python",
   "pygments_lexer": "ipython3",
   "version": "3.13.0"
  }
 },
 "nbformat": 4,
 "nbformat_minor": 2
}
