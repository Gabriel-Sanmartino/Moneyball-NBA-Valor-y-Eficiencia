{
 "cells": [
  {
   "cell_type": "code",
   "execution_count": 2,
   "metadata": {},
   "outputs": [],
   "source": [
    "#Archivo creado y bibliotecas importadas:\n",
    "\n",
    "import pandas as pd\n",
    "import numpy as np"
   ]
  },
  {
   "cell_type": "code",
   "execution_count": 2,
   "metadata": {},
   "outputs": [],
   "source": [
    "# Leer el archivo de trabajo:\n",
    "\n",
    "df = pd.read_csv('team.csv')"
   ]
  },
  {
   "cell_type": "code",
   "execution_count": 3,
   "metadata": {},
   "outputs": [
    {
     "data": {
      "text/plain": [
       "(30, 7)"
      ]
     },
     "execution_count": 3,
     "metadata": {},
     "output_type": "execute_result"
    }
   ],
   "source": [
    "# Para comprobar que cantidad de registros y columnas tiene el dataset cargado:\n",
    "\n",
    "df.shape"
   ]
  },
  {
   "cell_type": "code",
   "execution_count": 4,
   "metadata": {},
   "outputs": [
    {
     "data": {
      "text/html": [
       "<div>\n",
       "<style scoped>\n",
       "    .dataframe tbody tr th:only-of-type {\n",
       "        vertical-align: middle;\n",
       "    }\n",
       "\n",
       "    .dataframe tbody tr th {\n",
       "        vertical-align: top;\n",
       "    }\n",
       "\n",
       "    .dataframe thead th {\n",
       "        text-align: right;\n",
       "    }\n",
       "</style>\n",
       "<table border=\"1\" class=\"dataframe\">\n",
       "  <thead>\n",
       "    <tr style=\"text-align: right;\">\n",
       "      <th></th>\n",
       "      <th>id</th>\n",
       "      <th>full_name</th>\n",
       "      <th>abbreviation</th>\n",
       "      <th>nickname</th>\n",
       "      <th>city</th>\n",
       "      <th>state</th>\n",
       "      <th>year_founded</th>\n",
       "    </tr>\n",
       "  </thead>\n",
       "  <tbody>\n",
       "    <tr>\n",
       "      <th>0</th>\n",
       "      <td>1610612737</td>\n",
       "      <td>Atlanta Hawks</td>\n",
       "      <td>ATL</td>\n",
       "      <td>Hawks</td>\n",
       "      <td>Atlanta</td>\n",
       "      <td>Atlanta</td>\n",
       "      <td>1949.0</td>\n",
       "    </tr>\n",
       "    <tr>\n",
       "      <th>1</th>\n",
       "      <td>1610612738</td>\n",
       "      <td>Boston Celtics</td>\n",
       "      <td>BOS</td>\n",
       "      <td>Celtics</td>\n",
       "      <td>Boston</td>\n",
       "      <td>Massachusetts</td>\n",
       "      <td>1946.0</td>\n",
       "    </tr>\n",
       "    <tr>\n",
       "      <th>2</th>\n",
       "      <td>1610612739</td>\n",
       "      <td>Cleveland Cavaliers</td>\n",
       "      <td>CLE</td>\n",
       "      <td>Cavaliers</td>\n",
       "      <td>Cleveland</td>\n",
       "      <td>Ohio</td>\n",
       "      <td>1970.0</td>\n",
       "    </tr>\n",
       "    <tr>\n",
       "      <th>3</th>\n",
       "      <td>1610612740</td>\n",
       "      <td>New Orleans Pelicans</td>\n",
       "      <td>NOP</td>\n",
       "      <td>Pelicans</td>\n",
       "      <td>New Orleans</td>\n",
       "      <td>Louisiana</td>\n",
       "      <td>2002.0</td>\n",
       "    </tr>\n",
       "    <tr>\n",
       "      <th>4</th>\n",
       "      <td>1610612741</td>\n",
       "      <td>Chicago Bulls</td>\n",
       "      <td>CHI</td>\n",
       "      <td>Bulls</td>\n",
       "      <td>Chicago</td>\n",
       "      <td>Illinois</td>\n",
       "      <td>1966.0</td>\n",
       "    </tr>\n",
       "  </tbody>\n",
       "</table>\n",
       "</div>"
      ],
      "text/plain": [
       "           id             full_name abbreviation   nickname         city  \\\n",
       "0  1610612737         Atlanta Hawks          ATL      Hawks      Atlanta   \n",
       "1  1610612738        Boston Celtics          BOS    Celtics       Boston   \n",
       "2  1610612739   Cleveland Cavaliers          CLE  Cavaliers    Cleveland   \n",
       "3  1610612740  New Orleans Pelicans          NOP   Pelicans  New Orleans   \n",
       "4  1610612741         Chicago Bulls          CHI      Bulls      Chicago   \n",
       "\n",
       "           state  year_founded  \n",
       "0        Atlanta        1949.0  \n",
       "1  Massachusetts        1946.0  \n",
       "2           Ohio        1970.0  \n",
       "3      Louisiana        2002.0  \n",
       "4       Illinois        1966.0  "
      ]
     },
     "execution_count": 4,
     "metadata": {},
     "output_type": "execute_result"
    }
   ],
   "source": [
    "# Una vez cargado el dataset, y comprobado su tamaño, se procede a verificar el contenido con una vista truncada:\n",
    "df.head()"
   ]
  },
  {
   "cell_type": "code",
   "execution_count": 5,
   "metadata": {},
   "outputs": [
    {
     "data": {
      "text/plain": [
       "(5, 7)"
      ]
     },
     "execution_count": 5,
     "metadata": {},
     "output_type": "execute_result"
    }
   ],
   "source": [
    "# Selecciona y filtrar los años/equipos que se trabajarán en el proyecto: \n",
    "\n",
    "lista_filtro_equipos = ['Boston Celtics', 'New York Knicks', 'Minnesota Timberwolves', 'Oklahoma City Thunder', 'Denver Nuggets']\n",
    "df_equipos_filtrados = df[df['full_name'].isin(lista_filtro_equipos)]\n",
    "df_equipos_filtrados.shape"
   ]
  },
  {
   "cell_type": "code",
   "execution_count": 6,
   "metadata": {},
   "outputs": [
    {
     "data": {
      "text/html": [
       "<div>\n",
       "<style scoped>\n",
       "    .dataframe tbody tr th:only-of-type {\n",
       "        vertical-align: middle;\n",
       "    }\n",
       "\n",
       "    .dataframe tbody tr th {\n",
       "        vertical-align: top;\n",
       "    }\n",
       "\n",
       "    .dataframe thead th {\n",
       "        text-align: right;\n",
       "    }\n",
       "</style>\n",
       "<table border=\"1\" class=\"dataframe\">\n",
       "  <thead>\n",
       "    <tr style=\"text-align: right;\">\n",
       "      <th></th>\n",
       "      <th>id</th>\n",
       "      <th>full_name</th>\n",
       "      <th>abbreviation</th>\n",
       "      <th>nickname</th>\n",
       "      <th>city</th>\n",
       "      <th>state</th>\n",
       "      <th>year_founded</th>\n",
       "    </tr>\n",
       "  </thead>\n",
       "  <tbody>\n",
       "    <tr>\n",
       "      <th>1</th>\n",
       "      <td>1610612738</td>\n",
       "      <td>Boston Celtics</td>\n",
       "      <td>BOS</td>\n",
       "      <td>Celtics</td>\n",
       "      <td>Boston</td>\n",
       "      <td>Massachusetts</td>\n",
       "      <td>1946.0</td>\n",
       "    </tr>\n",
       "    <tr>\n",
       "      <th>6</th>\n",
       "      <td>1610612743</td>\n",
       "      <td>Denver Nuggets</td>\n",
       "      <td>DEN</td>\n",
       "      <td>Nuggets</td>\n",
       "      <td>Denver</td>\n",
       "      <td>Colorado</td>\n",
       "      <td>1976.0</td>\n",
       "    </tr>\n",
       "    <tr>\n",
       "      <th>13</th>\n",
       "      <td>1610612750</td>\n",
       "      <td>Minnesota Timberwolves</td>\n",
       "      <td>MIN</td>\n",
       "      <td>Timberwolves</td>\n",
       "      <td>Minnesota</td>\n",
       "      <td>Minnesota</td>\n",
       "      <td>1989.0</td>\n",
       "    </tr>\n",
       "    <tr>\n",
       "      <th>15</th>\n",
       "      <td>1610612752</td>\n",
       "      <td>New York Knicks</td>\n",
       "      <td>NYK</td>\n",
       "      <td>Knicks</td>\n",
       "      <td>New York</td>\n",
       "      <td>New York</td>\n",
       "      <td>1946.0</td>\n",
       "    </tr>\n",
       "    <tr>\n",
       "      <th>23</th>\n",
       "      <td>1610612760</td>\n",
       "      <td>Oklahoma City Thunder</td>\n",
       "      <td>OKC</td>\n",
       "      <td>Thunder</td>\n",
       "      <td>Oklahoma City</td>\n",
       "      <td>Oklahoma</td>\n",
       "      <td>1967.0</td>\n",
       "    </tr>\n",
       "  </tbody>\n",
       "</table>\n",
       "</div>"
      ],
      "text/plain": [
       "            id               full_name abbreviation      nickname  \\\n",
       "1   1610612738          Boston Celtics          BOS       Celtics   \n",
       "6   1610612743          Denver Nuggets          DEN       Nuggets   \n",
       "13  1610612750  Minnesota Timberwolves          MIN  Timberwolves   \n",
       "15  1610612752         New York Knicks          NYK        Knicks   \n",
       "23  1610612760   Oklahoma City Thunder          OKC       Thunder   \n",
       "\n",
       "             city          state  year_founded  \n",
       "1          Boston  Massachusetts        1946.0  \n",
       "6          Denver       Colorado        1976.0  \n",
       "13      Minnesota      Minnesota        1989.0  \n",
       "15       New York       New York        1946.0  \n",
       "23  Oklahoma City       Oklahoma        1967.0  "
      ]
     },
     "execution_count": 6,
     "metadata": {},
     "output_type": "execute_result"
    }
   ],
   "source": [
    "df_equipos_filtrados.head()"
   ]
  },
  {
   "cell_type": "code",
   "execution_count": 8,
   "metadata": {},
   "outputs": [
    {
     "name": "stdout",
     "output_type": "stream",
     "text": [
      "<class 'pandas.core.frame.DataFrame'>\n",
      "Index: 5 entries, 1 to 23\n",
      "Data columns (total 7 columns):\n",
      " #   Column        Non-Null Count  Dtype  \n",
      "---  ------        --------------  -----  \n",
      " 0   id            5 non-null      int64  \n",
      " 1   full_name     5 non-null      object \n",
      " 2   abbreviation  5 non-null      object \n",
      " 3   nickname      5 non-null      object \n",
      " 4   city          5 non-null      object \n",
      " 5   state         5 non-null      object \n",
      " 6   year_founded  5 non-null      float64\n",
      "dtypes: float64(1), int64(1), object(5)\n",
      "memory usage: 320.0+ bytes\n"
     ]
    }
   ],
   "source": [
    "df_equipos_filtrados.info()"
   ]
  },
  {
   "cell_type": "code",
   "execution_count": 9,
   "metadata": {},
   "outputs": [
    {
     "name": "stderr",
     "output_type": "stream",
     "text": [
      "C:\\Users\\Maria\\AppData\\Local\\Temp\\ipykernel_19652\\4187913430.py:2: SettingWithCopyWarning: \n",
      "A value is trying to be set on a copy of a slice from a DataFrame.\n",
      "Try using .loc[row_indexer,col_indexer] = value instead\n",
      "\n",
      "See the caveats in the documentation: https://pandas.pydata.org/pandas-docs/stable/user_guide/indexing.html#returning-a-view-versus-a-copy\n",
      "  df_equipos_filtrados['year_founded'] = df_equipos_filtrados['year_founded'].astype(int)\n"
     ]
    }
   ],
   "source": [
    "# Transformar la columna 'year_founded' a entero\n",
    "df_equipos_filtrados['year_founded'] = df_equipos_filtrados['year_founded'].astype(int)"
   ]
  },
  {
   "cell_type": "code",
   "execution_count": 10,
   "metadata": {},
   "outputs": [
    {
     "name": "stdout",
     "output_type": "stream",
     "text": [
      "Valores únicos en la columna 'year_founded':\n",
      "[1946 1976 1989 1967]\n",
      "\n",
      "Vista previa de los primeros 5 valores:\n",
      "1     1946\n",
      "6     1976\n",
      "13    1989\n",
      "15    1946\n",
      "23    1967\n",
      "Name: year_founded, dtype: int64\n"
     ]
    }
   ],
   "source": [
    "# Mostrar los valores únicos en la columna 'year_founded'\n",
    "print(\"Valores únicos en la columna 'year_founded':\")\n",
    "print(df_equipos_filtrados['year_founded'].unique())\n",
    "\n",
    "# Mostrar los primeros 10 valores para inspección manual\n",
    "print(\"\\nVista previa de los primeros 5 valores:\")\n",
    "print(df_equipos_filtrados['year_founded'].head(5))"
   ]
  },
  {
   "cell_type": "code",
   "execution_count": 11,
   "metadata": {},
   "outputs": [
    {
     "name": "stdout",
     "output_type": "stream",
     "text": [
      "Valores nulos restantes:\n",
      "id              0\n",
      "full_name       0\n",
      "abbreviation    0\n",
      "nickname        0\n",
      "city            0\n",
      "state           0\n",
      "year_founded    0\n",
      "dtype: int64\n"
     ]
    }
   ],
   "source": [
    "# Verificar valores nulos restantes en todo el DataFrame\n",
    "print(\"Valores nulos restantes:\")\n",
    "print(df_equipos_filtrados.isnull().sum())"
   ]
  },
  {
   "cell_type": "code",
   "execution_count": 12,
   "metadata": {},
   "outputs": [
    {
     "name": "stdout",
     "output_type": "stream",
     "text": [
      "Archivo guardado exitosamente como 'TeamFiltrado.csv'\n"
     ]
    }
   ],
   "source": [
    "# Guardar los datos filtrados en un archivo con el nombre TeamFiltrado.csv a fin de poder utilizarlo luego\n",
    "\n",
    "df_equipos_filtrados.to_csv('TeamFiltrado.csv', index=False)\n",
    "\n",
    "# Confirmación\n",
    "print(\"Archivo guardado exitosamente como 'TeamFiltrado.csv'\")"
   ]
  },
  {
   "cell_type": "markdown",
   "metadata": {},
   "source": [
    "Comienzo ETL Common Player Info"
   ]
  },
  {
   "cell_type": "code",
   "execution_count": 3,
   "metadata": {},
   "outputs": [],
   "source": [
    "# Leer el archivo de trabajo:\n",
    "\n",
    "df = pd.read_csv('common_player_info.csv')"
   ]
  },
  {
   "cell_type": "code",
   "execution_count": 4,
   "metadata": {},
   "outputs": [
    {
     "data": {
      "text/plain": [
       "(4171, 33)"
      ]
     },
     "execution_count": 4,
     "metadata": {},
     "output_type": "execute_result"
    }
   ],
   "source": [
    "df.shape"
   ]
  },
  {
   "cell_type": "code",
   "execution_count": 5,
   "metadata": {},
   "outputs": [
    {
     "name": "stdout",
     "output_type": "stream",
     "text": [
      "0       POR\n",
      "1       LAL\n",
      "2       SAC\n",
      "3       VAN\n",
      "4       GOS\n",
      "       ... \n",
      "4166    CHI\n",
      "4167    CLE\n",
      "4168    DET\n",
      "4169    LAC\n",
      "4170    WAS\n",
      "Name: team_abbreviation, Length: 4171, dtype: object\n"
     ]
    }
   ],
   "source": [
    "#df.head()\n",
    "#df.info()\n",
    "print(df[\"team_abbreviation\"])"
   ]
  },
  {
   "cell_type": "code",
   "execution_count": 6,
   "metadata": {},
   "outputs": [
    {
     "data": {
      "text/plain": [
       "(524, 33)"
      ]
     },
     "execution_count": 6,
     "metadata": {},
     "output_type": "execute_result"
    }
   ],
   "source": [
    "# Selecciona y filtrar los años/equipos que se trabajarán en el proyecto: \n",
    "\n",
    "lista_filtro_equipos_abv = ['BOS', 'DEN', 'MIN', 'NYK', 'OKC']\n",
    "df_equipos_abv_filtrados = df[df['team_abbreviation'].isin(lista_filtro_equipos_abv)]\n",
    "df_equipos_abv_filtrados.shape"
   ]
  },
  {
   "cell_type": "code",
   "execution_count": 8,
   "metadata": {},
   "outputs": [
    {
     "name": "stdout",
     "output_type": "stream",
     "text": [
      "<class 'pandas.core.frame.DataFrame'>\n",
      "Index: 524 entries, 10 to 4138\n",
      "Data columns (total 33 columns):\n",
      " #   Column                            Non-Null Count  Dtype  \n",
      "---  ------                            --------------  -----  \n",
      " 0   person_id                         524 non-null    int64  \n",
      " 1   first_name                        524 non-null    object \n",
      " 2   last_name                         524 non-null    object \n",
      " 3   display_first_last                524 non-null    object \n",
      " 4   display_last_comma_first          524 non-null    object \n",
      " 5   display_fi_last                   524 non-null    object \n",
      " 6   player_slug                       524 non-null    object \n",
      " 7   birthdate                         524 non-null    object \n",
      " 8   school                            522 non-null    object \n",
      " 9   country                           524 non-null    object \n",
      " 10  last_affiliation                  524 non-null    object \n",
      " 11  height                            524 non-null    object \n",
      " 12  weight                            524 non-null    float64\n",
      " 13  season_exp                        524 non-null    float64\n",
      " 14  jersey                            501 non-null    object \n",
      " 15  position                          524 non-null    object \n",
      " 16  rosterstatus                      524 non-null    object \n",
      " 17  games_played_current_season_flag  524 non-null    object \n",
      " 18  team_id                           524 non-null    int64  \n",
      " 19  team_name                         524 non-null    object \n",
      " 20  team_abbreviation                 524 non-null    object \n",
      " 21  team_code                         524 non-null    object \n",
      " 22  team_city                         524 non-null    object \n",
      " 23  playercode                        524 non-null    object \n",
      " 24  from_year                         524 non-null    float64\n",
      " 25  to_year                           524 non-null    float64\n",
      " 26  dleague_flag                      524 non-null    object \n",
      " 27  nba_flag                          524 non-null    object \n",
      " 28  games_played_flag                 524 non-null    object \n",
      " 29  draft_year                        524 non-null    object \n",
      " 30  draft_round                       504 non-null    object \n",
      " 31  draft_number                      491 non-null    object \n",
      " 32  greatest_75_flag                  524 non-null    object \n",
      "dtypes: float64(4), int64(2), object(27)\n",
      "memory usage: 139.2+ KB\n"
     ]
    }
   ],
   "source": [
    "df_equipos_abv_filtrados.info()"
   ]
  },
  {
   "cell_type": "code",
   "execution_count": 7,
   "metadata": {},
   "outputs": [
    {
     "name": "stdout",
     "output_type": "stream",
     "text": [
      "Valores nulos restantes:\n",
      "person_id                            0\n",
      "first_name                           0\n",
      "last_name                            0\n",
      "display_first_last                   0\n",
      "display_last_comma_first             0\n",
      "display_fi_last                      0\n",
      "player_slug                          0\n",
      "birthdate                            0\n",
      "school                               2\n",
      "country                              0\n",
      "last_affiliation                     0\n",
      "height                               0\n",
      "weight                               0\n",
      "season_exp                           0\n",
      "jersey                              23\n",
      "position                             0\n",
      "rosterstatus                         0\n",
      "games_played_current_season_flag     0\n",
      "team_id                              0\n",
      "team_name                            0\n",
      "team_abbreviation                    0\n",
      "team_code                            0\n",
      "team_city                            0\n",
      "playercode                           0\n",
      "from_year                            0\n",
      "to_year                              0\n",
      "dleague_flag                         0\n",
      "nba_flag                             0\n",
      "games_played_flag                    0\n",
      "draft_year                           0\n",
      "draft_round                         20\n",
      "draft_number                        33\n",
      "greatest_75_flag                     0\n",
      "dtype: int64\n"
     ]
    }
   ],
   "source": [
    "# Verificar valores nulos restantes en todo el DataFrame\n",
    "print(\"Valores nulos restantes:\")\n",
    "print(df_equipos_abv_filtrados.isnull().sum())"
   ]
  },
  {
   "cell_type": "markdown",
   "metadata": {},
   "source": [
    "Se podrìa filtrar a aquello jugadores que estuvieron activos desde 2018, pero por razones de analisis posterior, se decide por ahora dejar el dataset en este punto (filtrar por columna 'to year' > 2018)"
   ]
  },
  {
   "cell_type": "code",
   "execution_count": 9,
   "metadata": {},
   "outputs": [
    {
     "name": "stdout",
     "output_type": "stream",
     "text": [
      "Archivo guardado exitosamente como 'CommonPlayerFiltrado.csv'\n"
     ]
    }
   ],
   "source": [
    "# Guardar los datos filtrados en un archivo con el nombre CommonPlayerFiltrado.csv a fin de poder utilizarlo luego\n",
    "\n",
    "df_equipos_abv_filtrados.to_csv('CommonPlayerFiltrado.csv', index=False)\n",
    "\n",
    "# Confirmación\n",
    "print(\"Archivo guardado exitosamente como 'CommonPlayerFiltrado.csv'\")"
   ]
  },
  {
   "cell_type": "markdown",
   "metadata": {},
   "source": [
    "Comenzamos a trabajar con el archivo game.csv"
   ]
  },
  {
   "cell_type": "code",
   "execution_count": 13,
   "metadata": {},
   "outputs": [],
   "source": [
    "#Archivo creado y bibliotecas importadas:\n",
    "\n",
    "import pandas as pd\n",
    "import numpy as np"
   ]
  },
  {
   "cell_type": "code",
   "execution_count": 14,
   "metadata": {},
   "outputs": [],
   "source": [
    "# Leer el archivo de trabajo:\n",
    "\n",
    "df_game = pd.read_csv('game.csv')"
   ]
  },
  {
   "cell_type": "code",
   "execution_count": 15,
   "metadata": {},
   "outputs": [
    {
     "data": {
      "text/plain": [
       "(65698, 55)"
      ]
     },
     "execution_count": 15,
     "metadata": {},
     "output_type": "execute_result"
    }
   ],
   "source": [
    "# Para comprobar que cantidad de registros y columnas tiene el dataset cargado:\n",
    "\n",
    "df_game.shape"
   ]
  },
  {
   "cell_type": "code",
   "execution_count": 16,
   "metadata": {},
   "outputs": [
    {
     "data": {
      "text/html": [
       "<div>\n",
       "<style scoped>\n",
       "    .dataframe tbody tr th:only-of-type {\n",
       "        vertical-align: middle;\n",
       "    }\n",
       "\n",
       "    .dataframe tbody tr th {\n",
       "        vertical-align: top;\n",
       "    }\n",
       "\n",
       "    .dataframe thead th {\n",
       "        text-align: right;\n",
       "    }\n",
       "</style>\n",
       "<table border=\"1\" class=\"dataframe\">\n",
       "  <thead>\n",
       "    <tr style=\"text-align: right;\">\n",
       "      <th></th>\n",
       "      <th>season_id</th>\n",
       "      <th>team_id_home</th>\n",
       "      <th>team_abbreviation_home</th>\n",
       "      <th>team_name_home</th>\n",
       "      <th>game_id</th>\n",
       "      <th>game_date</th>\n",
       "      <th>matchup_home</th>\n",
       "      <th>wl_home</th>\n",
       "      <th>min</th>\n",
       "      <th>fgm_home</th>\n",
       "      <th>...</th>\n",
       "      <th>reb_away</th>\n",
       "      <th>ast_away</th>\n",
       "      <th>stl_away</th>\n",
       "      <th>blk_away</th>\n",
       "      <th>tov_away</th>\n",
       "      <th>pf_away</th>\n",
       "      <th>pts_away</th>\n",
       "      <th>plus_minus_away</th>\n",
       "      <th>video_available_away</th>\n",
       "      <th>season_type</th>\n",
       "    </tr>\n",
       "  </thead>\n",
       "  <tbody>\n",
       "    <tr>\n",
       "      <th>0</th>\n",
       "      <td>21946</td>\n",
       "      <td>1610610035</td>\n",
       "      <td>HUS</td>\n",
       "      <td>Toronto Huskies</td>\n",
       "      <td>24600001</td>\n",
       "      <td>1946-11-01 00:00:00</td>\n",
       "      <td>HUS vs. NYK</td>\n",
       "      <td>L</td>\n",
       "      <td>0</td>\n",
       "      <td>25.0</td>\n",
       "      <td>...</td>\n",
       "      <td>NaN</td>\n",
       "      <td>NaN</td>\n",
       "      <td>NaN</td>\n",
       "      <td>NaN</td>\n",
       "      <td>NaN</td>\n",
       "      <td>NaN</td>\n",
       "      <td>68.0</td>\n",
       "      <td>2</td>\n",
       "      <td>0</td>\n",
       "      <td>Regular Season</td>\n",
       "    </tr>\n",
       "    <tr>\n",
       "      <th>1</th>\n",
       "      <td>21946</td>\n",
       "      <td>1610610034</td>\n",
       "      <td>BOM</td>\n",
       "      <td>St. Louis Bombers</td>\n",
       "      <td>24600003</td>\n",
       "      <td>1946-11-02 00:00:00</td>\n",
       "      <td>BOM vs. PIT</td>\n",
       "      <td>W</td>\n",
       "      <td>0</td>\n",
       "      <td>20.0</td>\n",
       "      <td>...</td>\n",
       "      <td>NaN</td>\n",
       "      <td>NaN</td>\n",
       "      <td>NaN</td>\n",
       "      <td>NaN</td>\n",
       "      <td>NaN</td>\n",
       "      <td>25.0</td>\n",
       "      <td>51.0</td>\n",
       "      <td>-5</td>\n",
       "      <td>0</td>\n",
       "      <td>Regular Season</td>\n",
       "    </tr>\n",
       "    <tr>\n",
       "      <th>2</th>\n",
       "      <td>21946</td>\n",
       "      <td>1610610032</td>\n",
       "      <td>PRO</td>\n",
       "      <td>Providence Steamrollers</td>\n",
       "      <td>24600002</td>\n",
       "      <td>1946-11-02 00:00:00</td>\n",
       "      <td>PRO vs. BOS</td>\n",
       "      <td>W</td>\n",
       "      <td>0</td>\n",
       "      <td>21.0</td>\n",
       "      <td>...</td>\n",
       "      <td>NaN</td>\n",
       "      <td>NaN</td>\n",
       "      <td>NaN</td>\n",
       "      <td>NaN</td>\n",
       "      <td>NaN</td>\n",
       "      <td>NaN</td>\n",
       "      <td>53.0</td>\n",
       "      <td>-6</td>\n",
       "      <td>0</td>\n",
       "      <td>Regular Season</td>\n",
       "    </tr>\n",
       "    <tr>\n",
       "      <th>3</th>\n",
       "      <td>21946</td>\n",
       "      <td>1610610025</td>\n",
       "      <td>CHS</td>\n",
       "      <td>Chicago Stags</td>\n",
       "      <td>24600004</td>\n",
       "      <td>1946-11-02 00:00:00</td>\n",
       "      <td>CHS vs. NYK</td>\n",
       "      <td>W</td>\n",
       "      <td>0</td>\n",
       "      <td>21.0</td>\n",
       "      <td>...</td>\n",
       "      <td>NaN</td>\n",
       "      <td>NaN</td>\n",
       "      <td>NaN</td>\n",
       "      <td>NaN</td>\n",
       "      <td>NaN</td>\n",
       "      <td>22.0</td>\n",
       "      <td>47.0</td>\n",
       "      <td>-16</td>\n",
       "      <td>0</td>\n",
       "      <td>Regular Season</td>\n",
       "    </tr>\n",
       "    <tr>\n",
       "      <th>4</th>\n",
       "      <td>21946</td>\n",
       "      <td>1610610028</td>\n",
       "      <td>DEF</td>\n",
       "      <td>Detroit Falcons</td>\n",
       "      <td>24600005</td>\n",
       "      <td>1946-11-02 00:00:00</td>\n",
       "      <td>DEF vs. WAS</td>\n",
       "      <td>L</td>\n",
       "      <td>0</td>\n",
       "      <td>10.0</td>\n",
       "      <td>...</td>\n",
       "      <td>NaN</td>\n",
       "      <td>NaN</td>\n",
       "      <td>NaN</td>\n",
       "      <td>NaN</td>\n",
       "      <td>NaN</td>\n",
       "      <td>NaN</td>\n",
       "      <td>50.0</td>\n",
       "      <td>17</td>\n",
       "      <td>0</td>\n",
       "      <td>Regular Season</td>\n",
       "    </tr>\n",
       "  </tbody>\n",
       "</table>\n",
       "<p>5 rows × 55 columns</p>\n",
       "</div>"
      ],
      "text/plain": [
       "   season_id  team_id_home team_abbreviation_home           team_name_home  \\\n",
       "0      21946    1610610035                    HUS          Toronto Huskies   \n",
       "1      21946    1610610034                    BOM        St. Louis Bombers   \n",
       "2      21946    1610610032                    PRO  Providence Steamrollers   \n",
       "3      21946    1610610025                    CHS            Chicago Stags   \n",
       "4      21946    1610610028                    DEF          Detroit Falcons   \n",
       "\n",
       "    game_id            game_date matchup_home wl_home  min  fgm_home  ...  \\\n",
       "0  24600001  1946-11-01 00:00:00  HUS vs. NYK       L    0      25.0  ...   \n",
       "1  24600003  1946-11-02 00:00:00  BOM vs. PIT       W    0      20.0  ...   \n",
       "2  24600002  1946-11-02 00:00:00  PRO vs. BOS       W    0      21.0  ...   \n",
       "3  24600004  1946-11-02 00:00:00  CHS vs. NYK       W    0      21.0  ...   \n",
       "4  24600005  1946-11-02 00:00:00  DEF vs. WAS       L    0      10.0  ...   \n",
       "\n",
       "   reb_away  ast_away  stl_away  blk_away  tov_away  pf_away  pts_away  \\\n",
       "0       NaN       NaN       NaN       NaN       NaN      NaN      68.0   \n",
       "1       NaN       NaN       NaN       NaN       NaN     25.0      51.0   \n",
       "2       NaN       NaN       NaN       NaN       NaN      NaN      53.0   \n",
       "3       NaN       NaN       NaN       NaN       NaN     22.0      47.0   \n",
       "4       NaN       NaN       NaN       NaN       NaN      NaN      50.0   \n",
       "\n",
       "   plus_minus_away  video_available_away     season_type  \n",
       "0                2                     0  Regular Season  \n",
       "1               -5                     0  Regular Season  \n",
       "2               -6                     0  Regular Season  \n",
       "3              -16                     0  Regular Season  \n",
       "4               17                     0  Regular Season  \n",
       "\n",
       "[5 rows x 55 columns]"
      ]
     },
     "execution_count": 16,
     "metadata": {},
     "output_type": "execute_result"
    }
   ],
   "source": [
    "# Una vez cargado el dataset, y comprobado su tamaño, se procede a verificar el contenido con una vista truncada:\n",
    "df_game.head()"
   ]
  },
  {
   "cell_type": "code",
   "execution_count": 17,
   "metadata": {},
   "outputs": [
    {
     "name": "stdout",
     "output_type": "stream",
     "text": [
      "<class 'pandas.core.frame.DataFrame'>\n",
      "RangeIndex: 65698 entries, 0 to 65697\n",
      "Data columns (total 55 columns):\n",
      " #   Column                  Non-Null Count  Dtype  \n",
      "---  ------                  --------------  -----  \n",
      " 0   season_id               65698 non-null  int64  \n",
      " 1   team_id_home            65698 non-null  int64  \n",
      " 2   team_abbreviation_home  65698 non-null  object \n",
      " 3   team_name_home          65698 non-null  object \n",
      " 4   game_id                 65698 non-null  int64  \n",
      " 5   game_date               65698 non-null  object \n",
      " 6   matchup_home            65698 non-null  object \n",
      " 7   wl_home                 65696 non-null  object \n",
      " 8   min                     65698 non-null  int64  \n",
      " 9   fgm_home                65685 non-null  float64\n",
      " 10  fga_home                50251 non-null  float64\n",
      " 11  fg_pct_home             50208 non-null  float64\n",
      " 12  fg3m_home               52480 non-null  float64\n",
      " 13  fg3a_home               47015 non-null  float64\n",
      " 14  fg3_pct_home            46624 non-null  float64\n",
      " 15  ftm_home                65682 non-null  float64\n",
      " 16  fta_home                62694 non-null  float64\n",
      " 17  ft_pct_home             62689 non-null  float64\n",
      " 18  oreb_home               46762 non-null  float64\n",
      " 19  dreb_home               46699 non-null  float64\n",
      " 20  reb_home                49969 non-null  float64\n",
      " 21  ast_home                49893 non-null  float64\n",
      " 22  stl_home                46849 non-null  float64\n",
      " 23  blk_home                47072 non-null  float64\n",
      " 24  tov_home                47014 non-null  float64\n",
      " 25  pf_home                 62842 non-null  float64\n",
      " 26  pts_home                65698 non-null  float64\n",
      " 27  plus_minus_home         65698 non-null  int64  \n",
      " 28  video_available_home    65698 non-null  int64  \n",
      " 29  team_id_away            65698 non-null  int64  \n",
      " 30  team_abbreviation_away  65698 non-null  object \n",
      " 31  team_name_away          65698 non-null  object \n",
      " 32  matchup_away            65698 non-null  object \n",
      " 33  wl_away                 65696 non-null  object \n",
      " 34  fgm_away                65685 non-null  float64\n",
      " 35  fga_away                50251 non-null  float64\n",
      " 36  fg_pct_away             50209 non-null  float64\n",
      " 37  fg3m_away               52480 non-null  float64\n",
      " 38  fg3a_away               47015 non-null  float64\n",
      " 39  fg3_pct_away            46736 non-null  float64\n",
      " 40  ftm_away                65685 non-null  float64\n",
      " 41  fta_away                62694 non-null  float64\n",
      " 42  ft_pct_away             62692 non-null  float64\n",
      " 43  oreb_away               46762 non-null  float64\n",
      " 44  dreb_away               46700 non-null  float64\n",
      " 45  reb_away                49973 non-null  float64\n",
      " 46  ast_away                49897 non-null  float64\n",
      " 47  stl_away                46849 non-null  float64\n",
      " 48  blk_away                47073 non-null  float64\n",
      " 49  tov_away                47013 non-null  float64\n",
      " 50  pf_away                 62847 non-null  float64\n",
      " 51  pts_away                65698 non-null  float64\n",
      " 52  plus_minus_away         65698 non-null  int64  \n",
      " 53  video_available_away    65698 non-null  int64  \n",
      " 54  season_type             65698 non-null  object \n",
      "dtypes: float64(36), int64(9), object(10)\n",
      "memory usage: 27.6+ MB\n"
     ]
    }
   ],
   "source": [
    "df_game.info()"
   ]
  },
  {
   "cell_type": "code",
   "execution_count": 18,
   "metadata": {},
   "outputs": [
    {
     "name": "stdout",
     "output_type": "stream",
     "text": [
      "(18944, 55)\n"
     ]
    }
   ],
   "source": [
    "# Selecciona y filtrar los años/equipos que se trabajarán en el proyecto: \n",
    "\n",
    "lista_filtro_game = ['BOS', 'DEN', 'MIN', 'NYK', 'OKC']\n",
    "\n",
    "# Filtrar valores que contengan alguna de las cadenas en la lista\n",
    "df_game_filtrado = df_game[df_game['matchup_home'].str.contains('|'.join(lista_filtro_game))]\n",
    "\n",
    "# Verificar el tamaño del DataFrame filtrado\n",
    "print(df_game_filtrado.shape)"
   ]
  },
  {
   "cell_type": "code",
   "execution_count": 19,
   "metadata": {},
   "outputs": [
    {
     "data": {
      "text/html": [
       "<div>\n",
       "<style scoped>\n",
       "    .dataframe tbody tr th:only-of-type {\n",
       "        vertical-align: middle;\n",
       "    }\n",
       "\n",
       "    .dataframe tbody tr th {\n",
       "        vertical-align: top;\n",
       "    }\n",
       "\n",
       "    .dataframe thead th {\n",
       "        text-align: right;\n",
       "    }\n",
       "</style>\n",
       "<table border=\"1\" class=\"dataframe\">\n",
       "  <thead>\n",
       "    <tr style=\"text-align: right;\">\n",
       "      <th></th>\n",
       "      <th>season_id</th>\n",
       "      <th>team_id_home</th>\n",
       "      <th>team_abbreviation_home</th>\n",
       "      <th>team_name_home</th>\n",
       "      <th>game_id</th>\n",
       "      <th>game_date</th>\n",
       "      <th>matchup_home</th>\n",
       "      <th>wl_home</th>\n",
       "      <th>min</th>\n",
       "      <th>fgm_home</th>\n",
       "      <th>...</th>\n",
       "      <th>reb_away</th>\n",
       "      <th>ast_away</th>\n",
       "      <th>stl_away</th>\n",
       "      <th>blk_away</th>\n",
       "      <th>tov_away</th>\n",
       "      <th>pf_away</th>\n",
       "      <th>pts_away</th>\n",
       "      <th>plus_minus_away</th>\n",
       "      <th>video_available_away</th>\n",
       "      <th>season_type</th>\n",
       "    </tr>\n",
       "  </thead>\n",
       "  <tbody>\n",
       "    <tr>\n",
       "      <th>0</th>\n",
       "      <td>21946</td>\n",
       "      <td>1610610035</td>\n",
       "      <td>HUS</td>\n",
       "      <td>Toronto Huskies</td>\n",
       "      <td>24600001</td>\n",
       "      <td>1946-11-01 00:00:00</td>\n",
       "      <td>HUS vs. NYK</td>\n",
       "      <td>L</td>\n",
       "      <td>0</td>\n",
       "      <td>25.0</td>\n",
       "      <td>...</td>\n",
       "      <td>NaN</td>\n",
       "      <td>NaN</td>\n",
       "      <td>NaN</td>\n",
       "      <td>NaN</td>\n",
       "      <td>NaN</td>\n",
       "      <td>NaN</td>\n",
       "      <td>68.0</td>\n",
       "      <td>2</td>\n",
       "      <td>0</td>\n",
       "      <td>Regular Season</td>\n",
       "    </tr>\n",
       "    <tr>\n",
       "      <th>2</th>\n",
       "      <td>21946</td>\n",
       "      <td>1610610032</td>\n",
       "      <td>PRO</td>\n",
       "      <td>Providence Steamrollers</td>\n",
       "      <td>24600002</td>\n",
       "      <td>1946-11-02 00:00:00</td>\n",
       "      <td>PRO vs. BOS</td>\n",
       "      <td>W</td>\n",
       "      <td>0</td>\n",
       "      <td>21.0</td>\n",
       "      <td>...</td>\n",
       "      <td>NaN</td>\n",
       "      <td>NaN</td>\n",
       "      <td>NaN</td>\n",
       "      <td>NaN</td>\n",
       "      <td>NaN</td>\n",
       "      <td>NaN</td>\n",
       "      <td>53.0</td>\n",
       "      <td>-6</td>\n",
       "      <td>0</td>\n",
       "      <td>Regular Season</td>\n",
       "    </tr>\n",
       "    <tr>\n",
       "      <th>3</th>\n",
       "      <td>21946</td>\n",
       "      <td>1610610025</td>\n",
       "      <td>CHS</td>\n",
       "      <td>Chicago Stags</td>\n",
       "      <td>24600004</td>\n",
       "      <td>1946-11-02 00:00:00</td>\n",
       "      <td>CHS vs. NYK</td>\n",
       "      <td>W</td>\n",
       "      <td>0</td>\n",
       "      <td>21.0</td>\n",
       "      <td>...</td>\n",
       "      <td>NaN</td>\n",
       "      <td>NaN</td>\n",
       "      <td>NaN</td>\n",
       "      <td>NaN</td>\n",
       "      <td>NaN</td>\n",
       "      <td>22.0</td>\n",
       "      <td>47.0</td>\n",
       "      <td>-16</td>\n",
       "      <td>0</td>\n",
       "      <td>Regular Season</td>\n",
       "    </tr>\n",
       "    <tr>\n",
       "      <th>7</th>\n",
       "      <td>21946</td>\n",
       "      <td>1610612738</td>\n",
       "      <td>BOS</td>\n",
       "      <td>Boston Celtics</td>\n",
       "      <td>24600008</td>\n",
       "      <td>1946-11-05 00:00:00</td>\n",
       "      <td>BOS vs. CHS</td>\n",
       "      <td>L</td>\n",
       "      <td>0</td>\n",
       "      <td>23.0</td>\n",
       "      <td>...</td>\n",
       "      <td>NaN</td>\n",
       "      <td>NaN</td>\n",
       "      <td>NaN</td>\n",
       "      <td>NaN</td>\n",
       "      <td>NaN</td>\n",
       "      <td>NaN</td>\n",
       "      <td>57.0</td>\n",
       "      <td>2</td>\n",
       "      <td>0</td>\n",
       "      <td>Regular Season</td>\n",
       "    </tr>\n",
       "    <tr>\n",
       "      <th>10</th>\n",
       "      <td>21946</td>\n",
       "      <td>1610610034</td>\n",
       "      <td>BOM</td>\n",
       "      <td>St. Louis Bombers</td>\n",
       "      <td>24600012</td>\n",
       "      <td>1946-11-07 00:00:00</td>\n",
       "      <td>BOM vs. NYK</td>\n",
       "      <td>L</td>\n",
       "      <td>0</td>\n",
       "      <td>25.0</td>\n",
       "      <td>...</td>\n",
       "      <td>NaN</td>\n",
       "      <td>NaN</td>\n",
       "      <td>NaN</td>\n",
       "      <td>NaN</td>\n",
       "      <td>NaN</td>\n",
       "      <td>16.0</td>\n",
       "      <td>68.0</td>\n",
       "      <td>5</td>\n",
       "      <td>0</td>\n",
       "      <td>Regular Season</td>\n",
       "    </tr>\n",
       "  </tbody>\n",
       "</table>\n",
       "<p>5 rows × 55 columns</p>\n",
       "</div>"
      ],
      "text/plain": [
       "    season_id  team_id_home team_abbreviation_home           team_name_home  \\\n",
       "0       21946    1610610035                    HUS          Toronto Huskies   \n",
       "2       21946    1610610032                    PRO  Providence Steamrollers   \n",
       "3       21946    1610610025                    CHS            Chicago Stags   \n",
       "7       21946    1610612738                    BOS           Boston Celtics   \n",
       "10      21946    1610610034                    BOM        St. Louis Bombers   \n",
       "\n",
       "     game_id            game_date matchup_home wl_home  min  fgm_home  ...  \\\n",
       "0   24600001  1946-11-01 00:00:00  HUS vs. NYK       L    0      25.0  ...   \n",
       "2   24600002  1946-11-02 00:00:00  PRO vs. BOS       W    0      21.0  ...   \n",
       "3   24600004  1946-11-02 00:00:00  CHS vs. NYK       W    0      21.0  ...   \n",
       "7   24600008  1946-11-05 00:00:00  BOS vs. CHS       L    0      23.0  ...   \n",
       "10  24600012  1946-11-07 00:00:00  BOM vs. NYK       L    0      25.0  ...   \n",
       "\n",
       "    reb_away  ast_away  stl_away  blk_away  tov_away  pf_away  pts_away  \\\n",
       "0        NaN       NaN       NaN       NaN       NaN      NaN      68.0   \n",
       "2        NaN       NaN       NaN       NaN       NaN      NaN      53.0   \n",
       "3        NaN       NaN       NaN       NaN       NaN     22.0      47.0   \n",
       "7        NaN       NaN       NaN       NaN       NaN      NaN      57.0   \n",
       "10       NaN       NaN       NaN       NaN       NaN     16.0      68.0   \n",
       "\n",
       "    plus_minus_away  video_available_away     season_type  \n",
       "0                 2                     0  Regular Season  \n",
       "2                -6                     0  Regular Season  \n",
       "3               -16                     0  Regular Season  \n",
       "7                 2                     0  Regular Season  \n",
       "10                5                     0  Regular Season  \n",
       "\n",
       "[5 rows x 55 columns]"
      ]
     },
     "execution_count": 19,
     "metadata": {},
     "output_type": "execute_result"
    }
   ],
   "source": [
    "df_game_filtrado.head()"
   ]
  },
  {
   "cell_type": "code",
   "execution_count": 20,
   "metadata": {},
   "outputs": [
    {
     "name": "stdout",
     "output_type": "stream",
     "text": [
      "(2041, 55)\n",
      "       season_id  team_id_home team_abbreviation_home         team_name_home  \\\n",
      "59255      22018    1610612738                    BOS         Boston Celtics   \n",
      "59256      22018    1610612744                    GSW  Golden State Warriors   \n",
      "59257      22018    1610612759                    SAS      San Antonio Spurs   \n",
      "59259      22018    1610612746                    LAC            LA Clippers   \n",
      "59260      22018    1610612752                    NYK        New York Knicks   \n",
      "\n",
      "        game_id  game_date matchup_home wl_home  min  fgm_home  ...  reb_away  \\\n",
      "59255  21800001 2018-10-16  BOS vs. PHI       W  240      42.0  ...      47.0   \n",
      "59256  21800002 2018-10-16  GSW vs. OKC       W  240      42.0  ...      45.0   \n",
      "59257  21800010 2018-10-17  SAS vs. MIN       W  240      40.0  ...      46.0   \n",
      "59259  21800012 2018-10-17  LAC vs. DEN       L  240      35.0  ...      56.0   \n",
      "59260  21800007 2018-10-17  NYK vs. ATL       W  240      45.0  ...      45.0   \n",
      "\n",
      "       ast_away  stl_away  blk_away  tov_away  pf_away  pts_away  \\\n",
      "59255      18.0       8.0       5.0      16.0     20.0      87.0   \n",
      "59256      21.0      12.0       6.0      15.0     21.0     100.0   \n",
      "59257      20.0       9.0       2.0      11.0     27.0     108.0   \n",
      "59259      20.0       6.0       9.0      11.0     22.0     107.0   \n",
      "59260      19.0       7.0       3.0      24.0     30.0     107.0   \n",
      "\n",
      "       plus_minus_away  video_available_away     season_type  \n",
      "59255              -18                     1  Regular Season  \n",
      "59256               -8                     1  Regular Season  \n",
      "59257               -4                     1  Regular Season  \n",
      "59259                9                     1  Regular Season  \n",
      "59260              -19                     1  Regular Season  \n",
      "\n",
      "[5 rows x 55 columns]\n"
     ]
    },
    {
     "name": "stderr",
     "output_type": "stream",
     "text": [
      "C:\\Users\\Maria\\AppData\\Local\\Temp\\ipykernel_3144\\3577179761.py:2: SettingWithCopyWarning: \n",
      "A value is trying to be set on a copy of a slice from a DataFrame.\n",
      "Try using .loc[row_indexer,col_indexer] = value instead\n",
      "\n",
      "See the caveats in the documentation: https://pandas.pydata.org/pandas-docs/stable/user_guide/indexing.html#returning-a-view-versus-a-copy\n",
      "  df_game_filtrado['game_date'] = pd.to_datetime(df_game_filtrado['game_date'])\n"
     ]
    }
   ],
   "source": [
    "# Convertir la columna 'game_date' a tipo datetime\n",
    "df_game_filtrado['game_date'] = pd.to_datetime(df_game_filtrado['game_date'])\n",
    "\n",
    "# Filtrar las filas desde 2018\n",
    "df_game_filtrado2= df_game_filtrado[df_game_filtrado['game_date'] >= '2018-10-01']\n",
    "\n",
    "# Verificar el resultado\n",
    "print(df_game_filtrado2.shape)\n",
    "print(df_game_filtrado2.head())"
   ]
  },
  {
   "cell_type": "code",
   "execution_count": 21,
   "metadata": {},
   "outputs": [
    {
     "name": "stdout",
     "output_type": "stream",
     "text": [
      "Valores nulos restantes:\n",
      "season_id                 0\n",
      "team_id_home              0\n",
      "team_abbreviation_home    0\n",
      "team_name_home            0\n",
      "game_id                   0\n",
      "game_date                 0\n",
      "matchup_home              0\n",
      "wl_home                   0\n",
      "min                       0\n",
      "fgm_home                  0\n",
      "fga_home                  0\n",
      "fg_pct_home               0\n",
      "fg3m_home                 0\n",
      "fg3a_home                 0\n",
      "fg3_pct_home              0\n",
      "ftm_home                  0\n",
      "fta_home                  0\n",
      "ft_pct_home               0\n",
      "oreb_home                 0\n",
      "dreb_home                 0\n",
      "reb_home                  0\n",
      "ast_home                  0\n",
      "stl_home                  0\n",
      "blk_home                  0\n",
      "tov_home                  0\n",
      "pf_home                   0\n",
      "pts_home                  0\n",
      "plus_minus_home           0\n",
      "video_available_home      0\n",
      "team_id_away              0\n",
      "team_abbreviation_away    0\n",
      "team_name_away            0\n",
      "matchup_away              0\n",
      "wl_away                   0\n",
      "fgm_away                  0\n",
      "fga_away                  0\n",
      "fg_pct_away               0\n",
      "fg3m_away                 0\n",
      "fg3a_away                 0\n",
      "fg3_pct_away              0\n",
      "ftm_away                  0\n",
      "fta_away                  0\n",
      "ft_pct_away               0\n",
      "oreb_away                 0\n",
      "dreb_away                 0\n",
      "reb_away                  0\n",
      "ast_away                  0\n",
      "stl_away                  0\n",
      "blk_away                  0\n",
      "tov_away                  0\n",
      "pf_away                   0\n",
      "pts_away                  0\n",
      "plus_minus_away           0\n",
      "video_available_away      0\n",
      "season_type               0\n",
      "dtype: int64\n"
     ]
    }
   ],
   "source": [
    "# Verificar valores nulos restantes en todo el DataFrame\n",
    "print(\"Valores nulos restantes:\")\n",
    "print(df_game_filtrado2.isnull().sum())"
   ]
  },
  {
   "cell_type": "code",
   "execution_count": 22,
   "metadata": {},
   "outputs": [
    {
     "name": "stdout",
     "output_type": "stream",
     "text": [
      "<class 'pandas.core.frame.DataFrame'>\n",
      "Index: 2041 entries, 59255 to 65695\n",
      "Data columns (total 55 columns):\n",
      " #   Column                  Non-Null Count  Dtype         \n",
      "---  ------                  --------------  -----         \n",
      " 0   season_id               2041 non-null   int64         \n",
      " 1   team_id_home            2041 non-null   int64         \n",
      " 2   team_abbreviation_home  2041 non-null   object        \n",
      " 3   team_name_home          2041 non-null   object        \n",
      " 4   game_id                 2041 non-null   int64         \n",
      " 5   game_date               2041 non-null   datetime64[ns]\n",
      " 6   matchup_home            2041 non-null   object        \n",
      " 7   wl_home                 2041 non-null   object        \n",
      " 8   min                     2041 non-null   int64         \n",
      " 9   fgm_home                2041 non-null   float64       \n",
      " 10  fga_home                2041 non-null   float64       \n",
      " 11  fg_pct_home             2041 non-null   float64       \n",
      " 12  fg3m_home               2041 non-null   float64       \n",
      " 13  fg3a_home               2041 non-null   float64       \n",
      " 14  fg3_pct_home            2041 non-null   float64       \n",
      " 15  ftm_home                2041 non-null   float64       \n",
      " 16  fta_home                2041 non-null   float64       \n",
      " 17  ft_pct_home             2041 non-null   float64       \n",
      " 18  oreb_home               2041 non-null   float64       \n",
      " 19  dreb_home               2041 non-null   float64       \n",
      " 20  reb_home                2041 non-null   float64       \n",
      " 21  ast_home                2041 non-null   float64       \n",
      " 22  stl_home                2041 non-null   float64       \n",
      " 23  blk_home                2041 non-null   float64       \n",
      " 24  tov_home                2041 non-null   float64       \n",
      " 25  pf_home                 2041 non-null   float64       \n",
      " 26  pts_home                2041 non-null   float64       \n",
      " 27  plus_minus_home         2041 non-null   int64         \n",
      " 28  video_available_home    2041 non-null   int64         \n",
      " 29  team_id_away            2041 non-null   int64         \n",
      " 30  team_abbreviation_away  2041 non-null   object        \n",
      " 31  team_name_away          2041 non-null   object        \n",
      " 32  matchup_away            2041 non-null   object        \n",
      " 33  wl_away                 2041 non-null   object        \n",
      " 34  fgm_away                2041 non-null   float64       \n",
      " 35  fga_away                2041 non-null   float64       \n",
      " 36  fg_pct_away             2041 non-null   float64       \n",
      " 37  fg3m_away               2041 non-null   float64       \n",
      " 38  fg3a_away               2041 non-null   float64       \n",
      " 39  fg3_pct_away            2041 non-null   float64       \n",
      " 40  ftm_away                2041 non-null   float64       \n",
      " 41  fta_away                2041 non-null   float64       \n",
      " 42  ft_pct_away             2041 non-null   float64       \n",
      " 43  oreb_away               2041 non-null   float64       \n",
      " 44  dreb_away               2041 non-null   float64       \n",
      " 45  reb_away                2041 non-null   float64       \n",
      " 46  ast_away                2041 non-null   float64       \n",
      " 47  stl_away                2041 non-null   float64       \n",
      " 48  blk_away                2041 non-null   float64       \n",
      " 49  tov_away                2041 non-null   float64       \n",
      " 50  pf_away                 2041 non-null   float64       \n",
      " 51  pts_away                2041 non-null   float64       \n",
      " 52  plus_minus_away         2041 non-null   int64         \n",
      " 53  video_available_away    2041 non-null   int64         \n",
      " 54  season_type             2041 non-null   object        \n",
      "dtypes: datetime64[ns](1), float64(36), int64(9), object(9)\n",
      "memory usage: 892.9+ KB\n"
     ]
    }
   ],
   "source": [
    "df_game_filtrado2.info()"
   ]
  },
  {
   "cell_type": "markdown",
   "metadata": {},
   "source": [
    "Vamos a chequear y ajustar los formatos de texto de las columnas"
   ]
  },
  {
   "cell_type": "code",
   "execution_count": 23,
   "metadata": {},
   "outputs": [],
   "source": [
    "# Para las columnas con decimales, indicamos que redondee a 2 decimales:\n",
    "\n",
    "#df_game_filtrado2['new_recovered'] = df_game_filtrado2['new_recovered'].round(2)"
   ]
  },
  {
   "cell_type": "markdown",
   "metadata": {},
   "source": [
    "Ajustamos los formatos de las columnas con numeros enteros"
   ]
  },
  {
   "cell_type": "code",
   "execution_count": 24,
   "metadata": {},
   "outputs": [
    {
     "name": "stderr",
     "output_type": "stream",
     "text": [
      "C:\\Users\\Maria\\AppData\\Local\\Temp\\ipykernel_3144\\4107922953.py:11: SettingWithCopyWarning: \n",
      "A value is trying to be set on a copy of a slice from a DataFrame.\n",
      "Try using .loc[row_indexer,col_indexer] = value instead\n",
      "\n",
      "See the caveats in the documentation: https://pandas.pydata.org/pandas-docs/stable/user_guide/indexing.html#returning-a-view-versus-a-copy\n",
      "  df_game_filtrado2[columns_to_convert_home] = df_game_filtrado2[columns_to_convert_home].astype(int)\n"
     ]
    }
   ],
   "source": [
    "# Procedemos a asignar el tipo de dato entero a algunas columnas:\n",
    "\n",
    "# Lista de columnas a convertir\n",
    "columns_to_convert_home = [\n",
    "    'fgm_home', 'fga_home', 'fg3m_home', 'fg3a_home', 'ftm_home', 'fta_home', \n",
    "    'oreb_home', 'dreb_home', 'reb_home', 'ast_home', 'stl_home', 'blk_home', \n",
    "    'tov_home', 'pf_home', 'pts_home'\n",
    "]\n",
    "\n",
    "# Convertir cada columna a int\n",
    "df_game_filtrado2[columns_to_convert_home] = df_game_filtrado2[columns_to_convert_home].astype(int)"
   ]
  },
  {
   "cell_type": "code",
   "execution_count": 25,
   "metadata": {},
   "outputs": [
    {
     "name": "stdout",
     "output_type": "stream",
     "text": [
      "<class 'pandas.core.frame.DataFrame'>\n",
      "Index: 2041 entries, 59255 to 65695\n",
      "Data columns (total 55 columns):\n",
      " #   Column                  Non-Null Count  Dtype         \n",
      "---  ------                  --------------  -----         \n",
      " 0   season_id               2041 non-null   int64         \n",
      " 1   team_id_home            2041 non-null   int64         \n",
      " 2   team_abbreviation_home  2041 non-null   object        \n",
      " 3   team_name_home          2041 non-null   object        \n",
      " 4   game_id                 2041 non-null   int64         \n",
      " 5   game_date               2041 non-null   datetime64[ns]\n",
      " 6   matchup_home            2041 non-null   object        \n",
      " 7   wl_home                 2041 non-null   object        \n",
      " 8   min                     2041 non-null   int64         \n",
      " 9   fgm_home                2041 non-null   int64         \n",
      " 10  fga_home                2041 non-null   int64         \n",
      " 11  fg_pct_home             2041 non-null   float64       \n",
      " 12  fg3m_home               2041 non-null   int64         \n",
      " 13  fg3a_home               2041 non-null   int64         \n",
      " 14  fg3_pct_home            2041 non-null   float64       \n",
      " 15  ftm_home                2041 non-null   int64         \n",
      " 16  fta_home                2041 non-null   int64         \n",
      " 17  ft_pct_home             2041 non-null   float64       \n",
      " 18  oreb_home               2041 non-null   int64         \n",
      " 19  dreb_home               2041 non-null   int64         \n",
      " 20  reb_home                2041 non-null   int64         \n",
      " 21  ast_home                2041 non-null   int64         \n",
      " 22  stl_home                2041 non-null   int64         \n",
      " 23  blk_home                2041 non-null   int64         \n",
      " 24  tov_home                2041 non-null   int64         \n",
      " 25  pf_home                 2041 non-null   int64         \n",
      " 26  pts_home                2041 non-null   int64         \n",
      " 27  plus_minus_home         2041 non-null   int64         \n",
      " 28  video_available_home    2041 non-null   int64         \n",
      " 29  team_id_away            2041 non-null   int64         \n",
      " 30  team_abbreviation_away  2041 non-null   object        \n",
      " 31  team_name_away          2041 non-null   object        \n",
      " 32  matchup_away            2041 non-null   object        \n",
      " 33  wl_away                 2041 non-null   object        \n",
      " 34  fgm_away                2041 non-null   float64       \n",
      " 35  fga_away                2041 non-null   float64       \n",
      " 36  fg_pct_away             2041 non-null   float64       \n",
      " 37  fg3m_away               2041 non-null   float64       \n",
      " 38  fg3a_away               2041 non-null   float64       \n",
      " 39  fg3_pct_away            2041 non-null   float64       \n",
      " 40  ftm_away                2041 non-null   float64       \n",
      " 41  fta_away                2041 non-null   float64       \n",
      " 42  ft_pct_away             2041 non-null   float64       \n",
      " 43  oreb_away               2041 non-null   float64       \n",
      " 44  dreb_away               2041 non-null   float64       \n",
      " 45  reb_away                2041 non-null   float64       \n",
      " 46  ast_away                2041 non-null   float64       \n",
      " 47  stl_away                2041 non-null   float64       \n",
      " 48  blk_away                2041 non-null   float64       \n",
      " 49  tov_away                2041 non-null   float64       \n",
      " 50  pf_away                 2041 non-null   float64       \n",
      " 51  pts_away                2041 non-null   float64       \n",
      " 52  plus_minus_away         2041 non-null   int64         \n",
      " 53  video_available_away    2041 non-null   int64         \n",
      " 54  season_type             2041 non-null   object        \n",
      "dtypes: datetime64[ns](1), float64(21), int64(24), object(9)\n",
      "memory usage: 892.9+ KB\n"
     ]
    }
   ],
   "source": [
    "df_game_filtrado2.info()"
   ]
  },
  {
   "cell_type": "code",
   "execution_count": 26,
   "metadata": {},
   "outputs": [
    {
     "name": "stderr",
     "output_type": "stream",
     "text": [
      "C:\\Users\\Maria\\AppData\\Local\\Temp\\ipykernel_3144\\3199151192.py:11: SettingWithCopyWarning: \n",
      "A value is trying to be set on a copy of a slice from a DataFrame.\n",
      "Try using .loc[row_indexer,col_indexer] = value instead\n",
      "\n",
      "See the caveats in the documentation: https://pandas.pydata.org/pandas-docs/stable/user_guide/indexing.html#returning-a-view-versus-a-copy\n",
      "  df_game_filtrado2[columns_to_convert_away] = df_game_filtrado2[columns_to_convert_away].astype(int)\n"
     ]
    }
   ],
   "source": [
    "# Procedemos a asignar el tipo de dato entero a algunas columnas:\n",
    "\n",
    "# Lista de columnas a convertir\n",
    "columns_to_convert_away = [\n",
    "    'fgm_away', 'fga_away', 'fg3m_away', 'fg3a_away', 'ftm_away', 'fta_away', \n",
    "    'oreb_away', 'dreb_away', 'reb_away', 'ast_away', 'stl_away', 'blk_away', \n",
    "    'tov_away', 'pf_away', 'pts_away'\n",
    "]\n",
    "\n",
    "# Convertir cada columna a int\n",
    "df_game_filtrado2[columns_to_convert_away] = df_game_filtrado2[columns_to_convert_away].astype(int)"
   ]
  },
  {
   "cell_type": "code",
   "execution_count": 27,
   "metadata": {},
   "outputs": [
    {
     "name": "stdout",
     "output_type": "stream",
     "text": [
      "<class 'pandas.core.frame.DataFrame'>\n",
      "Index: 2041 entries, 59255 to 65695\n",
      "Data columns (total 55 columns):\n",
      " #   Column                  Non-Null Count  Dtype         \n",
      "---  ------                  --------------  -----         \n",
      " 0   season_id               2041 non-null   int64         \n",
      " 1   team_id_home            2041 non-null   int64         \n",
      " 2   team_abbreviation_home  2041 non-null   object        \n",
      " 3   team_name_home          2041 non-null   object        \n",
      " 4   game_id                 2041 non-null   int64         \n",
      " 5   game_date               2041 non-null   datetime64[ns]\n",
      " 6   matchup_home            2041 non-null   object        \n",
      " 7   wl_home                 2041 non-null   object        \n",
      " 8   min                     2041 non-null   int64         \n",
      " 9   fgm_home                2041 non-null   int64         \n",
      " 10  fga_home                2041 non-null   int64         \n",
      " 11  fg_pct_home             2041 non-null   float64       \n",
      " 12  fg3m_home               2041 non-null   int64         \n",
      " 13  fg3a_home               2041 non-null   int64         \n",
      " 14  fg3_pct_home            2041 non-null   float64       \n",
      " 15  ftm_home                2041 non-null   int64         \n",
      " 16  fta_home                2041 non-null   int64         \n",
      " 17  ft_pct_home             2041 non-null   float64       \n",
      " 18  oreb_home               2041 non-null   int64         \n",
      " 19  dreb_home               2041 non-null   int64         \n",
      " 20  reb_home                2041 non-null   int64         \n",
      " 21  ast_home                2041 non-null   int64         \n",
      " 22  stl_home                2041 non-null   int64         \n",
      " 23  blk_home                2041 non-null   int64         \n",
      " 24  tov_home                2041 non-null   int64         \n",
      " 25  pf_home                 2041 non-null   int64         \n",
      " 26  pts_home                2041 non-null   int64         \n",
      " 27  plus_minus_home         2041 non-null   int64         \n",
      " 28  video_available_home    2041 non-null   int64         \n",
      " 29  team_id_away            2041 non-null   int64         \n",
      " 30  team_abbreviation_away  2041 non-null   object        \n",
      " 31  team_name_away          2041 non-null   object        \n",
      " 32  matchup_away            2041 non-null   object        \n",
      " 33  wl_away                 2041 non-null   object        \n",
      " 34  fgm_away                2041 non-null   int64         \n",
      " 35  fga_away                2041 non-null   int64         \n",
      " 36  fg_pct_away             2041 non-null   float64       \n",
      " 37  fg3m_away               2041 non-null   int64         \n",
      " 38  fg3a_away               2041 non-null   int64         \n",
      " 39  fg3_pct_away            2041 non-null   float64       \n",
      " 40  ftm_away                2041 non-null   int64         \n",
      " 41  fta_away                2041 non-null   int64         \n",
      " 42  ft_pct_away             2041 non-null   float64       \n",
      " 43  oreb_away               2041 non-null   int64         \n",
      " 44  dreb_away               2041 non-null   int64         \n",
      " 45  reb_away                2041 non-null   int64         \n",
      " 46  ast_away                2041 non-null   int64         \n",
      " 47  stl_away                2041 non-null   int64         \n",
      " 48  blk_away                2041 non-null   int64         \n",
      " 49  tov_away                2041 non-null   int64         \n",
      " 50  pf_away                 2041 non-null   int64         \n",
      " 51  pts_away                2041 non-null   int64         \n",
      " 52  plus_minus_away         2041 non-null   int64         \n",
      " 53  video_available_away    2041 non-null   int64         \n",
      " 54  season_type             2041 non-null   object        \n",
      "dtypes: datetime64[ns](1), float64(6), int64(39), object(9)\n",
      "memory usage: 892.9+ KB\n"
     ]
    }
   ],
   "source": [
    "df_game_filtrado2.info()"
   ]
  },
  {
   "cell_type": "code",
   "execution_count": 28,
   "metadata": {},
   "outputs": [
    {
     "name": "stdout",
     "output_type": "stream",
     "text": [
      "Index([], dtype='object')\n"
     ]
    }
   ],
   "source": [
    "# Verificar valores nulos restantes en todo el DataFrame\n",
    "\n",
    "Cant_Column_Null = df_game_filtrado2.isna().sum()\n",
    "\n",
    "Solo_Column_Con_Nulos = Cant_Column_Null[Cant_Column_Null>0].index\n",
    "print(Solo_Column_Con_Nulos)"
   ]
  },
  {
   "cell_type": "markdown",
   "metadata": {},
   "source": [
    "Ajustamos el formato de las columnas con valores decimales (porcentajes)"
   ]
  },
  {
   "cell_type": "code",
   "execution_count": 29,
   "metadata": {},
   "outputs": [
    {
     "name": "stderr",
     "output_type": "stream",
     "text": [
      "C:\\Users\\Maria\\AppData\\Local\\Temp\\ipykernel_3144\\815469132.py:10: SettingWithCopyWarning: \n",
      "A value is trying to be set on a copy of a slice from a DataFrame.\n",
      "Try using .loc[row_indexer,col_indexer] = value instead\n",
      "\n",
      "See the caveats in the documentation: https://pandas.pydata.org/pandas-docs/stable/user_guide/indexing.html#returning-a-view-versus-a-copy\n",
      "  df_game_filtrado2[columns_to_convert_pct] = df_game_filtrado2[columns_to_convert_pct].astype(float).round(4)\n"
     ]
    }
   ],
   "source": [
    "# Procedemos a asignar el tipo de dato decimal a algunas columnas:\n",
    "\n",
    "# Lista de columnas a convertir\n",
    "columns_to_convert_pct = [\n",
    "    'fg_pct_home', 'fg3_pct_home', 'ft_pct_home', 'fg_pct_away','fg3_pct_away', 'ft_pct_away'\n",
    "]\n",
    "\n",
    "\n",
    "# Formatear las columnas a 4 decimales como números (sin convertir a texto)\n",
    "df_game_filtrado2[columns_to_convert_pct] = df_game_filtrado2[columns_to_convert_pct].astype(float).round(4)"
   ]
  },
  {
   "cell_type": "code",
   "execution_count": 30,
   "metadata": {},
   "outputs": [
    {
     "name": "stdout",
     "output_type": "stream",
     "text": [
      "       fg_pct_home  fg3_pct_home  ft_pct_home  fg_pct_away  fg3_pct_away  \\\n",
      "59255        0.433         0.297        0.714        0.391         0.192   \n",
      "59256        0.442         0.269        0.944        0.363         0.270   \n",
      "59257        0.430         0.440        0.724        0.429         0.316   \n",
      "59259        0.398         0.286        0.833        0.379         0.333   \n",
      "59260        0.455         0.364        0.774        0.456         0.278   \n",
      "\n",
      "       ft_pct_away  \n",
      "59255        0.609  \n",
      "59256        0.649  \n",
      "59257        0.889  \n",
      "59259        0.786  \n",
      "59260        0.833  \n"
     ]
    }
   ],
   "source": [
    "print(df_game_filtrado2[columns_to_convert_pct].head())"
   ]
  },
  {
   "cell_type": "code",
   "execution_count": 54,
   "metadata": {},
   "outputs": [
    {
     "name": "stdout",
     "output_type": "stream",
     "text": [
      "       season_id  team_id_home  team_abbreviation_home  team_name_home  \\\n",
      "count       8.00  8.000000e+00                    4.00            4.00   \n",
      "mean    16296.15  9.991658e+08                  512.50          512.50   \n",
      "std     13393.05  6.834543e+08                 1019.00         1019.00   \n",
      "min         8.00  8.000000e+00                    1.00            1.00   \n",
      "25%      8385.79  5.591763e+08                    3.25            3.25   \n",
      "50%     15695.72  1.207960e+09                    4.00            4.00   \n",
      "75%     22111.26  1.610613e+09                  513.25          513.25   \n",
      "max     42022.00  1.610613e+09                 2041.00         2041.00   \n",
      "\n",
      "           game_id  game_date  matchup_home  wl_home      min  fgm_home  ...  \\\n",
      "count         8.00        4.0          4.00     4.00     8.00      8.00  ...   \n",
      "mean   16096841.42      514.0        512.50   512.50   487.75    396.57  ...   \n",
      "std    13750642.29     1018.0       1019.00  1019.00   662.56    706.87  ...   \n",
      "min           8.00        1.0          1.00     1.00     7.63      5.27  ...   \n",
      "25%     7864950.43        5.5          3.25     3.25   182.00     26.75  ...   \n",
      "50%    15809307.62        7.0          4.00     4.00   253.22     44.88  ...   \n",
      "75%    22092199.72      515.5        513.25   513.25   499.15    392.10  ...   \n",
      "max    42200405.00     2041.0       2041.00  2041.00  2041.00   2041.00  ...   \n",
      "\n",
      "       reb_away  ast_away  stl_away  blk_away  tov_away  pf_away  pts_away  \\\n",
      "count      8.00      8.00      8.00      8.00      8.00     8.00      8.00   \n",
      "mean     398.08    389.30    381.59    380.52    384.90   387.68    427.68   \n",
      "std      705.99    711.15    715.79    716.44    713.78   712.11    689.66   \n",
      "min        6.66      4.98      0.00      0.00      3.00     4.32      8.00   \n",
      "25%       28.44     15.12      6.57      4.40      8.93    13.62     74.34   \n",
      "50%       48.26     27.38      9.75      8.00     17.14    23.12    118.29   \n",
      "75%      393.84    384.09    375.84    374.60    379.30   382.21    427.09   \n",
      "max     2041.00   2041.00   2041.00   2041.00   2041.00  2041.00   2041.00   \n",
      "\n",
      "       plus_minus_away  video_available_away  season_type  \n",
      "count             8.00                  8.00         4.00  \n",
      "mean            371.98                378.65       512.50  \n",
      "std             722.29                717.59      1019.00  \n",
      "min             -73.00                  0.00         1.00  \n",
      "25%               0.96                  1.00         3.25  \n",
      "50%              16.52                  4.50         4.00  \n",
      "75%             371.18                372.24       513.25  \n",
      "max            2041.00               2041.00      2041.00  \n",
      "\n",
      "[8 rows x 55 columns]\n"
     ]
    }
   ],
   "source": [
    "#Generar estadísticas descriptivas para todas las columnas\n",
    "df_game_filtrado_check = df_game_filtrado2.describe(include='all')\n",
    "\n",
    "# Redondear los valores numéricos a 2 decimales\n",
    "df_game_filtrado_check = df_game_filtrado_check.round(2)\n",
    "\n",
    "# Mostrar el DataFrame ajustado\n",
    "print(df_game_filtrado_check)"
   ]
  },
  {
   "cell_type": "code",
   "execution_count": 59,
   "metadata": {},
   "outputs": [
    {
     "name": "stdout",
     "output_type": "stream",
     "text": [
      "Archivo guardado exitosamente como 'GameFiltrado.csv'\n"
     ]
    }
   ],
   "source": [
    "# Guardar los datos filtrados en un archivo con el nombre GameFiltrado.csv a fin de poder utilizarlo luego\n",
    "\n",
    "# Guardar el archivo con un separador decimal compatible con tu configuración regional\n",
    "df_game_filtrado2.to_csv('GameFiltrado.csv', index=False, float_format=\"%.4f\")\n",
    "\n",
    "# Confirmación\n",
    "print(\"Archivo guardado exitosamente como 'GameFiltrado.csv'\")"
   ]
  },
  {
   "cell_type": "markdown",
   "metadata": {},
   "source": [
    "ETL archivo Other Stats"
   ]
  },
  {
   "cell_type": "code",
   "execution_count": 31,
   "metadata": {},
   "outputs": [],
   "source": [
    "#Archivo creado y bibliotecas importadas:\n",
    "\n",
    "import pandas as pd\n",
    "import numpy as np"
   ]
  },
  {
   "cell_type": "code",
   "execution_count": 32,
   "metadata": {},
   "outputs": [],
   "source": [
    "# Leer el archivo de trabajo:\n",
    "\n",
    "df_other_stats = pd.read_csv('other_stats.csv')"
   ]
  },
  {
   "cell_type": "code",
   "execution_count": 33,
   "metadata": {},
   "outputs": [
    {
     "data": {
      "text/plain": [
       "(28271, 26)"
      ]
     },
     "execution_count": 33,
     "metadata": {},
     "output_type": "execute_result"
    }
   ],
   "source": [
    "# Para comprobar que cantidad de registros y columnas tiene el dataset cargado:\n",
    "\n",
    "df_other_stats.shape"
   ]
  },
  {
   "cell_type": "code",
   "execution_count": 34,
   "metadata": {},
   "outputs": [
    {
     "data": {
      "text/html": [
       "<div>\n",
       "<style scoped>\n",
       "    .dataframe tbody tr th:only-of-type {\n",
       "        vertical-align: middle;\n",
       "    }\n",
       "\n",
       "    .dataframe tbody tr th {\n",
       "        vertical-align: top;\n",
       "    }\n",
       "\n",
       "    .dataframe thead th {\n",
       "        text-align: right;\n",
       "    }\n",
       "</style>\n",
       "<table border=\"1\" class=\"dataframe\">\n",
       "  <thead>\n",
       "    <tr style=\"text-align: right;\">\n",
       "      <th></th>\n",
       "      <th>game_id</th>\n",
       "      <th>league_id</th>\n",
       "      <th>team_id_home</th>\n",
       "      <th>team_abbreviation_home</th>\n",
       "      <th>team_city_home</th>\n",
       "      <th>pts_paint_home</th>\n",
       "      <th>pts_2nd_chance_home</th>\n",
       "      <th>pts_fb_home</th>\n",
       "      <th>largest_lead_home</th>\n",
       "      <th>lead_changes</th>\n",
       "      <th>...</th>\n",
       "      <th>team_abbreviation_away</th>\n",
       "      <th>team_city_away</th>\n",
       "      <th>pts_paint_away</th>\n",
       "      <th>pts_2nd_chance_away</th>\n",
       "      <th>pts_fb_away</th>\n",
       "      <th>largest_lead_away</th>\n",
       "      <th>team_turnovers_away</th>\n",
       "      <th>total_turnovers_away</th>\n",
       "      <th>team_rebounds_away</th>\n",
       "      <th>pts_off_to_away</th>\n",
       "    </tr>\n",
       "  </thead>\n",
       "  <tbody>\n",
       "    <tr>\n",
       "      <th>0</th>\n",
       "      <td>29600012</td>\n",
       "      <td>0</td>\n",
       "      <td>1610612756</td>\n",
       "      <td>PHX</td>\n",
       "      <td>Phoenix</td>\n",
       "      <td>44</td>\n",
       "      <td>18</td>\n",
       "      <td>2</td>\n",
       "      <td>1</td>\n",
       "      <td>4</td>\n",
       "      <td>...</td>\n",
       "      <td>LAL</td>\n",
       "      <td>Los Angeles</td>\n",
       "      <td>42</td>\n",
       "      <td>10</td>\n",
       "      <td>13</td>\n",
       "      <td>19</td>\n",
       "      <td>0.0</td>\n",
       "      <td>23.0</td>\n",
       "      <td>11.0</td>\n",
       "      <td>NaN</td>\n",
       "    </tr>\n",
       "    <tr>\n",
       "      <th>1</th>\n",
       "      <td>29600005</td>\n",
       "      <td>0</td>\n",
       "      <td>1610612737</td>\n",
       "      <td>ATL</td>\n",
       "      <td>Atlanta</td>\n",
       "      <td>32</td>\n",
       "      <td>9</td>\n",
       "      <td>6</td>\n",
       "      <td>0</td>\n",
       "      <td>0</td>\n",
       "      <td>...</td>\n",
       "      <td>MIA</td>\n",
       "      <td>Miami</td>\n",
       "      <td>32</td>\n",
       "      <td>15</td>\n",
       "      <td>14</td>\n",
       "      <td>16</td>\n",
       "      <td>1.0</td>\n",
       "      <td>19.0</td>\n",
       "      <td>6.0</td>\n",
       "      <td>NaN</td>\n",
       "    </tr>\n",
       "    <tr>\n",
       "      <th>2</th>\n",
       "      <td>29600002</td>\n",
       "      <td>0</td>\n",
       "      <td>1610612739</td>\n",
       "      <td>CLE</td>\n",
       "      <td>Cleveland</td>\n",
       "      <td>36</td>\n",
       "      <td>14</td>\n",
       "      <td>6</td>\n",
       "      <td>20</td>\n",
       "      <td>1</td>\n",
       "      <td>...</td>\n",
       "      <td>NJN</td>\n",
       "      <td>New Jersey</td>\n",
       "      <td>26</td>\n",
       "      <td>16</td>\n",
       "      <td>4</td>\n",
       "      <td>2</td>\n",
       "      <td>1.0</td>\n",
       "      <td>22.0</td>\n",
       "      <td>12.0</td>\n",
       "      <td>NaN</td>\n",
       "    </tr>\n",
       "    <tr>\n",
       "      <th>3</th>\n",
       "      <td>29600007</td>\n",
       "      <td>0</td>\n",
       "      <td>1610612754</td>\n",
       "      <td>IND</td>\n",
       "      <td>Indiana</td>\n",
       "      <td>34</td>\n",
       "      <td>11</td>\n",
       "      <td>4</td>\n",
       "      <td>10</td>\n",
       "      <td>7</td>\n",
       "      <td>...</td>\n",
       "      <td>DET</td>\n",
       "      <td>Detroit</td>\n",
       "      <td>30</td>\n",
       "      <td>14</td>\n",
       "      <td>7</td>\n",
       "      <td>9</td>\n",
       "      <td>2.0</td>\n",
       "      <td>19.0</td>\n",
       "      <td>10.0</td>\n",
       "      <td>NaN</td>\n",
       "    </tr>\n",
       "    <tr>\n",
       "      <th>4</th>\n",
       "      <td>29600013</td>\n",
       "      <td>0</td>\n",
       "      <td>1610612746</td>\n",
       "      <td>LAC</td>\n",
       "      <td>Los Angeles</td>\n",
       "      <td>40</td>\n",
       "      <td>19</td>\n",
       "      <td>2</td>\n",
       "      <td>12</td>\n",
       "      <td>5</td>\n",
       "      <td>...</td>\n",
       "      <td>GSW</td>\n",
       "      <td>Golden State</td>\n",
       "      <td>30</td>\n",
       "      <td>9</td>\n",
       "      <td>2</td>\n",
       "      <td>6</td>\n",
       "      <td>0.0</td>\n",
       "      <td>20.0</td>\n",
       "      <td>7.0</td>\n",
       "      <td>NaN</td>\n",
       "    </tr>\n",
       "  </tbody>\n",
       "</table>\n",
       "<p>5 rows × 26 columns</p>\n",
       "</div>"
      ],
      "text/plain": [
       "    game_id  league_id  team_id_home team_abbreviation_home team_city_home  \\\n",
       "0  29600012          0    1610612756                    PHX        Phoenix   \n",
       "1  29600005          0    1610612737                    ATL        Atlanta   \n",
       "2  29600002          0    1610612739                    CLE      Cleveland   \n",
       "3  29600007          0    1610612754                    IND        Indiana   \n",
       "4  29600013          0    1610612746                    LAC    Los Angeles   \n",
       "\n",
       "   pts_paint_home  pts_2nd_chance_home  pts_fb_home  largest_lead_home  \\\n",
       "0              44                   18            2                  1   \n",
       "1              32                    9            6                  0   \n",
       "2              36                   14            6                 20   \n",
       "3              34                   11            4                 10   \n",
       "4              40                   19            2                 12   \n",
       "\n",
       "   lead_changes  ...  team_abbreviation_away  team_city_away  pts_paint_away  \\\n",
       "0             4  ...                     LAL     Los Angeles              42   \n",
       "1             0  ...                     MIA           Miami              32   \n",
       "2             1  ...                     NJN      New Jersey              26   \n",
       "3             7  ...                     DET         Detroit              30   \n",
       "4             5  ...                     GSW    Golden State              30   \n",
       "\n",
       "   pts_2nd_chance_away  pts_fb_away  largest_lead_away team_turnovers_away  \\\n",
       "0                   10           13                 19                 0.0   \n",
       "1                   15           14                 16                 1.0   \n",
       "2                   16            4                  2                 1.0   \n",
       "3                   14            7                  9                 2.0   \n",
       "4                    9            2                  6                 0.0   \n",
       "\n",
       "  total_turnovers_away  team_rebounds_away  pts_off_to_away  \n",
       "0                 23.0                11.0              NaN  \n",
       "1                 19.0                 6.0              NaN  \n",
       "2                 22.0                12.0              NaN  \n",
       "3                 19.0                10.0              NaN  \n",
       "4                 20.0                 7.0              NaN  \n",
       "\n",
       "[5 rows x 26 columns]"
      ]
     },
     "execution_count": 34,
     "metadata": {},
     "output_type": "execute_result"
    }
   ],
   "source": [
    "# Una vez cargado el dataset, y comprobado su tamaño, se procede a verificar el contenido con una vista truncada:\n",
    "df_other_stats.head()"
   ]
  },
  {
   "cell_type": "code",
   "execution_count": 35,
   "metadata": {},
   "outputs": [
    {
     "name": "stdout",
     "output_type": "stream",
     "text": [
      "<class 'pandas.core.frame.DataFrame'>\n",
      "RangeIndex: 28271 entries, 0 to 28270\n",
      "Data columns (total 26 columns):\n",
      " #   Column                  Non-Null Count  Dtype  \n",
      "---  ------                  --------------  -----  \n",
      " 0   game_id                 28271 non-null  int64  \n",
      " 1   league_id               28271 non-null  int64  \n",
      " 2   team_id_home            28271 non-null  int64  \n",
      " 3   team_abbreviation_home  28271 non-null  object \n",
      " 4   team_city_home          28271 non-null  object \n",
      " 5   pts_paint_home          28271 non-null  int64  \n",
      " 6   pts_2nd_chance_home     28271 non-null  int64  \n",
      " 7   pts_fb_home             28271 non-null  int64  \n",
      " 8   largest_lead_home       28271 non-null  int64  \n",
      " 9   lead_changes            28271 non-null  int64  \n",
      " 10  times_tied              28271 non-null  int64  \n",
      " 11  team_turnovers_home     28269 non-null  float64\n",
      " 12  total_turnovers_home    27955 non-null  float64\n",
      " 13  team_rebounds_home      26273 non-null  float64\n",
      " 14  pts_off_to_home         26148 non-null  float64\n",
      " 15  team_id_away            28271 non-null  int64  \n",
      " 16  team_abbreviation_away  28271 non-null  object \n",
      " 17  team_city_away          28271 non-null  object \n",
      " 18  pts_paint_away          28271 non-null  int64  \n",
      " 19  pts_2nd_chance_away     28271 non-null  int64  \n",
      " 20  pts_fb_away             28271 non-null  int64  \n",
      " 21  largest_lead_away       28271 non-null  int64  \n",
      " 22  team_turnovers_away     28269 non-null  float64\n",
      " 23  total_turnovers_away    27955 non-null  float64\n",
      " 24  team_rebounds_away      26273 non-null  float64\n",
      " 25  pts_off_to_away         26148 non-null  float64\n",
      "dtypes: float64(8), int64(14), object(4)\n",
      "memory usage: 5.6+ MB\n"
     ]
    }
   ],
   "source": [
    "df_other_stats.info()"
   ]
  },
  {
   "cell_type": "code",
   "execution_count": 41,
   "metadata": {},
   "outputs": [
    {
     "name": "stdout",
     "output_type": "stream",
     "text": [
      "int64\n",
      "int64\n"
     ]
    }
   ],
   "source": [
    "#Asegurarse de que los tipos de datos sean iguales\n",
    "\n",
    "\n",
    "print(df_game_filtrado2['game_id'].dtype)\n",
    "print(df_other_stats['game_id'].dtype)"
   ]
  },
  {
   "cell_type": "code",
   "execution_count": 43,
   "metadata": {},
   "outputs": [
    {
     "name": "stdout",
     "output_type": "stream",
     "text": [
      "Valores únicos en df_game: [21800001 21800002 21800010 ... 42200403 42200404 42200405]\n",
      "Valores únicos en df_other_stats: [29600012 29600005 29600002 ... 42200403 42200404 32200001]\n",
      "Coincidencias: {22200320, 22200327, 22200328, 22200337, 22200341, 22200344, 22200346, 22200348, 22200354, 22200355, 22200362, 22200365, 22200368, 22200370, 22200373, 22200377, 22200385, 22200390, 22200392, 22200393, 22200394, 22200397, 22200405, 22200407, 22200413, 22200418, 22200422, 22200423, 22200430, 22200434, 22200437, 22200443, 22200445, 22200446, 22200449, 22200450, 22200456, 22200458, 22200463, 22200465, 22200469, 22200471, 22200488, 22200489, 22200493, 22200497, 22200500, 22200507, 22200512, 22200514, 22200520, 22200522, 22200523, 22200525, 22200527, 22200533, 22200535, 22200541, 22200544, 22200545, 22200549, 22200550, 22200562, 22200566, 22200571, 22200577, 22200579, 22200582, 22200587, 22200588, 22200591, 22200601, 22200602, 22200606, 22200607, 22200609, 22200621, 22200622, 22200624, 22200626, 22200627, 22200636, 22200637, 22200639, 22200645, 22200648, 22200651, 22200653, 22200656, 22200659, 22200662, 22200667, 22200669, 22200674, 22200679, 22200680, 22200684, 22200688, 22200691, 22200692, 22200696, 22200700, 22200702, 22200707, 22200709, 22200714, 22200715, 22200724, 22200725, 22200737, 22200739, 12100005, 12100006, 22200741, 22200742, 12100010, 12100011, 22200746, 22200749, 12100019, 22200758, 22200759, 22200765, 12100032, 22200768, 22200772, 12100037, 22200774, 22200773, 22200780, 12100045, 22200783, 12100051, 12100052, 22200788, 22200790, 12100056, 12100057, 12100059, 22200795, 12100062, 22200804, 22200806, 22200808, 22200814, 22200820, 22200821, 22200824, 22200828, 22200831, 22200837, 22200841, 22200843, 22200847, 22200851, 22200855, 22200861, 22200864, 22200865, 22200876, 22200877, 22200880, 22200881, 22200886, 22200887, 22200895, 22200898, 22200899, 22200906, 22200907, 22200908, 22200915, 22200918, 22200921, 22200926, 22200928, 22200932, 22200935, 22200937, 22200948, 22200951, 22200952, 22200955, 22200961, 22200968, 22200969, 22200971, 22200980, 22200982, 22200986, 22200989, 22200990, 22200997, 22201001, 22201004, 22201008, 22201011, 22201014, 22201018, 22201019, 22201021, 22201029, 22201039, 22201042, 22201044, 22201050, 22201053, 22201055, 22201058, 22201063, 22201064, 22201073, 22201081, 22201082, 22201083, 22201093, 22201096, 22201097, 22201106, 22201116, 22201120, 22201124, 22201126, 22201128, 22201130, 22201134, 22201138, 22201144, 22201146, 22201147, 22201149, 22201152, 22201154, 22201157, 22201160, 22201166, 22201168, 22201172, 22201175, 22201181, 22201183, 22201187, 22201190, 22201200, 22201201, 22201206, 22201209, 22201213, 22201214, 22201216, 22201220, 22201225, 22201226, 22201227, 21800001, 21800002, 21800010, 21800012, 21800018, 21800021, 21800025, 21800028, 21800032, 21800033, 21800037, 21800038, 21800040, 21800042, 21800043, 21800051, 21800054, 21800055, 21800066, 21800071, 21800074, 21800090, 21800093, 21800095, 21800099, 21800103, 21800105, 21800107, 21800111, 21800112, 21800115, 21800121, 21800124, 21800131, 21800135, 21800138, 21800143, 21800144, 21800145, 21800148, 21800155, 21800158, 21800162, 21800163, 21800164, 21800173, 21800174, 21800181, 21800186, 21800187, 21800195, 21800196, 21800200, 21800204, 21800208, 21800209, 21800214, 21800216, 21800221, 21800222, 21800229, 21800233, 21800234, 21800236, 21800239, 21800245, 21800247, 21800251, 21800255, 21800260, 21800264, 21800265, 21800268, 21800269, 21800274, 21800276, 21800281, 21800282, 21800283, 21800291, 21800295, 21800298, 21800301, 21800304, 21800307, 21800311, 21800313, 21800319, 21800329, 42100112, 42100113, 42100114, 21800343, 21800346, 21800347, 21800348, 21800362, 21800365, 21800368, 21800373, 42100151, 42100152, 42100153, 42100154, 42100155, 21800380, 42100156, 21800382, 21800383, 42100161, 42100162, 42100163, 21800389, 42100165, 21800393, 21800396, 21800398, 21800400, 21800409, 21800411, 21800414, 21800420, 21800421, 21800426, 21800431, 21800434, 21800435, 42100211, 42100212, 21800438, 42100213, 42100214, 42100216, 42100217, 21800444, 21800446, 21800447, 21800454, 21800457, 21800458, 21800463, 21800466, 21800472, 21800473, 21800475, 21800479, 21800497, 21800498, 21800507, 21800510, 21800512, 21800513, 21800522, 21800524, 21800525, 42100301, 42100302, 42100303, 42100305, 42100306, 21800531, 21800532, 21800533, 42100307, 21800537, 21800545, 21800546, 21800547, 21800551, 21800558, 21800562, 21800564, 21800566, 21800571, 21800574, 21800575, 21800585, 21800588, 21800592, 21800593, 21800597, 21800601, 21800603, 21800605, 21800607, 21800617, 21800618, 21800619, 21800623, 42100401, 42100403, 42100404, 42100405, 42100406, 21800632, 21800634, 21800635, 21800638, 21800643, 21800645, 21800652, 21800653, 21800655, 21800658, 21800670, 21800671, 21800674, 21800683, 21800687, 21800691, 21800698, 21800703, 21800705, 21800707, 21800715, 21800717, 21800719, 21800721, 21800728, 21800729, 21800733, 21800738, 21800740, 21800741, 21800744, 21800746, 21800751, 21800756, 21800758, 21800761, 21800771, 21800774, 21800783, 21800787, 21800790, 21800799, 21800801, 21800802, 21800804, 21800812, 21800815, 21800817, 21800818, 21800823, 21800828, 21800839, 21800845, 21800846, 21800847, 21800855, 21800856, 21800860, 21800861, 21800865, 21800866, 21800870, 21800878, 21800880, 21800889, 21800890, 21800891, 21800895, 21800896, 21800905, 21800908, 21800909, 21800910, 21800912, 21800913, 21800922, 21800924, 21800926, 21800927, 21800931, 21800940, 21800941, 21800945, 21800947, 21800950, 21800951, 21800954, 21800957, 21800963, 21800966, 21800972, 21800973, 21800974, 21800976, 21800984, 21800985, 21800988, 21800989, 21800998, 21801005, 21801006, 21801007, 21801012, 21801017, 21801022, 12200005, 21801032, 21801034, 12200011, 21801038, 12200014, 21801040, 12200020, 12200021, 21801048, 12200025, 21801052, 21801053, 21801054, 12200029, 12200031, 12200030, 21801062, 12200038, 12200042, 21801067, 21801068, 12200047, 21801072, 21801074, 21801075, 12200053, 12200057, 21801082, 21801083, 12200059, 12200064, 12200066, 21801091, 12200069, 21801095, 21801097, 21801100, 21801104, 21801108, 21801112, 21801115, 21801119, 21801125, 21801126, 21801130, 21801132, 21801133, 21801137, 21801141, 21801143, 21801148, 21801153, 21801155, 21801157, 21801161, 21801164, 21801166, 21801170, 21801172, 21801173, 21801183, 21801184, 21801190, 21801203, 21801206, 21801211, 21801213, 21801214, 21801217, 21801226, 21900006, 21900008, 21900010, 21900011, 21900013, 21900017, 21900018, 21900022, 21900029, 21900036, 21900039, 21900045, 21900050, 21900053, 21900056, 21900057, 21900058, 21900062, 21900067, 21900072, 21900077, 21900079, 21900080, 21900087, 21900094, 21900098, 21900101, 21900102, 21900103, 21900108, 21900112, 21900113, 21900120, 21900122, 21900127, 21900131, 21900132, 21900135, 21900140, 21900141, 21900146, 21900149, 21900150, 21900156, 21900158, 21900162, 21900171, 21900172, 21900173, 21900179, 21900186, 21900189, 21900195, 21900196, 21900201, 21900202, 21900210, 21900211, 21900212, 21900220, 21900222, 21900225, 21900229, 21900236, 21900238, 21900243, 21900252, 21900253, 21900258, 21900262, 21900265, 21900267, 21900271, 21900280, 21900285, 21900286, 21900289, 21900297, 21900304, 21900312, 21900313, 21900317, 21900323, 21900326, 21900331, 42200112, 42200113, 42200114, 42200116, 21900341, 21900342, 21900344, 21900349, 21900350, 42200131, 42200132, 21900357, 42200133, 42200134, 42200135, 21900362, 42200141, 21900366, 21900367, 42200142, 42200143, 21900370, 42200144, 42200145, 21900378, 21900387, 21900392, 21900399, 21900403, 21900412, 21900413, 21900414, 21900422, 21900424, 42200201, 21900426, 21900427, 42200202, 42200203, 42200204, 42200205, 42200206, 21900434, 42200212, 42200213, 21900438, 42200215, 42200216, 42200217, 21900442, 21900443, 42200221, 42200222, 21900447, 42200223, 42200224, 42200225, 21900451, 42200226, 21900454, 21900455, 21900459, 21900461, 21900462, 21900464, 21900466, 21900467, 21900472, 21900473, 21900476, 21900479, 21900489, 21900494, 21900497, 21900501, 21900505, 21900506, 21900509, 21900512, 21900514, 21900517, 21900521, 42200301, 42200302, 21900527, 21900528, 42200303, 42200304, 42200307, 42200305, 21900534, 42200311, 21900536, 42200312, 42200313, 42200314, 21900541, 21900542, 21900543, 21900550, 21900551, 21900553, 21900554, 21900561, 21900564, 21900565, 21900566, 21900569, 21900577, 21900578, 21900580, 21900582, 21900584, 21900589, 21900593, 21900594, 21900601, 21900604, 21900608, 21900609, 21900614, 21900615, 21900617, 21900619, 21900623, 42200401, 42200402, 42200403, 21900628, 42200404, 21900632, 21900635, 21900638, 21900643, 21900645, 21900648, 21900649, 21900655, 21900657, 21900659, 21900661, 21900662, 21900671, 21900672, 21900676, 21900677, 21900683, 21900685, 21900688, 21900691, 21900696, 21900697, 21900699, 21900701, 21900713, 21900718, 21900724, 21900727, 21900728, 21900732, 21900745, 21900749, 21900753, 21900756, 21900759, 21900760, 21900764, 21900771, 21900773, 21900779, 21900782, 21900784, 21900786, 21900787, 21900796, 21900799, 21900806, 21900811, 21900813, 21900817, 21900818, 21900819, 21900828, 21900831, 21900842, 21900844, 21900853, 21900854, 21900859, 21900860, 21900862, 21900864, 21900872, 21900873, 21900877, 21900882, 21900886, 21900887, 21900896, 21900898, 21900903, 21900910, 21900911, 21900912, 21900913, 21900917, 21900921, 21900922, 21900932, 21900935, 21900942, 21900947, 21900955, 21900958, 21900960, 21900963, 21900969, 21900973, 21901236, 21901239, 21901240, 21901245, 21901251, 21901264, 21901265, 21901267, 21901272, 21901275, 21901279, 21901281, 21901285, 21901288, 21901292, 21901296, 21901301, 21901307, 21901308, 21901318, 22000003, 22000007, 22000009, 22000011, 22000016, 22000022, 22000025, 22000028, 22000036, 22000040, 22000044, 22000046, 22000048, 22000054, 22000055, 22000056, 41800131, 22000067, 41800133, 41800134, 22000074, 22000076, 22000080, 22000081, 22000085, 41800151, 41800152, 41800153, 41800154, 41800155, 41800156, 41800157, 22000088, 22000095, 22000096, 41800161, 41800162, 41800163, 41800164, 22000097, 22000104, 22000111, 22000112, 22000120, 22000122, 22000124, 22000125, 22000133, 41800201, 41800202, 41800203, 41800204, 22000138, 22000143, 22000144, 22000145, 22000147, 22000149, 22000158, 22000160, 22000162, 22000167, 22000168, 41800232, 41800233, 41800234, 41800235, 41800236, 41800237, 22000169, 22000170, 22000177, 22000180, 22000181, 22000183, 22000184, 22000196, 22000199, 22000200, 22000203, 22000205, 22000213, 22000218, 22000228, 22000233, 22000236, 22000238, 22000239, 22000241, 22000246, 22000248, 22000250, 22000251, 22000256, 22000262, 22000265, 22000266, 22000267, 22000270, 22000280, 22000281, 22000283, 22000291, 22000294, 22000295, 22000296, 22000302, 22000306, 22000308, 22000315, 22000318, 22000321, 22000326, 22000332, 22000333, 22000334, 22000336, 22000341, 22000348, 22000350, 22000351, 22000352, 22000365, 22000370, 22000373, 22000376, 22000379, 22000387, 22000388, 22000390, 22000395, 22000396, 22000401, 22000408, 22000412, 22000413, 22000415, 22000416, 22000422, 22000431, 22000432, 22000436, 22000437, 22000438, 22000440, 22000448, 22000451, 22000453, 22000458, 22000465, 22000466, 22000469, 22000470, 22000475, 22000485, 22000486, 22000487, 22000490, 22000493, 22000495, 22000500, 22000502, 22000505, 22000510, 22000515, 22000517, 22000518, 22000521, 22000526, 22000531, 22000537, 22000540, 22000541, 22000547, 22000549, 22000552, 22000553, 22000556, 22000560, 22000562, 22000563, 22000565, 22000569, 22000573, 22000574, 22000575, 22000580, 22000586, 22000591, 22000592, 22000593, 22000598, 22000599, 22000604, 22000606, 22000609, 22000611, 22000612, 22000615, 22000624, 22000626, 22000627, 22000628, 22000631, 22000637, 22000638, 22000646, 22000654, 22000658, 22000661, 22000662, 22000668, 22000669, 22000673, 22000674, 22000679, 22000685, 22000695, 22000696, 22000699, 22000705, 22000709, 22000710, 22000713, 22000719, 22000723, 22000727, 22000736, 22000738, 22000739, 22000741, 22000744, 22000748, 22000750, 22000753, 22000757, 22000761, 22000762, 22000765, 22000766, 22000771, 22000776, 22000778, 22000781, 22000782, 22000785, 22000792, 22000793, 22000797, 22000806, 22000809, 22000812, 22000815, 22000817, 22000821, 22000826, 22000828, 22000834, 22000835, 22000838, 22000842, 22000845, 22000852, 22000854, 22000858, 22000862, 22000867, 22000869, 22000872, 22000874, 22000877, 22000880, 22000882, 22000886, 22000890, 22000892, 22000899, 22000903, 22000904, 22000911, 22000918, 22000920, 22000925, 22000927, 22000931, 22000936, 22000937, 22000940, 22000946, 22000947, 22000948, 22000950, 22000962, 22000963, 22000966, 22000968, 22000971, 22000972, 22000980, 22000982, 22000990, 22000995, 22001001, 22001005, 22001008, 22001009, 22001015, 22001017, 22001019, 22001025, 22001032, 22001040, 22001052, 22001054, 22001056, 22001063, 22001064, 22001071, 22001073, 22001074, 22001076, 22100008, 22100011, 22100012, 22100018, 22100020, 22100023, 22100024, 22100031, 22100036, 22100037, 22100038, 22100047, 22100048, 22100050, 22100051, 22100054, 22100056, 41900121, 41900122, 41900124, 22100061, 22100060, 22100067, 22100075, 22100080, 22100086, 22100087, 41900162, 41900163, 22100100, 22100101, 41900164, 41900165, 41900166, 41900167, 22100102, 22100098, 22100099, 41900171, 41900172, 41900173, 41900174, 41900175, 22100114, 22100115, 22100109, 22100121, 22100128, 22100129, 22100140, 22100144, 41900211, 22100147, 41900214, 41900215, 41900216, 41900217, 22100151, 22100160, 22100161, 22100165, 41900231, 22100167, 22100169, 41900235, 41900236, 41900237, 22100174, 22100175, 22100180, 22100182, 22100184, 22100190, 22100191, 22100196, 22100197, 22100199, 22100203, 22100204, 22100206, 22100207, 22100215, 22100218, 22100221, 22100228, 22100232, 22100236, 41900302, 41900303, 41900304, 41900305, 41900306, 22100243, 22100239, 22100245, 41900311, 41900313, 41900314, 41900315, 22100251, 22100255, 22100256, 22100259, 22100264, 22100265, 22100270, 22100274, 22100276, 22100281, 22100282, 22100286, 22100288, 22100293, 22100306, 22100308, 22100309, 22100314, 22100322, 22100326, 22100328, 22100330, 22100336, 22100339, 22100342, 22100347, 22100354, 22100357, 22100359, 22100364, 22100365, 22100374, 22100375, 22100378, 22100381, 22100387, 22100389, 22100390, 22100397, 22100398, 22100400, 22100408, 22100411, 22100424, 22100431, 22100434, 22100435, 22100436, 22100445, 22100453, 22100455, 22100457, 22100460, 22100466, 22100468, 22100471, 22100474, 22100480, 22100482, 22100483, 22100484, 22100488, 22100497, 22100500, 22100503, 22100512, 22100515, 22100516, 22100518, 22100522, 22100528, 22100529, 22100536, 22100537, 22100543, 22100545, 22100546, 22100550, 22100558, 22100564, 22100570, 22100574, 22100575, 22100578, 22100587, 22100588, 22100595, 22100601, 22100609, 22100610, 22100612, 22100615, 22100622, 22100628, 22100630, 22100631, 22100635, 22100643, 22100649, 22100653, 22100655, 22100663, 22100666, 22100670, 22100671, 22100676, 22100678, 22100684, 22100688, 22100692, 22100695, 22100698, 22100699, 22100706, 22100707, 22100709, 22100714, 22100717, 22100721, 22100727, 22100729, 22100730, 22100734, 22100737, 12000002, 22100743, 12000008, 22100744, 12000010, 12000011, 22100745, 12000015, 22100756, 22100757, 12000023, 12000025, 22100762, 12000029, 12000030, 22100770, 12000036, 22100775, 22100776, 12000041, 12000042, 22100778, 12000044, 12000045, 22100779, 22100782, 22100788, 22100794, 22100795, 22100799, 22100801, 22100803, 22100804, 22100806, 22100813, 22100814, 22100817, 22100821, 22100824, 22100827, 22100830, 22100837, 22100840, 22100843, 22100845, 22100850, 22100856, 22100857, 22100860, 22100869, 22100871, 22100880, 22100881, 22100890, 22100892, 22100893, 22100895, 22100900, 22100901, 22100905, 22100911, 22100912, 22100914, 22100918, 22100920, 22100925, 22100927, 22100930, 22100934, 22100938, 22100940, 22100951, 22100952, 22100958, 22100960, 22100965, 22100971, 22100974, 22100979, 22100981, 22100986, 22100991, 22100995, 22100997, 22101005, 22101009, 22101012, 22101022, 22101023, 22101024, 22101035, 22101037, 22101039, 22101042, 22101049, 22101050, 22101052, 22101057, 22101058, 22101065, 22101067, 22101068, 22101078, 22101079, 22101081, 22101083, 22101084, 22101087, 22101090, 22101091, 22101099, 22101103, 22101104, 22101113, 22101115, 22101122, 22101126, 22101127, 22101130, 22101139, 22101140, 22101143, 22101153, 22101162, 22101166, 22101168, 22101171, 22101173, 22101174, 22101184, 22101185, 22101186, 22101191, 22101193, 22101194, 22101199, 22101211, 22101220, 22101222, 22101223, 22101224, 22101226, 22200001, 22200009, 22200010, 22200012, 22200022, 22200023, 22200030, 22200035, 22200041, 22200046, 42000111, 22200047, 42000113, 42000114, 42000115, 22200050, 22200051, 22200054, 22200058, 22200062, 22200064, 42000131, 42000132, 42000133, 42000134, 42000135, 22200067, 22200072, 22200075, 22200076, 22200078, 22200089, 22200090, 22200092, 22200095, 42000161, 42000162, 42000163, 42000164, 42000166, 22200105, 22200106, 22200107, 22200110, 22200119, 22200122, 22200124, 22200129, 22200135, 22200136, 22200137, 22200138, 22200146, 22200152, 22200153, 22200154, 22200160, 22200163, 22200164, 42000231, 22200168, 42000233, 42000234, 22200167, 22200178, 22200179, 22200181, 22200186, 22200192, 22200193, 22200196, 22200201, 22200208, 22200212, 22200214, 22200219, 22200229, 22200230, 22200231, 22200233, 22200237, 22200240, 22200250, 22200252, 22200254, 22200258, 22200262, 22200264, 22200268, 22200272, 22200274, 22200275, 22200285, 22200287, 22200291, 22200294, 22200300, 22200301, 22200305, 22200309, 22200314, 22200316, 22200319}\n"
     ]
    }
   ],
   "source": [
    "#Verificar valores únicos y sus coincidencias: Analiza si realmente hay coincidencias entre los game_id de ambos DataFrames.\n",
    "\n",
    "print(\"Valores únicos en df_game:\", df_game_filtrado2['game_id'].unique())\n",
    "print(\"Valores únicos en df_other_stats:\", df_other_stats['game_id'].unique())\n",
    "print(\"Coincidencias:\", set(df_game_filtrado2['game_id']) & set(df_other_stats['game_id']))"
   ]
  },
  {
   "cell_type": "code",
   "execution_count": 44,
   "metadata": {},
   "outputs": [
    {
     "name": "stdout",
     "output_type": "stream",
     "text": [
      "        game_id  league_id  team_id_home team_abbreviation_home  \\\n",
      "22795  21800001          0    1610612738                    BOS   \n",
      "22796  21800002          0    1610612744                    GSW   \n",
      "22797  21800010          0    1610612750                    MIN   \n",
      "22799  21800012          0    1610612743                    DEN   \n",
      "22808  21800025          0    1610612760                    OKC   \n",
      "\n",
      "      team_city_home  pts_paint_home  pts_2nd_chance_home  pts_fb_home  \\\n",
      "22795         Boston              34                   14            6   \n",
      "22796   Golden State              58                   20           13   \n",
      "22797      Minnesota              54                   14           16   \n",
      "22799         Denver              42                   15           12   \n",
      "22808  Oklahoma City              40                   24           10   \n",
      "\n",
      "       largest_lead_home  lead_changes  ...  team_abbreviation_away  \\\n",
      "22795                 18             1  ...                     PHI   \n",
      "22796                 14             4  ...                     OKC   \n",
      "22797                  4             6  ...                     SAS   \n",
      "22799                 11             9  ...                     LAC   \n",
      "22808                  9             2  ...                     LAC   \n",
      "\n",
      "       team_city_away  pts_paint_away  pts_2nd_chance_away  pts_fb_away  \\\n",
      "22795    Philadelphia              50                    5           16   \n",
      "22796   Oklahoma City              34                   19           10   \n",
      "22797     San Antonio              32                   25            8   \n",
      "22799              LA              48                   14            8   \n",
      "22808              LA              40                    9           14   \n",
      "\n",
      "       largest_lead_away team_turnovers_away total_turnovers_away  \\\n",
      "22795                  4                 0.0                 16.0   \n",
      "22796                  3                 1.0                 15.0   \n",
      "22797                 11                 0.0                 12.0   \n",
      "22799                  8                 2.0                 14.0   \n",
      "22808                 17                 1.0                 15.0   \n",
      "\n",
      "       team_rebounds_away  pts_off_to_away  \n",
      "22795                10.0             14.0  \n",
      "22796                14.0             16.0  \n",
      "22797                12.0              8.0  \n",
      "22799                 6.0             10.0  \n",
      "22808                12.0             19.0  \n",
      "\n",
      "[5 rows x 26 columns]\n"
     ]
    }
   ],
   "source": [
    "#Filtramos por GameID teniendo en cuenta los GameID que quedaron dentro del dataset del archivo Game\n",
    "\n",
    "# Filtrar los datos de other_stats que coincidan con game_id de Game\n",
    "df_other_stats_filtered = df_other_stats[df_other_stats['game_id'].isin(df_game_filtrado2['game_id'])]\n",
    "\n",
    "# Mostrar los primeros registros filtrados\n",
    "print(df_other_stats_filtered.head())\n"
   ]
  },
  {
   "cell_type": "code",
   "execution_count": 37,
   "metadata": {},
   "outputs": [
    {
     "data": {
      "text/plain": [
       "(28271, 26)"
      ]
     },
     "execution_count": 37,
     "metadata": {},
     "output_type": "execute_result"
    }
   ],
   "source": [
    "# Para comprobar que cantidad de registros y columnas tiene el dataset cargado:\n",
    "\n",
    "df_other_stats.shape"
   ]
  }
 ],
 "metadata": {
  "kernelspec": {
   "display_name": "Python 3",
   "language": "python",
   "name": "python3"
  },
  "language_info": {
   "codemirror_mode": {
    "name": "ipython",
    "version": 3
   },
   "file_extension": ".py",
   "mimetype": "text/x-python",
   "name": "python",
   "nbconvert_exporter": "python",
   "pygments_lexer": "ipython3",
   "version": "3.13.0"
  }
 },
 "nbformat": 4,
 "nbformat_minor": 2
}
