{
 "cells": [
  {
   "cell_type": "code",
   "execution_count": 1,
   "metadata": {},
   "outputs": [],
   "source": [
    "#Archivo creado y bibliotecas importadas:\n",
    "\n",
    "import pandas as pd\n",
    "import numpy as np"
   ]
  },
  {
   "cell_type": "code",
   "execution_count": null,
   "metadata": {},
   "outputs": [],
   "source": [
    "# Leer el archivo de trabajo:\n",
    "\n",
    "df = pd.read_csv('')"
   ]
  },
  {
   "cell_type": "code",
   "execution_count": null,
   "metadata": {},
   "outputs": [],
   "source": [
    "# Para comprobar que cantidad de registros y columnas tiene el dataset cargado:\n",
    "\n",
    "df.shape"
   ]
  },
  {
   "cell_type": "code",
   "execution_count": null,
   "metadata": {},
   "outputs": [],
   "source": [
    "# Una vez cargado el dataset, y comprobado su tamaño, se procede a verificar el contenido con una vista truncada:\n",
    "df.head()"
   ]
  },
  {
   "cell_type": "code",
   "execution_count": null,
   "metadata": {},
   "outputs": [],
   "source": [
    "# Selecciona y filtrar los años/equipos que se trabajarán en el proyecto: \n",
    "\n",
    "lista_filtro_paises = ['AR', 'CL', 'CO', 'MX', 'PE', 'BR']\n",
    "df_paises_filtrados = df[df['location_key'].isin(lista_filtro_paises)]\n",
    "df_paises_filtrados.shape"
   ]
  },
  {
   "cell_type": "code",
   "execution_count": null,
   "metadata": {},
   "outputs": [],
   "source": [
    "# Filtrar los datos en fechas mayores a 2021-01-01:\n",
    "df_paises_filtrados['date'] = pd.to_datetime(df_paises_filtrados['date'])\n",
    "df_fechas_filtradas = df_paises_filtrados[df_paises_filtrados['date']>'2021-01-01']\n",
    "df_fechas_filtradas"
   ]
  }
 ],
 "metadata": {
  "kernelspec": {
   "display_name": "Python 3",
   "language": "python",
   "name": "python3"
  },
  "language_info": {
   "codemirror_mode": {
    "name": "ipython",
    "version": 3
   },
   "file_extension": ".py",
   "mimetype": "text/x-python",
   "name": "python",
   "nbconvert_exporter": "python",
   "pygments_lexer": "ipython3",
   "version": "3.13.0"
  }
 },
 "nbformat": 4,
 "nbformat_minor": 2
}
