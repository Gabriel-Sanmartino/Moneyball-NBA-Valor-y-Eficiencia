{
 "cells": [
  {
   "cell_type": "code",
   "execution_count": 2,
   "metadata": {},
   "outputs": [],
   "source": [
    "#Archivo creado y bibliotecas importadas:\n",
    "\n",
    "import pandas as pd\n",
    "import numpy as np"
   ]
  },
  {
   "cell_type": "code",
   "execution_count": 6,
   "metadata": {},
   "outputs": [],
   "source": [
    "# Leer el archivo de trabajo:\n",
    "\n",
    "df = pd.read_csv('team.csv')"
   ]
  },
  {
   "cell_type": "code",
   "execution_count": 7,
   "metadata": {},
   "outputs": [
    {
     "data": {
      "text/plain": [
       "(30, 7)"
      ]
     },
     "execution_count": 7,
     "metadata": {},
     "output_type": "execute_result"
    }
   ],
   "source": [
    "# Para comprobar que cantidad de registros y columnas tiene el dataset cargado:\n",
    "\n",
    "df.shape"
   ]
  },
  {
   "cell_type": "code",
   "execution_count": 8,
   "metadata": {},
   "outputs": [
    {
     "data": {
      "text/html": [
       "<div>\n",
       "<style scoped>\n",
       "    .dataframe tbody tr th:only-of-type {\n",
       "        vertical-align: middle;\n",
       "    }\n",
       "\n",
       "    .dataframe tbody tr th {\n",
       "        vertical-align: top;\n",
       "    }\n",
       "\n",
       "    .dataframe thead th {\n",
       "        text-align: right;\n",
       "    }\n",
       "</style>\n",
       "<table border=\"1\" class=\"dataframe\">\n",
       "  <thead>\n",
       "    <tr style=\"text-align: right;\">\n",
       "      <th></th>\n",
       "      <th>id</th>\n",
       "      <th>full_name</th>\n",
       "      <th>abbreviation</th>\n",
       "      <th>nickname</th>\n",
       "      <th>city</th>\n",
       "      <th>state</th>\n",
       "      <th>year_founded</th>\n",
       "    </tr>\n",
       "  </thead>\n",
       "  <tbody>\n",
       "    <tr>\n",
       "      <th>0</th>\n",
       "      <td>1610612737</td>\n",
       "      <td>Atlanta Hawks</td>\n",
       "      <td>ATL</td>\n",
       "      <td>Hawks</td>\n",
       "      <td>Atlanta</td>\n",
       "      <td>Atlanta</td>\n",
       "      <td>1949.0</td>\n",
       "    </tr>\n",
       "    <tr>\n",
       "      <th>1</th>\n",
       "      <td>1610612738</td>\n",
       "      <td>Boston Celtics</td>\n",
       "      <td>BOS</td>\n",
       "      <td>Celtics</td>\n",
       "      <td>Boston</td>\n",
       "      <td>Massachusetts</td>\n",
       "      <td>1946.0</td>\n",
       "    </tr>\n",
       "    <tr>\n",
       "      <th>2</th>\n",
       "      <td>1610612739</td>\n",
       "      <td>Cleveland Cavaliers</td>\n",
       "      <td>CLE</td>\n",
       "      <td>Cavaliers</td>\n",
       "      <td>Cleveland</td>\n",
       "      <td>Ohio</td>\n",
       "      <td>1970.0</td>\n",
       "    </tr>\n",
       "    <tr>\n",
       "      <th>3</th>\n",
       "      <td>1610612740</td>\n",
       "      <td>New Orleans Pelicans</td>\n",
       "      <td>NOP</td>\n",
       "      <td>Pelicans</td>\n",
       "      <td>New Orleans</td>\n",
       "      <td>Louisiana</td>\n",
       "      <td>2002.0</td>\n",
       "    </tr>\n",
       "    <tr>\n",
       "      <th>4</th>\n",
       "      <td>1610612741</td>\n",
       "      <td>Chicago Bulls</td>\n",
       "      <td>CHI</td>\n",
       "      <td>Bulls</td>\n",
       "      <td>Chicago</td>\n",
       "      <td>Illinois</td>\n",
       "      <td>1966.0</td>\n",
       "    </tr>\n",
       "  </tbody>\n",
       "</table>\n",
       "</div>"
      ],
      "text/plain": [
       "           id             full_name abbreviation   nickname         city  \\\n",
       "0  1610612737         Atlanta Hawks          ATL      Hawks      Atlanta   \n",
       "1  1610612738        Boston Celtics          BOS    Celtics       Boston   \n",
       "2  1610612739   Cleveland Cavaliers          CLE  Cavaliers    Cleveland   \n",
       "3  1610612740  New Orleans Pelicans          NOP   Pelicans  New Orleans   \n",
       "4  1610612741         Chicago Bulls          CHI      Bulls      Chicago   \n",
       "\n",
       "           state  year_founded  \n",
       "0        Atlanta        1949.0  \n",
       "1  Massachusetts        1946.0  \n",
       "2           Ohio        1970.0  \n",
       "3      Louisiana        2002.0  \n",
       "4       Illinois        1966.0  "
      ]
     },
     "execution_count": 8,
     "metadata": {},
     "output_type": "execute_result"
    }
   ],
   "source": [
    "# Una vez cargado el dataset, y comprobado su tamaño, se procede a verificar el contenido con una vista truncada:\n",
    "df.head()"
   ]
  },
  {
   "cell_type": "code",
   "execution_count": 9,
   "metadata": {},
   "outputs": [
    {
     "data": {
      "text/plain": [
       "(5, 7)"
      ]
     },
     "execution_count": 9,
     "metadata": {},
     "output_type": "execute_result"
    }
   ],
   "source": [
    "# Selecciona y filtrar los años/equipos que se trabajarán en el proyecto: \n",
    "\n",
    "lista_filtro_equipos = ['Boston Celtics', 'New York Knicks', 'Minnesota Timberwolves', 'Oklahoma City Thunder', 'Denver Nuggets']\n",
    "df_equipos_filtrados = df[df['full_name'].isin(lista_filtro_equipos)]\n",
    "df_equipos_filtrados.shape"
   ]
  },
  {
   "cell_type": "code",
   "execution_count": 10,
   "metadata": {},
   "outputs": [
    {
     "data": {
      "text/html": [
       "<div>\n",
       "<style scoped>\n",
       "    .dataframe tbody tr th:only-of-type {\n",
       "        vertical-align: middle;\n",
       "    }\n",
       "\n",
       "    .dataframe tbody tr th {\n",
       "        vertical-align: top;\n",
       "    }\n",
       "\n",
       "    .dataframe thead th {\n",
       "        text-align: right;\n",
       "    }\n",
       "</style>\n",
       "<table border=\"1\" class=\"dataframe\">\n",
       "  <thead>\n",
       "    <tr style=\"text-align: right;\">\n",
       "      <th></th>\n",
       "      <th>id</th>\n",
       "      <th>full_name</th>\n",
       "      <th>abbreviation</th>\n",
       "      <th>nickname</th>\n",
       "      <th>city</th>\n",
       "      <th>state</th>\n",
       "      <th>year_founded</th>\n",
       "    </tr>\n",
       "  </thead>\n",
       "  <tbody>\n",
       "    <tr>\n",
       "      <th>1</th>\n",
       "      <td>1610612738</td>\n",
       "      <td>Boston Celtics</td>\n",
       "      <td>BOS</td>\n",
       "      <td>Celtics</td>\n",
       "      <td>Boston</td>\n",
       "      <td>Massachusetts</td>\n",
       "      <td>1946.0</td>\n",
       "    </tr>\n",
       "    <tr>\n",
       "      <th>6</th>\n",
       "      <td>1610612743</td>\n",
       "      <td>Denver Nuggets</td>\n",
       "      <td>DEN</td>\n",
       "      <td>Nuggets</td>\n",
       "      <td>Denver</td>\n",
       "      <td>Colorado</td>\n",
       "      <td>1976.0</td>\n",
       "    </tr>\n",
       "    <tr>\n",
       "      <th>13</th>\n",
       "      <td>1610612750</td>\n",
       "      <td>Minnesota Timberwolves</td>\n",
       "      <td>MIN</td>\n",
       "      <td>Timberwolves</td>\n",
       "      <td>Minnesota</td>\n",
       "      <td>Minnesota</td>\n",
       "      <td>1989.0</td>\n",
       "    </tr>\n",
       "    <tr>\n",
       "      <th>15</th>\n",
       "      <td>1610612752</td>\n",
       "      <td>New York Knicks</td>\n",
       "      <td>NYK</td>\n",
       "      <td>Knicks</td>\n",
       "      <td>New York</td>\n",
       "      <td>New York</td>\n",
       "      <td>1946.0</td>\n",
       "    </tr>\n",
       "    <tr>\n",
       "      <th>23</th>\n",
       "      <td>1610612760</td>\n",
       "      <td>Oklahoma City Thunder</td>\n",
       "      <td>OKC</td>\n",
       "      <td>Thunder</td>\n",
       "      <td>Oklahoma City</td>\n",
       "      <td>Oklahoma</td>\n",
       "      <td>1967.0</td>\n",
       "    </tr>\n",
       "  </tbody>\n",
       "</table>\n",
       "</div>"
      ],
      "text/plain": [
       "            id               full_name abbreviation      nickname  \\\n",
       "1   1610612738          Boston Celtics          BOS       Celtics   \n",
       "6   1610612743          Denver Nuggets          DEN       Nuggets   \n",
       "13  1610612750  Minnesota Timberwolves          MIN  Timberwolves   \n",
       "15  1610612752         New York Knicks          NYK        Knicks   \n",
       "23  1610612760   Oklahoma City Thunder          OKC       Thunder   \n",
       "\n",
       "             city          state  year_founded  \n",
       "1          Boston  Massachusetts        1946.0  \n",
       "6          Denver       Colorado        1976.0  \n",
       "13      Minnesota      Minnesota        1989.0  \n",
       "15       New York       New York        1946.0  \n",
       "23  Oklahoma City       Oklahoma        1967.0  "
      ]
     },
     "execution_count": 10,
     "metadata": {},
     "output_type": "execute_result"
    }
   ],
   "source": [
    "df_equipos_filtrados.head()"
   ]
  },
  {
   "cell_type": "code",
   "execution_count": null,
   "metadata": {},
   "outputs": [],
   "source": [
    "# Verificar valores nulos restantes en todo el DataFrame\n",
    "print(\"Valores nulos restantes:\")\n",
    "print(df_relleno2.isnull().sum())"
   ]
  },
  {
   "cell_type": "code",
   "execution_count": 11,
   "metadata": {},
   "outputs": [
    {
     "name": "stdout",
     "output_type": "stream",
     "text": [
      "Archivo guardado exitosamente como 'TeamFiltrado.csv'\n"
     ]
    }
   ],
   "source": [
    "# Guardar los datos filtrados en un archivo con el nombre TeamFiltrado.csv a fin de poder utilizarlo luego\n",
    "\n",
    "df_equipos_filtrados.to_csv('TeamFiltrado.csv', index=False)\n",
    "\n",
    "# Confirmación\n",
    "print(\"Archivo guardado exitosamente como 'TeamFiltrado.csv'\")"
   ]
  },
  {
   "cell_type": "markdown",
   "metadata": {},
   "source": [
    "Comienzo ETL Common Player Info"
   ]
  },
  {
   "cell_type": "code",
   "execution_count": 2,
   "metadata": {},
   "outputs": [],
   "source": [
    "# Leer el archivo de trabajo:\n",
    "\n",
    "df = pd.read_csv('common_player_info.csv')"
   ]
  },
  {
   "cell_type": "code",
   "execution_count": 3,
   "metadata": {},
   "outputs": [
    {
     "data": {
      "text/plain": [
       "(4171, 33)"
      ]
     },
     "execution_count": 3,
     "metadata": {},
     "output_type": "execute_result"
    }
   ],
   "source": [
    "df.shape"
   ]
  },
  {
   "cell_type": "code",
   "execution_count": 18,
   "metadata": {},
   "outputs": [
    {
     "name": "stdout",
     "output_type": "stream",
     "text": [
      "0       POR\n",
      "1       LAL\n",
      "2       SAC\n",
      "3       VAN\n",
      "4       GOS\n",
      "       ... \n",
      "4166    CHI\n",
      "4167    CLE\n",
      "4168    DET\n",
      "4169    LAC\n",
      "4170    WAS\n",
      "Name: team_abbreviation, Length: 4171, dtype: object\n"
     ]
    }
   ],
   "source": [
    "#df.head()\n",
    "#df.info()\n",
    "print(df[\"team_abbreviation\"])"
   ]
  },
  {
   "cell_type": "code",
   "execution_count": 19,
   "metadata": {},
   "outputs": [
    {
     "data": {
      "text/plain": [
       "(524, 33)"
      ]
     },
     "execution_count": 19,
     "metadata": {},
     "output_type": "execute_result"
    }
   ],
   "source": [
    "# Selecciona y filtrar los años/equipos que se trabajarán en el proyecto: \n",
    "\n",
    "lista_filtro_equipos_abv = ['BOS', 'DEN', 'MIN', 'NYK', 'OKC']\n",
    "df_equipos_abv_filtrados = df[df['team_abbreviation'].isin(lista_filtro_equipos_abv)]\n",
    "df_equipos_abv_filtrados.shape"
   ]
  },
  {
   "cell_type": "code",
   "execution_count": null,
   "metadata": {},
   "outputs": [],
   "source": [
    "# Verificar valores nulos restantes en todo el DataFrame\n",
    "print(\"Valores nulos restantes:\")\n",
    "print(df_relleno2.isnull().sum())"
   ]
  },
  {
   "cell_type": "code",
   "execution_count": 20,
   "metadata": {},
   "outputs": [
    {
     "name": "stdout",
     "output_type": "stream",
     "text": [
      "Archivo guardado exitosamente como 'CommonPlayerFiltrado.csv'\n"
     ]
    }
   ],
   "source": [
    "# Guardar los datos filtrados en un archivo con el nombre CommonPlayerFiltrado.csv a fin de poder utilizarlo luego\n",
    "\n",
    "df_equipos_abv_filtrados.to_csv('CommonPlayerFiltrado.csv', index=False)\n",
    "\n",
    "# Confirmación\n",
    "print(\"Archivo guardado exitosamente como 'CommonPlayerFiltrado.csv'\")"
   ]
  },
  {
   "cell_type": "markdown",
   "metadata": {},
   "source": [
    "ETL archivo Other Stats"
   ]
  },
  {
   "cell_type": "code",
   "execution_count": 37,
   "metadata": {},
   "outputs": [],
   "source": [
    "#Archivo creado y bibliotecas importadas:\n",
    "\n",
    "import pandas as pd\n",
    "import numpy as np"
   ]
  },
  {
   "cell_type": "code",
   "execution_count": 7,
   "metadata": {},
   "outputs": [],
   "source": [
    "# Leer el archivo de trabajo:\n",
    "\n",
    "df_other_stats = pd.read_csv('other_stats.csv')"
   ]
  },
  {
   "cell_type": "code",
   "execution_count": 8,
   "metadata": {},
   "outputs": [
    {
     "data": {
      "text/plain": [
       "(28271, 26)"
      ]
     },
     "execution_count": 8,
     "metadata": {},
     "output_type": "execute_result"
    }
   ],
   "source": [
    "# Para comprobar que cantidad de registros y columnas tiene el dataset cargado:\n",
    "\n",
    "df_other_stats.shape"
   ]
  },
  {
   "cell_type": "code",
   "execution_count": 9,
   "metadata": {},
   "outputs": [
    {
     "data": {
      "text/html": [
       "<div>\n",
       "<style scoped>\n",
       "    .dataframe tbody tr th:only-of-type {\n",
       "        vertical-align: middle;\n",
       "    }\n",
       "\n",
       "    .dataframe tbody tr th {\n",
       "        vertical-align: top;\n",
       "    }\n",
       "\n",
       "    .dataframe thead th {\n",
       "        text-align: right;\n",
       "    }\n",
       "</style>\n",
       "<table border=\"1\" class=\"dataframe\">\n",
       "  <thead>\n",
       "    <tr style=\"text-align: right;\">\n",
       "      <th></th>\n",
       "      <th>game_id</th>\n",
       "      <th>league_id</th>\n",
       "      <th>team_id_home</th>\n",
       "      <th>team_abbreviation_home</th>\n",
       "      <th>team_city_home</th>\n",
       "      <th>pts_paint_home</th>\n",
       "      <th>pts_2nd_chance_home</th>\n",
       "      <th>pts_fb_home</th>\n",
       "      <th>largest_lead_home</th>\n",
       "      <th>lead_changes</th>\n",
       "      <th>...</th>\n",
       "      <th>team_abbreviation_away</th>\n",
       "      <th>team_city_away</th>\n",
       "      <th>pts_paint_away</th>\n",
       "      <th>pts_2nd_chance_away</th>\n",
       "      <th>pts_fb_away</th>\n",
       "      <th>largest_lead_away</th>\n",
       "      <th>team_turnovers_away</th>\n",
       "      <th>total_turnovers_away</th>\n",
       "      <th>team_rebounds_away</th>\n",
       "      <th>pts_off_to_away</th>\n",
       "    </tr>\n",
       "  </thead>\n",
       "  <tbody>\n",
       "    <tr>\n",
       "      <th>0</th>\n",
       "      <td>29600012</td>\n",
       "      <td>0</td>\n",
       "      <td>1610612756</td>\n",
       "      <td>PHX</td>\n",
       "      <td>Phoenix</td>\n",
       "      <td>44</td>\n",
       "      <td>18</td>\n",
       "      <td>2</td>\n",
       "      <td>1</td>\n",
       "      <td>4</td>\n",
       "      <td>...</td>\n",
       "      <td>LAL</td>\n",
       "      <td>Los Angeles</td>\n",
       "      <td>42</td>\n",
       "      <td>10</td>\n",
       "      <td>13</td>\n",
       "      <td>19</td>\n",
       "      <td>0.0</td>\n",
       "      <td>23.0</td>\n",
       "      <td>11.0</td>\n",
       "      <td>NaN</td>\n",
       "    </tr>\n",
       "    <tr>\n",
       "      <th>1</th>\n",
       "      <td>29600005</td>\n",
       "      <td>0</td>\n",
       "      <td>1610612737</td>\n",
       "      <td>ATL</td>\n",
       "      <td>Atlanta</td>\n",
       "      <td>32</td>\n",
       "      <td>9</td>\n",
       "      <td>6</td>\n",
       "      <td>0</td>\n",
       "      <td>0</td>\n",
       "      <td>...</td>\n",
       "      <td>MIA</td>\n",
       "      <td>Miami</td>\n",
       "      <td>32</td>\n",
       "      <td>15</td>\n",
       "      <td>14</td>\n",
       "      <td>16</td>\n",
       "      <td>1.0</td>\n",
       "      <td>19.0</td>\n",
       "      <td>6.0</td>\n",
       "      <td>NaN</td>\n",
       "    </tr>\n",
       "    <tr>\n",
       "      <th>2</th>\n",
       "      <td>29600002</td>\n",
       "      <td>0</td>\n",
       "      <td>1610612739</td>\n",
       "      <td>CLE</td>\n",
       "      <td>Cleveland</td>\n",
       "      <td>36</td>\n",
       "      <td>14</td>\n",
       "      <td>6</td>\n",
       "      <td>20</td>\n",
       "      <td>1</td>\n",
       "      <td>...</td>\n",
       "      <td>NJN</td>\n",
       "      <td>New Jersey</td>\n",
       "      <td>26</td>\n",
       "      <td>16</td>\n",
       "      <td>4</td>\n",
       "      <td>2</td>\n",
       "      <td>1.0</td>\n",
       "      <td>22.0</td>\n",
       "      <td>12.0</td>\n",
       "      <td>NaN</td>\n",
       "    </tr>\n",
       "    <tr>\n",
       "      <th>3</th>\n",
       "      <td>29600007</td>\n",
       "      <td>0</td>\n",
       "      <td>1610612754</td>\n",
       "      <td>IND</td>\n",
       "      <td>Indiana</td>\n",
       "      <td>34</td>\n",
       "      <td>11</td>\n",
       "      <td>4</td>\n",
       "      <td>10</td>\n",
       "      <td>7</td>\n",
       "      <td>...</td>\n",
       "      <td>DET</td>\n",
       "      <td>Detroit</td>\n",
       "      <td>30</td>\n",
       "      <td>14</td>\n",
       "      <td>7</td>\n",
       "      <td>9</td>\n",
       "      <td>2.0</td>\n",
       "      <td>19.0</td>\n",
       "      <td>10.0</td>\n",
       "      <td>NaN</td>\n",
       "    </tr>\n",
       "    <tr>\n",
       "      <th>4</th>\n",
       "      <td>29600013</td>\n",
       "      <td>0</td>\n",
       "      <td>1610612746</td>\n",
       "      <td>LAC</td>\n",
       "      <td>Los Angeles</td>\n",
       "      <td>40</td>\n",
       "      <td>19</td>\n",
       "      <td>2</td>\n",
       "      <td>12</td>\n",
       "      <td>5</td>\n",
       "      <td>...</td>\n",
       "      <td>GSW</td>\n",
       "      <td>Golden State</td>\n",
       "      <td>30</td>\n",
       "      <td>9</td>\n",
       "      <td>2</td>\n",
       "      <td>6</td>\n",
       "      <td>0.0</td>\n",
       "      <td>20.0</td>\n",
       "      <td>7.0</td>\n",
       "      <td>NaN</td>\n",
       "    </tr>\n",
       "  </tbody>\n",
       "</table>\n",
       "<p>5 rows × 26 columns</p>\n",
       "</div>"
      ],
      "text/plain": [
       "    game_id  league_id  team_id_home team_abbreviation_home team_city_home  \\\n",
       "0  29600012          0    1610612756                    PHX        Phoenix   \n",
       "1  29600005          0    1610612737                    ATL        Atlanta   \n",
       "2  29600002          0    1610612739                    CLE      Cleveland   \n",
       "3  29600007          0    1610612754                    IND        Indiana   \n",
       "4  29600013          0    1610612746                    LAC    Los Angeles   \n",
       "\n",
       "   pts_paint_home  pts_2nd_chance_home  pts_fb_home  largest_lead_home  \\\n",
       "0              44                   18            2                  1   \n",
       "1              32                    9            6                  0   \n",
       "2              36                   14            6                 20   \n",
       "3              34                   11            4                 10   \n",
       "4              40                   19            2                 12   \n",
       "\n",
       "   lead_changes  ...  team_abbreviation_away  team_city_away  pts_paint_away  \\\n",
       "0             4  ...                     LAL     Los Angeles              42   \n",
       "1             0  ...                     MIA           Miami              32   \n",
       "2             1  ...                     NJN      New Jersey              26   \n",
       "3             7  ...                     DET         Detroit              30   \n",
       "4             5  ...                     GSW    Golden State              30   \n",
       "\n",
       "   pts_2nd_chance_away  pts_fb_away  largest_lead_away team_turnovers_away  \\\n",
       "0                   10           13                 19                 0.0   \n",
       "1                   15           14                 16                 1.0   \n",
       "2                   16            4                  2                 1.0   \n",
       "3                   14            7                  9                 2.0   \n",
       "4                    9            2                  6                 0.0   \n",
       "\n",
       "  total_turnovers_away  team_rebounds_away  pts_off_to_away  \n",
       "0                 23.0                11.0              NaN  \n",
       "1                 19.0                 6.0              NaN  \n",
       "2                 22.0                12.0              NaN  \n",
       "3                 19.0                10.0              NaN  \n",
       "4                 20.0                 7.0              NaN  \n",
       "\n",
       "[5 rows x 26 columns]"
      ]
     },
     "execution_count": 9,
     "metadata": {},
     "output_type": "execute_result"
    }
   ],
   "source": [
    "# Una vez cargado el dataset, y comprobado su tamaño, se procede a verificar el contenido con una vista truncada:\n",
    "df_other_stats.head()"
   ]
  },
  {
   "cell_type": "markdown",
   "metadata": {},
   "source": [
    "El archivo other_stats se va a poder filtrar una vez que se conozcan los game_ID que se considerarán en el proyecto.\n",
    "Para tener ese dato, pasaremos a trabajar sobre el archivo game.csv"
   ]
  },
  {
   "cell_type": "markdown",
   "metadata": {},
   "source": [
    "Comenzamos a trabajar con el archivo game.csv"
   ]
  },
  {
   "cell_type": "code",
   "execution_count": 38,
   "metadata": {},
   "outputs": [],
   "source": [
    "#Archivo creado y bibliotecas importadas:\n",
    "\n",
    "import pandas as pd\n",
    "import numpy as np"
   ]
  },
  {
   "cell_type": "code",
   "execution_count": 40,
   "metadata": {},
   "outputs": [],
   "source": [
    "# Leer el archivo de trabajo:\n",
    "\n",
    "df_game = pd.read_csv('game.csv')"
   ]
  },
  {
   "cell_type": "code",
   "execution_count": 41,
   "metadata": {},
   "outputs": [
    {
     "data": {
      "text/plain": [
       "(65698, 55)"
      ]
     },
     "execution_count": 41,
     "metadata": {},
     "output_type": "execute_result"
    }
   ],
   "source": [
    "# Para comprobar que cantidad de registros y columnas tiene el dataset cargado:\n",
    "\n",
    "df_game.shape"
   ]
  },
  {
   "cell_type": "code",
   "execution_count": 42,
   "metadata": {},
   "outputs": [
    {
     "data": {
      "text/html": [
       "<div>\n",
       "<style scoped>\n",
       "    .dataframe tbody tr th:only-of-type {\n",
       "        vertical-align: middle;\n",
       "    }\n",
       "\n",
       "    .dataframe tbody tr th {\n",
       "        vertical-align: top;\n",
       "    }\n",
       "\n",
       "    .dataframe thead th {\n",
       "        text-align: right;\n",
       "    }\n",
       "</style>\n",
       "<table border=\"1\" class=\"dataframe\">\n",
       "  <thead>\n",
       "    <tr style=\"text-align: right;\">\n",
       "      <th></th>\n",
       "      <th>season_id</th>\n",
       "      <th>team_id_home</th>\n",
       "      <th>team_abbreviation_home</th>\n",
       "      <th>team_name_home</th>\n",
       "      <th>game_id</th>\n",
       "      <th>game_date</th>\n",
       "      <th>matchup_home</th>\n",
       "      <th>wl_home</th>\n",
       "      <th>min</th>\n",
       "      <th>fgm_home</th>\n",
       "      <th>...</th>\n",
       "      <th>reb_away</th>\n",
       "      <th>ast_away</th>\n",
       "      <th>stl_away</th>\n",
       "      <th>blk_away</th>\n",
       "      <th>tov_away</th>\n",
       "      <th>pf_away</th>\n",
       "      <th>pts_away</th>\n",
       "      <th>plus_minus_away</th>\n",
       "      <th>video_available_away</th>\n",
       "      <th>season_type</th>\n",
       "    </tr>\n",
       "  </thead>\n",
       "  <tbody>\n",
       "    <tr>\n",
       "      <th>0</th>\n",
       "      <td>21946</td>\n",
       "      <td>1610610035</td>\n",
       "      <td>HUS</td>\n",
       "      <td>Toronto Huskies</td>\n",
       "      <td>24600001</td>\n",
       "      <td>1946-11-01 00:00:00</td>\n",
       "      <td>HUS vs. NYK</td>\n",
       "      <td>L</td>\n",
       "      <td>0</td>\n",
       "      <td>25.0</td>\n",
       "      <td>...</td>\n",
       "      <td>NaN</td>\n",
       "      <td>NaN</td>\n",
       "      <td>NaN</td>\n",
       "      <td>NaN</td>\n",
       "      <td>NaN</td>\n",
       "      <td>NaN</td>\n",
       "      <td>68.0</td>\n",
       "      <td>2</td>\n",
       "      <td>0</td>\n",
       "      <td>Regular Season</td>\n",
       "    </tr>\n",
       "    <tr>\n",
       "      <th>1</th>\n",
       "      <td>21946</td>\n",
       "      <td>1610610034</td>\n",
       "      <td>BOM</td>\n",
       "      <td>St. Louis Bombers</td>\n",
       "      <td>24600003</td>\n",
       "      <td>1946-11-02 00:00:00</td>\n",
       "      <td>BOM vs. PIT</td>\n",
       "      <td>W</td>\n",
       "      <td>0</td>\n",
       "      <td>20.0</td>\n",
       "      <td>...</td>\n",
       "      <td>NaN</td>\n",
       "      <td>NaN</td>\n",
       "      <td>NaN</td>\n",
       "      <td>NaN</td>\n",
       "      <td>NaN</td>\n",
       "      <td>25.0</td>\n",
       "      <td>51.0</td>\n",
       "      <td>-5</td>\n",
       "      <td>0</td>\n",
       "      <td>Regular Season</td>\n",
       "    </tr>\n",
       "    <tr>\n",
       "      <th>2</th>\n",
       "      <td>21946</td>\n",
       "      <td>1610610032</td>\n",
       "      <td>PRO</td>\n",
       "      <td>Providence Steamrollers</td>\n",
       "      <td>24600002</td>\n",
       "      <td>1946-11-02 00:00:00</td>\n",
       "      <td>PRO vs. BOS</td>\n",
       "      <td>W</td>\n",
       "      <td>0</td>\n",
       "      <td>21.0</td>\n",
       "      <td>...</td>\n",
       "      <td>NaN</td>\n",
       "      <td>NaN</td>\n",
       "      <td>NaN</td>\n",
       "      <td>NaN</td>\n",
       "      <td>NaN</td>\n",
       "      <td>NaN</td>\n",
       "      <td>53.0</td>\n",
       "      <td>-6</td>\n",
       "      <td>0</td>\n",
       "      <td>Regular Season</td>\n",
       "    </tr>\n",
       "    <tr>\n",
       "      <th>3</th>\n",
       "      <td>21946</td>\n",
       "      <td>1610610025</td>\n",
       "      <td>CHS</td>\n",
       "      <td>Chicago Stags</td>\n",
       "      <td>24600004</td>\n",
       "      <td>1946-11-02 00:00:00</td>\n",
       "      <td>CHS vs. NYK</td>\n",
       "      <td>W</td>\n",
       "      <td>0</td>\n",
       "      <td>21.0</td>\n",
       "      <td>...</td>\n",
       "      <td>NaN</td>\n",
       "      <td>NaN</td>\n",
       "      <td>NaN</td>\n",
       "      <td>NaN</td>\n",
       "      <td>NaN</td>\n",
       "      <td>22.0</td>\n",
       "      <td>47.0</td>\n",
       "      <td>-16</td>\n",
       "      <td>0</td>\n",
       "      <td>Regular Season</td>\n",
       "    </tr>\n",
       "    <tr>\n",
       "      <th>4</th>\n",
       "      <td>21946</td>\n",
       "      <td>1610610028</td>\n",
       "      <td>DEF</td>\n",
       "      <td>Detroit Falcons</td>\n",
       "      <td>24600005</td>\n",
       "      <td>1946-11-02 00:00:00</td>\n",
       "      <td>DEF vs. WAS</td>\n",
       "      <td>L</td>\n",
       "      <td>0</td>\n",
       "      <td>10.0</td>\n",
       "      <td>...</td>\n",
       "      <td>NaN</td>\n",
       "      <td>NaN</td>\n",
       "      <td>NaN</td>\n",
       "      <td>NaN</td>\n",
       "      <td>NaN</td>\n",
       "      <td>NaN</td>\n",
       "      <td>50.0</td>\n",
       "      <td>17</td>\n",
       "      <td>0</td>\n",
       "      <td>Regular Season</td>\n",
       "    </tr>\n",
       "  </tbody>\n",
       "</table>\n",
       "<p>5 rows × 55 columns</p>\n",
       "</div>"
      ],
      "text/plain": [
       "   season_id  team_id_home team_abbreviation_home           team_name_home  \\\n",
       "0      21946    1610610035                    HUS          Toronto Huskies   \n",
       "1      21946    1610610034                    BOM        St. Louis Bombers   \n",
       "2      21946    1610610032                    PRO  Providence Steamrollers   \n",
       "3      21946    1610610025                    CHS            Chicago Stags   \n",
       "4      21946    1610610028                    DEF          Detroit Falcons   \n",
       "\n",
       "    game_id            game_date matchup_home wl_home  min  fgm_home  ...  \\\n",
       "0  24600001  1946-11-01 00:00:00  HUS vs. NYK       L    0      25.0  ...   \n",
       "1  24600003  1946-11-02 00:00:00  BOM vs. PIT       W    0      20.0  ...   \n",
       "2  24600002  1946-11-02 00:00:00  PRO vs. BOS       W    0      21.0  ...   \n",
       "3  24600004  1946-11-02 00:00:00  CHS vs. NYK       W    0      21.0  ...   \n",
       "4  24600005  1946-11-02 00:00:00  DEF vs. WAS       L    0      10.0  ...   \n",
       "\n",
       "   reb_away  ast_away  stl_away  blk_away  tov_away  pf_away  pts_away  \\\n",
       "0       NaN       NaN       NaN       NaN       NaN      NaN      68.0   \n",
       "1       NaN       NaN       NaN       NaN       NaN     25.0      51.0   \n",
       "2       NaN       NaN       NaN       NaN       NaN      NaN      53.0   \n",
       "3       NaN       NaN       NaN       NaN       NaN     22.0      47.0   \n",
       "4       NaN       NaN       NaN       NaN       NaN      NaN      50.0   \n",
       "\n",
       "   plus_minus_away  video_available_away     season_type  \n",
       "0                2                     0  Regular Season  \n",
       "1               -5                     0  Regular Season  \n",
       "2               -6                     0  Regular Season  \n",
       "3              -16                     0  Regular Season  \n",
       "4               17                     0  Regular Season  \n",
       "\n",
       "[5 rows x 55 columns]"
      ]
     },
     "execution_count": 42,
     "metadata": {},
     "output_type": "execute_result"
    }
   ],
   "source": [
    "# Una vez cargado el dataset, y comprobado su tamaño, se procede a verificar el contenido con una vista truncada:\n",
    "df_game.head()"
   ]
  },
  {
   "cell_type": "code",
   "execution_count": 43,
   "metadata": {},
   "outputs": [
    {
     "name": "stdout",
     "output_type": "stream",
     "text": [
      "<class 'pandas.core.frame.DataFrame'>\n",
      "RangeIndex: 65698 entries, 0 to 65697\n",
      "Data columns (total 55 columns):\n",
      " #   Column                  Non-Null Count  Dtype  \n",
      "---  ------                  --------------  -----  \n",
      " 0   season_id               65698 non-null  int64  \n",
      " 1   team_id_home            65698 non-null  int64  \n",
      " 2   team_abbreviation_home  65698 non-null  object \n",
      " 3   team_name_home          65698 non-null  object \n",
      " 4   game_id                 65698 non-null  int64  \n",
      " 5   game_date               65698 non-null  object \n",
      " 6   matchup_home            65698 non-null  object \n",
      " 7   wl_home                 65696 non-null  object \n",
      " 8   min                     65698 non-null  int64  \n",
      " 9   fgm_home                65685 non-null  float64\n",
      " 10  fga_home                50251 non-null  float64\n",
      " 11  fg_pct_home             50208 non-null  float64\n",
      " 12  fg3m_home               52480 non-null  float64\n",
      " 13  fg3a_home               47015 non-null  float64\n",
      " 14  fg3_pct_home            46624 non-null  float64\n",
      " 15  ftm_home                65682 non-null  float64\n",
      " 16  fta_home                62694 non-null  float64\n",
      " 17  ft_pct_home             62689 non-null  float64\n",
      " 18  oreb_home               46762 non-null  float64\n",
      " 19  dreb_home               46699 non-null  float64\n",
      " 20  reb_home                49969 non-null  float64\n",
      " 21  ast_home                49893 non-null  float64\n",
      " 22  stl_home                46849 non-null  float64\n",
      " 23  blk_home                47072 non-null  float64\n",
      " 24  tov_home                47014 non-null  float64\n",
      " 25  pf_home                 62842 non-null  float64\n",
      " 26  pts_home                65698 non-null  float64\n",
      " 27  plus_minus_home         65698 non-null  int64  \n",
      " 28  video_available_home    65698 non-null  int64  \n",
      " 29  team_id_away            65698 non-null  int64  \n",
      " 30  team_abbreviation_away  65698 non-null  object \n",
      " 31  team_name_away          65698 non-null  object \n",
      " 32  matchup_away            65698 non-null  object \n",
      " 33  wl_away                 65696 non-null  object \n",
      " 34  fgm_away                65685 non-null  float64\n",
      " 35  fga_away                50251 non-null  float64\n",
      " 36  fg_pct_away             50209 non-null  float64\n",
      " 37  fg3m_away               52480 non-null  float64\n",
      " 38  fg3a_away               47015 non-null  float64\n",
      " 39  fg3_pct_away            46736 non-null  float64\n",
      " 40  ftm_away                65685 non-null  float64\n",
      " 41  fta_away                62694 non-null  float64\n",
      " 42  ft_pct_away             62692 non-null  float64\n",
      " 43  oreb_away               46762 non-null  float64\n",
      " 44  dreb_away               46700 non-null  float64\n",
      " 45  reb_away                49973 non-null  float64\n",
      " 46  ast_away                49897 non-null  float64\n",
      " 47  stl_away                46849 non-null  float64\n",
      " 48  blk_away                47073 non-null  float64\n",
      " 49  tov_away                47013 non-null  float64\n",
      " 50  pf_away                 62847 non-null  float64\n",
      " 51  pts_away                65698 non-null  float64\n",
      " 52  plus_minus_away         65698 non-null  int64  \n",
      " 53  video_available_away    65698 non-null  int64  \n",
      " 54  season_type             65698 non-null  object \n",
      "dtypes: float64(36), int64(9), object(10)\n",
      "memory usage: 27.6+ MB\n"
     ]
    }
   ],
   "source": [
    "df_game.info()"
   ]
  },
  {
   "cell_type": "code",
   "execution_count": 44,
   "metadata": {},
   "outputs": [
    {
     "name": "stdout",
     "output_type": "stream",
     "text": [
      "(18944, 55)\n"
     ]
    }
   ],
   "source": [
    "# Selecciona y filtrar los años/equipos que se trabajarán en el proyecto: \n",
    "\n",
    "lista_filtro_game = ['BOS', 'DEN', 'MIN', 'NYK', 'OKC']\n",
    "\n",
    "# Filtrar valores que contengan alguna de las cadenas en la lista\n",
    "df_game_filtrado = df_game[df_game['matchup_home'].str.contains('|'.join(lista_filtro_game))]\n",
    "\n",
    "# Verificar el tamaño del DataFrame filtrado\n",
    "print(df_game_filtrado.shape)"
   ]
  },
  {
   "cell_type": "code",
   "execution_count": 45,
   "metadata": {},
   "outputs": [
    {
     "data": {
      "text/html": [
       "<div>\n",
       "<style scoped>\n",
       "    .dataframe tbody tr th:only-of-type {\n",
       "        vertical-align: middle;\n",
       "    }\n",
       "\n",
       "    .dataframe tbody tr th {\n",
       "        vertical-align: top;\n",
       "    }\n",
       "\n",
       "    .dataframe thead th {\n",
       "        text-align: right;\n",
       "    }\n",
       "</style>\n",
       "<table border=\"1\" class=\"dataframe\">\n",
       "  <thead>\n",
       "    <tr style=\"text-align: right;\">\n",
       "      <th></th>\n",
       "      <th>season_id</th>\n",
       "      <th>team_id_home</th>\n",
       "      <th>team_abbreviation_home</th>\n",
       "      <th>team_name_home</th>\n",
       "      <th>game_id</th>\n",
       "      <th>game_date</th>\n",
       "      <th>matchup_home</th>\n",
       "      <th>wl_home</th>\n",
       "      <th>min</th>\n",
       "      <th>fgm_home</th>\n",
       "      <th>...</th>\n",
       "      <th>reb_away</th>\n",
       "      <th>ast_away</th>\n",
       "      <th>stl_away</th>\n",
       "      <th>blk_away</th>\n",
       "      <th>tov_away</th>\n",
       "      <th>pf_away</th>\n",
       "      <th>pts_away</th>\n",
       "      <th>plus_minus_away</th>\n",
       "      <th>video_available_away</th>\n",
       "      <th>season_type</th>\n",
       "    </tr>\n",
       "  </thead>\n",
       "  <tbody>\n",
       "    <tr>\n",
       "      <th>0</th>\n",
       "      <td>21946</td>\n",
       "      <td>1610610035</td>\n",
       "      <td>HUS</td>\n",
       "      <td>Toronto Huskies</td>\n",
       "      <td>24600001</td>\n",
       "      <td>1946-11-01 00:00:00</td>\n",
       "      <td>HUS vs. NYK</td>\n",
       "      <td>L</td>\n",
       "      <td>0</td>\n",
       "      <td>25.0</td>\n",
       "      <td>...</td>\n",
       "      <td>NaN</td>\n",
       "      <td>NaN</td>\n",
       "      <td>NaN</td>\n",
       "      <td>NaN</td>\n",
       "      <td>NaN</td>\n",
       "      <td>NaN</td>\n",
       "      <td>68.0</td>\n",
       "      <td>2</td>\n",
       "      <td>0</td>\n",
       "      <td>Regular Season</td>\n",
       "    </tr>\n",
       "    <tr>\n",
       "      <th>2</th>\n",
       "      <td>21946</td>\n",
       "      <td>1610610032</td>\n",
       "      <td>PRO</td>\n",
       "      <td>Providence Steamrollers</td>\n",
       "      <td>24600002</td>\n",
       "      <td>1946-11-02 00:00:00</td>\n",
       "      <td>PRO vs. BOS</td>\n",
       "      <td>W</td>\n",
       "      <td>0</td>\n",
       "      <td>21.0</td>\n",
       "      <td>...</td>\n",
       "      <td>NaN</td>\n",
       "      <td>NaN</td>\n",
       "      <td>NaN</td>\n",
       "      <td>NaN</td>\n",
       "      <td>NaN</td>\n",
       "      <td>NaN</td>\n",
       "      <td>53.0</td>\n",
       "      <td>-6</td>\n",
       "      <td>0</td>\n",
       "      <td>Regular Season</td>\n",
       "    </tr>\n",
       "    <tr>\n",
       "      <th>3</th>\n",
       "      <td>21946</td>\n",
       "      <td>1610610025</td>\n",
       "      <td>CHS</td>\n",
       "      <td>Chicago Stags</td>\n",
       "      <td>24600004</td>\n",
       "      <td>1946-11-02 00:00:00</td>\n",
       "      <td>CHS vs. NYK</td>\n",
       "      <td>W</td>\n",
       "      <td>0</td>\n",
       "      <td>21.0</td>\n",
       "      <td>...</td>\n",
       "      <td>NaN</td>\n",
       "      <td>NaN</td>\n",
       "      <td>NaN</td>\n",
       "      <td>NaN</td>\n",
       "      <td>NaN</td>\n",
       "      <td>22.0</td>\n",
       "      <td>47.0</td>\n",
       "      <td>-16</td>\n",
       "      <td>0</td>\n",
       "      <td>Regular Season</td>\n",
       "    </tr>\n",
       "    <tr>\n",
       "      <th>7</th>\n",
       "      <td>21946</td>\n",
       "      <td>1610612738</td>\n",
       "      <td>BOS</td>\n",
       "      <td>Boston Celtics</td>\n",
       "      <td>24600008</td>\n",
       "      <td>1946-11-05 00:00:00</td>\n",
       "      <td>BOS vs. CHS</td>\n",
       "      <td>L</td>\n",
       "      <td>0</td>\n",
       "      <td>23.0</td>\n",
       "      <td>...</td>\n",
       "      <td>NaN</td>\n",
       "      <td>NaN</td>\n",
       "      <td>NaN</td>\n",
       "      <td>NaN</td>\n",
       "      <td>NaN</td>\n",
       "      <td>NaN</td>\n",
       "      <td>57.0</td>\n",
       "      <td>2</td>\n",
       "      <td>0</td>\n",
       "      <td>Regular Season</td>\n",
       "    </tr>\n",
       "    <tr>\n",
       "      <th>10</th>\n",
       "      <td>21946</td>\n",
       "      <td>1610610034</td>\n",
       "      <td>BOM</td>\n",
       "      <td>St. Louis Bombers</td>\n",
       "      <td>24600012</td>\n",
       "      <td>1946-11-07 00:00:00</td>\n",
       "      <td>BOM vs. NYK</td>\n",
       "      <td>L</td>\n",
       "      <td>0</td>\n",
       "      <td>25.0</td>\n",
       "      <td>...</td>\n",
       "      <td>NaN</td>\n",
       "      <td>NaN</td>\n",
       "      <td>NaN</td>\n",
       "      <td>NaN</td>\n",
       "      <td>NaN</td>\n",
       "      <td>16.0</td>\n",
       "      <td>68.0</td>\n",
       "      <td>5</td>\n",
       "      <td>0</td>\n",
       "      <td>Regular Season</td>\n",
       "    </tr>\n",
       "  </tbody>\n",
       "</table>\n",
       "<p>5 rows × 55 columns</p>\n",
       "</div>"
      ],
      "text/plain": [
       "    season_id  team_id_home team_abbreviation_home           team_name_home  \\\n",
       "0       21946    1610610035                    HUS          Toronto Huskies   \n",
       "2       21946    1610610032                    PRO  Providence Steamrollers   \n",
       "3       21946    1610610025                    CHS            Chicago Stags   \n",
       "7       21946    1610612738                    BOS           Boston Celtics   \n",
       "10      21946    1610610034                    BOM        St. Louis Bombers   \n",
       "\n",
       "     game_id            game_date matchup_home wl_home  min  fgm_home  ...  \\\n",
       "0   24600001  1946-11-01 00:00:00  HUS vs. NYK       L    0      25.0  ...   \n",
       "2   24600002  1946-11-02 00:00:00  PRO vs. BOS       W    0      21.0  ...   \n",
       "3   24600004  1946-11-02 00:00:00  CHS vs. NYK       W    0      21.0  ...   \n",
       "7   24600008  1946-11-05 00:00:00  BOS vs. CHS       L    0      23.0  ...   \n",
       "10  24600012  1946-11-07 00:00:00  BOM vs. NYK       L    0      25.0  ...   \n",
       "\n",
       "    reb_away  ast_away  stl_away  blk_away  tov_away  pf_away  pts_away  \\\n",
       "0        NaN       NaN       NaN       NaN       NaN      NaN      68.0   \n",
       "2        NaN       NaN       NaN       NaN       NaN      NaN      53.0   \n",
       "3        NaN       NaN       NaN       NaN       NaN     22.0      47.0   \n",
       "7        NaN       NaN       NaN       NaN       NaN      NaN      57.0   \n",
       "10       NaN       NaN       NaN       NaN       NaN     16.0      68.0   \n",
       "\n",
       "    plus_minus_away  video_available_away     season_type  \n",
       "0                 2                     0  Regular Season  \n",
       "2                -6                     0  Regular Season  \n",
       "3               -16                     0  Regular Season  \n",
       "7                 2                     0  Regular Season  \n",
       "10                5                     0  Regular Season  \n",
       "\n",
       "[5 rows x 55 columns]"
      ]
     },
     "execution_count": 45,
     "metadata": {},
     "output_type": "execute_result"
    }
   ],
   "source": [
    "df_game_filtrado.head()"
   ]
  },
  {
   "cell_type": "code",
   "execution_count": 46,
   "metadata": {},
   "outputs": [
    {
     "name": "stdout",
     "output_type": "stream",
     "text": [
      "(2041, 55)\n",
      "       season_id  team_id_home team_abbreviation_home         team_name_home  \\\n",
      "59255      22018    1610612738                    BOS         Boston Celtics   \n",
      "59256      22018    1610612744                    GSW  Golden State Warriors   \n",
      "59257      22018    1610612759                    SAS      San Antonio Spurs   \n",
      "59259      22018    1610612746                    LAC            LA Clippers   \n",
      "59260      22018    1610612752                    NYK        New York Knicks   \n",
      "\n",
      "        game_id  game_date matchup_home wl_home  min  fgm_home  ...  reb_away  \\\n",
      "59255  21800001 2018-10-16  BOS vs. PHI       W  240      42.0  ...      47.0   \n",
      "59256  21800002 2018-10-16  GSW vs. OKC       W  240      42.0  ...      45.0   \n",
      "59257  21800010 2018-10-17  SAS vs. MIN       W  240      40.0  ...      46.0   \n",
      "59259  21800012 2018-10-17  LAC vs. DEN       L  240      35.0  ...      56.0   \n",
      "59260  21800007 2018-10-17  NYK vs. ATL       W  240      45.0  ...      45.0   \n",
      "\n",
      "       ast_away  stl_away  blk_away  tov_away  pf_away  pts_away  \\\n",
      "59255      18.0       8.0       5.0      16.0     20.0      87.0   \n",
      "59256      21.0      12.0       6.0      15.0     21.0     100.0   \n",
      "59257      20.0       9.0       2.0      11.0     27.0     108.0   \n",
      "59259      20.0       6.0       9.0      11.0     22.0     107.0   \n",
      "59260      19.0       7.0       3.0      24.0     30.0     107.0   \n",
      "\n",
      "       plus_minus_away  video_available_away     season_type  \n",
      "59255              -18                     1  Regular Season  \n",
      "59256               -8                     1  Regular Season  \n",
      "59257               -4                     1  Regular Season  \n",
      "59259                9                     1  Regular Season  \n",
      "59260              -19                     1  Regular Season  \n",
      "\n",
      "[5 rows x 55 columns]\n"
     ]
    },
    {
     "name": "stderr",
     "output_type": "stream",
     "text": [
      "C:\\Users\\Maria\\AppData\\Local\\Temp\\ipykernel_10088\\3577179761.py:2: SettingWithCopyWarning: \n",
      "A value is trying to be set on a copy of a slice from a DataFrame.\n",
      "Try using .loc[row_indexer,col_indexer] = value instead\n",
      "\n",
      "See the caveats in the documentation: https://pandas.pydata.org/pandas-docs/stable/user_guide/indexing.html#returning-a-view-versus-a-copy\n",
      "  df_game_filtrado['game_date'] = pd.to_datetime(df_game_filtrado['game_date'])\n"
     ]
    }
   ],
   "source": [
    "# Convertir la columna 'game_date' a tipo datetime\n",
    "df_game_filtrado['game_date'] = pd.to_datetime(df_game_filtrado['game_date'])\n",
    "\n",
    "# Filtrar las filas desde 2018\n",
    "df_game_filtrado2= df_game_filtrado[df_game_filtrado['game_date'] >= '2018-10-01']\n",
    "\n",
    "# Verificar el resultado\n",
    "print(df_game_filtrado2.shape)\n",
    "print(df_game_filtrado2.head())"
   ]
  },
  {
   "cell_type": "code",
   "execution_count": 47,
   "metadata": {},
   "outputs": [
    {
     "name": "stdout",
     "output_type": "stream",
     "text": [
      "Valores nulos restantes:\n",
      "season_id                 0\n",
      "team_id_home              0\n",
      "team_abbreviation_home    0\n",
      "team_name_home            0\n",
      "game_id                   0\n",
      "game_date                 0\n",
      "matchup_home              0\n",
      "wl_home                   0\n",
      "min                       0\n",
      "fgm_home                  0\n",
      "fga_home                  0\n",
      "fg_pct_home               0\n",
      "fg3m_home                 0\n",
      "fg3a_home                 0\n",
      "fg3_pct_home              0\n",
      "ftm_home                  0\n",
      "fta_home                  0\n",
      "ft_pct_home               0\n",
      "oreb_home                 0\n",
      "dreb_home                 0\n",
      "reb_home                  0\n",
      "ast_home                  0\n",
      "stl_home                  0\n",
      "blk_home                  0\n",
      "tov_home                  0\n",
      "pf_home                   0\n",
      "pts_home                  0\n",
      "plus_minus_home           0\n",
      "video_available_home      0\n",
      "team_id_away              0\n",
      "team_abbreviation_away    0\n",
      "team_name_away            0\n",
      "matchup_away              0\n",
      "wl_away                   0\n",
      "fgm_away                  0\n",
      "fga_away                  0\n",
      "fg_pct_away               0\n",
      "fg3m_away                 0\n",
      "fg3a_away                 0\n",
      "fg3_pct_away              0\n",
      "ftm_away                  0\n",
      "fta_away                  0\n",
      "ft_pct_away               0\n",
      "oreb_away                 0\n",
      "dreb_away                 0\n",
      "reb_away                  0\n",
      "ast_away                  0\n",
      "stl_away                  0\n",
      "blk_away                  0\n",
      "tov_away                  0\n",
      "pf_away                   0\n",
      "pts_away                  0\n",
      "plus_minus_away           0\n",
      "video_available_away      0\n",
      "season_type               0\n",
      "dtype: int64\n"
     ]
    }
   ],
   "source": [
    "# Verificar valores nulos restantes en todo el DataFrame\n",
    "print(\"Valores nulos restantes:\")\n",
    "print(df_game_filtrado2.isnull().sum())"
   ]
  },
  {
   "cell_type": "code",
   "execution_count": 48,
   "metadata": {},
   "outputs": [
    {
     "name": "stdout",
     "output_type": "stream",
     "text": [
      "<class 'pandas.core.frame.DataFrame'>\n",
      "Index: 2041 entries, 59255 to 65695\n",
      "Data columns (total 55 columns):\n",
      " #   Column                  Non-Null Count  Dtype         \n",
      "---  ------                  --------------  -----         \n",
      " 0   season_id               2041 non-null   int64         \n",
      " 1   team_id_home            2041 non-null   int64         \n",
      " 2   team_abbreviation_home  2041 non-null   object        \n",
      " 3   team_name_home          2041 non-null   object        \n",
      " 4   game_id                 2041 non-null   int64         \n",
      " 5   game_date               2041 non-null   datetime64[ns]\n",
      " 6   matchup_home            2041 non-null   object        \n",
      " 7   wl_home                 2041 non-null   object        \n",
      " 8   min                     2041 non-null   int64         \n",
      " 9   fgm_home                2041 non-null   float64       \n",
      " 10  fga_home                2041 non-null   float64       \n",
      " 11  fg_pct_home             2041 non-null   float64       \n",
      " 12  fg3m_home               2041 non-null   float64       \n",
      " 13  fg3a_home               2041 non-null   float64       \n",
      " 14  fg3_pct_home            2041 non-null   float64       \n",
      " 15  ftm_home                2041 non-null   float64       \n",
      " 16  fta_home                2041 non-null   float64       \n",
      " 17  ft_pct_home             2041 non-null   float64       \n",
      " 18  oreb_home               2041 non-null   float64       \n",
      " 19  dreb_home               2041 non-null   float64       \n",
      " 20  reb_home                2041 non-null   float64       \n",
      " 21  ast_home                2041 non-null   float64       \n",
      " 22  stl_home                2041 non-null   float64       \n",
      " 23  blk_home                2041 non-null   float64       \n",
      " 24  tov_home                2041 non-null   float64       \n",
      " 25  pf_home                 2041 non-null   float64       \n",
      " 26  pts_home                2041 non-null   float64       \n",
      " 27  plus_minus_home         2041 non-null   int64         \n",
      " 28  video_available_home    2041 non-null   int64         \n",
      " 29  team_id_away            2041 non-null   int64         \n",
      " 30  team_abbreviation_away  2041 non-null   object        \n",
      " 31  team_name_away          2041 non-null   object        \n",
      " 32  matchup_away            2041 non-null   object        \n",
      " 33  wl_away                 2041 non-null   object        \n",
      " 34  fgm_away                2041 non-null   float64       \n",
      " 35  fga_away                2041 non-null   float64       \n",
      " 36  fg_pct_away             2041 non-null   float64       \n",
      " 37  fg3m_away               2041 non-null   float64       \n",
      " 38  fg3a_away               2041 non-null   float64       \n",
      " 39  fg3_pct_away            2041 non-null   float64       \n",
      " 40  ftm_away                2041 non-null   float64       \n",
      " 41  fta_away                2041 non-null   float64       \n",
      " 42  ft_pct_away             2041 non-null   float64       \n",
      " 43  oreb_away               2041 non-null   float64       \n",
      " 44  dreb_away               2041 non-null   float64       \n",
      " 45  reb_away                2041 non-null   float64       \n",
      " 46  ast_away                2041 non-null   float64       \n",
      " 47  stl_away                2041 non-null   float64       \n",
      " 48  blk_away                2041 non-null   float64       \n",
      " 49  tov_away                2041 non-null   float64       \n",
      " 50  pf_away                 2041 non-null   float64       \n",
      " 51  pts_away                2041 non-null   float64       \n",
      " 52  plus_minus_away         2041 non-null   int64         \n",
      " 53  video_available_away    2041 non-null   int64         \n",
      " 54  season_type             2041 non-null   object        \n",
      "dtypes: datetime64[ns](1), float64(36), int64(9), object(9)\n",
      "memory usage: 892.9+ KB\n"
     ]
    }
   ],
   "source": [
    "df_game_filtrado2.info()"
   ]
  },
  {
   "cell_type": "markdown",
   "metadata": {},
   "source": [
    "Vamos a chequear y ajustar los formatos de texto de las columnas"
   ]
  },
  {
   "cell_type": "code",
   "execution_count": 49,
   "metadata": {},
   "outputs": [],
   "source": [
    "# Para las columnas con decimales, indicamos que redondee a 2 decimales:\n",
    "\n",
    "#df_game_filtrado2['new_recovered'] = df_game_filtrado2['new_recovered'].round(2)"
   ]
  },
  {
   "cell_type": "markdown",
   "metadata": {},
   "source": [
    "Ajustamos los formatos de las columnas con numeros enteros"
   ]
  },
  {
   "cell_type": "code",
   "execution_count": 51,
   "metadata": {},
   "outputs": [
    {
     "name": "stderr",
     "output_type": "stream",
     "text": [
      "C:\\Users\\Maria\\AppData\\Local\\Temp\\ipykernel_10088\\4107922953.py:11: SettingWithCopyWarning: \n",
      "A value is trying to be set on a copy of a slice from a DataFrame.\n",
      "Try using .loc[row_indexer,col_indexer] = value instead\n",
      "\n",
      "See the caveats in the documentation: https://pandas.pydata.org/pandas-docs/stable/user_guide/indexing.html#returning-a-view-versus-a-copy\n",
      "  df_game_filtrado2[columns_to_convert_home] = df_game_filtrado2[columns_to_convert_home].astype(int)\n"
     ]
    }
   ],
   "source": [
    "# Procedemos a asignar el tipo de dato entero a algunas columnas:\n",
    "\n",
    "# Lista de columnas a convertir\n",
    "columns_to_convert_home = [\n",
    "    'fgm_home', 'fga_home', 'fg3m_home', 'fg3a_home', 'ftm_home', 'fta_home', \n",
    "    'oreb_home', 'dreb_home', 'reb_home', 'ast_home', 'stl_home', 'blk_home', \n",
    "    'tov_home', 'pf_home', 'pts_home'\n",
    "]\n",
    "\n",
    "# Convertir cada columna a int\n",
    "df_game_filtrado2[columns_to_convert_home] = df_game_filtrado2[columns_to_convert_home].astype(int)"
   ]
  },
  {
   "cell_type": "code",
   "execution_count": 52,
   "metadata": {},
   "outputs": [
    {
     "name": "stdout",
     "output_type": "stream",
     "text": [
      "<class 'pandas.core.frame.DataFrame'>\n",
      "Index: 2041 entries, 59255 to 65695\n",
      "Data columns (total 55 columns):\n",
      " #   Column                  Non-Null Count  Dtype         \n",
      "---  ------                  --------------  -----         \n",
      " 0   season_id               2041 non-null   int64         \n",
      " 1   team_id_home            2041 non-null   int64         \n",
      " 2   team_abbreviation_home  2041 non-null   object        \n",
      " 3   team_name_home          2041 non-null   object        \n",
      " 4   game_id                 2041 non-null   int64         \n",
      " 5   game_date               2041 non-null   datetime64[ns]\n",
      " 6   matchup_home            2041 non-null   object        \n",
      " 7   wl_home                 2041 non-null   object        \n",
      " 8   min                     2041 non-null   int64         \n",
      " 9   fgm_home                2041 non-null   int64         \n",
      " 10  fga_home                2041 non-null   int64         \n",
      " 11  fg_pct_home             2041 non-null   float64       \n",
      " 12  fg3m_home               2041 non-null   int64         \n",
      " 13  fg3a_home               2041 non-null   int64         \n",
      " 14  fg3_pct_home            2041 non-null   float64       \n",
      " 15  ftm_home                2041 non-null   int64         \n",
      " 16  fta_home                2041 non-null   int64         \n",
      " 17  ft_pct_home             2041 non-null   float64       \n",
      " 18  oreb_home               2041 non-null   int64         \n",
      " 19  dreb_home               2041 non-null   int64         \n",
      " 20  reb_home                2041 non-null   int64         \n",
      " 21  ast_home                2041 non-null   int64         \n",
      " 22  stl_home                2041 non-null   int64         \n",
      " 23  blk_home                2041 non-null   int64         \n",
      " 24  tov_home                2041 non-null   int64         \n",
      " 25  pf_home                 2041 non-null   int64         \n",
      " 26  pts_home                2041 non-null   int64         \n",
      " 27  plus_minus_home         2041 non-null   int64         \n",
      " 28  video_available_home    2041 non-null   int64         \n",
      " 29  team_id_away            2041 non-null   int64         \n",
      " 30  team_abbreviation_away  2041 non-null   object        \n",
      " 31  team_name_away          2041 non-null   object        \n",
      " 32  matchup_away            2041 non-null   object        \n",
      " 33  wl_away                 2041 non-null   object        \n",
      " 34  fgm_away                2041 non-null   float64       \n",
      " 35  fga_away                2041 non-null   float64       \n",
      " 36  fg_pct_away             2041 non-null   float64       \n",
      " 37  fg3m_away               2041 non-null   float64       \n",
      " 38  fg3a_away               2041 non-null   float64       \n",
      " 39  fg3_pct_away            2041 non-null   float64       \n",
      " 40  ftm_away                2041 non-null   float64       \n",
      " 41  fta_away                2041 non-null   float64       \n",
      " 42  ft_pct_away             2041 non-null   float64       \n",
      " 43  oreb_away               2041 non-null   float64       \n",
      " 44  dreb_away               2041 non-null   float64       \n",
      " 45  reb_away                2041 non-null   float64       \n",
      " 46  ast_away                2041 non-null   float64       \n",
      " 47  stl_away                2041 non-null   float64       \n",
      " 48  blk_away                2041 non-null   float64       \n",
      " 49  tov_away                2041 non-null   float64       \n",
      " 50  pf_away                 2041 non-null   float64       \n",
      " 51  pts_away                2041 non-null   float64       \n",
      " 52  plus_minus_away         2041 non-null   int64         \n",
      " 53  video_available_away    2041 non-null   int64         \n",
      " 54  season_type             2041 non-null   object        \n",
      "dtypes: datetime64[ns](1), float64(21), int64(24), object(9)\n",
      "memory usage: 892.9+ KB\n"
     ]
    }
   ],
   "source": [
    "df_game_filtrado2.info()"
   ]
  },
  {
   "cell_type": "code",
   "execution_count": 53,
   "metadata": {},
   "outputs": [
    {
     "name": "stderr",
     "output_type": "stream",
     "text": [
      "C:\\Users\\Maria\\AppData\\Local\\Temp\\ipykernel_10088\\3199151192.py:11: SettingWithCopyWarning: \n",
      "A value is trying to be set on a copy of a slice from a DataFrame.\n",
      "Try using .loc[row_indexer,col_indexer] = value instead\n",
      "\n",
      "See the caveats in the documentation: https://pandas.pydata.org/pandas-docs/stable/user_guide/indexing.html#returning-a-view-versus-a-copy\n",
      "  df_game_filtrado2[columns_to_convert_away] = df_game_filtrado2[columns_to_convert_away].astype(int)\n"
     ]
    }
   ],
   "source": [
    "# Procedemos a asignar el tipo de dato entero a algunas columnas:\n",
    "\n",
    "# Lista de columnas a convertir\n",
    "columns_to_convert_away = [\n",
    "    'fgm_away', 'fga_away', 'fg3m_away', 'fg3a_away', 'ftm_away', 'fta_away', \n",
    "    'oreb_away', 'dreb_away', 'reb_away', 'ast_away', 'stl_away', 'blk_away', \n",
    "    'tov_away', 'pf_away', 'pts_away'\n",
    "]\n",
    "\n",
    "# Convertir cada columna a int\n",
    "df_game_filtrado2[columns_to_convert_away] = df_game_filtrado2[columns_to_convert_away].astype(int)"
   ]
  },
  {
   "cell_type": "code",
   "execution_count": 54,
   "metadata": {},
   "outputs": [
    {
     "name": "stdout",
     "output_type": "stream",
     "text": [
      "<class 'pandas.core.frame.DataFrame'>\n",
      "Index: 2041 entries, 59255 to 65695\n",
      "Data columns (total 55 columns):\n",
      " #   Column                  Non-Null Count  Dtype         \n",
      "---  ------                  --------------  -----         \n",
      " 0   season_id               2041 non-null   int64         \n",
      " 1   team_id_home            2041 non-null   int64         \n",
      " 2   team_abbreviation_home  2041 non-null   object        \n",
      " 3   team_name_home          2041 non-null   object        \n",
      " 4   game_id                 2041 non-null   int64         \n",
      " 5   game_date               2041 non-null   datetime64[ns]\n",
      " 6   matchup_home            2041 non-null   object        \n",
      " 7   wl_home                 2041 non-null   object        \n",
      " 8   min                     2041 non-null   int64         \n",
      " 9   fgm_home                2041 non-null   int64         \n",
      " 10  fga_home                2041 non-null   int64         \n",
      " 11  fg_pct_home             2041 non-null   float64       \n",
      " 12  fg3m_home               2041 non-null   int64         \n",
      " 13  fg3a_home               2041 non-null   int64         \n",
      " 14  fg3_pct_home            2041 non-null   float64       \n",
      " 15  ftm_home                2041 non-null   int64         \n",
      " 16  fta_home                2041 non-null   int64         \n",
      " 17  ft_pct_home             2041 non-null   float64       \n",
      " 18  oreb_home               2041 non-null   int64         \n",
      " 19  dreb_home               2041 non-null   int64         \n",
      " 20  reb_home                2041 non-null   int64         \n",
      " 21  ast_home                2041 non-null   int64         \n",
      " 22  stl_home                2041 non-null   int64         \n",
      " 23  blk_home                2041 non-null   int64         \n",
      " 24  tov_home                2041 non-null   int64         \n",
      " 25  pf_home                 2041 non-null   int64         \n",
      " 26  pts_home                2041 non-null   int64         \n",
      " 27  plus_minus_home         2041 non-null   int64         \n",
      " 28  video_available_home    2041 non-null   int64         \n",
      " 29  team_id_away            2041 non-null   int64         \n",
      " 30  team_abbreviation_away  2041 non-null   object        \n",
      " 31  team_name_away          2041 non-null   object        \n",
      " 32  matchup_away            2041 non-null   object        \n",
      " 33  wl_away                 2041 non-null   object        \n",
      " 34  fgm_away                2041 non-null   int64         \n",
      " 35  fga_away                2041 non-null   int64         \n",
      " 36  fg_pct_away             2041 non-null   float64       \n",
      " 37  fg3m_away               2041 non-null   int64         \n",
      " 38  fg3a_away               2041 non-null   int64         \n",
      " 39  fg3_pct_away            2041 non-null   float64       \n",
      " 40  ftm_away                2041 non-null   int64         \n",
      " 41  fta_away                2041 non-null   int64         \n",
      " 42  ft_pct_away             2041 non-null   float64       \n",
      " 43  oreb_away               2041 non-null   int64         \n",
      " 44  dreb_away               2041 non-null   int64         \n",
      " 45  reb_away                2041 non-null   int64         \n",
      " 46  ast_away                2041 non-null   int64         \n",
      " 47  stl_away                2041 non-null   int64         \n",
      " 48  blk_away                2041 non-null   int64         \n",
      " 49  tov_away                2041 non-null   int64         \n",
      " 50  pf_away                 2041 non-null   int64         \n",
      " 51  pts_away                2041 non-null   int64         \n",
      " 52  plus_minus_away         2041 non-null   int64         \n",
      " 53  video_available_away    2041 non-null   int64         \n",
      " 54  season_type             2041 non-null   object        \n",
      "dtypes: datetime64[ns](1), float64(6), int64(39), object(9)\n",
      "memory usage: 892.9+ KB\n"
     ]
    }
   ],
   "source": [
    "df_game_filtrado2.info()"
   ]
  },
  {
   "cell_type": "code",
   "execution_count": 55,
   "metadata": {},
   "outputs": [
    {
     "name": "stdout",
     "output_type": "stream",
     "text": [
      "Index([], dtype='object')\n"
     ]
    }
   ],
   "source": [
    "# Verificar valores nulos restantes en todo el DataFrame\n",
    "\n",
    "Cant_Column_Null = df_game_filtrado2.isna().sum()\n",
    "\n",
    "Solo_Column_Con_Nulos = Cant_Column_Null[Cant_Column_Null>0].index\n",
    "print(Solo_Column_Con_Nulos)"
   ]
  },
  {
   "cell_type": "markdown",
   "metadata": {},
   "source": [
    "Ajustamos el formato de las columnas con valores decimales (porcentajes)"
   ]
  },
  {
   "cell_type": "code",
   "execution_count": 57,
   "metadata": {},
   "outputs": [
    {
     "name": "stderr",
     "output_type": "stream",
     "text": [
      "C:\\Users\\Maria\\AppData\\Local\\Temp\\ipykernel_10088\\815469132.py:10: SettingWithCopyWarning: \n",
      "A value is trying to be set on a copy of a slice from a DataFrame.\n",
      "Try using .loc[row_indexer,col_indexer] = value instead\n",
      "\n",
      "See the caveats in the documentation: https://pandas.pydata.org/pandas-docs/stable/user_guide/indexing.html#returning-a-view-versus-a-copy\n",
      "  df_game_filtrado2[columns_to_convert_pct] = df_game_filtrado2[columns_to_convert_pct].astype(float).round(4)\n"
     ]
    }
   ],
   "source": [
    "# Procedemos a asignar el tipo de dato decimal a algunas columnas:\n",
    "\n",
    "# Lista de columnas a convertir\n",
    "columns_to_convert_pct = [\n",
    "    'fg_pct_home', 'fg3_pct_home', 'ft_pct_home', 'fg_pct_away','fg3_pct_away', 'ft_pct_away'\n",
    "]\n",
    "\n",
    "\n",
    "# Formatear las columnas a 4 decimales como números (sin convertir a texto)\n",
    "df_game_filtrado2[columns_to_convert_pct] = df_game_filtrado2[columns_to_convert_pct].astype(float).round(4)"
   ]
  },
  {
   "cell_type": "code",
   "execution_count": 58,
   "metadata": {},
   "outputs": [
    {
     "name": "stdout",
     "output_type": "stream",
     "text": [
      "       fg_pct_home  fg3_pct_home  ft_pct_home  fg_pct_away  fg3_pct_away  \\\n",
      "59255        0.433         0.297        0.714        0.391         0.192   \n",
      "59256        0.442         0.269        0.944        0.363         0.270   \n",
      "59257        0.430         0.440        0.724        0.429         0.316   \n",
      "59259        0.398         0.286        0.833        0.379         0.333   \n",
      "59260        0.455         0.364        0.774        0.456         0.278   \n",
      "\n",
      "       ft_pct_away  \n",
      "59255        0.609  \n",
      "59256        0.649  \n",
      "59257        0.889  \n",
      "59259        0.786  \n",
      "59260        0.833  \n"
     ]
    }
   ],
   "source": [
    "print(df_game_filtrado2[columns_to_convert_pct].head())"
   ]
  },
  {
   "cell_type": "code",
   "execution_count": 54,
   "metadata": {},
   "outputs": [
    {
     "name": "stdout",
     "output_type": "stream",
     "text": [
      "       season_id  team_id_home  team_abbreviation_home  team_name_home  \\\n",
      "count       8.00  8.000000e+00                    4.00            4.00   \n",
      "mean    16296.15  9.991658e+08                  512.50          512.50   \n",
      "std     13393.05  6.834543e+08                 1019.00         1019.00   \n",
      "min         8.00  8.000000e+00                    1.00            1.00   \n",
      "25%      8385.79  5.591763e+08                    3.25            3.25   \n",
      "50%     15695.72  1.207960e+09                    4.00            4.00   \n",
      "75%     22111.26  1.610613e+09                  513.25          513.25   \n",
      "max     42022.00  1.610613e+09                 2041.00         2041.00   \n",
      "\n",
      "           game_id  game_date  matchup_home  wl_home      min  fgm_home  ...  \\\n",
      "count         8.00        4.0          4.00     4.00     8.00      8.00  ...   \n",
      "mean   16096841.42      514.0        512.50   512.50   487.75    396.57  ...   \n",
      "std    13750642.29     1018.0       1019.00  1019.00   662.56    706.87  ...   \n",
      "min           8.00        1.0          1.00     1.00     7.63      5.27  ...   \n",
      "25%     7864950.43        5.5          3.25     3.25   182.00     26.75  ...   \n",
      "50%    15809307.62        7.0          4.00     4.00   253.22     44.88  ...   \n",
      "75%    22092199.72      515.5        513.25   513.25   499.15    392.10  ...   \n",
      "max    42200405.00     2041.0       2041.00  2041.00  2041.00   2041.00  ...   \n",
      "\n",
      "       reb_away  ast_away  stl_away  blk_away  tov_away  pf_away  pts_away  \\\n",
      "count      8.00      8.00      8.00      8.00      8.00     8.00      8.00   \n",
      "mean     398.08    389.30    381.59    380.52    384.90   387.68    427.68   \n",
      "std      705.99    711.15    715.79    716.44    713.78   712.11    689.66   \n",
      "min        6.66      4.98      0.00      0.00      3.00     4.32      8.00   \n",
      "25%       28.44     15.12      6.57      4.40      8.93    13.62     74.34   \n",
      "50%       48.26     27.38      9.75      8.00     17.14    23.12    118.29   \n",
      "75%      393.84    384.09    375.84    374.60    379.30   382.21    427.09   \n",
      "max     2041.00   2041.00   2041.00   2041.00   2041.00  2041.00   2041.00   \n",
      "\n",
      "       plus_minus_away  video_available_away  season_type  \n",
      "count             8.00                  8.00         4.00  \n",
      "mean            371.98                378.65       512.50  \n",
      "std             722.29                717.59      1019.00  \n",
      "min             -73.00                  0.00         1.00  \n",
      "25%               0.96                  1.00         3.25  \n",
      "50%              16.52                  4.50         4.00  \n",
      "75%             371.18                372.24       513.25  \n",
      "max            2041.00               2041.00      2041.00  \n",
      "\n",
      "[8 rows x 55 columns]\n"
     ]
    }
   ],
   "source": [
    "#Generar estadísticas descriptivas para todas las columnas\n",
    "df_game_filtrado_check = df_game_filtrado2.describe(include='all')\n",
    "\n",
    "# Redondear los valores numéricos a 2 decimales\n",
    "df_game_filtrado_check = df_game_filtrado_check.round(2)\n",
    "\n",
    "# Mostrar el DataFrame ajustado\n",
    "print(df_game_filtrado_check)"
   ]
  },
  {
   "cell_type": "code",
   "execution_count": 59,
   "metadata": {},
   "outputs": [
    {
     "name": "stdout",
     "output_type": "stream",
     "text": [
      "Archivo guardado exitosamente como 'GameFiltrado.csv'\n"
     ]
    }
   ],
   "source": [
    "# Guardar los datos filtrados en un archivo con el nombre GameFiltrado.csv a fin de poder utilizarlo luego\n",
    "\n",
    "# Guardar el archivo con un separador decimal compatible con tu configuración regional\n",
    "df_game_filtrado2.to_csv('GameFiltrado.csv', index=False, float_format=\"%.4f\")\n",
    "\n",
    "# Confirmación\n",
    "print(\"Archivo guardado exitosamente como 'GameFiltrado.csv'\")"
   ]
  },
  {
   "cell_type": "markdown",
   "metadata": {},
   "source": [
    "# Generar estadísticas descriptivas para todas las columnas\n",
    "descripcion_df = df_relleno2.describe(include='all')\n",
    "\n",
    "# Redondear los valores numéricos a 2 decimales\n",
    "descripcion_df = descripcion_df.round(2)\n",
    "\n",
    "# Mostrar el DataFrame ajustado\n",
    "print(descripcion_df)"
   ]
  },
  {
   "cell_type": "markdown",
   "metadata": {},
   "source": [
    "# 11 - Comparación con pandas directamente\n",
    "print(\"\\nValidación usando pandas.describe():\")\n",
    "print(df_relleno2.describe())"
   ]
  }
 ],
 "metadata": {
  "kernelspec": {
   "display_name": "Python 3",
   "language": "python",
   "name": "python3"
  },
  "language_info": {
   "codemirror_mode": {
    "name": "ipython",
    "version": 3
   },
   "file_extension": ".py",
   "mimetype": "text/x-python",
   "name": "python",
   "nbconvert_exporter": "python",
   "pygments_lexer": "ipython3",
   "version": "3.13.0"
  }
 },
 "nbformat": 4,
 "nbformat_minor": 2
}
