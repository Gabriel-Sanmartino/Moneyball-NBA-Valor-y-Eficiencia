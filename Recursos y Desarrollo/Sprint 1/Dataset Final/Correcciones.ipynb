{
 "cells": [
  {
   "cell_type": "code",
   "execution_count": 1,
   "metadata": {},
   "outputs": [],
   "source": [
    "import pandas as pd\n",
    "import numpy as np"
   ]
  },
  {
   "cell_type": "code",
   "execution_count": 2,
   "metadata": {},
   "outputs": [],
   "source": [
    "df_stats = pd.read_csv('NBA_Player_Stats_Advanced_Combined_Filtrado.csv')"
   ]
  },
  {
   "cell_type": "code",
   "execution_count": 3,
   "metadata": {},
   "outputs": [],
   "source": [
    "\n",
    "\n",
    "# Agregar una nueva columna 'id_stats' con una serie incremental\n",
    "df_stats['id_stats'] = range(1, len(df_stats) + 1)\n",
    "\n",
    "# Ahora puedes establecer la columna 'id_stats' como clave primaria\n",
    "df_stats.set_index('id_stats', inplace=True)"
   ]
  },
  {
   "cell_type": "code",
   "execution_count": 4,
   "metadata": {},
   "outputs": [],
   "source": [
    "df = pd.read_csv('TeamOriginal.csv')"
   ]
  },
  {
   "cell_type": "code",
   "execution_count": 5,
   "metadata": {},
   "outputs": [],
   "source": [
    "# Renombrar columna id\n",
    "df.rename(columns={'id': 'team_id'}, inplace=True)"
   ]
  },
  {
   "cell_type": "code",
   "execution_count": 6,
   "metadata": {},
   "outputs": [],
   "source": [
    "# Reemplazar los valores en la columna 'Team'\n",
    "df_stats['Team'] = df_stats['Team'].replace({'PHO': 'PHX', 'CHO': 'CHA', 'BRK': 'BKN'})"
   ]
  },
  {
   "cell_type": "code",
   "execution_count": 7,
   "metadata": {},
   "outputs": [
    {
     "name": "stdout",
     "output_type": "stream",
     "text": [
      "   Rk              Player  Age Team Pos   G  GS    MP   PER    TS%  ...  BPM  \\\n",
      "0   5         Paul George   28  OKC  SF  77  77  2841  23.3  0.583  ...  7.2   \n",
      "1  12        Steven Adams   25  OKC   C  80  80  2669  18.5  0.591  ...  1.1   \n",
      "2  16   Russell Westbrook   30  OKC  PG  73  73  2630  21.1  0.501  ...  5.2   \n",
      "3  19        Jerami Grant   24  OKC  PF  80  77  2612  13.8  0.592  ...  0.2   \n",
      "4  29  Karl-Anthony Towns   23  MIN   C  77  77  2545  26.3  0.622  ...  6.0   \n",
      "\n",
      "   VORP             Awards  Player-additional  Temporada       id  \\\n",
      "0   6.6  MVP-3DPOY-3ASNBA1          georgpa01       2018   202331   \n",
      "1   2.1                  0          adamsst01       2018   203500   \n",
      "2   4.7       MVP-10ASNBA3          westbru01       2018   201566   \n",
      "3   1.5                  0          grantje01       2018   203924   \n",
      "4   5.1                 AS          townska01       2018  1626157   \n",
      "\n",
      "            Player_Temporada     Salario  abbreviation       team_id  \n",
      "0         Paul George - 2018  30560700.0           OKC  1.610613e+09  \n",
      "1        Steven Adams - 2018  24157304.0           OKC  1.610613e+09  \n",
      "2   Russell Westbrook - 2018  35665000.0           OKC  1.610613e+09  \n",
      "3        Jerami Grant - 2018   8333333.0           OKC  1.610613e+09  \n",
      "4  Karl-Anthony Towns - 2018   7839435.0           MIN  1.610613e+09  \n",
      "\n",
      "[5 rows x 36 columns]\n"
     ]
    }
   ],
   "source": [
    "# Realizar un merge para asignar 'team_id' de teamFiltrado.csv a df_Stats_adv_filt_2018\n",
    "\n",
    "df_stats = df_stats.merge(\n",
    "    df[['abbreviation', 'team_id']],  # Selecciona columnas relevantes\n",
    "    left_on='Team',  # Columna en df_Stats_adv_filt_2018\n",
    "    right_on='abbreviation',  # Columna en team\n",
    "    how='left'  # Combinar mediante un LEFT JOIN para mantener todas las filas de df_Stats_adv_filt_2018\n",
    ")\n",
    "\n",
    "# Verificar el resultado\n",
    "print(df_stats.head())"
   ]
  },
  {
   "cell_type": "code",
   "execution_count": 8,
   "metadata": {},
   "outputs": [
    {
     "name": "stdout",
     "output_type": "stream",
     "text": [
      "Los registros con los valores '4TM', '3TM' y '2TM' en la columna 'Team' han sido eliminados.\n"
     ]
    }
   ],
   "source": [
    "# Definir los valores a eliminar\n",
    "valores_a_eliminar = ['4TM', '3TM', '2TM']\n",
    "\n",
    "# Filtrar el DataFrame para eliminar los registros con esos valores en la columna 'Team'\n",
    "df_stats_filtrado = df_stats[~df_stats['Team'].isin(valores_a_eliminar)]\n",
    "\n",
    "\n",
    "\n",
    "print(\"Los registros con los valores '4TM', '3TM' y '2TM' en la columna 'Team' han sido eliminados.\")\n"
   ]
  },
  {
   "cell_type": "code",
   "execution_count": 9,
   "metadata": {},
   "outputs": [
    {
     "name": "stdout",
     "output_type": "stream",
     "text": [
      "<class 'pandas.core.frame.DataFrame'>\n",
      "Index: 617 entries, 0 to 723\n",
      "Data columns (total 36 columns):\n",
      " #   Column             Non-Null Count  Dtype  \n",
      "---  ------             --------------  -----  \n",
      " 0   Rk                 617 non-null    int64  \n",
      " 1   Player             617 non-null    object \n",
      " 2   Age                617 non-null    int64  \n",
      " 3   Team               617 non-null    object \n",
      " 4   Pos                617 non-null    object \n",
      " 5   G                  617 non-null    int64  \n",
      " 6   GS                 617 non-null    int64  \n",
      " 7   MP                 617 non-null    int64  \n",
      " 8   PER                617 non-null    float64\n",
      " 9   TS%                617 non-null    float64\n",
      " 10  3PAr               617 non-null    float64\n",
      " 11  FTr                617 non-null    float64\n",
      " 12  ORB%               617 non-null    float64\n",
      " 13  DRB%               617 non-null    float64\n",
      " 14  TRB%               617 non-null    float64\n",
      " 15  AST%               617 non-null    float64\n",
      " 16  STL%               617 non-null    float64\n",
      " 17  BLK%               617 non-null    float64\n",
      " 18  TOV%               617 non-null    float64\n",
      " 19  USG%               617 non-null    float64\n",
      " 20  OWS                617 non-null    float64\n",
      " 21  DWS                617 non-null    float64\n",
      " 22  WS                 617 non-null    float64\n",
      " 23  WS/48              617 non-null    float64\n",
      " 24  OBPM               617 non-null    float64\n",
      " 25  DBPM               617 non-null    float64\n",
      " 26  BPM                617 non-null    float64\n",
      " 27  VORP               617 non-null    float64\n",
      " 28  Awards             617 non-null    object \n",
      " 29  Player-additional  617 non-null    object \n",
      " 30  Temporada          617 non-null    int64  \n",
      " 31  id                 617 non-null    int64  \n",
      " 32  Player_Temporada   617 non-null    object \n",
      " 33  Salario            420 non-null    float64\n",
      " 34  abbreviation       617 non-null    object \n",
      " 35  team_id            617 non-null    float64\n",
      "dtypes: float64(22), int64(7), object(7)\n",
      "memory usage: 178.4+ KB\n"
     ]
    }
   ],
   "source": [
    "df_stats_filtrado.info()\n"
   ]
  },
  {
   "cell_type": "code",
   "execution_count": 10,
   "metadata": {},
   "outputs": [
    {
     "name": "stderr",
     "output_type": "stream",
     "text": [
      "C:\\Users\\Usuario\\AppData\\Local\\Temp\\ipykernel_6980\\4011025067.py:2: SettingWithCopyWarning: \n",
      "A value is trying to be set on a copy of a slice from a DataFrame.\n",
      "Try using .loc[row_indexer,col_indexer] = value instead\n",
      "\n",
      "See the caveats in the documentation: https://pandas.pydata.org/pandas-docs/stable/user_guide/indexing.html#returning-a-view-versus-a-copy\n",
      "  df_stats_filtrado['team_id'] = df_stats_filtrado['team_id'].astype(int)\n"
     ]
    }
   ],
   "source": [
    "# Cambiar a formato entero la columna team id\n",
    "df_stats_filtrado['team_id'] = df_stats_filtrado['team_id'].astype(int)"
   ]
  },
  {
   "cell_type": "code",
   "execution_count": 11,
   "metadata": {},
   "outputs": [
    {
     "name": "stdout",
     "output_type": "stream",
     "text": [
      "<class 'pandas.core.frame.DataFrame'>\n",
      "Index: 617 entries, 0 to 723\n",
      "Data columns (total 36 columns):\n",
      " #   Column             Non-Null Count  Dtype  \n",
      "---  ------             --------------  -----  \n",
      " 0   Rk                 617 non-null    int64  \n",
      " 1   Player             617 non-null    object \n",
      " 2   Age                617 non-null    int64  \n",
      " 3   Team               617 non-null    object \n",
      " 4   Pos                617 non-null    object \n",
      " 5   G                  617 non-null    int64  \n",
      " 6   GS                 617 non-null    int64  \n",
      " 7   MP                 617 non-null    int64  \n",
      " 8   PER                617 non-null    float64\n",
      " 9   TS%                617 non-null    float64\n",
      " 10  3PAr               617 non-null    float64\n",
      " 11  FTr                617 non-null    float64\n",
      " 12  ORB%               617 non-null    float64\n",
      " 13  DRB%               617 non-null    float64\n",
      " 14  TRB%               617 non-null    float64\n",
      " 15  AST%               617 non-null    float64\n",
      " 16  STL%               617 non-null    float64\n",
      " 17  BLK%               617 non-null    float64\n",
      " 18  TOV%               617 non-null    float64\n",
      " 19  USG%               617 non-null    float64\n",
      " 20  OWS                617 non-null    float64\n",
      " 21  DWS                617 non-null    float64\n",
      " 22  WS                 617 non-null    float64\n",
      " 23  WS/48              617 non-null    float64\n",
      " 24  OBPM               617 non-null    float64\n",
      " 25  DBPM               617 non-null    float64\n",
      " 26  BPM                617 non-null    float64\n",
      " 27  VORP               617 non-null    float64\n",
      " 28  Awards             617 non-null    object \n",
      " 29  Player-additional  617 non-null    object \n",
      " 30  Temporada          617 non-null    int64  \n",
      " 31  id                 617 non-null    int64  \n",
      " 32  Player_Temporada   617 non-null    object \n",
      " 33  Salario            420 non-null    float64\n",
      " 34  abbreviation       617 non-null    object \n",
      " 35  team_id            617 non-null    int64  \n",
      "dtypes: float64(21), int64(8), object(7)\n",
      "memory usage: 178.4+ KB\n"
     ]
    }
   ],
   "source": [
    "df_stats_filtrado.info()\n"
   ]
  },
  {
   "cell_type": "code",
   "execution_count": 12,
   "metadata": {},
   "outputs": [],
   "source": [
    "# Guardar el DataFrame modificado en un nuevo archivo CSV\n",
    "df_stats_filtrado.to_csv('Player_stats_advanced.csv', index=False)"
   ]
  },
  {
   "cell_type": "markdown",
   "metadata": {},
   "source": [
    "# Other Stats"
   ]
  },
  {
   "cell_type": "code",
   "execution_count": 13,
   "metadata": {},
   "outputs": [],
   "source": [
    "df_other_stats = pd.read_csv('other_stats.csv')"
   ]
  },
  {
   "cell_type": "code",
   "execution_count": 18,
   "metadata": {},
   "outputs": [],
   "source": [
    "# Agregar una nueva columna 'id_other_stats' con una serie incremental\n",
    "df_other_stats['id_other_stats'] = range(1, len(df_other_stats) + 1)\n",
    "\n",
    "# Ahora puedes establecer la columna 'id_stats' como clave primaria\n",
    "df_other_stats.set_index('id_other_stats', inplace=True)"
   ]
  },
  {
   "cell_type": "code",
   "execution_count": 22,
   "metadata": {},
   "outputs": [
    {
     "name": "stdout",
     "output_type": "stream",
     "text": [
      "<class 'pandas.core.frame.DataFrame'>\n",
      "Index: 1736 entries, 1 to 1736\n",
      "Data columns (total 26 columns):\n",
      " #   Column                  Non-Null Count  Dtype \n",
      "---  ------                  --------------  ----- \n",
      " 0   game_id                 1736 non-null   int64 \n",
      " 1   league_id               1736 non-null   int64 \n",
      " 2   team_id_home            1736 non-null   int64 \n",
      " 3   team_abbreviation_home  1736 non-null   object\n",
      " 4   team_city_home          1736 non-null   object\n",
      " 5   pts_paint_home          1736 non-null   int64 \n",
      " 6   pts_2nd_chance_home     1736 non-null   int64 \n",
      " 7   pts_fb_home             1736 non-null   int64 \n",
      " 8   largest_lead_home       1736 non-null   int64 \n",
      " 9   lead_changes            1736 non-null   int64 \n",
      " 10  times_tied              1736 non-null   int64 \n",
      " 11  team_turnovers_home     1736 non-null   int64 \n",
      " 12  total_turnovers_home    1736 non-null   int64 \n",
      " 13  team_rebounds_home      1736 non-null   int64 \n",
      " 14  pts_off_to_home         1736 non-null   int64 \n",
      " 15  team_id_away            1736 non-null   int64 \n",
      " 16  team_abbreviation_away  1736 non-null   object\n",
      " 17  team_city_away          1736 non-null   object\n",
      " 18  pts_paint_away          1736 non-null   int64 \n",
      " 19  pts_2nd_chance_away     1736 non-null   int64 \n",
      " 20  pts_fb_away             1736 non-null   int64 \n",
      " 21  largest_lead_away       1736 non-null   int64 \n",
      " 22  team_turnovers_away     1736 non-null   int64 \n",
      " 23  total_turnovers_away    1736 non-null   int64 \n",
      " 24  team_rebounds_away      1736 non-null   int64 \n",
      " 25  pts_off_to_away         1736 non-null   int64 \n",
      "dtypes: int64(22), object(4)\n",
      "memory usage: 366.2+ KB\n"
     ]
    }
   ],
   "source": [
    "df_other_stats.info()\n"
   ]
  },
  {
   "cell_type": "code",
   "execution_count": 23,
   "metadata": {},
   "outputs": [],
   "source": [
    "# Guardar el DataFrame modificado en un nuevo archivo CSV\n",
    "df_other_stats.to_csv('other_stats1.csv', index=True)"
   ]
  },
  {
   "cell_type": "code",
   "execution_count": 25,
   "metadata": {},
   "outputs": [],
   "source": [
    "dfp = pd.read_csv('Player_stats_advanced.csv')"
   ]
  },
  {
   "cell_type": "code",
   "execution_count": 26,
   "metadata": {},
   "outputs": [],
   "source": [
    "# Agregar una nueva columna 'id_stats' con una serie incremental\n",
    "dfp['id_stats'] = range(1, len(dfp) + 1)\n",
    "\n",
    "# Ahora puedes establecer la columna 'id_stats' como clave primaria\n",
    "dfp.set_index('id_stats', inplace=True)"
   ]
  },
  {
   "cell_type": "code",
   "execution_count": 27,
   "metadata": {},
   "outputs": [],
   "source": [
    "# Guardar el DataFrame modificado en un nuevo archivo CSV\n",
    "dfp.to_csv('Player_stats_advanced.csv', index=True)"
   ]
  },
  {
   "cell_type": "markdown",
   "metadata": {},
   "source": [
    "# Datos de mercado\n"
   ]
  },
  {
   "cell_type": "code",
   "execution_count": 28,
   "metadata": {},
   "outputs": [],
   "source": [
    "df_datos_mercado = pd.read_csv('Datos_Mercado.csv')"
   ]
  },
  {
   "cell_type": "code",
   "execution_count": 29,
   "metadata": {},
   "outputs": [],
   "source": [
    "# Agregar una nueva columna 'id_dato' con una serie incremental\n",
    "df_datos_mercado['id_dato'] = range(1, len(df_datos_mercado) + 1)\n",
    "\n",
    "# Ahora puedes establecer la columna 'id_dato' como clave primaria\n",
    "df_datos_mercado.set_index('id_dato', inplace=True)\n",
    "\n"
   ]
  },
  {
   "cell_type": "code",
   "execution_count": 31,
   "metadata": {},
   "outputs": [
    {
     "name": "stdout",
     "output_type": "stream",
     "text": [
      "<class 'pandas.core.frame.DataFrame'>\n",
      "Index: 10 entries, 1 to 10\n",
      "Data columns (total 7 columns):\n",
      " #   Column          Non-Null Count  Dtype \n",
      "---  ------          --------------  ----- \n",
      " 0   Temporada       10 non-null     int64 \n",
      " 1   Id_equipo       10 non-null     int64 \n",
      " 2   Equipo          10 non-null     object\n",
      " 3   Valor ($M)      10 non-null     object\n",
      " 4   Ingresos ($M)   10 non-null     object\n",
      " 5   Ganancias ($M)  10 non-null     object\n",
      " 6   Mercado         10 non-null     object\n",
      "dtypes: int64(2), object(5)\n",
      "memory usage: 640.0+ bytes\n"
     ]
    }
   ],
   "source": [
    "df_datos_mercado.info()"
   ]
  },
  {
   "cell_type": "code",
   "execution_count": 34,
   "metadata": {},
   "outputs": [],
   "source": [
    "# Guardar el DataFrame modificado en un nuevo archivo CSV\n",
    "df_datos_mercado.to_csv('Datos_Mercado.csv', index=True)"
   ]
  },
  {
   "cell_type": "markdown",
   "metadata": {},
   "source": [
    "# Salario mas estadisticas de jugador:"
   ]
  },
  {
   "cell_type": "code",
   "execution_count": 1,
   "metadata": {},
   "outputs": [],
   "source": [
    "# Importar librerias\n",
    "import pandas as pd\n",
    "\n",
    "# Leer archivos\n",
    "df_salario = pd.read_csv('Salario_Jugadores.csv')\n",
    "\n",
    "df_estadisticas = pd.read_csv('Player_stats_advanced.csv')\n",
    "\n",
    "df_jugadores = pd.read_csv('player.csv')"
   ]
  },
  {
   "cell_type": "code",
   "execution_count": 7,
   "metadata": {},
   "outputs": [
    {
     "data": {
      "text/plain": [
       "array(['Paul George', 'Steven Adams', 'Russell Westbrook', 'Jerami Grant',\n",
       "       'Karl-Anthony Towns', 'Andrew Wiggins', 'Nikola Jokić',\n",
       "       'Jayson Tatum', 'Jamal Murray', 'Dennis Schröder', 'Kyrie Irving',\n",
       "       'Marcus Smart', 'Jimmy Butler', 'Kevin Knox', 'Marcus Morris',\n",
       "       'Wesley Matthews', 'Tim Hardaway Jr.', 'DeAndre Jordan',\n",
       "       'Dario Šarić', 'Damyean Dotson', 'Al Horford', 'Monte Morris',\n",
       "       'Terrance Ferguson', 'Jaylen Brown', 'Paul Millsap',\n",
       "       'Malik Beasley', 'Gordon Hayward', 'Terry Rozier', 'Josh Okogie',\n",
       "       'Mason Plumlee', 'Noah Vonleh', 'Taj Gibson', 'Enes Freedom',\n",
       "       'Gary Harris', 'Emmanuel Mudiay', 'Tyus Jones', 'Dennis Smith Jr.',\n",
       "       'Torrey Craig', 'Allonzo Trier', 'Derrick Rose',\n",
       "       'Mitchell Robinson', 'Juancho Hernangómez', 'Markieff Morris',\n",
       "       'Jeff Teague', 'Mario Hezonja', 'Robert Covington', 'Will Barton',\n",
       "       'Trey Burke', 'Trey Lyles', 'Anthony Tolliver', 'Nerlens Noel',\n",
       "       'Gorgui Dieng', 'Daniel Theis', 'Frank Ntilikina',\n",
       "       'Patrick Patterson', 'Aron Baynes', 'Luke Kornet', 'Lance Thomas',\n",
       "       'Abdel Nader', 'Timothé Luwawu-Cabarrot', 'Jerryd Bayless',\n",
       "       'Isaiah Canaan', 'Semi Ojeleye', 'Álex Abrines', 'Hamidou Diallo',\n",
       "       'Keita Bates-Diop', 'Greg Monroe', 'Courtney Lee', 'Kadeem Allen',\n",
       "       'Luol Deng', 'Raymond Felton', 'Brad Wanamaker', 'John Jenkins',\n",
       "       'Robert Williams', 'Henry Ellenson', 'Cameron Reynolds',\n",
       "       'Guerschon Yabusele', 'Deonte Burton', 'Isaiah Thomas',\n",
       "       'Ron Baker', 'C.J. Williams', 'Jared Terrell', 'James Nunnally',\n",
       "       'Tyler Lydon', 'Jarred Vanderbilt', 'Jawun Evans', 'Billy Garrett',\n",
       "       'Brandon Goodwin', 'P.J. Dozier', 'Mitch Creek', 'Nick Young',\n",
       "       'Thomas Welsh', 'Isaiah Hicks', 'R.J. Hunter',\n",
       "       'DeVaughn Akoon-Purcell', 'Donte Grantham', 'Tyler Davis',\n",
       "       'Shai Gilgeous-Alexander', 'Chris Paul', 'Julius Randle',\n",
       "       'Danilo Gallinari', 'Kemba Walker', 'RJ Barrett', 'Jarrett Culver',\n",
       "       \"D'Angelo Russell\", 'Maurice Harkless', 'Bobby Portis',\n",
       "       'Shabazz Napier', 'Elfrid Payton', 'Darius Bazley',\n",
       "       'Grant Williams', 'Treveon Graham', 'Michael Porter Jr.',\n",
       "       'Luguentz Dort', 'Jordan McRae', 'Reggie Bullock', 'Allen Crabbe',\n",
       "       'James Johnson', 'Jordan McLaughlin', 'Mike Muscala',\n",
       "       'Wayne Ellington', 'Troy Daniels', 'Jake Layman', 'Naz Reid',\n",
       "       'Kelan Martin', 'Javonte Green', 'Jacob Evans', 'PJ Dozier',\n",
       "       'Romeo Langford', 'Carsen Edwards', 'Jordan Bell', 'Jaylen Nowell',\n",
       "       'Vincent Poirier', 'Tremont Waters', 'Bol Bol', 'Andre Roberson',\n",
       "       'Devon Hall', 'Tyler Cook', 'Ignas Brazdeikis', 'Kevin Hervey',\n",
       "       'Vlatko Čančar', 'Tacko Fall', 'Justin Patton', 'Isaiah Roby',\n",
       "       'Anthony Edwards', 'Théo Maledon', 'Ricky Rubio',\n",
       "       'Jaden McDaniels', 'Kenrich Williams', 'Facundo Campazzo',\n",
       "       'Aaron Gordon', 'Svi Mykhailiuk', 'Tristan Thompson',\n",
       "       'Payton Pritchard', 'Evan Fournier', 'Alec Burks',\n",
       "       'Immanuel Quickley', 'JaMychal Green', 'Aleksej Pokusevski',\n",
       "       'Moses Brown', 'R.J. Hampton', 'Austin Rivers', 'Ty Jerome',\n",
       "       'Moritz Wagner', 'Tony Bradley', 'Obi Toppin', 'JaVale McGee',\n",
       "       'George Hill', 'Aaron Nesmith', 'Gary Clark', 'Justin Jackson',\n",
       "       'Isaiah Hartenstein', 'Zeke Nnaji', 'Josh Hall',\n",
       "       'Shaquille Harrison', 'Jaylen Hoard', 'Ed Davis', 'Gabriel Deck',\n",
       "       'Markus Howard', 'Darius Miller', 'Jabari Parker',\n",
       "       'Charlie Brown Jr.', 'Justin Robinson', 'Norvel Pelle',\n",
       "       'Theo Pinson', 'Jared Harper', 'Greg Whittington', 'Ashton Hagans',\n",
       "       'Derrick White', 'Jeff Green', 'Josh Giddey', 'Josh Richardson',\n",
       "       'Patrick Beverley', 'Tre Mann', 'Bones Hyland', 'Bryn Forbes',\n",
       "       'Aaron Wiggins', 'Taurean Prince', 'Jeremiah Robinson-Earl',\n",
       "       'Cam Reddish', 'Quentin Grimes', 'Danuel House Jr.',\n",
       "       'DeMarcus Cousins', 'Vit Krejci', 'Davon Reed', 'Derrick Favors',\n",
       "       'Jericho Sims', 'Lindy Waters III', 'Olivier Sarr',\n",
       "       'Miles McBride', 'Nathan Knight', 'Leandro Bolmaro',\n",
       "       'Georgios Kalaitzakis', 'Mamadi Diakite', 'Zavier Simpson',\n",
       "       'Sam Hauser', 'Paul Watson', 'Bruno Fernando', 'Melvin Frazier',\n",
       "       'Chris Silva', 'Ryan Arcidiacono', 'Rayjon Tucker', 'Malik Fitts',\n",
       "       'Brodric Thomas', 'James Ennis III', 'Nik Stauskas',\n",
       "       'Petr Cornelie', 'Juwan Morgan', 'Carlik Jones', 'Wayne Selden',\n",
       "       'McKinley Wright IV', 'Scotty Hopson', 'Rob Edwards', 'Feron Hunt',\n",
       "       'Matt Ryan', 'Joe Johnson', 'Tyler Hall', 'C.J. Miles',\n",
       "       'Matt Mooney', 'Josh Hart', 'Kentavious Caldwell-Pope',\n",
       "       'Jalen Brunson', 'Bruce Brown', 'Jalen Williams', 'Rudy Gobert',\n",
       "       'Mike Conley', 'Kyle Anderson', 'Malcolm Brogdon',\n",
       "       'Reggie Jackson', 'Isaiah Joe', 'Christian Braun', 'Thomas Bryant',\n",
       "       'Jaylin Williams', 'Nickeil Alexander-Walker', 'Eugene Omoruyi',\n",
       "       'Ousmane Dieng', 'Blake Griffin', 'Ish Smith', 'Luka Garza',\n",
       "       'Peyton Watson', 'Wendell Moore Jr.', 'A.J. Lawson', 'Josh Minott',\n",
       "       'Jared Butler', 'Jack White', 'JD Davison', 'Mfiondu Kabengele',\n",
       "       'Justin Champagnie', 'Trevor Keels'], dtype=object)"
      ]
     },
     "execution_count": 7,
     "metadata": {},
     "output_type": "execute_result"
    }
   ],
   "source": [
    "# Extraer los valores únicos de la columna 'Player' del df_estadisticas\n",
    "valores_unicos = df_estadisticas['Player'].unique()\n",
    "\n",
    "valores_unicos"
   ]
  },
  {
   "cell_type": "code",
   "execution_count": 6,
   "metadata": {},
   "outputs": [
    {
     "data": {
      "text/plain": [
       "Player\n",
       "Juancho Hernangómez    7\n",
       "Luke Kornet            7\n",
       "Greg Monroe            7\n",
       "Daniel Theis           6\n",
       "D'Angelo Russell       6\n",
       "                      ..\n",
       "Josh Minott            1\n",
       "Jack White             1\n",
       "JD Davison             1\n",
       "Mfiondu Kabengele      1\n",
       "Trevor Keels           1\n",
       "Name: count, Length: 269, dtype: int64"
      ]
     },
     "execution_count": 6,
     "metadata": {},
     "output_type": "execute_result"
    }
   ],
   "source": [
    "# Contar los valores únicos de la columna 'Player' \n",
    "conteo_valores_unicos = df_estadisticas['Player'].value_counts()\n",
    "\n",
    "conteo_valores_unicos"
   ]
  },
  {
   "cell_type": "code",
   "execution_count": 8,
   "metadata": {},
   "outputs": [
    {
     "name": "stdout",
     "output_type": "stream",
     "text": [
      "['Paul George', 'Steven Adams', 'Russell Westbrook', 'Jerami Grant', 'Karl-Anthony Towns', 'Andrew Wiggins', 'Nikola Jokić', 'Jayson Tatum', 'Jamal Murray', 'Dennis Schröder', 'Kyrie Irving', 'Marcus Smart', 'Jimmy Butler', 'Kevin Knox', 'Marcus Morris', 'Wesley Matthews', 'Tim Hardaway Jr.', 'DeAndre Jordan', 'Dario Šarić', 'Damyean Dotson', 'Al Horford', 'Monte Morris', 'Terrance Ferguson', 'Jaylen Brown', 'Paul Millsap', 'Malik Beasley', 'Gordon Hayward', 'Terry Rozier', 'Josh Okogie', 'Mason Plumlee', 'Noah Vonleh', 'Taj Gibson', 'Enes Freedom', 'Gary Harris', 'Emmanuel Mudiay', 'Tyus Jones', 'Dennis Smith Jr.', 'Torrey Craig', 'Allonzo Trier', 'Derrick Rose', 'Mitchell Robinson', 'Juancho Hernangómez', 'Markieff Morris', 'Jeff Teague', 'Mario Hezonja', 'Robert Covington', 'Will Barton', 'Trey Burke', 'Trey Lyles', 'Anthony Tolliver', 'Nerlens Noel', 'Gorgui Dieng', 'Daniel Theis', 'Frank Ntilikina', 'Patrick Patterson', 'Aron Baynes', 'Luke Kornet', 'Lance Thomas', 'Abdel Nader', 'Timothé Luwawu-Cabarrot', 'Jerryd Bayless', 'Isaiah Canaan', 'Semi Ojeleye', 'Álex Abrines', 'Hamidou Diallo', 'Keita Bates-Diop', 'Greg Monroe', 'Courtney Lee', 'Kadeem Allen', 'Luol Deng', 'Raymond Felton', 'Brad Wanamaker', 'John Jenkins', 'Robert Williams', 'Henry Ellenson', 'Cameron Reynolds', 'Guerschon Yabusele', 'Deonte Burton', 'Isaiah Thomas', 'Ron Baker', 'C.J. Williams', 'Jared Terrell', 'James Nunnally', 'Tyler Lydon', 'Jarred Vanderbilt', 'Jawun Evans', 'Billy Garrett', 'Brandon Goodwin', 'P.J. Dozier', 'Mitch Creek', 'Nick Young', 'Thomas Welsh', 'Isaiah Hicks', 'R.J. Hunter', 'DeVaughn Akoon-Purcell', 'Donte Grantham', 'Tyler Davis', 'Shai Gilgeous-Alexander', 'Chris Paul', 'Julius Randle', 'Danilo Gallinari', 'Kemba Walker', 'RJ Barrett', 'Jarrett Culver', \"D'Angelo Russell\", 'Maurice Harkless', 'Bobby Portis', 'Shabazz Napier', 'Elfrid Payton', 'Darius Bazley', 'Grant Williams', 'Treveon Graham', 'Michael Porter Jr.', 'Luguentz Dort', 'Jordan McRae', 'Reggie Bullock', 'Allen Crabbe', 'James Johnson', 'Jordan McLaughlin', 'Mike Muscala', 'Wayne Ellington', 'Troy Daniels', 'Jake Layman', 'Naz Reid', 'Kelan Martin', 'Javonte Green', 'Jacob Evans', 'PJ Dozier', 'Romeo Langford', 'Carsen Edwards', 'Jordan Bell', 'Jaylen Nowell', 'Vincent Poirier', 'Tremont Waters', 'Bol Bol', 'Andre Roberson', 'Devon Hall', 'Tyler Cook', 'Ignas Brazdeikis', 'Kevin Hervey', 'Vlatko Čančar', 'Tacko Fall', 'Justin Patton', 'Isaiah Roby', 'Anthony Edwards', 'Théo Maledon', 'Ricky Rubio', 'Jaden McDaniels', 'Kenrich Williams', 'Facundo Campazzo', 'Aaron Gordon', 'Svi Mykhailiuk', 'Tristan Thompson', 'Payton Pritchard', 'Evan Fournier', 'Alec Burks', 'Immanuel Quickley', 'JaMychal Green', 'Aleksej Pokusevski', 'Moses Brown', 'R.J. Hampton', 'Austin Rivers', 'Ty Jerome', 'Moritz Wagner', 'Tony Bradley', 'Obi Toppin', 'JaVale McGee', 'George Hill', 'Aaron Nesmith', 'Gary Clark', 'Justin Jackson', 'Isaiah Hartenstein', 'Zeke Nnaji', 'Josh Hall', 'Shaquille Harrison', 'Jaylen Hoard', 'Ed Davis', 'Gabriel Deck', 'Markus Howard', 'Darius Miller', 'Jabari Parker', 'Charlie Brown Jr.', 'Justin Robinson', 'Norvel Pelle', 'Theo Pinson', 'Jared Harper', 'Greg Whittington', 'Ashton Hagans', 'Derrick White', 'Jeff Green', 'Josh Giddey', 'Josh Richardson', 'Patrick Beverley', 'Tre Mann', 'Bones Hyland', 'Bryn Forbes', 'Aaron Wiggins', 'Taurean Prince', 'Jeremiah Robinson-Earl', 'Cam Reddish', 'Quentin Grimes', 'Danuel House Jr.', 'DeMarcus Cousins', 'Vit Krejci', 'Davon Reed', 'Derrick Favors', 'Jericho Sims', 'Lindy Waters III', 'Olivier Sarr', 'Miles McBride', 'Nathan Knight', 'Leandro Bolmaro', 'Georgios Kalaitzakis', 'Mamadi Diakite', 'Zavier Simpson', 'Sam Hauser', 'Paul Watson', 'Bruno Fernando', 'Melvin Frazier', 'Chris Silva', 'Ryan Arcidiacono', 'Rayjon Tucker', 'Malik Fitts', 'Brodric Thomas', 'James Ennis III', 'Nik Stauskas', 'Petr Cornelie', 'Juwan Morgan', 'Carlik Jones', 'Wayne Selden', 'McKinley Wright IV', 'Scotty Hopson', 'Rob Edwards', 'Feron Hunt', 'Matt Ryan', 'Joe Johnson', 'Tyler Hall', 'C.J. Miles', 'Matt Mooney', 'Josh Hart', 'Kentavious Caldwell-Pope', 'Jalen Brunson', 'Bruce Brown', 'Jalen Williams', 'Rudy Gobert', 'Mike Conley', 'Kyle Anderson', 'Malcolm Brogdon', 'Reggie Jackson', 'Isaiah Joe', 'Christian Braun', 'Thomas Bryant', 'Jaylin Williams', 'Nickeil Alexander-Walker', 'Eugene Omoruyi', 'Ousmane Dieng', 'Blake Griffin', 'Ish Smith', 'Luka Garza', 'Peyton Watson', 'Wendell Moore Jr.', 'A.J. Lawson', 'Josh Minott', 'Jared Butler', 'Jack White', 'JD Davison', 'Mfiondu Kabengele', 'Justin Champagnie', 'Trevor Keels']\n"
     ]
    }
   ],
   "source": [
    "# Convertir a lista\n",
    "lista_valores_unicos = list(valores_unicos)\n",
    "\n",
    "print(lista_valores_unicos)"
   ]
  },
  {
   "cell_type": "code",
   "execution_count": 9,
   "metadata": {},
   "outputs": [
    {
     "name": "stdout",
     "output_type": "stream",
     "text": [
      "Hay 227 nombres contenidos y 42 nombres faltantes.\n"
     ]
    }
   ],
   "source": [
    "# Verificar si los valores de lista_valores_unicos están en la columna 'Jugador' de df_salario\n",
    "jugadores_encontrados = df_salario[df_salario['Jugador'].isin(lista_valores_unicos)]['Jugador'].unique()\n",
    "jugadores_faltantes = set(lista_valores_unicos) - set(jugadores_encontrados)\n",
    "\n",
    "# Mensaje sobre los resultados\n",
    "if len(jugadores_faltantes) == 0:\n",
    "    mensaje = \"Todos los nombres de la lista están contenidos en la columna 'Jugador' del df_salario.\"\n",
    "else:\n",
    "    mensaje = f\"Hay {len(jugadores_encontrados)} nombres contenidos y {len(jugadores_faltantes)} nombres faltantes.\"\n",
    "\n",
    "print(mensaje)\n"
   ]
  },
  {
   "cell_type": "code",
   "execution_count": 10,
   "metadata": {},
   "outputs": [
    {
     "name": "stdout",
     "output_type": "stream",
     "text": [
      "Nombres faltantes:\n",
      "Jack White\n",
      "Eugene Omoruyi\n",
      "Feron Hunt\n",
      "Danuel House Jr.\n",
      "JD Davison\n",
      "Enes Freedom\n",
      "Tyler Hall\n",
      "Jeremiah Robinson-Earl\n",
      "Vlatko Čančar\n",
      "Wendell Moore Jr.\n",
      "McKinley Wright IV\n",
      "Cameron Reynolds\n",
      "Charlie Brown Jr.\n",
      "Lindy Waters III\n",
      "Álex Abrines\n",
      "Anthony Edwards\n",
      "Svi Mykhailiuk\n",
      "R.J. Hampton\n",
      "Dennis Smith Jr.\n",
      "A.J. Lawson\n",
      "Ish Smith\n",
      "Dario Šarić\n",
      "Devon Hall\n",
      "James Ennis III\n",
      "Isaiah Joe\n",
      "C.J. Miles\n",
      "Bones Hyland\n",
      "Jared Butler\n",
      "R.J. Hunter\n",
      "Nathan Knight\n",
      "Michael Porter Jr.\n",
      "Aaron Wiggins\n",
      "Jericho Sims\n",
      "Juancho Hernangómez\n",
      "Timothé Luwawu-Cabarrot\n",
      "Christian Braun\n",
      "P.J. Dozier\n",
      "Mamadi Diakite\n",
      "Théo Maledon\n",
      "C.J. Williams\n",
      "Tim Hardaway Jr.\n",
      "Maurice Harkless\n"
     ]
    }
   ],
   "source": [
    "# Verificar si los valores de lista_valores_unicos están en la columna 'Jugador' de df_salario\n",
    "jugadores_encontrados = df_salario[df_salario['Jugador'].isin(lista_valores_unicos)]['Jugador'].unique()\n",
    "jugadores_faltantes = set(lista_valores_unicos) - set(jugadores_encontrados)\n",
    "\n",
    "# Mostrar los nombres faltantes\n",
    "print(\"Nombres faltantes:\")\n",
    "for jugador in jugadores_faltantes:\n",
    "    print(jugador)\n"
   ]
  },
  {
   "cell_type": "code",
   "execution_count": 14,
   "metadata": {},
   "outputs": [
    {
     "ename": "KeyboardInterrupt",
     "evalue": "",
     "output_type": "error",
     "traceback": [
      "\u001b[1;31m---------------------------------------------------------------------------\u001b[0m",
      "\u001b[1;31mKeyboardInterrupt\u001b[0m                         Traceback (most recent call last)",
      "Cell \u001b[1;32mIn[14], line 13\u001b[0m\n\u001b[0;32m     10\u001b[0m     \u001b[38;5;28;01mreturn\u001b[39;00m coincidencias\n\u001b[0;32m     12\u001b[0m \u001b[38;5;66;03m# Encontrar coincidencias aproximadas en la columna 'Jugador' de df_salario\u001b[39;00m\n\u001b[1;32m---> 13\u001b[0m coincidencias \u001b[38;5;241m=\u001b[39m \u001b[43mencontrar_coincidencias\u001b[49m\u001b[43m(\u001b[49m\u001b[43mlista_valores_unicos\u001b[49m\u001b[43m,\u001b[49m\u001b[43m \u001b[49m\u001b[43mdf_salario\u001b[49m\u001b[43m[\u001b[49m\u001b[38;5;124;43m'\u001b[39;49m\u001b[38;5;124;43mJugador\u001b[39;49m\u001b[38;5;124;43m'\u001b[39;49m\u001b[43m]\u001b[49m\u001b[43m)\u001b[49m\n\u001b[0;32m     15\u001b[0m \u001b[38;5;66;03m# Mostrar los resultados\u001b[39;00m\n\u001b[0;32m     16\u001b[0m jugadores_encontrados \u001b[38;5;241m=\u001b[39m \u001b[38;5;28mlist\u001b[39m(coincidencias\u001b[38;5;241m.\u001b[39mvalues())\n",
      "Cell \u001b[1;32mIn[14], line 7\u001b[0m, in \u001b[0;36mencontrar_coincidencias\u001b[1;34m(lista, columna_df, umbral)\u001b[0m\n\u001b[0;32m      5\u001b[0m coincidencias \u001b[38;5;241m=\u001b[39m {}\n\u001b[0;32m      6\u001b[0m \u001b[38;5;28;01mfor\u001b[39;00m item \u001b[38;5;129;01min\u001b[39;00m lista:\n\u001b[1;32m----> 7\u001b[0m     mejor_coincidencia \u001b[38;5;241m=\u001b[39m \u001b[43mprocess\u001b[49m\u001b[38;5;241;43m.\u001b[39;49m\u001b[43mextractOne\u001b[49m\u001b[43m(\u001b[49m\u001b[43mitem\u001b[49m\u001b[43m,\u001b[49m\u001b[43m \u001b[49m\u001b[43mcolumna_df\u001b[49m\u001b[43m,\u001b[49m\u001b[43m \u001b[49m\u001b[43mscore_cutoff\u001b[49m\u001b[38;5;241;43m=\u001b[39;49m\u001b[43mumbral\u001b[49m\u001b[43m)\u001b[49m\n\u001b[0;32m      8\u001b[0m     \u001b[38;5;28;01mif\u001b[39;00m mejor_coincidencia:\n\u001b[0;32m      9\u001b[0m         coincidencias[item] \u001b[38;5;241m=\u001b[39m mejor_coincidencia[\u001b[38;5;241m0\u001b[39m]\n",
      "File \u001b[1;32mc:\\Users\\Usuario\\AppData\\Local\\Programs\\Python\\Python313\\Lib\\site-packages\\fuzzywuzzy\\process.py:220\u001b[0m, in \u001b[0;36mextractOne\u001b[1;34m(query, choices, processor, scorer, score_cutoff)\u001b[0m\n\u001b[0;32m    218\u001b[0m best_list \u001b[38;5;241m=\u001b[39m extractWithoutOrder(query, choices, processor, scorer, score_cutoff)\n\u001b[0;32m    219\u001b[0m \u001b[38;5;28;01mtry\u001b[39;00m:\n\u001b[1;32m--> 220\u001b[0m     \u001b[38;5;28;01mreturn\u001b[39;00m \u001b[38;5;28;43mmax\u001b[39;49m\u001b[43m(\u001b[49m\u001b[43mbest_list\u001b[49m\u001b[43m,\u001b[49m\u001b[43m \u001b[49m\u001b[43mkey\u001b[49m\u001b[38;5;241;43m=\u001b[39;49m\u001b[38;5;28;43;01mlambda\u001b[39;49;00m\u001b[43m \u001b[49m\u001b[43mi\u001b[49m\u001b[43m:\u001b[49m\u001b[43m \u001b[49m\u001b[43mi\u001b[49m\u001b[43m[\u001b[49m\u001b[38;5;241;43m1\u001b[39;49m\u001b[43m]\u001b[49m\u001b[43m)\u001b[49m\n\u001b[0;32m    221\u001b[0m \u001b[38;5;28;01mexcept\u001b[39;00m \u001b[38;5;167;01mValueError\u001b[39;00m:\n\u001b[0;32m    222\u001b[0m     \u001b[38;5;28;01mreturn\u001b[39;00m \u001b[38;5;28;01mNone\u001b[39;00m\n",
      "File \u001b[1;32mc:\\Users\\Usuario\\AppData\\Local\\Programs\\Python\\Python313\\Lib\\site-packages\\fuzzywuzzy\\process.py:110\u001b[0m, in \u001b[0;36mextractWithoutOrder\u001b[1;34m(query, choices, processor, scorer, score_cutoff)\u001b[0m\n\u001b[0;32m    108\u001b[0m \u001b[38;5;28;01mfor\u001b[39;00m key, choice \u001b[38;5;129;01min\u001b[39;00m choices\u001b[38;5;241m.\u001b[39mitems():\n\u001b[0;32m    109\u001b[0m     processed \u001b[38;5;241m=\u001b[39m pre_processor(processor(choice))\n\u001b[1;32m--> 110\u001b[0m     score \u001b[38;5;241m=\u001b[39m \u001b[43mscorer\u001b[49m\u001b[43m(\u001b[49m\u001b[43mprocessed_query\u001b[49m\u001b[43m,\u001b[49m\u001b[43m \u001b[49m\u001b[43mprocessed\u001b[49m\u001b[43m)\u001b[49m\n\u001b[0;32m    111\u001b[0m     \u001b[38;5;28;01mif\u001b[39;00m score \u001b[38;5;241m>\u001b[39m\u001b[38;5;241m=\u001b[39m score_cutoff:\n\u001b[0;32m    112\u001b[0m         \u001b[38;5;28;01myield\u001b[39;00m (choice, score, key)\n",
      "File \u001b[1;32mc:\\Users\\Usuario\\AppData\\Local\\Programs\\Python\\Python313\\Lib\\site-packages\\fuzzywuzzy\\fuzz.py:297\u001b[0m, in \u001b[0;36mWRatio\u001b[1;34m(s1, s2, force_ascii, full_process)\u001b[0m\n\u001b[0;32m    295\u001b[0m \u001b[38;5;28;01melse\u001b[39;00m:\n\u001b[0;32m    296\u001b[0m     tsor \u001b[38;5;241m=\u001b[39m token_sort_ratio(p1, p2, full_process\u001b[38;5;241m=\u001b[39m\u001b[38;5;28;01mFalse\u001b[39;00m) \u001b[38;5;241m*\u001b[39m unbase_scale\n\u001b[1;32m--> 297\u001b[0m     tser \u001b[38;5;241m=\u001b[39m \u001b[43mtoken_set_ratio\u001b[49m\u001b[43m(\u001b[49m\u001b[43mp1\u001b[49m\u001b[43m,\u001b[49m\u001b[43m \u001b[49m\u001b[43mp2\u001b[49m\u001b[43m,\u001b[49m\u001b[43m \u001b[49m\u001b[43mfull_process\u001b[49m\u001b[38;5;241;43m=\u001b[39;49m\u001b[38;5;28;43;01mFalse\u001b[39;49;00m\u001b[43m)\u001b[49m \u001b[38;5;241m*\u001b[39m unbase_scale\n\u001b[0;32m    299\u001b[0m     \u001b[38;5;28;01mreturn\u001b[39;00m utils\u001b[38;5;241m.\u001b[39mintr(\u001b[38;5;28mmax\u001b[39m(base, tsor, tser))\n",
      "File \u001b[1;32mc:\\Users\\Usuario\\AppData\\Local\\Programs\\Python\\Python313\\Lib\\site-packages\\fuzzywuzzy\\fuzz.py:169\u001b[0m, in \u001b[0;36mtoken_set_ratio\u001b[1;34m(s1, s2, force_ascii, full_process)\u001b[0m\n\u001b[0;32m    168\u001b[0m \u001b[38;5;28;01mdef\u001b[39;00m \u001b[38;5;21mtoken_set_ratio\u001b[39m(s1, s2, force_ascii\u001b[38;5;241m=\u001b[39m\u001b[38;5;28;01mTrue\u001b[39;00m, full_process\u001b[38;5;241m=\u001b[39m\u001b[38;5;28;01mTrue\u001b[39;00m):\n\u001b[1;32m--> 169\u001b[0m     \u001b[38;5;28;01mreturn\u001b[39;00m \u001b[43m_token_set\u001b[49m\u001b[43m(\u001b[49m\u001b[43ms1\u001b[49m\u001b[43m,\u001b[49m\u001b[43m \u001b[49m\u001b[43ms2\u001b[49m\u001b[43m,\u001b[49m\u001b[43m \u001b[49m\u001b[43mpartial\u001b[49m\u001b[38;5;241;43m=\u001b[39;49m\u001b[38;5;28;43;01mFalse\u001b[39;49;00m\u001b[43m,\u001b[49m\u001b[43m \u001b[49m\u001b[43mforce_ascii\u001b[49m\u001b[38;5;241;43m=\u001b[39;49m\u001b[43mforce_ascii\u001b[49m\u001b[43m,\u001b[49m\u001b[43m \u001b[49m\u001b[43mfull_process\u001b[49m\u001b[38;5;241;43m=\u001b[39;49m\u001b[43mfull_process\u001b[49m\u001b[43m)\u001b[49m\n",
      "File \u001b[1;32mc:\\Users\\Usuario\\AppData\\Local\\Programs\\Python\\Python313\\Lib\\site-packages\\fuzzywuzzy\\utils.py:38\u001b[0m, in \u001b[0;36mcheck_for_none.<locals>.decorator\u001b[1;34m(*args, **kwargs)\u001b[0m\n\u001b[0;32m     36\u001b[0m \u001b[38;5;28;01mif\u001b[39;00m args[\u001b[38;5;241m0\u001b[39m] \u001b[38;5;129;01mis\u001b[39;00m \u001b[38;5;28;01mNone\u001b[39;00m \u001b[38;5;129;01mor\u001b[39;00m args[\u001b[38;5;241m1\u001b[39m] \u001b[38;5;129;01mis\u001b[39;00m \u001b[38;5;28;01mNone\u001b[39;00m:\n\u001b[0;32m     37\u001b[0m     \u001b[38;5;28;01mreturn\u001b[39;00m \u001b[38;5;241m0\u001b[39m\n\u001b[1;32m---> 38\u001b[0m \u001b[38;5;28;01mreturn\u001b[39;00m \u001b[43mfunc\u001b[49m\u001b[43m(\u001b[49m\u001b[38;5;241;43m*\u001b[39;49m\u001b[43margs\u001b[49m\u001b[43m,\u001b[49m\u001b[43m \u001b[49m\u001b[38;5;241;43m*\u001b[39;49m\u001b[38;5;241;43m*\u001b[39;49m\u001b[43mkwargs\u001b[49m\u001b[43m)\u001b[49m\n",
      "File \u001b[1;32mc:\\Users\\Usuario\\AppData\\Local\\Programs\\Python\\Python313\\Lib\\site-packages\\fuzzywuzzy\\fuzz.py:163\u001b[0m, in \u001b[0;36m_token_set\u001b[1;34m(s1, s2, partial, force_ascii, full_process)\u001b[0m\n\u001b[0;32m    157\u001b[0m \u001b[38;5;28;01melse\u001b[39;00m:\n\u001b[0;32m    158\u001b[0m     ratio_func \u001b[38;5;241m=\u001b[39m ratio\n\u001b[0;32m    160\u001b[0m pairwise \u001b[38;5;241m=\u001b[39m [\n\u001b[0;32m    161\u001b[0m     ratio_func(sorted_sect, combined_1to2),\n\u001b[0;32m    162\u001b[0m     ratio_func(sorted_sect, combined_2to1),\n\u001b[1;32m--> 163\u001b[0m     \u001b[43mratio_func\u001b[49m\u001b[43m(\u001b[49m\u001b[43mcombined_1to2\u001b[49m\u001b[43m,\u001b[49m\u001b[43m \u001b[49m\u001b[43mcombined_2to1\u001b[49m\u001b[43m)\u001b[49m\n\u001b[0;32m    164\u001b[0m ]\n\u001b[0;32m    165\u001b[0m \u001b[38;5;28;01mreturn\u001b[39;00m \u001b[38;5;28mmax\u001b[39m(pairwise)\n",
      "File \u001b[1;32mc:\\Users\\Usuario\\AppData\\Local\\Programs\\Python\\Python313\\Lib\\site-packages\\fuzzywuzzy\\utils.py:38\u001b[0m, in \u001b[0;36mcheck_for_none.<locals>.decorator\u001b[1;34m(*args, **kwargs)\u001b[0m\n\u001b[0;32m     36\u001b[0m \u001b[38;5;28;01mif\u001b[39;00m args[\u001b[38;5;241m0\u001b[39m] \u001b[38;5;129;01mis\u001b[39;00m \u001b[38;5;28;01mNone\u001b[39;00m \u001b[38;5;129;01mor\u001b[39;00m args[\u001b[38;5;241m1\u001b[39m] \u001b[38;5;129;01mis\u001b[39;00m \u001b[38;5;28;01mNone\u001b[39;00m:\n\u001b[0;32m     37\u001b[0m     \u001b[38;5;28;01mreturn\u001b[39;00m \u001b[38;5;241m0\u001b[39m\n\u001b[1;32m---> 38\u001b[0m \u001b[38;5;28;01mreturn\u001b[39;00m \u001b[43mfunc\u001b[49m\u001b[43m(\u001b[49m\u001b[38;5;241;43m*\u001b[39;49m\u001b[43margs\u001b[49m\u001b[43m,\u001b[49m\u001b[43m \u001b[49m\u001b[38;5;241;43m*\u001b[39;49m\u001b[38;5;241;43m*\u001b[39;49m\u001b[43mkwargs\u001b[49m\u001b[43m)\u001b[49m\n",
      "File \u001b[1;32mc:\\Users\\Usuario\\AppData\\Local\\Programs\\Python\\Python313\\Lib\\site-packages\\fuzzywuzzy\\utils.py:29\u001b[0m, in \u001b[0;36mcheck_for_equivalence.<locals>.decorator\u001b[1;34m(*args, **kwargs)\u001b[0m\n\u001b[0;32m     27\u001b[0m \u001b[38;5;28;01mif\u001b[39;00m args[\u001b[38;5;241m0\u001b[39m] \u001b[38;5;241m==\u001b[39m args[\u001b[38;5;241m1\u001b[39m]:\n\u001b[0;32m     28\u001b[0m     \u001b[38;5;28;01mreturn\u001b[39;00m \u001b[38;5;241m100\u001b[39m\n\u001b[1;32m---> 29\u001b[0m \u001b[38;5;28;01mreturn\u001b[39;00m \u001b[43mfunc\u001b[49m\u001b[43m(\u001b[49m\u001b[38;5;241;43m*\u001b[39;49m\u001b[43margs\u001b[49m\u001b[43m,\u001b[49m\u001b[43m \u001b[49m\u001b[38;5;241;43m*\u001b[39;49m\u001b[38;5;241;43m*\u001b[39;49m\u001b[43mkwargs\u001b[49m\u001b[43m)\u001b[49m\n",
      "File \u001b[1;32mc:\\Users\\Usuario\\AppData\\Local\\Programs\\Python\\Python313\\Lib\\site-packages\\fuzzywuzzy\\utils.py:47\u001b[0m, in \u001b[0;36mcheck_empty_string.<locals>.decorator\u001b[1;34m(*args, **kwargs)\u001b[0m\n\u001b[0;32m     45\u001b[0m \u001b[38;5;28;01mif\u001b[39;00m \u001b[38;5;28mlen\u001b[39m(args[\u001b[38;5;241m0\u001b[39m]) \u001b[38;5;241m==\u001b[39m \u001b[38;5;241m0\u001b[39m \u001b[38;5;129;01mor\u001b[39;00m \u001b[38;5;28mlen\u001b[39m(args[\u001b[38;5;241m1\u001b[39m]) \u001b[38;5;241m==\u001b[39m \u001b[38;5;241m0\u001b[39m:\n\u001b[0;32m     46\u001b[0m     \u001b[38;5;28;01mreturn\u001b[39;00m \u001b[38;5;241m0\u001b[39m\n\u001b[1;32m---> 47\u001b[0m \u001b[38;5;28;01mreturn\u001b[39;00m \u001b[43mfunc\u001b[49m\u001b[43m(\u001b[49m\u001b[38;5;241;43m*\u001b[39;49m\u001b[43margs\u001b[49m\u001b[43m,\u001b[49m\u001b[43m \u001b[49m\u001b[38;5;241;43m*\u001b[39;49m\u001b[38;5;241;43m*\u001b[39;49m\u001b[43mkwargs\u001b[49m\u001b[43m)\u001b[49m\n",
      "File \u001b[1;32mc:\\Users\\Usuario\\AppData\\Local\\Programs\\Python\\Python313\\Lib\\site-packages\\fuzzywuzzy\\fuzz.py:28\u001b[0m, in \u001b[0;36mratio\u001b[1;34m(s1, s2)\u001b[0m\n\u001b[0;32m     25\u001b[0m s1, s2 \u001b[38;5;241m=\u001b[39m utils\u001b[38;5;241m.\u001b[39mmake_type_consistent(s1, s2)\n\u001b[0;32m     27\u001b[0m m \u001b[38;5;241m=\u001b[39m SequenceMatcher(\u001b[38;5;28;01mNone\u001b[39;00m, s1, s2)\n\u001b[1;32m---> 28\u001b[0m \u001b[38;5;28;01mreturn\u001b[39;00m utils\u001b[38;5;241m.\u001b[39mintr(\u001b[38;5;241m100\u001b[39m \u001b[38;5;241m*\u001b[39m \u001b[43mm\u001b[49m\u001b[38;5;241;43m.\u001b[39;49m\u001b[43mratio\u001b[49m\u001b[43m(\u001b[49m\u001b[43m)\u001b[49m)\n",
      "File \u001b[1;32mc:\\Users\\Usuario\\AppData\\Local\\Programs\\Python\\Python313\\Lib\\difflib.py:619\u001b[0m, in \u001b[0;36mSequenceMatcher.ratio\u001b[1;34m(self)\u001b[0m\n\u001b[0;32m    597\u001b[0m \u001b[38;5;28;01mdef\u001b[39;00m \u001b[38;5;21mratio\u001b[39m(\u001b[38;5;28mself\u001b[39m):\n\u001b[0;32m    598\u001b[0m \u001b[38;5;250m    \u001b[39m\u001b[38;5;124;03m\"\"\"Return a measure of the sequences' similarity (float in [0,1]).\u001b[39;00m\n\u001b[0;32m    599\u001b[0m \n\u001b[0;32m    600\u001b[0m \u001b[38;5;124;03m    Where T is the total number of elements in both sequences, and\u001b[39;00m\n\u001b[1;32m   (...)\u001b[0m\n\u001b[0;32m    616\u001b[0m \u001b[38;5;124;03m    1.0\u001b[39;00m\n\u001b[0;32m    617\u001b[0m \u001b[38;5;124;03m    \"\"\"\u001b[39;00m\n\u001b[1;32m--> 619\u001b[0m     matches \u001b[38;5;241m=\u001b[39m \u001b[38;5;28msum\u001b[39m(triple[\u001b[38;5;241m-\u001b[39m\u001b[38;5;241m1\u001b[39m] \u001b[38;5;28;01mfor\u001b[39;00m triple \u001b[38;5;129;01min\u001b[39;00m \u001b[38;5;28;43mself\u001b[39;49m\u001b[38;5;241;43m.\u001b[39;49m\u001b[43mget_matching_blocks\u001b[49m\u001b[43m(\u001b[49m\u001b[43m)\u001b[49m)\n\u001b[0;32m    620\u001b[0m     \u001b[38;5;28;01mreturn\u001b[39;00m _calculate_ratio(matches, \u001b[38;5;28mlen\u001b[39m(\u001b[38;5;28mself\u001b[39m\u001b[38;5;241m.\u001b[39ma) \u001b[38;5;241m+\u001b[39m \u001b[38;5;28mlen\u001b[39m(\u001b[38;5;28mself\u001b[39m\u001b[38;5;241m.\u001b[39mb))\n",
      "File \u001b[1;32mc:\\Users\\Usuario\\AppData\\Local\\Programs\\Python\\Python313\\Lib\\difflib.py:454\u001b[0m, in \u001b[0;36mSequenceMatcher.get_matching_blocks\u001b[1;34m(self)\u001b[0m\n\u001b[0;32m    452\u001b[0m \u001b[38;5;28;01mwhile\u001b[39;00m queue:\n\u001b[0;32m    453\u001b[0m     alo, ahi, blo, bhi \u001b[38;5;241m=\u001b[39m queue\u001b[38;5;241m.\u001b[39mpop()\n\u001b[1;32m--> 454\u001b[0m     i, j, k \u001b[38;5;241m=\u001b[39m x \u001b[38;5;241m=\u001b[39m \u001b[38;5;28;43mself\u001b[39;49m\u001b[38;5;241;43m.\u001b[39;49m\u001b[43mfind_longest_match\u001b[49m\u001b[43m(\u001b[49m\u001b[43malo\u001b[49m\u001b[43m,\u001b[49m\u001b[43m \u001b[49m\u001b[43mahi\u001b[49m\u001b[43m,\u001b[49m\u001b[43m \u001b[49m\u001b[43mblo\u001b[49m\u001b[43m,\u001b[49m\u001b[43m \u001b[49m\u001b[43mbhi\u001b[49m\u001b[43m)\u001b[49m\n\u001b[0;32m    455\u001b[0m     \u001b[38;5;66;03m# a[alo:i] vs b[blo:j] unknown\u001b[39;00m\n\u001b[0;32m    456\u001b[0m     \u001b[38;5;66;03m# a[i:i+k] same as b[j:j+k]\u001b[39;00m\n\u001b[0;32m    457\u001b[0m     \u001b[38;5;66;03m# a[i+k:ahi] vs b[j+k:bhi] unknown\u001b[39;00m\n\u001b[0;32m    458\u001b[0m     \u001b[38;5;28;01mif\u001b[39;00m k:   \u001b[38;5;66;03m# if k is 0, there was no matching block\u001b[39;00m\n",
      "File \u001b[1;32mc:\\Users\\Usuario\\AppData\\Local\\Programs\\Python\\Python313\\Lib\\difflib.py:388\u001b[0m, in \u001b[0;36mSequenceMatcher.find_longest_match\u001b[1;34m(self, alo, ahi, blo, bhi)\u001b[0m\n\u001b[0;32m    386\u001b[0m         \u001b[38;5;28;01mif\u001b[39;00m k \u001b[38;5;241m>\u001b[39m bestsize:\n\u001b[0;32m    387\u001b[0m             besti, bestj, bestsize \u001b[38;5;241m=\u001b[39m i\u001b[38;5;241m-\u001b[39mk\u001b[38;5;241m+\u001b[39m\u001b[38;5;241m1\u001b[39m, j\u001b[38;5;241m-\u001b[39mk\u001b[38;5;241m+\u001b[39m\u001b[38;5;241m1\u001b[39m, k\n\u001b[1;32m--> 388\u001b[0m     j2len \u001b[38;5;241m=\u001b[39m newj2len\n\u001b[0;32m    390\u001b[0m \u001b[38;5;66;03m# Extend the best by non-junk elements on each end.  In particular,\u001b[39;00m\n\u001b[0;32m    391\u001b[0m \u001b[38;5;66;03m# \"popular\" non-junk elements aren't in b2j, which greatly speeds\u001b[39;00m\n\u001b[0;32m    392\u001b[0m \u001b[38;5;66;03m# the inner loop above, but also means \"the best\" match so far\u001b[39;00m\n\u001b[0;32m    393\u001b[0m \u001b[38;5;66;03m# doesn't contain any junk *or* popular non-junk elements.\u001b[39;00m\n\u001b[0;32m    394\u001b[0m \u001b[38;5;28;01mwhile\u001b[39;00m besti \u001b[38;5;241m>\u001b[39m alo \u001b[38;5;129;01mand\u001b[39;00m bestj \u001b[38;5;241m>\u001b[39m blo \u001b[38;5;129;01mand\u001b[39;00m \\\n\u001b[0;32m    395\u001b[0m       \u001b[38;5;129;01mnot\u001b[39;00m isbjunk(b[bestj\u001b[38;5;241m-\u001b[39m\u001b[38;5;241m1\u001b[39m]) \u001b[38;5;129;01mand\u001b[39;00m \\\n\u001b[0;32m    396\u001b[0m       a[besti\u001b[38;5;241m-\u001b[39m\u001b[38;5;241m1\u001b[39m] \u001b[38;5;241m==\u001b[39m b[bestj\u001b[38;5;241m-\u001b[39m\u001b[38;5;241m1\u001b[39m]:\n",
      "\u001b[1;31mKeyboardInterrupt\u001b[0m: "
     ]
    }
   ],
   "source": [
    "from fuzzywuzzy import process\n",
    "\n",
    "# Función para encontrar coincidencias aproximadas\n",
    "def encontrar_coincidencias(lista, columna_df, umbral=90):\n",
    "    coincidencias = {}\n",
    "    for item in lista:\n",
    "        mejor_coincidencia = process.extractOne(item, columna_df, score_cutoff=umbral)\n",
    "        if mejor_coincidencia:\n",
    "            coincidencias[item] = mejor_coincidencia[0]\n",
    "    return coincidencias\n",
    "\n",
    "# Encontrar coincidencias aproximadas en la columna 'Jugador' de df_salario\n",
    "coincidencias = encontrar_coincidencias(lista_valores_unicos, df_salario['Jugador'])\n",
    "\n",
    "# Mostrar los resultados\n",
    "jugadores_encontrados = list(coincidencias.values())\n",
    "jugadores_faltantes = set(lista_valores_unicos) - set(jugadores_encontrados)\n",
    "\n",
    "print(\"Jugadores encontrados:\")\n",
    "for jugador in jugadores_encontrados:\n",
    "    print(jugador)\n",
    "\n",
    "print(\"\\nJugadores faltantes:\")\n",
    "for jugador in jugadores_faltantes:\n",
    "    print(jugador)\n"
   ]
  }
 ],
 "metadata": {
  "kernelspec": {
   "display_name": "Python 3",
   "language": "python",
   "name": "python3"
  },
  "language_info": {
   "codemirror_mode": {
    "name": "ipython",
    "version": 3
   },
   "file_extension": ".py",
   "mimetype": "text/x-python",
   "name": "python",
   "nbconvert_exporter": "python",
   "pygments_lexer": "ipython3",
   "version": "3.13.0"
  }
 },
 "nbformat": 4,
 "nbformat_minor": 2
}
