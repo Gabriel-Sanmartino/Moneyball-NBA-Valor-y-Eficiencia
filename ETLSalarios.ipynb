{
 "cells": [
  {
   "cell_type": "code",
   "execution_count": 61,
   "metadata": {},
   "outputs": [],
   "source": [
    "#Archivo creado y bibliotecas importadas:\n",
    "\n",
    "import pandas as pd\n",
    "import numpy as np"
   ]
  },
  {
   "cell_type": "code",
   "execution_count": 62,
   "metadata": {},
   "outputs": [],
   "source": [
    "# Leer el archivo de trabajo:\n",
    "\n",
    "df_salario = pd.read_csv('Salario-Jugadores-NBA-2018-2025.csv')"
   ]
  },
  {
   "cell_type": "code",
   "execution_count": 63,
   "metadata": {},
   "outputs": [
    {
     "data": {
      "text/plain": [
       "(4081, 4)"
      ]
     },
     "execution_count": 63,
     "metadata": {},
     "output_type": "execute_result"
    }
   ],
   "source": [
    "# Para comprobar que cantidad de registros y columnas tiene el dataset cargado:\n",
    "\n",
    "df_salario.shape"
   ]
  },
  {
   "cell_type": "code",
   "execution_count": 64,
   "metadata": {},
   "outputs": [
    {
     "data": {
      "text/html": [
       "<div>\n",
       "<style scoped>\n",
       "    .dataframe tbody tr th:only-of-type {\n",
       "        vertical-align: middle;\n",
       "    }\n",
       "\n",
       "    .dataframe tbody tr th {\n",
       "        vertical-align: top;\n",
       "    }\n",
       "\n",
       "    .dataframe thead th {\n",
       "        text-align: right;\n",
       "    }\n",
       "</style>\n",
       "<table border=\"1\" class=\"dataframe\">\n",
       "  <thead>\n",
       "    <tr style=\"text-align: right;\">\n",
       "      <th></th>\n",
       "      <th>Temporada</th>\n",
       "      <th>Jugador</th>\n",
       "      <th>Salario</th>\n",
       "      <th>Salario Actual Ajustado a la Inflación</th>\n",
       "    </tr>\n",
       "  </thead>\n",
       "  <tbody>\n",
       "    <tr>\n",
       "      <th>0</th>\n",
       "      <td>2018/19</td>\n",
       "      <td>Stephen Curry</td>\n",
       "      <td>37,457,154</td>\n",
       "      <td>46,700,853</td>\n",
       "    </tr>\n",
       "    <tr>\n",
       "      <th>1</th>\n",
       "      <td>2018/19</td>\n",
       "      <td>Russell Westbrook</td>\n",
       "      <td>35,665,000</td>\n",
       "      <td>44,466,430</td>\n",
       "    </tr>\n",
       "    <tr>\n",
       "      <th>2</th>\n",
       "      <td>2018/19</td>\n",
       "      <td>LeBron James</td>\n",
       "      <td>35,654,150</td>\n",
       "      <td>44,452,903</td>\n",
       "    </tr>\n",
       "    <tr>\n",
       "      <th>3</th>\n",
       "      <td>2018/19</td>\n",
       "      <td>Chris Paul</td>\n",
       "      <td>35,654,150</td>\n",
       "      <td>44,452,903</td>\n",
       "    </tr>\n",
       "    <tr>\n",
       "      <th>4</th>\n",
       "      <td>2018/19</td>\n",
       "      <td>Kyle Lowry</td>\n",
       "      <td>32,700,000</td>\n",
       "      <td>40,769,726</td>\n",
       "    </tr>\n",
       "  </tbody>\n",
       "</table>\n",
       "</div>"
      ],
      "text/plain": [
       "  Temporada            Jugador     Salario  \\\n",
       "0  2018/19       Stephen Curry  37,457,154   \n",
       "1  2018/19   Russell Westbrook  35,665,000   \n",
       "2  2018/19        LeBron James  35,654,150   \n",
       "3  2018/19          Chris Paul  35,654,150   \n",
       "4  2018/19          Kyle Lowry  32,700,000   \n",
       "\n",
       "  Salario Actual Ajustado a la Inflación  \n",
       "0                             46,700,853  \n",
       "1                             44,466,430  \n",
       "2                             44,452,903  \n",
       "3                             44,452,903  \n",
       "4                             40,769,726  "
      ]
     },
     "execution_count": 64,
     "metadata": {},
     "output_type": "execute_result"
    }
   ],
   "source": [
    "# Una vez cargado el dataset, y comprobado su tamaño, se procede a verificar el contenido con una vista truncada:\n",
    "df_salario.head()"
   ]
  },
  {
   "cell_type": "code",
   "execution_count": 65,
   "metadata": {},
   "outputs": [
    {
     "name": "stdout",
     "output_type": "stream",
     "text": [
      "<class 'pandas.core.frame.DataFrame'>\n",
      "RangeIndex: 4081 entries, 0 to 4080\n",
      "Data columns (total 4 columns):\n",
      " #   Column                                  Non-Null Count  Dtype \n",
      "---  ------                                  --------------  ----- \n",
      " 0   Temporada                               4081 non-null   object\n",
      " 1   Jugador                                 4081 non-null   object\n",
      " 2   Salario                                 4081 non-null   object\n",
      " 3   Salario Actual Ajustado a la Inflación  4081 non-null   object\n",
      "dtypes: object(4)\n",
      "memory usage: 127.7+ KB\n"
     ]
    }
   ],
   "source": [
    "df_salario.info()"
   ]
  },
  {
   "cell_type": "code",
   "execution_count": 66,
   "metadata": {},
   "outputs": [
    {
     "name": "stdout",
     "output_type": "stream",
     "text": [
      "['2018/19\\xa0' '2019/20\\xa0' '2020/21\\xa0' '2021/22\\xa0' '2022/23\\xa0'\n",
      " '2023/24\\xa0' '2024/25\\xa0']\n"
     ]
    }
   ],
   "source": [
    "print(df_salario['Temporada'].unique())"
   ]
  },
  {
   "cell_type": "code",
   "execution_count": 67,
   "metadata": {},
   "outputs": [
    {
     "name": "stdout",
     "output_type": "stream",
     "text": [
      "['2018/19' '2019/20' '2020/21' '2021/22' '2022/23' '2023/24' '2024/25']\n"
     ]
    }
   ],
   "source": [
    "# Reemplazar el carácter \\xa0 por un espacio vacío en la columna \"Temporada\"\n",
    "df_salario['Temporada'] = df_salario['Temporada'].str.replace('\\xa0', '', regex=True)\n",
    "\n",
    "# Verifica los valores únicos nuevamente\n",
    "print(df_salario['Temporada'].unique())"
   ]
  },
  {
   "cell_type": "code",
   "execution_count": 68,
   "metadata": {},
   "outputs": [
    {
     "name": "stdout",
     "output_type": "stream",
     "text": [
      "  Temporada            Jugador     Salario  \\\n",
      "0   2018/19      Stephen Curry  37,457,154   \n",
      "1   2018/19  Russell Westbrook  35,665,000   \n",
      "2   2018/19       LeBron James  35,654,150   \n",
      "3   2018/19         Chris Paul  35,654,150   \n",
      "4   2018/19         Kyle Lowry  32,700,000   \n",
      "\n",
      "  Salario Actual Ajustado a la Inflación  \n",
      "0                             46,700,853  \n",
      "1                             44,466,430  \n",
      "2                             44,452,903  \n",
      "3                             44,452,903  \n",
      "4                             40,769,726  \n"
     ]
    }
   ],
   "source": [
    "# Lista de temporadas a filtrar\n",
    "temporadas_filtrar = ['2018/19', '2019/20', '2020/21', '2021/22', '2022/23']\n",
    "\n",
    "# Filtrar el DataFrame por las temporadas específicas\n",
    "df_salario_filtrado_temporada = df_salario[df_salario['Temporada'].isin(temporadas_filtrar)]\n",
    "\n",
    "# Verificar el resultado\n",
    "print(df_salario_filtrado_temporada.head())"
   ]
  },
  {
   "cell_type": "code",
   "execution_count": 69,
   "metadata": {},
   "outputs": [
    {
     "data": {
      "text/plain": [
       "(2896, 4)"
      ]
     },
     "execution_count": 69,
     "metadata": {},
     "output_type": "execute_result"
    }
   ],
   "source": [
    "# Para comprobar que cantidad de registros y columnas tiene el dataset cargado:\n",
    "\n",
    "df_salario_filtrado_temporada.shape"
   ]
  },
  {
   "cell_type": "code",
   "execution_count": 70,
   "metadata": {},
   "outputs": [
    {
     "name": "stdout",
     "output_type": "stream",
     "text": [
      "  Temporada   Año\n",
      "0   2018/19  2018\n",
      "1   2018/19  2018\n",
      "2   2018/19  2018\n",
      "3   2018/19  2018\n",
      "4   2018/19  2018\n"
     ]
    },
    {
     "name": "stderr",
     "output_type": "stream",
     "text": [
      "C:\\Users\\Maria\\AppData\\Local\\Temp\\ipykernel_23384\\3953349790.py:2: SettingWithCopyWarning: \n",
      "A value is trying to be set on a copy of a slice from a DataFrame.\n",
      "Try using .loc[row_indexer,col_indexer] = value instead\n",
      "\n",
      "See the caveats in the documentation: https://pandas.pydata.org/pandas-docs/stable/user_guide/indexing.html#returning-a-view-versus-a-copy\n",
      "  df_salario_filtrado_temporada['Año'] = df_salario_filtrado_temporada['Temporada'].str.slice(0, 4)\n"
     ]
    }
   ],
   "source": [
    "# Crear una nueva columna con el año inicial de la temporada\n",
    "df_salario_filtrado_temporada['Año'] = df_salario_filtrado_temporada['Temporada'].str.slice(0, 4)\n",
    "\n",
    "# Verifica el resultado\n",
    "print(df_salario_filtrado_temporada[['Temporada', 'Año']].head())"
   ]
  },
  {
   "cell_type": "code",
   "execution_count": 71,
   "metadata": {},
   "outputs": [
    {
     "name": "stdout",
     "output_type": "stream",
     "text": [
      "Salario                                   int64\n",
      "Salario Actual Ajustado a la Inflación    int64\n",
      "dtype: object\n",
      "    Salario  Salario Actual Ajustado a la Inflación\n",
      "0  37457154                                46700853\n",
      "1  35665000                                44466430\n",
      "2  35654150                                44452903\n",
      "3  35654150                                44452903\n",
      "4  32700000                                40769726\n"
     ]
    },
    {
     "name": "stderr",
     "output_type": "stream",
     "text": [
      "C:\\Users\\Maria\\AppData\\Local\\Temp\\ipykernel_23384\\4092835358.py:6: SettingWithCopyWarning: \n",
      "A value is trying to be set on a copy of a slice from a DataFrame.\n",
      "Try using .loc[row_indexer,col_indexer] = value instead\n",
      "\n",
      "See the caveats in the documentation: https://pandas.pydata.org/pandas-docs/stable/user_guide/indexing.html#returning-a-view-versus-a-copy\n",
      "  df_salario_filtrado_temporada[columna] = df_salario_filtrado_temporada[columna].str.replace('$', '', regex=True)  # Elimina el signo $\n",
      "C:\\Users\\Maria\\AppData\\Local\\Temp\\ipykernel_23384\\4092835358.py:7: SettingWithCopyWarning: \n",
      "A value is trying to be set on a copy of a slice from a DataFrame.\n",
      "Try using .loc[row_indexer,col_indexer] = value instead\n",
      "\n",
      "See the caveats in the documentation: https://pandas.pydata.org/pandas-docs/stable/user_guide/indexing.html#returning-a-view-versus-a-copy\n",
      "  df_salario_filtrado_temporada[columna] = df_salario_filtrado_temporada[columna].str.replace(',', '', regex=True)  # Elimina las comas\n",
      "C:\\Users\\Maria\\AppData\\Local\\Temp\\ipykernel_23384\\4092835358.py:8: SettingWithCopyWarning: \n",
      "A value is trying to be set on a copy of a slice from a DataFrame.\n",
      "Try using .loc[row_indexer,col_indexer] = value instead\n",
      "\n",
      "See the caveats in the documentation: https://pandas.pydata.org/pandas-docs/stable/user_guide/indexing.html#returning-a-view-versus-a-copy\n",
      "  df_salario_filtrado_temporada[columna] = df_salario_filtrado_temporada[columna].str.strip()  # Elimina espacios en blanco adicionales\n",
      "C:\\Users\\Maria\\AppData\\Local\\Temp\\ipykernel_23384\\4092835358.py:11: SettingWithCopyWarning: \n",
      "A value is trying to be set on a copy of a slice from a DataFrame.\n",
      "Try using .loc[row_indexer,col_indexer] = value instead\n",
      "\n",
      "See the caveats in the documentation: https://pandas.pydata.org/pandas-docs/stable/user_guide/indexing.html#returning-a-view-versus-a-copy\n",
      "  df_salario_filtrado_temporada[columna] = pd.to_numeric(df_salario_filtrado_temporada[columna], errors='coerce').fillna(0).astype(int)\n",
      "C:\\Users\\Maria\\AppData\\Local\\Temp\\ipykernel_23384\\4092835358.py:6: SettingWithCopyWarning: \n",
      "A value is trying to be set on a copy of a slice from a DataFrame.\n",
      "Try using .loc[row_indexer,col_indexer] = value instead\n",
      "\n",
      "See the caveats in the documentation: https://pandas.pydata.org/pandas-docs/stable/user_guide/indexing.html#returning-a-view-versus-a-copy\n",
      "  df_salario_filtrado_temporada[columna] = df_salario_filtrado_temporada[columna].str.replace('$', '', regex=True)  # Elimina el signo $\n",
      "C:\\Users\\Maria\\AppData\\Local\\Temp\\ipykernel_23384\\4092835358.py:7: SettingWithCopyWarning: \n",
      "A value is trying to be set on a copy of a slice from a DataFrame.\n",
      "Try using .loc[row_indexer,col_indexer] = value instead\n",
      "\n",
      "See the caveats in the documentation: https://pandas.pydata.org/pandas-docs/stable/user_guide/indexing.html#returning-a-view-versus-a-copy\n",
      "  df_salario_filtrado_temporada[columna] = df_salario_filtrado_temporada[columna].str.replace(',', '', regex=True)  # Elimina las comas\n",
      "C:\\Users\\Maria\\AppData\\Local\\Temp\\ipykernel_23384\\4092835358.py:8: SettingWithCopyWarning: \n",
      "A value is trying to be set on a copy of a slice from a DataFrame.\n",
      "Try using .loc[row_indexer,col_indexer] = value instead\n",
      "\n",
      "See the caveats in the documentation: https://pandas.pydata.org/pandas-docs/stable/user_guide/indexing.html#returning-a-view-versus-a-copy\n",
      "  df_salario_filtrado_temporada[columna] = df_salario_filtrado_temporada[columna].str.strip()  # Elimina espacios en blanco adicionales\n",
      "C:\\Users\\Maria\\AppData\\Local\\Temp\\ipykernel_23384\\4092835358.py:11: SettingWithCopyWarning: \n",
      "A value is trying to be set on a copy of a slice from a DataFrame.\n",
      "Try using .loc[row_indexer,col_indexer] = value instead\n",
      "\n",
      "See the caveats in the documentation: https://pandas.pydata.org/pandas-docs/stable/user_guide/indexing.html#returning-a-view-versus-a-copy\n",
      "  df_salario_filtrado_temporada[columna] = pd.to_numeric(df_salario_filtrado_temporada[columna], errors='coerce').fillna(0).astype(int)\n"
     ]
    }
   ],
   "source": [
    "# Lista de las columnas a convertir\n",
    "columnas_a_convertir = ['Salario', 'Salario Actual Ajustado a la Inflación']\n",
    "\n",
    "for columna in columnas_a_convertir:\n",
    "    # Limpia los valores eliminando caracteres no deseados como '$' o comas\n",
    "    df_salario_filtrado_temporada[columna] = df_salario_filtrado_temporada[columna].str.replace('$', '', regex=True)  # Elimina el signo $\n",
    "    df_salario_filtrado_temporada[columna] = df_salario_filtrado_temporada[columna].str.replace(',', '', regex=True)  # Elimina las comas\n",
    "    df_salario_filtrado_temporada[columna] = df_salario_filtrado_temporada[columna].str.strip()  # Elimina espacios en blanco adicionales\n",
    "    \n",
    "    # Convierte los valores a números enteros\n",
    "    df_salario_filtrado_temporada[columna] = pd.to_numeric(df_salario_filtrado_temporada[columna], errors='coerce').fillna(0).astype(int)\n",
    "\n",
    "# Confirma que las columnas tienen ahora el tipo de datos correcto\n",
    "print(df_salario_filtrado_temporada[columnas_a_convertir].dtypes)\n",
    "\n",
    "# Vista previa de las columnas después de la conversión\n",
    "print(df_salario_filtrado_temporada[columnas_a_convertir].head())"
   ]
  }
 ],
 "metadata": {
  "kernelspec": {
   "display_name": "Python 3",
   "language": "python",
   "name": "python3"
  },
  "language_info": {
   "codemirror_mode": {
    "name": "ipython",
    "version": 3
   },
   "file_extension": ".py",
   "mimetype": "text/x-python",
   "name": "python",
   "nbconvert_exporter": "python",
   "pygments_lexer": "ipython3",
   "version": "3.13.0"
  }
 },
 "nbformat": 4,
 "nbformat_minor": 2
}
